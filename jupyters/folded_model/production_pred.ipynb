{
 "cells": [
  {
   "cell_type": "code",
   "execution_count": 2,
   "metadata": {},
   "outputs": [
    {
     "name": "stdout",
     "output_type": "stream",
     "text": [
      "Intel MKL WARNING: Support of Intel(R) Streaming SIMD Extensions 4.2 (Intel(R) SSE4.2) enabled only processors has been deprecated. Intel oneAPI Math Kernel Library 2025.0 will require Intel(R) Advanced Vector Extensions (Intel(R) AVX) instructions.\n",
      "Intel MKL WARNING: Support of Intel(R) Streaming SIMD Extensions 4.2 (Intel(R) SSE4.2) enabled only processors has been deprecated. Intel oneAPI Math Kernel Library 2025.0 will require Intel(R) Advanced Vector Extensions (Intel(R) AVX) instructions.\n"
     ]
    },
    {
     "name": "stderr",
     "output_type": "stream",
     "text": [
      "2024-01-11 20:07:08.023282: I tensorflow/core/platform/cpu_feature_guard.cc:193] This TensorFlow binary is optimized with oneAPI Deep Neural Network Library (oneDNN) to use the following CPU instructions in performance-critical operations:  SSE4.1 SSE4.2\n",
      "To enable them in other operations, rebuild TensorFlow with the appropriate compiler flags.\n"
     ]
    }
   ],
   "source": [
    "from scipy.interpolate import griddata\n",
    "from sklearn.metrics import balanced_accuracy_score\n",
    "from sklearn.ensemble import GradientBoostingClassifier, RandomForestClassifier, RandomForestRegressor\n",
    "from sklearn.metrics import accuracy_score\n",
    "from sklearn.model_selection import train_test_split\n",
    "from sklearn.datasets import make_classification\n",
    "\n",
    "import tensorflow as tf\n",
    "from tensorflow.keras import layers, models\n",
    "from tensorflow.keras.layers import Input, BatchNormalization\n",
    "\n",
    "tf.random.set_seed(42)\n",
    "from sklearn.model_selection import train_test_split\n",
    "\n",
    "import pandas as pd\n",
    "import numpy as np\n",
    "import plotly.offline as pyo\n",
    "from plotly import subplots\n",
    "import plotly.graph_objects as go\n",
    "\n",
    "np.random.seed(42)"
   ]
  },
  {
   "cell_type": "code",
   "execution_count": 3,
   "metadata": {},
   "outputs": [],
   "source": [
    "client = pd.read_csv(\"../../data/client.csv\")\n",
    "ePrices = pd.read_csv(\"../../data/electricity_prices.csv\")\n",
    "gasPrices = pd.read_csv(\"../../data/gas_prices.csv\")\n",
    "train = pd.read_csv(\"../../data/train.csv\")\n",
    "\n",
    "weatherPredInt = pd.read_csv(\"../model_architecture_study/interpolPredWeather.csv\")\n",
    "weatherHistInt = pd.read_csv(\"../histWeatherSnowCover.csv\")"
   ]
  },
  {
   "cell_type": "markdown",
   "metadata": {},
   "source": [
    "# data processing"
   ]
  },
  {
   "cell_type": "code",
   "execution_count": 4,
   "metadata": {},
   "outputs": [
    {
     "name": "stdout",
     "output_type": "stream",
     "text": [
      "(1009176, 10)\n"
     ]
    },
    {
     "name": "stderr",
     "output_type": "stream",
     "text": [
      "/var/folders/15/v1vyry112dv3d398dy47k8v40000gn/T/ipykernel_10667/560855032.py:26: FutureWarning:\n",
      "\n",
      "DataFrame.interpolate with object dtype is deprecated and will raise in a future version. Call obj.infer_objects(copy=False) before interpolating instead.\n",
      "\n"
     ]
    }
   ],
   "source": [
    "producing = train.loc[train.is_consumption == 0]\n",
    "consuming = train.loc[train.is_consumption == 1]\n",
    "train = pd.merge(producing.drop('is_consumption',axis = 1), consuming.drop('is_consumption',axis = 1),on=['data_block_id','prediction_unit_id','datetime','county','is_business','product_type'], how='outer',suffixes=('_prod', '_cons'))\n",
    "del producing, consuming\n",
    "print(train.shape)\n",
    "\n",
    "clientsTime = pd.merge(train, client, on=['county','is_business','product_type','data_block_id'], how='inner')\n",
    "\n",
    "clientsTime['datetime'] = pd.to_datetime(clientsTime['datetime'])\n",
    "clientsTime['yearday'] = clientsTime['datetime'].dt.day_of_year\n",
    "clientsTime['weekday'] = clientsTime['datetime'].dt.day_of_week\n",
    "clientsTime['month'] = clientsTime['datetime'].dt.month\n",
    "clientsTime['monthday'] = clientsTime['datetime'].dt.day\n",
    "clientsTime['year'] = clientsTime['datetime'].dt.year\n",
    "clientsTime['hour'] = clientsTime['datetime'].dt.hour\n",
    "\n",
    "unique_pairs = list(set(zip(clientsTime['is_business'], clientsTime[ 'product_type'])))\n",
    "pair_index_dict = {pair: index for index, pair in enumerate(unique_pairs)}\n",
    "clientsTime['business_prodType'] = list(map(pair_index_dict.get, zip(clientsTime['is_business'], clientsTime['product_type'])))\n",
    "\n",
    "unique_pairs_cust = list(set(zip(clientsTime['is_business'], clientsTime[ 'product_type'], clientsTime['county'], clientsTime['eic_count'],clientsTime['installed_capacity'])))\n",
    "pair_index_dict = {pair: index for index, pair in enumerate(unique_pairs_cust)}\n",
    "clientsTime['ind_customer_id'] = list(map(pair_index_dict.get, zip(clientsTime['is_business'], clientsTime['product_type'], clientsTime['county'], clientsTime['eic_count'],clientsTime['installed_capacity'])))\n",
    "\n",
    "# interpolate daylight savings\n",
    "clientsTime = clientsTime.interpolate()"
   ]
  },
  {
   "cell_type": "code",
   "execution_count": 5,
   "metadata": {},
   "outputs": [],
   "source": [
    "import holidays\n",
    "from datetime import date\n",
    "\n",
    "us_holidays = holidays.EE()  # this is a dict\n",
    "\n",
    "clientsTime['holiday'] = clientsTime['datetime'].apply(lambda s : s in us_holidays)\n",
    "clientsTime['no_workday'] = ((clientsTime['holiday']) | (clientsTime['weekday'] > 4))"
   ]
  },
  {
   "cell_type": "code",
   "execution_count": 6,
   "metadata": {},
   "outputs": [
    {
     "name": "stderr",
     "output_type": "stream",
     "text": [
      "/var/folders/15/v1vyry112dv3d398dy47k8v40000gn/T/ipykernel_10667/1946799552.py:10: FutureWarning:\n",
      "\n",
      "DataFrame.interpolate with object dtype is deprecated and will raise in a future version. Call obj.infer_objects(copy=False) before interpolating instead.\n",
      "\n",
      "/var/folders/15/v1vyry112dv3d398dy47k8v40000gn/T/ipykernel_10667/1946799552.py:18: FutureWarning:\n",
      "\n",
      "DataFrame.interpolate with object dtype is deprecated and will raise in a future version. Call obj.infer_objects(copy=False) before interpolating instead.\n",
      "\n"
     ]
    }
   ],
   "source": [
    "ePrices['forecast_date'] = pd.to_datetime(ePrices['forecast_date'])\n",
    "ePrices['hour'] = ePrices.forecast_date.dt.hour\n",
    "# Set 'timestamp' as the index\n",
    "ePrices.set_index('forecast_date', inplace=True)\n",
    "\n",
    "# Resample to fill missing hours\n",
    "df_resampled = ePrices.resample('1H').asfreq()\n",
    "\n",
    "# Linearly interpolate missing values\n",
    "ePrices = df_resampled.interpolate(method='linear')\n",
    "\n",
    "ePrices['euros_per_mwh'] = ePrices.euros_per_mwh.replace(4000.0, np.nan)\n",
    "\n",
    "# Resample to fill missing hours\n",
    "df_resampled = ePrices.resample('1H').asfreq()\n",
    "\n",
    "# Linearly interpolate missing values\n",
    "ePrices = df_resampled.interpolate(method='linear')\n"
   ]
  },
  {
   "cell_type": "code",
   "execution_count": 7,
   "metadata": {},
   "outputs": [],
   "source": [
    "clientsTime2 = clientsTime.set_index(['datetime','prediction_unit_id'])"
   ]
  },
  {
   "cell_type": "code",
   "execution_count": 8,
   "metadata": {},
   "outputs": [],
   "source": [
    "clientsTime2 = pd.merge(clientsTime,ePrices[['data_block_id','hour','euros_per_mwh']], on=['data_block_id','hour'])#.set_index(['datetime','prediction_unit_id'])"
   ]
  },
  {
   "cell_type": "code",
   "execution_count": 9,
   "metadata": {},
   "outputs": [],
   "source": [
    "clientsTime2 = pd.merge(clientsTime2, gasPrices[['lowest_price_per_mwh','highest_price_per_mwh','data_block_id']], on=['data_block_id'])"
   ]
  },
  {
   "cell_type": "code",
   "execution_count": 10,
   "metadata": {},
   "outputs": [
    {
     "data": {
      "text/plain": [
       "(1004856, 26)"
      ]
     },
     "execution_count": 10,
     "metadata": {},
     "output_type": "execute_result"
    }
   ],
   "source": [
    "clientsTime2.shape"
   ]
  },
  {
   "cell_type": "code",
   "execution_count": 11,
   "metadata": {},
   "outputs": [
    {
     "data": {
      "text/html": [
       "<div>\n",
       "<style scoped>\n",
       "    .dataframe tbody tr th:only-of-type {\n",
       "        vertical-align: middle;\n",
       "    }\n",
       "\n",
       "    .dataframe tbody tr th {\n",
       "        vertical-align: top;\n",
       "    }\n",
       "\n",
       "    .dataframe thead th {\n",
       "        text-align: right;\n",
       "    }\n",
       "</style>\n",
       "<table border=\"1\" class=\"dataframe\">\n",
       "  <thead>\n",
       "    <tr style=\"text-align: right;\">\n",
       "      <th></th>\n",
       "      <th></th>\n",
       "      <th>latitude</th>\n",
       "      <th>longitude</th>\n",
       "      <th>hours_ahead</th>\n",
       "      <th>data_block_id</th>\n",
       "      <th>origin_datetime</th>\n",
       "      <th>temperatureint</th>\n",
       "      <th>dewpointint</th>\n",
       "      <th>cloudcover_highint</th>\n",
       "      <th>cloudcover_lowint</th>\n",
       "      <th>cloudcover_midint</th>\n",
       "      <th>cloudcover_totalint</th>\n",
       "      <th>10_metre_u_wind_componentint</th>\n",
       "      <th>10_metre_v_wind_componentint</th>\n",
       "      <th>direct_solar_radiationint</th>\n",
       "      <th>surface_solar_radiation_downwardsint</th>\n",
       "      <th>snowfallint</th>\n",
       "      <th>total_precipitationint</th>\n",
       "      <th>hour</th>\n",
       "    </tr>\n",
       "    <tr>\n",
       "      <th>forecast_datetime</th>\n",
       "      <th>county</th>\n",
       "      <th></th>\n",
       "      <th></th>\n",
       "      <th></th>\n",
       "      <th></th>\n",
       "      <th></th>\n",
       "      <th></th>\n",
       "      <th></th>\n",
       "      <th></th>\n",
       "      <th></th>\n",
       "      <th></th>\n",
       "      <th></th>\n",
       "      <th></th>\n",
       "      <th></th>\n",
       "      <th></th>\n",
       "      <th></th>\n",
       "      <th></th>\n",
       "      <th></th>\n",
       "      <th></th>\n",
       "    </tr>\n",
       "  </thead>\n",
       "  <tbody>\n",
       "    <tr>\n",
       "      <th rowspan=\"5\" valign=\"top\">2021-09-02 00:00:00+00:00</th>\n",
       "      <th>0</th>\n",
       "      <td>59.310926</td>\n",
       "      <td>24.924348</td>\n",
       "      <td>24</td>\n",
       "      <td>1</td>\n",
       "      <td>2021-09-01 00:00:00+00:00</td>\n",
       "      <td>10.067237</td>\n",
       "      <td>5.037243</td>\n",
       "      <td>0.000000</td>\n",
       "      <td>0.121643</td>\n",
       "      <td>0.028473</td>\n",
       "      <td>0.127933</td>\n",
       "      <td>1.727094</td>\n",
       "      <td>-4.232588</td>\n",
       "      <td>0.0</td>\n",
       "      <td>0.0</td>\n",
       "      <td>0.0</td>\n",
       "      <td>0.000001</td>\n",
       "      <td>0</td>\n",
       "    </tr>\n",
       "    <tr>\n",
       "      <th>1</th>\n",
       "      <td>58.893253</td>\n",
       "      <td>22.618680</td>\n",
       "      <td>24</td>\n",
       "      <td>1</td>\n",
       "      <td>2021-09-01 00:00:00+00:00</td>\n",
       "      <td>12.167244</td>\n",
       "      <td>5.159730</td>\n",
       "      <td>0.000000</td>\n",
       "      <td>0.049673</td>\n",
       "      <td>0.139698</td>\n",
       "      <td>0.157873</td>\n",
       "      <td>1.119604</td>\n",
       "      <td>-7.190296</td>\n",
       "      <td>0.0</td>\n",
       "      <td>0.0</td>\n",
       "      <td>0.0</td>\n",
       "      <td>0.000008</td>\n",
       "      <td>0</td>\n",
       "    </tr>\n",
       "    <tr>\n",
       "      <th>2</th>\n",
       "      <td>59.177733</td>\n",
       "      <td>27.327484</td>\n",
       "      <td>24</td>\n",
       "      <td>1</td>\n",
       "      <td>2021-09-01 00:00:00+00:00</td>\n",
       "      <td>9.417725</td>\n",
       "      <td>6.740294</td>\n",
       "      <td>0.000000</td>\n",
       "      <td>0.307994</td>\n",
       "      <td>0.337640</td>\n",
       "      <td>0.461532</td>\n",
       "      <td>1.945832</td>\n",
       "      <td>-3.715220</td>\n",
       "      <td>0.0</td>\n",
       "      <td>0.0</td>\n",
       "      <td>0.0</td>\n",
       "      <td>0.000064</td>\n",
       "      <td>0</td>\n",
       "    </tr>\n",
       "    <tr>\n",
       "      <th>3</th>\n",
       "      <td>58.940196</td>\n",
       "      <td>25.666667</td>\n",
       "      <td>24</td>\n",
       "      <td>1</td>\n",
       "      <td>2021-09-01 00:00:00+00:00</td>\n",
       "      <td>8.882337</td>\n",
       "      <td>5.618534</td>\n",
       "      <td>0.000000</td>\n",
       "      <td>0.307195</td>\n",
       "      <td>0.105001</td>\n",
       "      <td>0.352315</td>\n",
       "      <td>2.174265</td>\n",
       "      <td>-3.226562</td>\n",
       "      <td>0.0</td>\n",
       "      <td>0.0</td>\n",
       "      <td>0.0</td>\n",
       "      <td>0.000006</td>\n",
       "      <td>0</td>\n",
       "    </tr>\n",
       "    <tr>\n",
       "      <th>4</th>\n",
       "      <td>58.722191</td>\n",
       "      <td>26.536904</td>\n",
       "      <td>24</td>\n",
       "      <td>1</td>\n",
       "      <td>2021-09-01 00:00:00+00:00</td>\n",
       "      <td>8.830031</td>\n",
       "      <td>5.928326</td>\n",
       "      <td>0.000000</td>\n",
       "      <td>0.123666</td>\n",
       "      <td>0.123649</td>\n",
       "      <td>0.203788</td>\n",
       "      <td>2.592233</td>\n",
       "      <td>-3.410328</td>\n",
       "      <td>0.0</td>\n",
       "      <td>0.0</td>\n",
       "      <td>0.0</td>\n",
       "      <td>0.000006</td>\n",
       "      <td>0</td>\n",
       "    </tr>\n",
       "    <tr>\n",
       "      <th>...</th>\n",
       "      <th>...</th>\n",
       "      <td>...</td>\n",
       "      <td>...</td>\n",
       "      <td>...</td>\n",
       "      <td>...</td>\n",
       "      <td>...</td>\n",
       "      <td>...</td>\n",
       "      <td>...</td>\n",
       "      <td>...</td>\n",
       "      <td>...</td>\n",
       "      <td>...</td>\n",
       "      <td>...</td>\n",
       "      <td>...</td>\n",
       "      <td>...</td>\n",
       "      <td>...</td>\n",
       "      <td>...</td>\n",
       "      <td>...</td>\n",
       "      <td>...</td>\n",
       "      <td>...</td>\n",
       "    </tr>\n",
       "    <tr>\n",
       "      <th rowspan=\"5\" valign=\"top\">2023-05-31 23:00:00+00:00</th>\n",
       "      <th>11</th>\n",
       "      <td>58.392720</td>\n",
       "      <td>26.829967</td>\n",
       "      <td>47</td>\n",
       "      <td>637</td>\n",
       "      <td>2023-05-30 00:00:00+00:00</td>\n",
       "      <td>9.509761</td>\n",
       "      <td>4.045998</td>\n",
       "      <td>0.425129</td>\n",
       "      <td>0.000115</td>\n",
       "      <td>0.000000</td>\n",
       "      <td>0.425168</td>\n",
       "      <td>3.991137</td>\n",
       "      <td>-1.031114</td>\n",
       "      <td>0.0</td>\n",
       "      <td>0.0</td>\n",
       "      <td>0.0</td>\n",
       "      <td>0.000000</td>\n",
       "      <td>23</td>\n",
       "    </tr>\n",
       "    <tr>\n",
       "      <th>12</th>\n",
       "      <td>58.597500</td>\n",
       "      <td>24.987300</td>\n",
       "      <td>47</td>\n",
       "      <td>637</td>\n",
       "      <td>2023-05-30 00:00:00+00:00</td>\n",
       "      <td>8.990915</td>\n",
       "      <td>3.820634</td>\n",
       "      <td>0.092345</td>\n",
       "      <td>0.000000</td>\n",
       "      <td>0.000000</td>\n",
       "      <td>0.092345</td>\n",
       "      <td>3.876703</td>\n",
       "      <td>-2.380231</td>\n",
       "      <td>0.0</td>\n",
       "      <td>0.0</td>\n",
       "      <td>0.0</td>\n",
       "      <td>0.000000</td>\n",
       "      <td>23</td>\n",
       "    </tr>\n",
       "    <tr>\n",
       "      <th>13</th>\n",
       "      <td>57.933039</td>\n",
       "      <td>26.143027</td>\n",
       "      <td>47</td>\n",
       "      <td>637</td>\n",
       "      <td>2023-05-30 00:00:00+00:00</td>\n",
       "      <td>9.463768</td>\n",
       "      <td>3.973195</td>\n",
       "      <td>0.646199</td>\n",
       "      <td>0.000000</td>\n",
       "      <td>0.000000</td>\n",
       "      <td>0.646199</td>\n",
       "      <td>3.791384</td>\n",
       "      <td>-1.693260</td>\n",
       "      <td>0.0</td>\n",
       "      <td>0.0</td>\n",
       "      <td>0.0</td>\n",
       "      <td>0.000000</td>\n",
       "      <td>23</td>\n",
       "    </tr>\n",
       "    <tr>\n",
       "      <th>14</th>\n",
       "      <td>58.336987</td>\n",
       "      <td>25.558364</td>\n",
       "      <td>47</td>\n",
       "      <td>637</td>\n",
       "      <td>2023-05-30 00:00:00+00:00</td>\n",
       "      <td>8.841315</td>\n",
       "      <td>3.764308</td>\n",
       "      <td>0.539247</td>\n",
       "      <td>0.000000</td>\n",
       "      <td>0.000000</td>\n",
       "      <td>0.539247</td>\n",
       "      <td>4.073781</td>\n",
       "      <td>-1.836410</td>\n",
       "      <td>0.0</td>\n",
       "      <td>0.0</td>\n",
       "      <td>0.0</td>\n",
       "      <td>0.000000</td>\n",
       "      <td>23</td>\n",
       "    </tr>\n",
       "    <tr>\n",
       "      <th>15</th>\n",
       "      <td>57.747955</td>\n",
       "      <td>26.911153</td>\n",
       "      <td>47</td>\n",
       "      <td>637</td>\n",
       "      <td>2023-05-30 00:00:00+00:00</td>\n",
       "      <td>9.407044</td>\n",
       "      <td>4.485751</td>\n",
       "      <td>0.642966</td>\n",
       "      <td>0.000000</td>\n",
       "      <td>0.000000</td>\n",
       "      <td>0.642966</td>\n",
       "      <td>3.441884</td>\n",
       "      <td>-0.303425</td>\n",
       "      <td>0.0</td>\n",
       "      <td>0.0</td>\n",
       "      <td>0.0</td>\n",
       "      <td>0.000000</td>\n",
       "      <td>23</td>\n",
       "    </tr>\n",
       "  </tbody>\n",
       "</table>\n",
       "<p>244608 rows × 18 columns</p>\n",
       "</div>"
      ],
      "text/plain": [
       "                                   latitude  longitude  hours_ahead  \\\n",
       "forecast_datetime         county                                      \n",
       "2021-09-02 00:00:00+00:00 0       59.310926  24.924348           24   \n",
       "                          1       58.893253  22.618680           24   \n",
       "                          2       59.177733  27.327484           24   \n",
       "                          3       58.940196  25.666667           24   \n",
       "                          4       58.722191  26.536904           24   \n",
       "...                                     ...        ...          ...   \n",
       "2023-05-31 23:00:00+00:00 11      58.392720  26.829967           47   \n",
       "                          12      58.597500  24.987300           47   \n",
       "                          13      57.933039  26.143027           47   \n",
       "                          14      58.336987  25.558364           47   \n",
       "                          15      57.747955  26.911153           47   \n",
       "\n",
       "                                  data_block_id            origin_datetime  \\\n",
       "forecast_datetime         county                                             \n",
       "2021-09-02 00:00:00+00:00 0                   1  2021-09-01 00:00:00+00:00   \n",
       "                          1                   1  2021-09-01 00:00:00+00:00   \n",
       "                          2                   1  2021-09-01 00:00:00+00:00   \n",
       "                          3                   1  2021-09-01 00:00:00+00:00   \n",
       "                          4                   1  2021-09-01 00:00:00+00:00   \n",
       "...                                         ...                        ...   \n",
       "2023-05-31 23:00:00+00:00 11                637  2023-05-30 00:00:00+00:00   \n",
       "                          12                637  2023-05-30 00:00:00+00:00   \n",
       "                          13                637  2023-05-30 00:00:00+00:00   \n",
       "                          14                637  2023-05-30 00:00:00+00:00   \n",
       "                          15                637  2023-05-30 00:00:00+00:00   \n",
       "\n",
       "                                  temperatureint  dewpointint  \\\n",
       "forecast_datetime         county                                \n",
       "2021-09-02 00:00:00+00:00 0            10.067237     5.037243   \n",
       "                          1            12.167244     5.159730   \n",
       "                          2             9.417725     6.740294   \n",
       "                          3             8.882337     5.618534   \n",
       "                          4             8.830031     5.928326   \n",
       "...                                          ...          ...   \n",
       "2023-05-31 23:00:00+00:00 11            9.509761     4.045998   \n",
       "                          12            8.990915     3.820634   \n",
       "                          13            9.463768     3.973195   \n",
       "                          14            8.841315     3.764308   \n",
       "                          15            9.407044     4.485751   \n",
       "\n",
       "                                  cloudcover_highint  cloudcover_lowint  \\\n",
       "forecast_datetime         county                                          \n",
       "2021-09-02 00:00:00+00:00 0                 0.000000           0.121643   \n",
       "                          1                 0.000000           0.049673   \n",
       "                          2                 0.000000           0.307994   \n",
       "                          3                 0.000000           0.307195   \n",
       "                          4                 0.000000           0.123666   \n",
       "...                                              ...                ...   \n",
       "2023-05-31 23:00:00+00:00 11                0.425129           0.000115   \n",
       "                          12                0.092345           0.000000   \n",
       "                          13                0.646199           0.000000   \n",
       "                          14                0.539247           0.000000   \n",
       "                          15                0.642966           0.000000   \n",
       "\n",
       "                                  cloudcover_midint  cloudcover_totalint  \\\n",
       "forecast_datetime         county                                           \n",
       "2021-09-02 00:00:00+00:00 0                0.028473             0.127933   \n",
       "                          1                0.139698             0.157873   \n",
       "                          2                0.337640             0.461532   \n",
       "                          3                0.105001             0.352315   \n",
       "                          4                0.123649             0.203788   \n",
       "...                                             ...                  ...   \n",
       "2023-05-31 23:00:00+00:00 11               0.000000             0.425168   \n",
       "                          12               0.000000             0.092345   \n",
       "                          13               0.000000             0.646199   \n",
       "                          14               0.000000             0.539247   \n",
       "                          15               0.000000             0.642966   \n",
       "\n",
       "                                  10_metre_u_wind_componentint  \\\n",
       "forecast_datetime         county                                 \n",
       "2021-09-02 00:00:00+00:00 0                           1.727094   \n",
       "                          1                           1.119604   \n",
       "                          2                           1.945832   \n",
       "                          3                           2.174265   \n",
       "                          4                           2.592233   \n",
       "...                                                        ...   \n",
       "2023-05-31 23:00:00+00:00 11                          3.991137   \n",
       "                          12                          3.876703   \n",
       "                          13                          3.791384   \n",
       "                          14                          4.073781   \n",
       "                          15                          3.441884   \n",
       "\n",
       "                                  10_metre_v_wind_componentint  \\\n",
       "forecast_datetime         county                                 \n",
       "2021-09-02 00:00:00+00:00 0                          -4.232588   \n",
       "                          1                          -7.190296   \n",
       "                          2                          -3.715220   \n",
       "                          3                          -3.226562   \n",
       "                          4                          -3.410328   \n",
       "...                                                        ...   \n",
       "2023-05-31 23:00:00+00:00 11                         -1.031114   \n",
       "                          12                         -2.380231   \n",
       "                          13                         -1.693260   \n",
       "                          14                         -1.836410   \n",
       "                          15                         -0.303425   \n",
       "\n",
       "                                  direct_solar_radiationint  \\\n",
       "forecast_datetime         county                              \n",
       "2021-09-02 00:00:00+00:00 0                             0.0   \n",
       "                          1                             0.0   \n",
       "                          2                             0.0   \n",
       "                          3                             0.0   \n",
       "                          4                             0.0   \n",
       "...                                                     ...   \n",
       "2023-05-31 23:00:00+00:00 11                            0.0   \n",
       "                          12                            0.0   \n",
       "                          13                            0.0   \n",
       "                          14                            0.0   \n",
       "                          15                            0.0   \n",
       "\n",
       "                                  surface_solar_radiation_downwardsint  \\\n",
       "forecast_datetime         county                                         \n",
       "2021-09-02 00:00:00+00:00 0                                        0.0   \n",
       "                          1                                        0.0   \n",
       "                          2                                        0.0   \n",
       "                          3                                        0.0   \n",
       "                          4                                        0.0   \n",
       "...                                                                ...   \n",
       "2023-05-31 23:00:00+00:00 11                                       0.0   \n",
       "                          12                                       0.0   \n",
       "                          13                                       0.0   \n",
       "                          14                                       0.0   \n",
       "                          15                                       0.0   \n",
       "\n",
       "                                  snowfallint  total_precipitationint  hour  \n",
       "forecast_datetime         county                                             \n",
       "2021-09-02 00:00:00+00:00 0               0.0                0.000001     0  \n",
       "                          1               0.0                0.000008     0  \n",
       "                          2               0.0                0.000064     0  \n",
       "                          3               0.0                0.000006     0  \n",
       "                          4               0.0                0.000006     0  \n",
       "...                                       ...                     ...   ...  \n",
       "2023-05-31 23:00:00+00:00 11              0.0                0.000000    23  \n",
       "                          12              0.0                0.000000    23  \n",
       "                          13              0.0                0.000000    23  \n",
       "                          14              0.0                0.000000    23  \n",
       "                          15              0.0                0.000000    23  \n",
       "\n",
       "[244608 rows x 18 columns]"
      ]
     },
     "execution_count": 11,
     "metadata": {},
     "output_type": "execute_result"
    }
   ],
   "source": [
    "weatherPredInt['hour'] = weatherPredInt['hours_ahead'] - 24\n",
    "weatherPredInt['county'] = weatherPredInt['County']\n",
    "weatherPredInt.drop('County',axis = 1, inplace=True)\n",
    "weatherPredInt.drop('Unnamed: 0', axis = 1, inplace=True)\n",
    "weatherPredInt.set_index(['forecast_datetime','county'])"
   ]
  },
  {
   "cell_type": "code",
   "execution_count": 12,
   "metadata": {},
   "outputs": [],
   "source": [
    "clientsTime3 = pd.merge(clientsTime2, weatherPredInt, on=['county', 'hour','data_block_id'], how='inner', suffixes=('','_pred'))"
   ]
  },
  {
   "cell_type": "code",
   "execution_count": 13,
   "metadata": {},
   "outputs": [],
   "source": [
    "weatherHistInt['datetime'] = pd.to_datetime(weatherHistInt['datetime'])\n",
    "weatherHistInt['hour'] = weatherHistInt.datetime.dt.hour\n",
    "weatherHistInt['county'] = weatherHistInt['County']\n",
    "weatherHistInt.drop(['Unnamed: 0.1', 'Unnamed: 0','County'], axis = 1, inplace=True)"
   ]
  },
  {
   "cell_type": "code",
   "execution_count": 14,
   "metadata": {},
   "outputs": [
    {
     "data": {
      "text/plain": [
       "array([ 0,  1,  2,  3,  4,  5,  6,  7,  8,  9, 10, 11, 12, 13, 14, 15, 16,\n",
       "       17, 18, 19, 20, 21, 22, 23])"
      ]
     },
     "execution_count": 14,
     "metadata": {},
     "output_type": "execute_result"
    }
   ],
   "source": [
    "#move hour timestamp 11 hours up and deal with proper time separation\n",
    "weatherHistInt['hour_original'] = weatherHistInt.datetime.dt.hour\n",
    "weatherHistInt['hour'] = weatherHistInt.datetime.dt.hour-11\n",
    "weatherHistInt['hour'] = weatherHistInt['hour'].apply(lambda s : s+24 if s<0 else s)\n",
    "\n",
    "weatherHistInt.loc[weatherHistInt.data_block_id == 3].hour.unique()"
   ]
  },
  {
   "cell_type": "code",
   "execution_count": 15,
   "metadata": {},
   "outputs": [],
   "source": [
    "mergedData = pd.merge(clientsTime3, weatherHistInt, on=['county', 'data_block_id', 'hour'], suffixes=('','_hist'))"
   ]
  },
  {
   "cell_type": "code",
   "execution_count": 16,
   "metadata": {},
   "outputs": [
    {
     "data": {
      "text/plain": [
       "Index(['county', 'is_business', 'product_type', 'target_prod', 'datetime',\n",
       "       'data_block_id', 'row_id_prod', 'prediction_unit_id', 'target_cons',\n",
       "       'row_id_cons', 'eic_count', 'installed_capacity', 'date', 'yearday',\n",
       "       'weekday', 'month', 'monthday', 'year', 'hour', 'business_prodType',\n",
       "       'ind_customer_id', 'holiday', 'no_workday', 'euros_per_mwh',\n",
       "       'lowest_price_per_mwh', 'highest_price_per_mwh', 'latitude',\n",
       "       'longitude', 'forecast_datetime', 'hours_ahead', 'origin_datetime',\n",
       "       'temperatureint', 'dewpointint', 'cloudcover_highint',\n",
       "       'cloudcover_lowint', 'cloudcover_midint', 'cloudcover_totalint',\n",
       "       '10_metre_u_wind_componentint', '10_metre_v_wind_componentint',\n",
       "       'direct_solar_radiationint', 'surface_solar_radiation_downwardsint',\n",
       "       'snowfallint', 'total_precipitationint', 'latitude_hist',\n",
       "       'longitude_hist', 'datetime_hist', 'temperatureint_hist',\n",
       "       'dewpointint_hist', 'rainint', 'snowfallint_hist',\n",
       "       'surface_pressureint', 'cloudcover_totalint_hist',\n",
       "       'cloudcover_lowint_hist', 'cloudcover_midint_hist',\n",
       "       'cloudcover_highint_hist', 'windspeed_10mint', 'winddirection_10mint',\n",
       "       'shortwave_radiationint', 'direct_solar_radiationint_hist',\n",
       "       'diffuse_radiationint', 'meltingInCM', 'snowHeightFlux', 'snowcover',\n",
       "       'hour_original'],\n",
       "      dtype='object')"
      ]
     },
     "execution_count": 16,
     "metadata": {},
     "output_type": "execute_result"
    }
   ],
   "source": [
    "mergedData.columns"
   ]
  },
  {
   "cell_type": "code",
   "execution_count": 17,
   "metadata": {},
   "outputs": [],
   "source": [
    "mergedData = mergedData.set_index(['ind_customer_id','datetime']).sort_index()"
   ]
  },
  {
   "cell_type": "markdown",
   "metadata": {},
   "source": [
    "## add time features"
   ]
  },
  {
   "cell_type": "code",
   "execution_count": 18,
   "metadata": {},
   "outputs": [],
   "source": [
    "from statsmodels.tsa.deterministic import CalendarFourier, DeterministicProcess"
   ]
  },
  {
   "cell_type": "code",
   "execution_count": 19,
   "metadata": {},
   "outputs": [],
   "source": [
    "test = mergedData.reset_index().set_index(['datetime'])"
   ]
  },
  {
   "cell_type": "code",
   "execution_count": 20,
   "metadata": {},
   "outputs": [],
   "source": [
    "frequencies = [\"8H\",\"12H\",\"1D\",\"2D\",\"4D\",\"W\",\"2W\",\"3W\",\"M\",\"2M\",\"3M\",\"4M\",\"6M\",\"A\"]\n",
    "orders = [6] * len(frequencies)\n",
    "\n",
    "# Apply the CalendarFourier transformation for each frequency\n",
    "fourier_transformed_list = []\n",
    "for freq, order in zip(frequencies, orders):\n",
    "    fourier = CalendarFourier(freq=freq, order=order)\n",
    "    fourier_fit = fourier.in_sample(test.index)\n",
    "    test = pd.concat([test, pd.DataFrame(fourier_fit, index=test.index)], axis=1)"
   ]
  },
  {
   "cell_type": "code",
   "execution_count": 21,
   "metadata": {},
   "outputs": [],
   "source": [
    "testF = ['county', 'is_business', 'product_type',\n",
    "        'prediction_unit_id', \n",
    "       'eic_count', 'installed_capacity', 'yearday', 'weekday',\n",
    "       'month', 'monthday', 'year', 'hour', 'business_prodType', 'holiday',\n",
    "       'no_workday', 'euros_per_mwh', 'lowest_price_per_mwh',\n",
    "       'highest_price_per_mwh']\n",
    "#'target_prod', 'target_cons', "
   ]
  },
  {
   "cell_type": "code",
   "execution_count": 22,
   "metadata": {},
   "outputs": [
    {
     "data": {
      "text/plain": [
       "['county',\n",
       " 'is_business',\n",
       " 'product_type',\n",
       " 'prediction_unit_id',\n",
       " 'eic_count',\n",
       " 'installed_capacity',\n",
       " 'yearday',\n",
       " 'weekday',\n",
       " 'month',\n",
       " 'monthday',\n",
       " 'year',\n",
       " 'hour',\n",
       " 'business_prodType',\n",
       " 'holiday',\n",
       " 'no_workday',\n",
       " 'euros_per_mwh',\n",
       " 'lowest_price_per_mwh',\n",
       " 'highest_price_per_mwh',\n",
       " 'sin(1,freq=8H)',\n",
       " 'cos(1,freq=8H)',\n",
       " 'sin(2,freq=8H)',\n",
       " 'cos(2,freq=8H)',\n",
       " 'sin(3,freq=8H)',\n",
       " 'cos(3,freq=8H)',\n",
       " 'sin(4,freq=8H)',\n",
       " 'cos(4,freq=8H)',\n",
       " 'sin(5,freq=8H)',\n",
       " 'cos(5,freq=8H)',\n",
       " 'sin(6,freq=8H)',\n",
       " 'cos(6,freq=8H)',\n",
       " 'sin(1,freq=12H)',\n",
       " 'cos(1,freq=12H)',\n",
       " 'sin(2,freq=12H)',\n",
       " 'cos(2,freq=12H)',\n",
       " 'sin(3,freq=12H)',\n",
       " 'cos(3,freq=12H)',\n",
       " 'sin(4,freq=12H)',\n",
       " 'cos(4,freq=12H)',\n",
       " 'sin(5,freq=12H)',\n",
       " 'cos(5,freq=12H)',\n",
       " 'sin(6,freq=12H)',\n",
       " 'cos(6,freq=12H)',\n",
       " 'sin(1,freq=D)',\n",
       " 'cos(1,freq=D)',\n",
       " 'sin(2,freq=D)',\n",
       " 'cos(2,freq=D)',\n",
       " 'sin(3,freq=D)',\n",
       " 'cos(3,freq=D)',\n",
       " 'sin(4,freq=D)',\n",
       " 'cos(4,freq=D)',\n",
       " 'sin(5,freq=D)',\n",
       " 'cos(5,freq=D)',\n",
       " 'sin(6,freq=D)',\n",
       " 'cos(6,freq=D)',\n",
       " 'sin(1,freq=2D)',\n",
       " 'cos(1,freq=2D)',\n",
       " 'sin(2,freq=2D)',\n",
       " 'cos(2,freq=2D)',\n",
       " 'sin(3,freq=2D)',\n",
       " 'cos(3,freq=2D)',\n",
       " 'sin(4,freq=2D)',\n",
       " 'cos(4,freq=2D)',\n",
       " 'sin(5,freq=2D)',\n",
       " 'cos(5,freq=2D)',\n",
       " 'sin(6,freq=2D)',\n",
       " 'cos(6,freq=2D)',\n",
       " 'sin(1,freq=4D)',\n",
       " 'cos(1,freq=4D)',\n",
       " 'sin(2,freq=4D)',\n",
       " 'cos(2,freq=4D)',\n",
       " 'sin(3,freq=4D)',\n",
       " 'cos(3,freq=4D)',\n",
       " 'sin(4,freq=4D)',\n",
       " 'cos(4,freq=4D)',\n",
       " 'sin(5,freq=4D)',\n",
       " 'cos(5,freq=4D)',\n",
       " 'sin(6,freq=4D)',\n",
       " 'cos(6,freq=4D)',\n",
       " 'sin(1,freq=W-SUN)',\n",
       " 'cos(1,freq=W-SUN)',\n",
       " 'sin(2,freq=W-SUN)',\n",
       " 'cos(2,freq=W-SUN)',\n",
       " 'sin(3,freq=W-SUN)',\n",
       " 'cos(3,freq=W-SUN)',\n",
       " 'sin(4,freq=W-SUN)',\n",
       " 'cos(4,freq=W-SUN)',\n",
       " 'sin(5,freq=W-SUN)',\n",
       " 'cos(5,freq=W-SUN)',\n",
       " 'sin(6,freq=W-SUN)',\n",
       " 'cos(6,freq=W-SUN)',\n",
       " 'sin(1,freq=2W-SUN)',\n",
       " 'cos(1,freq=2W-SUN)',\n",
       " 'sin(2,freq=2W-SUN)',\n",
       " 'cos(2,freq=2W-SUN)',\n",
       " 'sin(3,freq=2W-SUN)',\n",
       " 'cos(3,freq=2W-SUN)',\n",
       " 'sin(4,freq=2W-SUN)',\n",
       " 'cos(4,freq=2W-SUN)',\n",
       " 'sin(5,freq=2W-SUN)',\n",
       " 'cos(5,freq=2W-SUN)',\n",
       " 'sin(6,freq=2W-SUN)',\n",
       " 'cos(6,freq=2W-SUN)',\n",
       " 'sin(1,freq=3W-SUN)',\n",
       " 'cos(1,freq=3W-SUN)',\n",
       " 'sin(2,freq=3W-SUN)',\n",
       " 'cos(2,freq=3W-SUN)',\n",
       " 'sin(3,freq=3W-SUN)',\n",
       " 'cos(3,freq=3W-SUN)',\n",
       " 'sin(4,freq=3W-SUN)',\n",
       " 'cos(4,freq=3W-SUN)',\n",
       " 'sin(5,freq=3W-SUN)',\n",
       " 'cos(5,freq=3W-SUN)',\n",
       " 'sin(6,freq=3W-SUN)',\n",
       " 'cos(6,freq=3W-SUN)',\n",
       " 'sin(1,freq=M)',\n",
       " 'cos(1,freq=M)',\n",
       " 'sin(2,freq=M)',\n",
       " 'cos(2,freq=M)',\n",
       " 'sin(3,freq=M)',\n",
       " 'cos(3,freq=M)',\n",
       " 'sin(4,freq=M)',\n",
       " 'cos(4,freq=M)',\n",
       " 'sin(5,freq=M)',\n",
       " 'cos(5,freq=M)',\n",
       " 'sin(6,freq=M)',\n",
       " 'cos(6,freq=M)',\n",
       " 'sin(1,freq=2M)',\n",
       " 'cos(1,freq=2M)',\n",
       " 'sin(2,freq=2M)',\n",
       " 'cos(2,freq=2M)',\n",
       " 'sin(3,freq=2M)',\n",
       " 'cos(3,freq=2M)',\n",
       " 'sin(4,freq=2M)',\n",
       " 'cos(4,freq=2M)',\n",
       " 'sin(5,freq=2M)',\n",
       " 'cos(5,freq=2M)',\n",
       " 'sin(6,freq=2M)',\n",
       " 'cos(6,freq=2M)',\n",
       " 'sin(1,freq=3M)',\n",
       " 'cos(1,freq=3M)',\n",
       " 'sin(2,freq=3M)',\n",
       " 'cos(2,freq=3M)',\n",
       " 'sin(3,freq=3M)',\n",
       " 'cos(3,freq=3M)',\n",
       " 'sin(4,freq=3M)',\n",
       " 'cos(4,freq=3M)',\n",
       " 'sin(5,freq=3M)',\n",
       " 'cos(5,freq=3M)',\n",
       " 'sin(6,freq=3M)',\n",
       " 'cos(6,freq=3M)',\n",
       " 'sin(1,freq=4M)',\n",
       " 'cos(1,freq=4M)',\n",
       " 'sin(2,freq=4M)',\n",
       " 'cos(2,freq=4M)',\n",
       " 'sin(3,freq=4M)',\n",
       " 'cos(3,freq=4M)',\n",
       " 'sin(4,freq=4M)',\n",
       " 'cos(4,freq=4M)',\n",
       " 'sin(5,freq=4M)',\n",
       " 'cos(5,freq=4M)',\n",
       " 'sin(6,freq=4M)',\n",
       " 'cos(6,freq=4M)',\n",
       " 'sin(1,freq=6M)',\n",
       " 'cos(1,freq=6M)',\n",
       " 'sin(2,freq=6M)',\n",
       " 'cos(2,freq=6M)',\n",
       " 'sin(3,freq=6M)',\n",
       " 'cos(3,freq=6M)',\n",
       " 'sin(4,freq=6M)',\n",
       " 'cos(4,freq=6M)',\n",
       " 'sin(5,freq=6M)',\n",
       " 'cos(5,freq=6M)',\n",
       " 'sin(6,freq=6M)',\n",
       " 'cos(6,freq=6M)',\n",
       " 'sin(1,freq=A-DEC)',\n",
       " 'cos(1,freq=A-DEC)',\n",
       " 'sin(2,freq=A-DEC)',\n",
       " 'cos(2,freq=A-DEC)',\n",
       " 'sin(3,freq=A-DEC)',\n",
       " 'cos(3,freq=A-DEC)',\n",
       " 'sin(4,freq=A-DEC)',\n",
       " 'cos(4,freq=A-DEC)',\n",
       " 'sin(5,freq=A-DEC)',\n",
       " 'cos(5,freq=A-DEC)',\n",
       " 'sin(6,freq=A-DEC)',\n",
       " 'cos(6,freq=A-DEC)']"
      ]
     },
     "execution_count": 22,
     "metadata": {},
     "output_type": "execute_result"
    }
   ],
   "source": [
    "selected_columns = testF + test.filter(regex='^(cos|sin)').columns.to_list()\n",
    "selected_columns"
   ]
  },
  {
   "cell_type": "code",
   "execution_count": 23,
   "metadata": {},
   "outputs": [
    {
     "data": {
      "text/html": [
       "<div>\n",
       "<style scoped>\n",
       "    .dataframe tbody tr th:only-of-type {\n",
       "        vertical-align: middle;\n",
       "    }\n",
       "\n",
       "    .dataframe tbody tr th {\n",
       "        vertical-align: top;\n",
       "    }\n",
       "\n",
       "    .dataframe thead th {\n",
       "        text-align: right;\n",
       "    }\n",
       "</style>\n",
       "<table border=\"1\" class=\"dataframe\">\n",
       "  <thead>\n",
       "    <tr style=\"text-align: right;\">\n",
       "      <th></th>\n",
       "      <th>ind_customer_id</th>\n",
       "      <th>county</th>\n",
       "      <th>is_business</th>\n",
       "      <th>product_type</th>\n",
       "      <th>target_prod</th>\n",
       "      <th>data_block_id</th>\n",
       "      <th>row_id_prod</th>\n",
       "      <th>prediction_unit_id</th>\n",
       "      <th>target_cons</th>\n",
       "      <th>row_id_cons</th>\n",
       "      <th>...</th>\n",
       "      <th>sin(2,freq=A-DEC)</th>\n",
       "      <th>cos(2,freq=A-DEC)</th>\n",
       "      <th>sin(3,freq=A-DEC)</th>\n",
       "      <th>cos(3,freq=A-DEC)</th>\n",
       "      <th>sin(4,freq=A-DEC)</th>\n",
       "      <th>cos(4,freq=A-DEC)</th>\n",
       "      <th>sin(5,freq=A-DEC)</th>\n",
       "      <th>cos(5,freq=A-DEC)</th>\n",
       "      <th>sin(6,freq=A-DEC)</th>\n",
       "      <th>cos(6,freq=A-DEC)</th>\n",
       "    </tr>\n",
       "    <tr>\n",
       "      <th>datetime</th>\n",
       "      <th></th>\n",
       "      <th></th>\n",
       "      <th></th>\n",
       "      <th></th>\n",
       "      <th></th>\n",
       "      <th></th>\n",
       "      <th></th>\n",
       "      <th></th>\n",
       "      <th></th>\n",
       "      <th></th>\n",
       "      <th></th>\n",
       "      <th></th>\n",
       "      <th></th>\n",
       "      <th></th>\n",
       "      <th></th>\n",
       "      <th></th>\n",
       "      <th></th>\n",
       "      <th></th>\n",
       "      <th></th>\n",
       "      <th></th>\n",
       "      <th></th>\n",
       "    </tr>\n",
       "  </thead>\n",
       "  <tbody>\n",
       "    <tr>\n",
       "      <th>2022-11-19 00:00:00</th>\n",
       "      <td>0</td>\n",
       "      <td>5</td>\n",
       "      <td>0</td>\n",
       "      <td>3</td>\n",
       "      <td>1.216</td>\n",
       "      <td>444</td>\n",
       "      <td>1398240</td>\n",
       "      <td>20</td>\n",
       "      <td>198.445</td>\n",
       "      <td>1398241</td>\n",
       "      <td>...</td>\n",
       "      <td>-0.995919</td>\n",
       "      <td>0.090252</td>\n",
       "      <td>-0.796183</td>\n",
       "      <td>-0.605056</td>\n",
       "      <td>-0.179767</td>\n",
       "      <td>-0.983709</td>\n",
       "      <td>0.530730</td>\n",
       "      <td>-0.847541</td>\n",
       "      <td>0.963471</td>\n",
       "      <td>-0.267814</td>\n",
       "    </tr>\n",
       "    <tr>\n",
       "      <th>2022-11-19 01:00:00</th>\n",
       "      <td>0</td>\n",
       "      <td>5</td>\n",
       "      <td>0</td>\n",
       "      <td>3</td>\n",
       "      <td>1.680</td>\n",
       "      <td>444</td>\n",
       "      <td>1398378</td>\n",
       "      <td>20</td>\n",
       "      <td>186.166</td>\n",
       "      <td>1398379</td>\n",
       "      <td>...</td>\n",
       "      <td>-0.995789</td>\n",
       "      <td>0.091680</td>\n",
       "      <td>-0.797483</td>\n",
       "      <td>-0.603341</td>\n",
       "      <td>-0.182588</td>\n",
       "      <td>-0.983189</td>\n",
       "      <td>0.527687</td>\n",
       "      <td>-0.849439</td>\n",
       "      <td>0.962309</td>\n",
       "      <td>-0.271958</td>\n",
       "    </tr>\n",
       "    <tr>\n",
       "      <th>2022-11-19 02:00:00</th>\n",
       "      <td>0</td>\n",
       "      <td>5</td>\n",
       "      <td>0</td>\n",
       "      <td>3</td>\n",
       "      <td>1.069</td>\n",
       "      <td>444</td>\n",
       "      <td>1398516</td>\n",
       "      <td>20</td>\n",
       "      <td>196.015</td>\n",
       "      <td>1398517</td>\n",
       "      <td>...</td>\n",
       "      <td>-0.995656</td>\n",
       "      <td>0.093109</td>\n",
       "      <td>-0.798779</td>\n",
       "      <td>-0.601624</td>\n",
       "      <td>-0.185408</td>\n",
       "      <td>-0.982662</td>\n",
       "      <td>0.524637</td>\n",
       "      <td>-0.851326</td>\n",
       "      <td>0.961130</td>\n",
       "      <td>-0.276097</td>\n",
       "    </tr>\n",
       "    <tr>\n",
       "      <th>2022-11-19 03:00:00</th>\n",
       "      <td>0</td>\n",
       "      <td>5</td>\n",
       "      <td>0</td>\n",
       "      <td>3</td>\n",
       "      <td>0.658</td>\n",
       "      <td>444</td>\n",
       "      <td>1398654</td>\n",
       "      <td>20</td>\n",
       "      <td>201.489</td>\n",
       "      <td>1398655</td>\n",
       "      <td>...</td>\n",
       "      <td>-0.995521</td>\n",
       "      <td>0.094537</td>\n",
       "      <td>-0.800072</td>\n",
       "      <td>-0.599904</td>\n",
       "      <td>-0.188227</td>\n",
       "      <td>-0.982126</td>\n",
       "      <td>0.521581</td>\n",
       "      <td>-0.853202</td>\n",
       "      <td>0.959933</td>\n",
       "      <td>-0.280231</td>\n",
       "    </tr>\n",
       "    <tr>\n",
       "      <th>2022-11-19 04:00:00</th>\n",
       "      <td>0</td>\n",
       "      <td>5</td>\n",
       "      <td>0</td>\n",
       "      <td>3</td>\n",
       "      <td>0.612</td>\n",
       "      <td>444</td>\n",
       "      <td>1398792</td>\n",
       "      <td>20</td>\n",
       "      <td>191.141</td>\n",
       "      <td>1398793</td>\n",
       "      <td>...</td>\n",
       "      <td>-0.995385</td>\n",
       "      <td>0.095965</td>\n",
       "      <td>-0.801361</td>\n",
       "      <td>-0.598181</td>\n",
       "      <td>-0.191044</td>\n",
       "      <td>-0.981582</td>\n",
       "      <td>0.518518</td>\n",
       "      <td>-0.855067</td>\n",
       "      <td>0.958718</td>\n",
       "      <td>-0.284359</td>\n",
       "    </tr>\n",
       "    <tr>\n",
       "      <th>...</th>\n",
       "      <td>...</td>\n",
       "      <td>...</td>\n",
       "      <td>...</td>\n",
       "      <td>...</td>\n",
       "      <td>...</td>\n",
       "      <td>...</td>\n",
       "      <td>...</td>\n",
       "      <td>...</td>\n",
       "      <td>...</td>\n",
       "      <td>...</td>\n",
       "      <td>...</td>\n",
       "      <td>...</td>\n",
       "      <td>...</td>\n",
       "      <td>...</td>\n",
       "      <td>...</td>\n",
       "      <td>...</td>\n",
       "      <td>...</td>\n",
       "      <td>...</td>\n",
       "      <td>...</td>\n",
       "      <td>...</td>\n",
       "      <td>...</td>\n",
       "    </tr>\n",
       "    <tr>\n",
       "      <th>2023-02-19 19:00:00</th>\n",
       "      <td>2115</td>\n",
       "      <td>15</td>\n",
       "      <td>0</td>\n",
       "      <td>3</td>\n",
       "      <td>1.641</td>\n",
       "      <td>536</td>\n",
       "      <td>1697368</td>\n",
       "      <td>58</td>\n",
       "      <td>202.926</td>\n",
       "      <td>1697369</td>\n",
       "      <td>...</td>\n",
       "      <td>0.989728</td>\n",
       "      <td>-0.142960</td>\n",
       "      <td>0.539818</td>\n",
       "      <td>-0.841782</td>\n",
       "      <td>-0.282984</td>\n",
       "      <td>-0.959125</td>\n",
       "      <td>-0.910308</td>\n",
       "      <td>-0.413932</td>\n",
       "      <td>-0.908818</td>\n",
       "      <td>0.417194</td>\n",
       "    </tr>\n",
       "    <tr>\n",
       "      <th>2023-02-19 20:00:00</th>\n",
       "      <td>2115</td>\n",
       "      <td>15</td>\n",
       "      <td>0</td>\n",
       "      <td>3</td>\n",
       "      <td>1.570</td>\n",
       "      <td>536</td>\n",
       "      <td>1697500</td>\n",
       "      <td>58</td>\n",
       "      <td>195.100</td>\n",
       "      <td>1697501</td>\n",
       "      <td>...</td>\n",
       "      <td>0.989522</td>\n",
       "      <td>-0.144380</td>\n",
       "      <td>0.538005</td>\n",
       "      <td>-0.842942</td>\n",
       "      <td>-0.285734</td>\n",
       "      <td>-0.958309</td>\n",
       "      <td>-0.911787</td>\n",
       "      <td>-0.410664</td>\n",
       "      <td>-0.907014</td>\n",
       "      <td>0.421101</td>\n",
       "    </tr>\n",
       "    <tr>\n",
       "      <th>2023-02-19 21:00:00</th>\n",
       "      <td>2115</td>\n",
       "      <td>15</td>\n",
       "      <td>0</td>\n",
       "      <td>3</td>\n",
       "      <td>1.195</td>\n",
       "      <td>536</td>\n",
       "      <td>1697632</td>\n",
       "      <td>58</td>\n",
       "      <td>193.820</td>\n",
       "      <td>1697633</td>\n",
       "      <td>...</td>\n",
       "      <td>0.989314</td>\n",
       "      <td>-0.145799</td>\n",
       "      <td>0.536190</td>\n",
       "      <td>-0.844097</td>\n",
       "      <td>-0.288482</td>\n",
       "      <td>-0.957485</td>\n",
       "      <td>-0.913253</td>\n",
       "      <td>-0.407392</td>\n",
       "      <td>-0.905193</td>\n",
       "      <td>0.425000</td>\n",
       "    </tr>\n",
       "    <tr>\n",
       "      <th>2023-02-19 22:00:00</th>\n",
       "      <td>2115</td>\n",
       "      <td>15</td>\n",
       "      <td>0</td>\n",
       "      <td>3</td>\n",
       "      <td>1.912</td>\n",
       "      <td>536</td>\n",
       "      <td>1697764</td>\n",
       "      <td>58</td>\n",
       "      <td>173.588</td>\n",
       "      <td>1697765</td>\n",
       "      <td>...</td>\n",
       "      <td>0.989104</td>\n",
       "      <td>-0.147218</td>\n",
       "      <td>0.534373</td>\n",
       "      <td>-0.845249</td>\n",
       "      <td>-0.291228</td>\n",
       "      <td>-0.956654</td>\n",
       "      <td>-0.914709</td>\n",
       "      <td>-0.404114</td>\n",
       "      <td>-0.903356</td>\n",
       "      <td>0.428892</td>\n",
       "    </tr>\n",
       "    <tr>\n",
       "      <th>2023-02-19 23:00:00</th>\n",
       "      <td>2115</td>\n",
       "      <td>15</td>\n",
       "      <td>0</td>\n",
       "      <td>3</td>\n",
       "      <td>2.281</td>\n",
       "      <td>536</td>\n",
       "      <td>1697896</td>\n",
       "      <td>58</td>\n",
       "      <td>157.596</td>\n",
       "      <td>1697897</td>\n",
       "      <td>...</td>\n",
       "      <td>0.988892</td>\n",
       "      <td>-0.148637</td>\n",
       "      <td>0.532553</td>\n",
       "      <td>-0.846397</td>\n",
       "      <td>-0.293972</td>\n",
       "      <td>-0.955814</td>\n",
       "      <td>-0.916152</td>\n",
       "      <td>-0.400831</td>\n",
       "      <td>-0.901502</td>\n",
       "      <td>0.432776</td>\n",
       "    </tr>\n",
       "  </tbody>\n",
       "</table>\n",
       "<p>1004856 rows × 231 columns</p>\n",
       "</div>"
      ],
      "text/plain": [
       "                     ind_customer_id  county  is_business  product_type  \\\n",
       "datetime                                                                  \n",
       "2022-11-19 00:00:00                0       5            0             3   \n",
       "2022-11-19 01:00:00                0       5            0             3   \n",
       "2022-11-19 02:00:00                0       5            0             3   \n",
       "2022-11-19 03:00:00                0       5            0             3   \n",
       "2022-11-19 04:00:00                0       5            0             3   \n",
       "...                              ...     ...          ...           ...   \n",
       "2023-02-19 19:00:00             2115      15            0             3   \n",
       "2023-02-19 20:00:00             2115      15            0             3   \n",
       "2023-02-19 21:00:00             2115      15            0             3   \n",
       "2023-02-19 22:00:00             2115      15            0             3   \n",
       "2023-02-19 23:00:00             2115      15            0             3   \n",
       "\n",
       "                     target_prod  data_block_id  row_id_prod  \\\n",
       "datetime                                                       \n",
       "2022-11-19 00:00:00        1.216            444      1398240   \n",
       "2022-11-19 01:00:00        1.680            444      1398378   \n",
       "2022-11-19 02:00:00        1.069            444      1398516   \n",
       "2022-11-19 03:00:00        0.658            444      1398654   \n",
       "2022-11-19 04:00:00        0.612            444      1398792   \n",
       "...                          ...            ...          ...   \n",
       "2023-02-19 19:00:00        1.641            536      1697368   \n",
       "2023-02-19 20:00:00        1.570            536      1697500   \n",
       "2023-02-19 21:00:00        1.195            536      1697632   \n",
       "2023-02-19 22:00:00        1.912            536      1697764   \n",
       "2023-02-19 23:00:00        2.281            536      1697896   \n",
       "\n",
       "                     prediction_unit_id  target_cons  row_id_cons  ...  \\\n",
       "datetime                                                           ...   \n",
       "2022-11-19 00:00:00                  20      198.445      1398241  ...   \n",
       "2022-11-19 01:00:00                  20      186.166      1398379  ...   \n",
       "2022-11-19 02:00:00                  20      196.015      1398517  ...   \n",
       "2022-11-19 03:00:00                  20      201.489      1398655  ...   \n",
       "2022-11-19 04:00:00                  20      191.141      1398793  ...   \n",
       "...                                 ...          ...          ...  ...   \n",
       "2023-02-19 19:00:00                  58      202.926      1697369  ...   \n",
       "2023-02-19 20:00:00                  58      195.100      1697501  ...   \n",
       "2023-02-19 21:00:00                  58      193.820      1697633  ...   \n",
       "2023-02-19 22:00:00                  58      173.588      1697765  ...   \n",
       "2023-02-19 23:00:00                  58      157.596      1697897  ...   \n",
       "\n",
       "                     sin(2,freq=A-DEC)  cos(2,freq=A-DEC) sin(3,freq=A-DEC)  \\\n",
       "datetime                                                                      \n",
       "2022-11-19 00:00:00          -0.995919           0.090252         -0.796183   \n",
       "2022-11-19 01:00:00          -0.995789           0.091680         -0.797483   \n",
       "2022-11-19 02:00:00          -0.995656           0.093109         -0.798779   \n",
       "2022-11-19 03:00:00          -0.995521           0.094537         -0.800072   \n",
       "2022-11-19 04:00:00          -0.995385           0.095965         -0.801361   \n",
       "...                                ...                ...               ...   \n",
       "2023-02-19 19:00:00           0.989728          -0.142960          0.539818   \n",
       "2023-02-19 20:00:00           0.989522          -0.144380          0.538005   \n",
       "2023-02-19 21:00:00           0.989314          -0.145799          0.536190   \n",
       "2023-02-19 22:00:00           0.989104          -0.147218          0.534373   \n",
       "2023-02-19 23:00:00           0.988892          -0.148637          0.532553   \n",
       "\n",
       "                     cos(3,freq=A-DEC)  sin(4,freq=A-DEC)  cos(4,freq=A-DEC)  \\\n",
       "datetime                                                                       \n",
       "2022-11-19 00:00:00          -0.605056          -0.179767          -0.983709   \n",
       "2022-11-19 01:00:00          -0.603341          -0.182588          -0.983189   \n",
       "2022-11-19 02:00:00          -0.601624          -0.185408          -0.982662   \n",
       "2022-11-19 03:00:00          -0.599904          -0.188227          -0.982126   \n",
       "2022-11-19 04:00:00          -0.598181          -0.191044          -0.981582   \n",
       "...                                ...                ...                ...   \n",
       "2023-02-19 19:00:00          -0.841782          -0.282984          -0.959125   \n",
       "2023-02-19 20:00:00          -0.842942          -0.285734          -0.958309   \n",
       "2023-02-19 21:00:00          -0.844097          -0.288482          -0.957485   \n",
       "2023-02-19 22:00:00          -0.845249          -0.291228          -0.956654   \n",
       "2023-02-19 23:00:00          -0.846397          -0.293972          -0.955814   \n",
       "\n",
       "                     sin(5,freq=A-DEC)  cos(5,freq=A-DEC)  sin(6,freq=A-DEC)  \\\n",
       "datetime                                                                       \n",
       "2022-11-19 00:00:00           0.530730          -0.847541           0.963471   \n",
       "2022-11-19 01:00:00           0.527687          -0.849439           0.962309   \n",
       "2022-11-19 02:00:00           0.524637          -0.851326           0.961130   \n",
       "2022-11-19 03:00:00           0.521581          -0.853202           0.959933   \n",
       "2022-11-19 04:00:00           0.518518          -0.855067           0.958718   \n",
       "...                                ...                ...                ...   \n",
       "2023-02-19 19:00:00          -0.910308          -0.413932          -0.908818   \n",
       "2023-02-19 20:00:00          -0.911787          -0.410664          -0.907014   \n",
       "2023-02-19 21:00:00          -0.913253          -0.407392          -0.905193   \n",
       "2023-02-19 22:00:00          -0.914709          -0.404114          -0.903356   \n",
       "2023-02-19 23:00:00          -0.916152          -0.400831          -0.901502   \n",
       "\n",
       "                     cos(6,freq=A-DEC)  \n",
       "datetime                                \n",
       "2022-11-19 00:00:00          -0.267814  \n",
       "2022-11-19 01:00:00          -0.271958  \n",
       "2022-11-19 02:00:00          -0.276097  \n",
       "2022-11-19 03:00:00          -0.280231  \n",
       "2022-11-19 04:00:00          -0.284359  \n",
       "...                                ...  \n",
       "2023-02-19 19:00:00           0.417194  \n",
       "2023-02-19 20:00:00           0.421101  \n",
       "2023-02-19 21:00:00           0.425000  \n",
       "2023-02-19 22:00:00           0.428892  \n",
       "2023-02-19 23:00:00           0.432776  \n",
       "\n",
       "[1004856 rows x 231 columns]"
      ]
     },
     "execution_count": 23,
     "metadata": {},
     "output_type": "execute_result"
    }
   ],
   "source": [
    "test"
   ]
  },
  {
   "cell_type": "code",
   "execution_count": 24,
   "metadata": {},
   "outputs": [],
   "source": [
    "test = test.sort_index()"
   ]
  },
  {
   "cell_type": "markdown",
   "metadata": {},
   "source": [
    "### linear regression"
   ]
  },
  {
   "cell_type": "code",
   "execution_count": 31,
   "metadata": {},
   "outputs": [
    {
     "name": "stderr",
     "output_type": "stream",
     "text": [
      "/Users/matthiaskargl/opt/anaconda3/envs/predictenegycons/lib/python3.10/site-packages/sklearn/utils/validation.py:767: FutureWarning:\n",
      "\n",
      "is_sparse is deprecated and will be removed in a future version. Check `isinstance(dtype, pd.SparseDtype)` instead.\n",
      "\n",
      "/Users/matthiaskargl/opt/anaconda3/envs/predictenegycons/lib/python3.10/site-packages/sklearn/utils/validation.py:605: FutureWarning:\n",
      "\n",
      "is_sparse is deprecated and will be removed in a future version. Check `isinstance(dtype, pd.SparseDtype)` instead.\n",
      "\n",
      "/Users/matthiaskargl/opt/anaconda3/envs/predictenegycons/lib/python3.10/site-packages/sklearn/utils/validation.py:614: FutureWarning:\n",
      "\n",
      "is_sparse is deprecated and will be removed in a future version. Check `isinstance(dtype, pd.SparseDtype)` instead.\n",
      "\n",
      "/Users/matthiaskargl/opt/anaconda3/envs/predictenegycons/lib/python3.10/site-packages/sklearn/utils/validation.py:605: FutureWarning:\n",
      "\n",
      "is_sparse is deprecated and will be removed in a future version. Check `isinstance(dtype, pd.SparseDtype)` instead.\n",
      "\n",
      "/Users/matthiaskargl/opt/anaconda3/envs/predictenegycons/lib/python3.10/site-packages/sklearn/utils/validation.py:614: FutureWarning:\n",
      "\n",
      "is_sparse is deprecated and will be removed in a future version. Check `isinstance(dtype, pd.SparseDtype)` instead.\n",
      "\n"
     ]
    },
    {
     "data": {
      "text/html": [
       "<style>#sk-container-id-2 {color: black;background-color: white;}#sk-container-id-2 pre{padding: 0;}#sk-container-id-2 div.sk-toggleable {background-color: white;}#sk-container-id-2 label.sk-toggleable__label {cursor: pointer;display: block;width: 100%;margin-bottom: 0;padding: 0.3em;box-sizing: border-box;text-align: center;}#sk-container-id-2 label.sk-toggleable__label-arrow:before {content: \"▸\";float: left;margin-right: 0.25em;color: #696969;}#sk-container-id-2 label.sk-toggleable__label-arrow:hover:before {color: black;}#sk-container-id-2 div.sk-estimator:hover label.sk-toggleable__label-arrow:before {color: black;}#sk-container-id-2 div.sk-toggleable__content {max-height: 0;max-width: 0;overflow: hidden;text-align: left;background-color: #f0f8ff;}#sk-container-id-2 div.sk-toggleable__content pre {margin: 0.2em;color: black;border-radius: 0.25em;background-color: #f0f8ff;}#sk-container-id-2 input.sk-toggleable__control:checked~div.sk-toggleable__content {max-height: 200px;max-width: 100%;overflow: auto;}#sk-container-id-2 input.sk-toggleable__control:checked~label.sk-toggleable__label-arrow:before {content: \"▾\";}#sk-container-id-2 div.sk-estimator input.sk-toggleable__control:checked~label.sk-toggleable__label {background-color: #d4ebff;}#sk-container-id-2 div.sk-label input.sk-toggleable__control:checked~label.sk-toggleable__label {background-color: #d4ebff;}#sk-container-id-2 input.sk-hidden--visually {border: 0;clip: rect(1px 1px 1px 1px);clip: rect(1px, 1px, 1px, 1px);height: 1px;margin: -1px;overflow: hidden;padding: 0;position: absolute;width: 1px;}#sk-container-id-2 div.sk-estimator {font-family: monospace;background-color: #f0f8ff;border: 1px dotted black;border-radius: 0.25em;box-sizing: border-box;margin-bottom: 0.5em;}#sk-container-id-2 div.sk-estimator:hover {background-color: #d4ebff;}#sk-container-id-2 div.sk-parallel-item::after {content: \"\";width: 100%;border-bottom: 1px solid gray;flex-grow: 1;}#sk-container-id-2 div.sk-label:hover label.sk-toggleable__label {background-color: #d4ebff;}#sk-container-id-2 div.sk-serial::before {content: \"\";position: absolute;border-left: 1px solid gray;box-sizing: border-box;top: 0;bottom: 0;left: 50%;z-index: 0;}#sk-container-id-2 div.sk-serial {display: flex;flex-direction: column;align-items: center;background-color: white;padding-right: 0.2em;padding-left: 0.2em;position: relative;}#sk-container-id-2 div.sk-item {position: relative;z-index: 1;}#sk-container-id-2 div.sk-parallel {display: flex;align-items: stretch;justify-content: center;background-color: white;position: relative;}#sk-container-id-2 div.sk-item::before, #sk-container-id-2 div.sk-parallel-item::before {content: \"\";position: absolute;border-left: 1px solid gray;box-sizing: border-box;top: 0;bottom: 0;left: 50%;z-index: -1;}#sk-container-id-2 div.sk-parallel-item {display: flex;flex-direction: column;z-index: 1;position: relative;background-color: white;}#sk-container-id-2 div.sk-parallel-item:first-child::after {align-self: flex-end;width: 50%;}#sk-container-id-2 div.sk-parallel-item:last-child::after {align-self: flex-start;width: 50%;}#sk-container-id-2 div.sk-parallel-item:only-child::after {width: 0;}#sk-container-id-2 div.sk-dashed-wrapped {border: 1px dashed gray;margin: 0 0.4em 0.5em 0.4em;box-sizing: border-box;padding-bottom: 0.4em;background-color: white;}#sk-container-id-2 div.sk-label label {font-family: monospace;font-weight: bold;display: inline-block;line-height: 1.2em;}#sk-container-id-2 div.sk-label-container {text-align: center;}#sk-container-id-2 div.sk-container {/* jupyter's `normalize.less` sets `[hidden] { display: none; }` but bootstrap.min.css set `[hidden] { display: none !important; }` so we also need the `!important` here to be able to override the default hidden behavior on the sphinx rendered scikit-learn.org. See: https://github.com/scikit-learn/scikit-learn/issues/21755 */display: inline-block !important;position: relative;}#sk-container-id-2 div.sk-text-repr-fallback {display: none;}</style><div id=\"sk-container-id-2\" class=\"sk-top-container\"><div class=\"sk-text-repr-fallback\"><pre>LinearRegression()</pre><b>In a Jupyter environment, please rerun this cell to show the HTML representation or trust the notebook. <br />On GitHub, the HTML representation is unable to render, please try loading this page with nbviewer.org.</b></div><div class=\"sk-container\" hidden><div class=\"sk-item\"><div class=\"sk-estimator sk-toggleable\"><input class=\"sk-toggleable__control sk-hidden--visually\" id=\"sk-estimator-id-2\" type=\"checkbox\" checked><label for=\"sk-estimator-id-2\" class=\"sk-toggleable__label sk-toggleable__label-arrow\">LinearRegression</label><div class=\"sk-toggleable__content\"><pre>LinearRegression()</pre></div></div></div></div></div>"
      ],
      "text/plain": [
       "LinearRegression()"
      ]
     },
     "execution_count": 31,
     "metadata": {},
     "output_type": "execute_result"
    }
   ],
   "source": [
    "from sklearn.model_selection import train_test_split\n",
    "from sklearn.linear_model import LinearRegression\n",
    "from sklearn.metrics import mean_absolute_error\n",
    "\n",
    "X_train = test[selected_columns]\n",
    "y_train = test['target_prod']\n",
    "\n",
    "X_train, X_test, y_train, y_test = train_test_split(X_train, y_train, test_size=0.5)\n",
    "\n",
    "# Create a linear regression model\n",
    "model = LinearRegression()\n",
    "\n",
    "# Fit the model to the training data\n",
    "model.fit(X_train, y_train)"
   ]
  },
  {
   "cell_type": "code",
   "execution_count": 32,
   "metadata": {},
   "outputs": [
    {
     "name": "stderr",
     "output_type": "stream",
     "text": [
      "/Users/matthiaskargl/opt/anaconda3/envs/predictenegycons/lib/python3.10/site-packages/sklearn/utils/validation.py:767: FutureWarning:\n",
      "\n",
      "is_sparse is deprecated and will be removed in a future version. Check `isinstance(dtype, pd.SparseDtype)` instead.\n",
      "\n",
      "/Users/matthiaskargl/opt/anaconda3/envs/predictenegycons/lib/python3.10/site-packages/sklearn/utils/validation.py:605: FutureWarning:\n",
      "\n",
      "is_sparse is deprecated and will be removed in a future version. Check `isinstance(dtype, pd.SparseDtype)` instead.\n",
      "\n",
      "/Users/matthiaskargl/opt/anaconda3/envs/predictenegycons/lib/python3.10/site-packages/sklearn/utils/validation.py:614: FutureWarning:\n",
      "\n",
      "is_sparse is deprecated and will be removed in a future version. Check `isinstance(dtype, pd.SparseDtype)` instead.\n",
      "\n",
      "/Users/matthiaskargl/opt/anaconda3/envs/predictenegycons/lib/python3.10/site-packages/sklearn/utils/validation.py:605: FutureWarning:\n",
      "\n",
      "is_sparse is deprecated and will be removed in a future version. Check `isinstance(dtype, pd.SparseDtype)` instead.\n",
      "\n",
      "/Users/matthiaskargl/opt/anaconda3/envs/predictenegycons/lib/python3.10/site-packages/sklearn/utils/validation.py:614: FutureWarning:\n",
      "\n",
      "is_sparse is deprecated and will be removed in a future version. Check `isinstance(dtype, pd.SparseDtype)` instead.\n",
      "\n",
      "/Users/matthiaskargl/opt/anaconda3/envs/predictenegycons/lib/python3.10/site-packages/sklearn/utils/validation.py:767: FutureWarning:\n",
      "\n",
      "is_sparse is deprecated and will be removed in a future version. Check `isinstance(dtype, pd.SparseDtype)` instead.\n",
      "\n",
      "/Users/matthiaskargl/opt/anaconda3/envs/predictenegycons/lib/python3.10/site-packages/sklearn/utils/validation.py:605: FutureWarning:\n",
      "\n",
      "is_sparse is deprecated and will be removed in a future version. Check `isinstance(dtype, pd.SparseDtype)` instead.\n",
      "\n",
      "/Users/matthiaskargl/opt/anaconda3/envs/predictenegycons/lib/python3.10/site-packages/sklearn/utils/validation.py:614: FutureWarning:\n",
      "\n",
      "is_sparse is deprecated and will be removed in a future version. Check `isinstance(dtype, pd.SparseDtype)` instead.\n",
      "\n"
     ]
    },
    {
     "name": "stdout",
     "output_type": "stream",
     "text": [
      "Mean Absolute Error train: 142.28029631458858\n",
      "Mean Absolute Error test: 143.08978501798975\n"
     ]
    },
    {
     "name": "stderr",
     "output_type": "stream",
     "text": [
      "/Users/matthiaskargl/opt/anaconda3/envs/predictenegycons/lib/python3.10/site-packages/sklearn/utils/validation.py:605: FutureWarning:\n",
      "\n",
      "is_sparse is deprecated and will be removed in a future version. Check `isinstance(dtype, pd.SparseDtype)` instead.\n",
      "\n",
      "/Users/matthiaskargl/opt/anaconda3/envs/predictenegycons/lib/python3.10/site-packages/sklearn/utils/validation.py:614: FutureWarning:\n",
      "\n",
      "is_sparse is deprecated and will be removed in a future version. Check `isinstance(dtype, pd.SparseDtype)` instead.\n",
      "\n"
     ]
    }
   ],
   "source": [
    "# Make predictions on the test set\n",
    "y_pred = model.predict(X_train)\n",
    "\n",
    "# Calculate mean absolute error\n",
    "mae = mean_absolute_error(y_train, y_pred)\n",
    "\n",
    "# Print the mean absolute error\n",
    "print(f'Mean Absolute Error train: {mae}')\n",
    "\n",
    "# Make predictions on the test set\n",
    "y_pred = model.predict(X_test)\n",
    "\n",
    "# Calculate mean absolute error\n",
    "mae = mean_absolute_error(y_test, y_pred)\n",
    "\n",
    "# Print the mean absolute error\n",
    "print(f'Mean Absolute Error test: {mae}')"
   ]
  },
  {
   "cell_type": "markdown",
   "metadata": {},
   "source": [
    "### simple nn"
   ]
  },
  {
   "cell_type": "code",
   "execution_count": 34,
   "metadata": {},
   "outputs": [
    {
     "data": {
      "text/plain": [
       "Index(['county', 'is_business', 'product_type', 'target_prod', 'data_block_id',\n",
       "       'row_id_prod', 'prediction_unit_id', 'target_cons', 'row_id_cons',\n",
       "       'eic_count', 'installed_capacity', 'date', 'yearday', 'weekday',\n",
       "       'month', 'monthday', 'year', 'hour', 'business_prodType', 'holiday',\n",
       "       'no_workday', 'euros_per_mwh', 'lowest_price_per_mwh',\n",
       "       'highest_price_per_mwh', 'latitude', 'longitude', 'forecast_datetime',\n",
       "       'hours_ahead', 'origin_datetime', 'temperatureint', 'dewpointint',\n",
       "       'cloudcover_highint', 'cloudcover_lowint', 'cloudcover_midint',\n",
       "       'cloudcover_totalint', '10_metre_u_wind_componentint',\n",
       "       '10_metre_v_wind_componentint', 'direct_solar_radiationint',\n",
       "       'surface_solar_radiation_downwardsint', 'snowfallint',\n",
       "       'total_precipitationint', 'latitude_hist', 'longitude_hist',\n",
       "       'datetime_hist', 'temperatureint_hist', 'dewpointint_hist', 'rainint',\n",
       "       'snowfallint_hist', 'surface_pressureint', 'cloudcover_totalint_hist',\n",
       "       'cloudcover_lowint_hist', 'cloudcover_midint_hist',\n",
       "       'cloudcover_highint_hist', 'windspeed_10mint', 'winddirection_10mint',\n",
       "       'shortwave_radiationint', 'direct_solar_radiationint_hist',\n",
       "       'diffuse_radiationint', 'meltingInCM', 'snowHeightFlux', 'snowcover',\n",
       "       'hour_original'],\n",
       "      dtype='object')"
      ]
     },
     "execution_count": 34,
     "metadata": {},
     "output_type": "execute_result"
    }
   ],
   "source": [
    "mergedData.columns"
   ]
  },
  {
   "cell_type": "code",
   "execution_count": 56,
   "metadata": {},
   "outputs": [],
   "source": [
    "testF2 = ['county', 'is_business', 'product_type',\n",
    "        'prediction_unit_id', \n",
    "       'eic_count', 'installed_capacity', 'yearday', 'weekday',\n",
    "       'month', 'monthday', 'year', 'hour', 'business_prodType', 'holiday',\n",
    "       'no_workday', 'euros_per_mwh', 'lowest_price_per_mwh',\n",
    "       'highest_price_per_mwh',\n",
    "       #'latitude', 'longitude', 'forecast_datetime',\n",
    "       #'hours_ahead', 'origin_datetime', \n",
    "       'temperatureint', 'dewpointint',\n",
    "       'cloudcover_highint', 'cloudcover_lowint', 'cloudcover_midint',\n",
    "       'cloudcover_totalint', \n",
    "       #'10_metre_u_wind_componentint','10_metre_v_wind_componentint', \n",
    "       'direct_solar_radiationint',\n",
    "       'surface_solar_radiation_downwardsint', 'snowfallint',\n",
    "       'total_precipitationint', \n",
    "       #'latitude_hist', 'longitude_hist',\n",
    "       #'datetime_hist', 'temperatureint_hist', 'dewpointint_hist', 'rainint',\n",
    "       #'snowfallint_hist', 'surface_pressureint', 'cloudcover_totalint_hist',\n",
    "       #'cloudcover_lowint_hist', 'cloudcover_midint_hist',\n",
    "       #'cloudcover_highint_hist', 'windspeed_10mint', 'winddirection_10mint',\n",
    "       #'shortwave_radiationint', 'direct_solar_radiationint_hist',\n",
    "       #'diffuse_radiationint', 'meltingInCM', 'snowHeightFlux', \n",
    "       'snowcover',\n",
    "       #'hour_original'\n",
    "       'target_prod'\n",
    "]\n",
    "\n",
    "selected_columns2 = testF2+ test.filter(regex='^(cos|sin)').columns.to_list()"
   ]
  },
  {
   "cell_type": "code",
   "execution_count": 57,
   "metadata": {},
   "outputs": [],
   "source": [
    "splitIdx = int(test.shape[0]/24 * 0.6)*24\n",
    "train1 = test.iloc[0:splitIdx,:]\n",
    "test1 = test.iloc[splitIdx:-1,:]\n",
    "\n",
    "train1 = test.loc[test.forecast_datetime < '2022-09-23 00:00:00+00:00']\n",
    "test1 = test.loc[test.forecast_datetime >= '2022-09-23 00:00:00+00:00']"
   ]
  },
  {
   "cell_type": "code",
   "execution_count": 58,
   "metadata": {},
   "outputs": [],
   "source": [
    "X_train = train1[selected_columns2].to_numpy().reshape(-1,24,len(selected_columns2))\n",
    "y_train = train1['target_cons'].to_numpy().reshape(-1,24,1)\n",
    "X_test = test1[selected_columns2].to_numpy().reshape(-1,24,len(selected_columns2))\n",
    "y_test = test1['target_cons'].to_numpy().reshape(-1,24,1)\n",
    "\n",
    "#X_train, X_test, y_train, y_test = train_test_split(X_train, y_train, test_size=0.5)\n",
    "X_train = X_train.astype(float)\n",
    "X_test = X_test.astype(float)"
   ]
  },
  {
   "cell_type": "code",
   "execution_count": 59,
   "metadata": {},
   "outputs": [
    {
     "name": "stdout",
     "output_type": "stream",
     "text": [
      "(None, 24, 197)\n",
      "(None, 24, 197)\n",
      "(None, 24, 197)\n",
      "(None, 24, 24)\n",
      "(None, 24, 12)\n",
      "Epoch 1/30\n",
      "502/502 [==============================] - 8s 15ms/step - loss: 232.6999 - val_loss: 654.4349\n",
      "Epoch 2/30\n",
      "502/502 [==============================] - 7s 13ms/step - loss: 163.8698 - val_loss: 205.1142\n",
      "Epoch 3/30\n",
      "502/502 [==============================] - 7s 13ms/step - loss: 97.2843 - val_loss: 151.6096\n",
      "Epoch 4/30\n",
      "502/502 [==============================] - 7s 13ms/step - loss: 80.0592 - val_loss: 157.9990\n",
      "Epoch 5/30\n",
      "502/502 [==============================] - 7s 14ms/step - loss: 71.5821 - val_loss: 127.1159\n",
      "Epoch 6/30\n",
      "502/502 [==============================] - 7s 14ms/step - loss: 66.2624 - val_loss: 143.5874\n",
      "Epoch 7/30\n",
      "502/502 [==============================] - 7s 14ms/step - loss: 61.4332 - val_loss: 141.0230\n",
      "Epoch 8/30\n",
      "502/502 [==============================] - 7s 14ms/step - loss: 58.0959 - val_loss: 117.1294\n",
      "Epoch 9/30\n",
      "502/502 [==============================] - 7s 14ms/step - loss: 55.4327 - val_loss: 131.6976\n",
      "Epoch 10/30\n",
      "502/502 [==============================] - 7s 14ms/step - loss: 53.0745 - val_loss: 133.6762\n",
      "Epoch 11/30\n",
      "502/502 [==============================] - 7s 14ms/step - loss: 51.0758 - val_loss: 133.5530\n",
      "Epoch 12/30\n",
      "502/502 [==============================] - 7s 15ms/step - loss: 47.3183 - val_loss: 132.2765\n",
      "Epoch 13/30\n",
      "502/502 [==============================] - 7s 15ms/step - loss: 45.9190 - val_loss: 127.3954\n",
      "Epoch 14/30\n",
      "502/502 [==============================] - 7s 15ms/step - loss: 43.5769 - val_loss: 129.8939\n",
      "Epoch 15/30\n",
      "502/502 [==============================] - 8s 15ms/step - loss: 43.4359 - val_loss: 138.0022\n",
      "Epoch 16/30\n",
      "502/502 [==============================] - 8s 15ms/step - loss: 41.8055 - val_loss: 134.7175\n",
      "Epoch 17/30\n",
      "502/502 [==============================] - 8s 15ms/step - loss: 41.5458 - val_loss: 147.5524\n",
      "Epoch 18/30\n",
      "502/502 [==============================] - 8s 15ms/step - loss: 39.8411 - val_loss: 137.1187\n",
      "Epoch 19/30\n",
      "502/502 [==============================] - 8s 15ms/step - loss: 39.1998 - val_loss: 136.4441\n",
      "Epoch 20/30\n",
      "502/502 [==============================] - 8s 16ms/step - loss: 38.2512 - val_loss: 137.2315\n",
      "Epoch 21/30\n",
      "502/502 [==============================] - 8s 15ms/step - loss: 37.1423 - val_loss: 153.6334\n",
      "Epoch 22/30\n",
      "502/502 [==============================] - 8s 16ms/step - loss: 36.7449 - val_loss: 138.3082\n",
      "Epoch 23/30\n",
      "502/502 [==============================] - 8s 15ms/step - loss: 36.0642 - val_loss: 141.9905\n",
      "Epoch 24/30\n",
      "502/502 [==============================] - 8s 15ms/step - loss: 36.2090 - val_loss: 146.8763\n",
      "Epoch 25/30\n",
      "502/502 [==============================] - 8s 15ms/step - loss: 34.8578 - val_loss: 143.3303\n",
      "Epoch 26/30\n",
      "502/502 [==============================] - 8s 15ms/step - loss: 34.6476 - val_loss: 143.0455\n",
      "Epoch 27/30\n",
      "502/502 [==============================] - 8s 15ms/step - loss: 34.3978 - val_loss: 147.2213\n",
      "Epoch 28/30\n",
      "502/502 [==============================] - 8s 15ms/step - loss: 33.5234 - val_loss: 147.2482\n",
      "Epoch 29/30\n",
      "502/502 [==============================] - 8s 15ms/step - loss: 33.4315 - val_loss: 147.5942\n",
      "Epoch 30/30\n",
      "502/502 [==============================] - 8s 15ms/step - loss: 32.7534 - val_loss: 145.3130\n"
     ]
    }
   ],
   "source": [
    "weatherPred_inputs2 = tf.keras.Input(shape=(24,X_train.shape[2]), name='weatherPred_inputs2')\n",
    "\n",
    "x = BatchNormalization()(weatherPred_inputs2)\n",
    "#x = layers.Flatten()(x)\n",
    "#x  = layers.Dense(int(x.shape[1]), activation='relu')(x)\n",
    "for i in range(0,3):\n",
    "    #x  = layers.Dense(int(x.shape[1]), activation='relu')(x)\n",
    "    x  = layers.Dense(int(197), activation='relu')(x)\n",
    "    print(x.shape)\n",
    "\n",
    "for i in range(0,2):\n",
    "    x  = layers.Dense(int(x.shape[1]/(i+1)), activation='relu')(x)\n",
    "    print(x.shape)\n",
    "\n",
    "\n",
    "    #x = layers.Dropout(0.1)(x)\n",
    "output_layer2 = layers.Dense(24, activation='relu')(x)\n",
    "\n",
    "model3 = tf.keras.Model(inputs=weatherPred_inputs2, outputs=output_layer2)\n",
    "\n",
    "\n",
    "model3.compile(optimizer='adam', loss='mae')#, metrics=custom_metric)#absolute_loss, metrics=['mae'])\n",
    "# 0 = cons, 1 = prod\n",
    "history3 = model3.fit(X_train, y_train, validation_data=(X_test, y_test), epochs=30, batch_size=50)"
   ]
  },
  {
   "cell_type": "code",
   "execution_count": 35,
   "metadata": {},
   "outputs": [
    {
     "name": "stdout",
     "output_type": "stream",
     "text": [
      "Epoch 1/10\n",
      "502/502 [==============================] - 10s 20ms/step - loss: 29.2443 - val_loss: 38.9305\n",
      "Epoch 2/10\n",
      "502/502 [==============================] - 10s 21ms/step - loss: 26.0293 - val_loss: 38.8481\n",
      "Epoch 3/10\n",
      "502/502 [==============================] - 11s 22ms/step - loss: 25.3035 - val_loss: 37.2801\n",
      "Epoch 4/10\n",
      "502/502 [==============================] - 10s 20ms/step - loss: 23.6719 - val_loss: 38.9347\n",
      "Epoch 5/10\n",
      "502/502 [==============================] - 10s 20ms/step - loss: 23.5356 - val_loss: 41.9781\n",
      "Epoch 6/10\n",
      "502/502 [==============================] - 10s 20ms/step - loss: 22.7251 - val_loss: 39.7196\n",
      "Epoch 7/10\n",
      "502/502 [==============================] - 10s 20ms/step - loss: 22.2906 - val_loss: 40.6260\n",
      "Epoch 8/10\n",
      "502/502 [==============================] - 10s 20ms/step - loss: 22.1403 - val_loss: 40.3507\n",
      "Epoch 9/10\n",
      "502/502 [==============================] - 10s 20ms/step - loss: 21.6263 - val_loss: 38.6550\n",
      "Epoch 10/10\n",
      "502/502 [==============================] - 11s 21ms/step - loss: 20.7014 - val_loss: 38.4026\n"
     ]
    }
   ],
   "source": [
    "history3 = model3.fit(X_train, y_train, validation_data=(X_test, y_test), epochs=10, batch_size=50)"
   ]
  },
  {
   "cell_type": "code",
   "execution_count": 60,
   "metadata": {},
   "outputs": [
    {
     "data": {
      "application/vnd.plotly.v1+json": {
       "config": {
        "plotlyServerURL": "https://plot.ly"
       },
       "data": [
        {
         "mode": "lines",
         "name": "Train Loss",
         "type": "scatter",
         "x": [
          1,
          2,
          3,
          4,
          5,
          6,
          7,
          8,
          9,
          10,
          11,
          12,
          13,
          14,
          15,
          16,
          17,
          18,
          19,
          20,
          21,
          22,
          23,
          24,
          25,
          26,
          27,
          28,
          29,
          30
         ],
         "y": [
          232.69993591308594,
          163.86976623535156,
          97.28433990478516,
          80.05919647216797,
          71.58212280273438,
          66.26239013671875,
          61.43319320678711,
          58.095890045166016,
          55.43266677856445,
          53.074462890625,
          51.075843811035156,
          47.31832504272461,
          45.91902160644531,
          43.576927185058594,
          43.43589401245117,
          41.805503845214844,
          41.54576110839844,
          39.84114456176758,
          39.19975280761719,
          38.251197814941406,
          37.1423454284668,
          36.74490737915039,
          36.064239501953125,
          36.20903778076172,
          34.857826232910156,
          34.6475944519043,
          34.397789001464844,
          33.52335739135742,
          33.431541442871094,
          32.7534065246582
         ]
        },
        {
         "mode": "lines",
         "name": "Validation Loss",
         "type": "scatter",
         "x": [
          1,
          2,
          3,
          4,
          5,
          6,
          7,
          8,
          9,
          10,
          11,
          12,
          13,
          14,
          15,
          16,
          17,
          18,
          19,
          20,
          21,
          22,
          23,
          24,
          25,
          26,
          27,
          28,
          29,
          30
         ],
         "y": [
          654.4349365234375,
          205.11419677734375,
          151.60958862304688,
          157.99903869628906,
          127.11589813232422,
          143.58743286132812,
          141.02296447753906,
          117.12944030761719,
          131.69761657714844,
          133.67617797851562,
          133.552978515625,
          132.2765350341797,
          127.39537048339844,
          129.8939208984375,
          138.00222778320312,
          134.71749877929688,
          147.55239868164062,
          137.11866760253906,
          136.44406127929688,
          137.2315216064453,
          153.63340759277344,
          138.30821228027344,
          141.99049377441406,
          146.8762969970703,
          143.33030700683594,
          143.04547119140625,
          147.22129821777344,
          147.24822998046875,
          147.59417724609375,
          145.31301879882812
         ]
        }
       ],
       "layout": {
        "legend": {
         "traceorder": "normal",
         "x": 0,
         "y": 1
        },
        "template": {
         "data": {
          "bar": [
           {
            "error_x": {
             "color": "#2a3f5f"
            },
            "error_y": {
             "color": "#2a3f5f"
            },
            "marker": {
             "line": {
              "color": "#E5ECF6",
              "width": 0.5
             },
             "pattern": {
              "fillmode": "overlay",
              "size": 10,
              "solidity": 0.2
             }
            },
            "type": "bar"
           }
          ],
          "barpolar": [
           {
            "marker": {
             "line": {
              "color": "#E5ECF6",
              "width": 0.5
             },
             "pattern": {
              "fillmode": "overlay",
              "size": 10,
              "solidity": 0.2
             }
            },
            "type": "barpolar"
           }
          ],
          "carpet": [
           {
            "aaxis": {
             "endlinecolor": "#2a3f5f",
             "gridcolor": "white",
             "linecolor": "white",
             "minorgridcolor": "white",
             "startlinecolor": "#2a3f5f"
            },
            "baxis": {
             "endlinecolor": "#2a3f5f",
             "gridcolor": "white",
             "linecolor": "white",
             "minorgridcolor": "white",
             "startlinecolor": "#2a3f5f"
            },
            "type": "carpet"
           }
          ],
          "choropleth": [
           {
            "colorbar": {
             "outlinewidth": 0,
             "ticks": ""
            },
            "type": "choropleth"
           }
          ],
          "contour": [
           {
            "colorbar": {
             "outlinewidth": 0,
             "ticks": ""
            },
            "colorscale": [
             [
              0,
              "#0d0887"
             ],
             [
              0.1111111111111111,
              "#46039f"
             ],
             [
              0.2222222222222222,
              "#7201a8"
             ],
             [
              0.3333333333333333,
              "#9c179e"
             ],
             [
              0.4444444444444444,
              "#bd3786"
             ],
             [
              0.5555555555555556,
              "#d8576b"
             ],
             [
              0.6666666666666666,
              "#ed7953"
             ],
             [
              0.7777777777777778,
              "#fb9f3a"
             ],
             [
              0.8888888888888888,
              "#fdca26"
             ],
             [
              1,
              "#f0f921"
             ]
            ],
            "type": "contour"
           }
          ],
          "contourcarpet": [
           {
            "colorbar": {
             "outlinewidth": 0,
             "ticks": ""
            },
            "type": "contourcarpet"
           }
          ],
          "heatmap": [
           {
            "colorbar": {
             "outlinewidth": 0,
             "ticks": ""
            },
            "colorscale": [
             [
              0,
              "#0d0887"
             ],
             [
              0.1111111111111111,
              "#46039f"
             ],
             [
              0.2222222222222222,
              "#7201a8"
             ],
             [
              0.3333333333333333,
              "#9c179e"
             ],
             [
              0.4444444444444444,
              "#bd3786"
             ],
             [
              0.5555555555555556,
              "#d8576b"
             ],
             [
              0.6666666666666666,
              "#ed7953"
             ],
             [
              0.7777777777777778,
              "#fb9f3a"
             ],
             [
              0.8888888888888888,
              "#fdca26"
             ],
             [
              1,
              "#f0f921"
             ]
            ],
            "type": "heatmap"
           }
          ],
          "heatmapgl": [
           {
            "colorbar": {
             "outlinewidth": 0,
             "ticks": ""
            },
            "colorscale": [
             [
              0,
              "#0d0887"
             ],
             [
              0.1111111111111111,
              "#46039f"
             ],
             [
              0.2222222222222222,
              "#7201a8"
             ],
             [
              0.3333333333333333,
              "#9c179e"
             ],
             [
              0.4444444444444444,
              "#bd3786"
             ],
             [
              0.5555555555555556,
              "#d8576b"
             ],
             [
              0.6666666666666666,
              "#ed7953"
             ],
             [
              0.7777777777777778,
              "#fb9f3a"
             ],
             [
              0.8888888888888888,
              "#fdca26"
             ],
             [
              1,
              "#f0f921"
             ]
            ],
            "type": "heatmapgl"
           }
          ],
          "histogram": [
           {
            "marker": {
             "pattern": {
              "fillmode": "overlay",
              "size": 10,
              "solidity": 0.2
             }
            },
            "type": "histogram"
           }
          ],
          "histogram2d": [
           {
            "colorbar": {
             "outlinewidth": 0,
             "ticks": ""
            },
            "colorscale": [
             [
              0,
              "#0d0887"
             ],
             [
              0.1111111111111111,
              "#46039f"
             ],
             [
              0.2222222222222222,
              "#7201a8"
             ],
             [
              0.3333333333333333,
              "#9c179e"
             ],
             [
              0.4444444444444444,
              "#bd3786"
             ],
             [
              0.5555555555555556,
              "#d8576b"
             ],
             [
              0.6666666666666666,
              "#ed7953"
             ],
             [
              0.7777777777777778,
              "#fb9f3a"
             ],
             [
              0.8888888888888888,
              "#fdca26"
             ],
             [
              1,
              "#f0f921"
             ]
            ],
            "type": "histogram2d"
           }
          ],
          "histogram2dcontour": [
           {
            "colorbar": {
             "outlinewidth": 0,
             "ticks": ""
            },
            "colorscale": [
             [
              0,
              "#0d0887"
             ],
             [
              0.1111111111111111,
              "#46039f"
             ],
             [
              0.2222222222222222,
              "#7201a8"
             ],
             [
              0.3333333333333333,
              "#9c179e"
             ],
             [
              0.4444444444444444,
              "#bd3786"
             ],
             [
              0.5555555555555556,
              "#d8576b"
             ],
             [
              0.6666666666666666,
              "#ed7953"
             ],
             [
              0.7777777777777778,
              "#fb9f3a"
             ],
             [
              0.8888888888888888,
              "#fdca26"
             ],
             [
              1,
              "#f0f921"
             ]
            ],
            "type": "histogram2dcontour"
           }
          ],
          "mesh3d": [
           {
            "colorbar": {
             "outlinewidth": 0,
             "ticks": ""
            },
            "type": "mesh3d"
           }
          ],
          "parcoords": [
           {
            "line": {
             "colorbar": {
              "outlinewidth": 0,
              "ticks": ""
             }
            },
            "type": "parcoords"
           }
          ],
          "pie": [
           {
            "automargin": true,
            "type": "pie"
           }
          ],
          "scatter": [
           {
            "fillpattern": {
             "fillmode": "overlay",
             "size": 10,
             "solidity": 0.2
            },
            "type": "scatter"
           }
          ],
          "scatter3d": [
           {
            "line": {
             "colorbar": {
              "outlinewidth": 0,
              "ticks": ""
             }
            },
            "marker": {
             "colorbar": {
              "outlinewidth": 0,
              "ticks": ""
             }
            },
            "type": "scatter3d"
           }
          ],
          "scattercarpet": [
           {
            "marker": {
             "colorbar": {
              "outlinewidth": 0,
              "ticks": ""
             }
            },
            "type": "scattercarpet"
           }
          ],
          "scattergeo": [
           {
            "marker": {
             "colorbar": {
              "outlinewidth": 0,
              "ticks": ""
             }
            },
            "type": "scattergeo"
           }
          ],
          "scattergl": [
           {
            "marker": {
             "colorbar": {
              "outlinewidth": 0,
              "ticks": ""
             }
            },
            "type": "scattergl"
           }
          ],
          "scattermapbox": [
           {
            "marker": {
             "colorbar": {
              "outlinewidth": 0,
              "ticks": ""
             }
            },
            "type": "scattermapbox"
           }
          ],
          "scatterpolar": [
           {
            "marker": {
             "colorbar": {
              "outlinewidth": 0,
              "ticks": ""
             }
            },
            "type": "scatterpolar"
           }
          ],
          "scatterpolargl": [
           {
            "marker": {
             "colorbar": {
              "outlinewidth": 0,
              "ticks": ""
             }
            },
            "type": "scatterpolargl"
           }
          ],
          "scatterternary": [
           {
            "marker": {
             "colorbar": {
              "outlinewidth": 0,
              "ticks": ""
             }
            },
            "type": "scatterternary"
           }
          ],
          "surface": [
           {
            "colorbar": {
             "outlinewidth": 0,
             "ticks": ""
            },
            "colorscale": [
             [
              0,
              "#0d0887"
             ],
             [
              0.1111111111111111,
              "#46039f"
             ],
             [
              0.2222222222222222,
              "#7201a8"
             ],
             [
              0.3333333333333333,
              "#9c179e"
             ],
             [
              0.4444444444444444,
              "#bd3786"
             ],
             [
              0.5555555555555556,
              "#d8576b"
             ],
             [
              0.6666666666666666,
              "#ed7953"
             ],
             [
              0.7777777777777778,
              "#fb9f3a"
             ],
             [
              0.8888888888888888,
              "#fdca26"
             ],
             [
              1,
              "#f0f921"
             ]
            ],
            "type": "surface"
           }
          ],
          "table": [
           {
            "cells": {
             "fill": {
              "color": "#EBF0F8"
             },
             "line": {
              "color": "white"
             }
            },
            "header": {
             "fill": {
              "color": "#C8D4E3"
             },
             "line": {
              "color": "white"
             }
            },
            "type": "table"
           }
          ]
         },
         "layout": {
          "annotationdefaults": {
           "arrowcolor": "#2a3f5f",
           "arrowhead": 0,
           "arrowwidth": 1
          },
          "autotypenumbers": "strict",
          "coloraxis": {
           "colorbar": {
            "outlinewidth": 0,
            "ticks": ""
           }
          },
          "colorscale": {
           "diverging": [
            [
             0,
             "#8e0152"
            ],
            [
             0.1,
             "#c51b7d"
            ],
            [
             0.2,
             "#de77ae"
            ],
            [
             0.3,
             "#f1b6da"
            ],
            [
             0.4,
             "#fde0ef"
            ],
            [
             0.5,
             "#f7f7f7"
            ],
            [
             0.6,
             "#e6f5d0"
            ],
            [
             0.7,
             "#b8e186"
            ],
            [
             0.8,
             "#7fbc41"
            ],
            [
             0.9,
             "#4d9221"
            ],
            [
             1,
             "#276419"
            ]
           ],
           "sequential": [
            [
             0,
             "#0d0887"
            ],
            [
             0.1111111111111111,
             "#46039f"
            ],
            [
             0.2222222222222222,
             "#7201a8"
            ],
            [
             0.3333333333333333,
             "#9c179e"
            ],
            [
             0.4444444444444444,
             "#bd3786"
            ],
            [
             0.5555555555555556,
             "#d8576b"
            ],
            [
             0.6666666666666666,
             "#ed7953"
            ],
            [
             0.7777777777777778,
             "#fb9f3a"
            ],
            [
             0.8888888888888888,
             "#fdca26"
            ],
            [
             1,
             "#f0f921"
            ]
           ],
           "sequentialminus": [
            [
             0,
             "#0d0887"
            ],
            [
             0.1111111111111111,
             "#46039f"
            ],
            [
             0.2222222222222222,
             "#7201a8"
            ],
            [
             0.3333333333333333,
             "#9c179e"
            ],
            [
             0.4444444444444444,
             "#bd3786"
            ],
            [
             0.5555555555555556,
             "#d8576b"
            ],
            [
             0.6666666666666666,
             "#ed7953"
            ],
            [
             0.7777777777777778,
             "#fb9f3a"
            ],
            [
             0.8888888888888888,
             "#fdca26"
            ],
            [
             1,
             "#f0f921"
            ]
           ]
          },
          "colorway": [
           "#636efa",
           "#EF553B",
           "#00cc96",
           "#ab63fa",
           "#FFA15A",
           "#19d3f3",
           "#FF6692",
           "#B6E880",
           "#FF97FF",
           "#FECB52"
          ],
          "font": {
           "color": "#2a3f5f"
          },
          "geo": {
           "bgcolor": "white",
           "lakecolor": "white",
           "landcolor": "#E5ECF6",
           "showlakes": true,
           "showland": true,
           "subunitcolor": "white"
          },
          "hoverlabel": {
           "align": "left"
          },
          "hovermode": "closest",
          "mapbox": {
           "style": "light"
          },
          "paper_bgcolor": "white",
          "plot_bgcolor": "#E5ECF6",
          "polar": {
           "angularaxis": {
            "gridcolor": "white",
            "linecolor": "white",
            "ticks": ""
           },
           "bgcolor": "#E5ECF6",
           "radialaxis": {
            "gridcolor": "white",
            "linecolor": "white",
            "ticks": ""
           }
          },
          "scene": {
           "xaxis": {
            "backgroundcolor": "#E5ECF6",
            "gridcolor": "white",
            "gridwidth": 2,
            "linecolor": "white",
            "showbackground": true,
            "ticks": "",
            "zerolinecolor": "white"
           },
           "yaxis": {
            "backgroundcolor": "#E5ECF6",
            "gridcolor": "white",
            "gridwidth": 2,
            "linecolor": "white",
            "showbackground": true,
            "ticks": "",
            "zerolinecolor": "white"
           },
           "zaxis": {
            "backgroundcolor": "#E5ECF6",
            "gridcolor": "white",
            "gridwidth": 2,
            "linecolor": "white",
            "showbackground": true,
            "ticks": "",
            "zerolinecolor": "white"
           }
          },
          "shapedefaults": {
           "line": {
            "color": "#2a3f5f"
           }
          },
          "ternary": {
           "aaxis": {
            "gridcolor": "white",
            "linecolor": "white",
            "ticks": ""
           },
           "baxis": {
            "gridcolor": "white",
            "linecolor": "white",
            "ticks": ""
           },
           "bgcolor": "#E5ECF6",
           "caxis": {
            "gridcolor": "white",
            "linecolor": "white",
            "ticks": ""
           }
          },
          "title": {
           "x": 0.05
          },
          "xaxis": {
           "automargin": true,
           "gridcolor": "white",
           "linecolor": "white",
           "ticks": "",
           "title": {
            "standoff": 15
           },
           "zerolinecolor": "white",
           "zerolinewidth": 2
          },
          "yaxis": {
           "automargin": true,
           "gridcolor": "white",
           "linecolor": "white",
           "ticks": "",
           "title": {
            "standoff": 15
           },
           "zerolinecolor": "white",
           "zerolinewidth": 2
          }
         }
        },
        "title": {
         "text": "Training and Validation Loss Over Epochs"
        },
        "xaxis": {
         "title": {
          "text": "Epoch"
         }
        },
        "yaxis": {
         "title": {
          "text": "Loss"
         }
        }
       }
      }
     },
     "metadata": {},
     "output_type": "display_data"
    }
   ],
   "source": [
    "fig = go.Figure()\n",
    "length = len(history3.history['loss'])\n",
    "fig.add_trace(go.Scatter(x=np.arange(1, length+1), y=history3.history['loss'], mode='lines', name='Train Loss'))\n",
    "fig.add_trace(go.Scatter(x=np.arange(1, length+1), y=history3.history['val_loss'], mode='lines', name='Validation Loss'))\n",
    "fig.update_layout(\n",
    "    title='Training and Validation Loss Over Epochs',\n",
    "    xaxis=dict(title='Epoch'),\n",
    "    yaxis=dict(title='Loss'),\n",
    "    legend=dict(x=0, y=1, traceorder='normal'),\n",
    ")\n",
    "fig.show()"
   ]
  },
  {
   "cell_type": "code",
   "execution_count": null,
   "metadata": {},
   "outputs": [],
   "source": [
    "# daily predictions time wise test/train split\n",
    "\n",
    "# PRODUCTION\n",
    "#   with fourier features\n",
    "#       33/45 with 10 epochs batch size 50\n",
    "#       26/37 20 epochs (batch 50)\n",
    "#       31/93 10 epochs (batch size 500)\n",
    "#       21/38 30 epochs (batch size 500)\n",
    "\n",
    "#   flattend layer with fourier\n",
    "#       40/55 after 30 epochs (500 batch size)\n",
    "#       68/74 after 10 epochs (50 batch size)\n",
    "\n",
    "#   without fourier features\n",
    "#       35/46 10 epochs batch size 50\n",
    "#       30/47 30 epochs batch size 500\n",
    "\n",
    "#   flatten layer without fourier\n",
    "#       53/70 30 epochs batch size 500\n",
    "\n",
    "\n",
    "# CONSUMPTION\n",
    "\n",
    "#   with fourier featuers\n",
    "#       59/152 30 epochs, batch size 500\n",
    "#       62/132 30 epochs, batch size 50 overfitted at like 8 epochs, after 34/151\n",
    "\n",
    "#   with prod target!\n",
    "#       58/117 30 epochs, batch size 50 overfitted at like 8 epochs after 32/145\n",
    "\n",
    "#   without fourier features\n",
    "#       77/166 30 epochs batch size 500 (starting to overfit)\n",
    "\n",
    "#   flatten layer without fourier\n",
    "#       227/316 30 epochs batch size 500\n"
   ]
  },
  {
   "cell_type": "code",
   "execution_count": null,
   "metadata": {},
   "outputs": [],
   "source": [
    "# hourly predictions! time wise test/train split\n",
    "\n",
    "# PRODUCTION\n",
    "#   with fourier features\n",
    "#       22/41 (after overfit) with 10 epochs & 5000 batch size\n",
    "#       21/38 (only overfit after around 8 epochs) 100 epochs & 5000 batch size (in the end 12/42)\n",
    "\n",
    "#   without fourier features\n",
    "#       23/55 with 10 epochs & 5000 batch size\n",
    "\n",
    "# CONSUMPTION\n",
    "#   with fourier features\n",
    "#       58/143 with 10 epochs (5000 batch size) (starting to overfit)\n",
    "\n",
    "#   without fourier features\n",
    "#       63/142 with 10 epochs (5000 batch size) (starting to overfit)"
   ]
  },
  {
   "cell_type": "code",
   "execution_count": null,
   "metadata": {},
   "outputs": [],
   "source": [
    "# hourly predictions! ATTENTION: random test/train split\n",
    "\n",
    "#PRODUCTION\n",
    "#   fourier features\n",
    "#       23/25 after 10 epochs (5000 batch) with fourier features \n",
    "\n",
    "#   without fourier features\n",
    "#       26/26 after 100 epochs (5000 batch) without fourier features (& way smaller network bc less features)\n",
    "#       27/26 after 10 epochs (5000 batch) with same network size as fourier featurs but no fourier features\n",
    "#       17.7/19.3 after 100 epocth (5000 batch) witz same size as fourier,\n",
    "\n",
    "#CONSUMPTION\n",
    "#   fourier featuers\n",
    "#       72/86 after 10 epochs (5000 batch)\n",
    "\n",
    "#   without fourier features\n",
    "#       78/80 after 10 epochs (5000 batch)\n",
    "#       40/40 after 100 epochs (5000 batch)"
   ]
  },
  {
   "cell_type": "markdown",
   "metadata": {},
   "source": [
    "# analyze data"
   ]
  },
  {
   "cell_type": "code",
   "execution_count": 102,
   "metadata": {},
   "outputs": [],
   "source": [
    "from pathlib import Path\n",
    "#from learntools.time_series.utils import plot_lags, make_lags, make_leads\n",
    "\n",
    "import pandas as pd\n",
    "import matplotlib.pyplot as plt\n",
    "import numpy as np\n",
    "import seaborn as sns\n",
    "from sklearn.linear_model import LinearRegression\n",
    "from sklearn.metrics import mean_squared_log_error\n",
    "from statsmodels.graphics.tsaplots import plot_pacf\n",
    "from statsmodels.tsa.deterministic import CalendarFourier, DeterministicProcess"
   ]
  },
  {
   "cell_type": "markdown",
   "metadata": {},
   "source": [
    "## periodogram"
   ]
  },
  {
   "cell_type": "code",
   "execution_count": 178,
   "metadata": {},
   "outputs": [],
   "source": [
    "def seasonal_plot(X, y, period, freq, ax=None):\n",
    "    if ax is None:\n",
    "        _, ax = plt.subplots()\n",
    "    palette = sns.color_palette(\"husl\", n_colors=X[period].nunique(),)\n",
    "    ax = sns.lineplot(\n",
    "        x=freq,\n",
    "        y=y,\n",
    "        hue=period,\n",
    "        data=X,\n",
    "        ci=False,\n",
    "        ax=ax,\n",
    "        palette=palette,\n",
    "        legend=False,\n",
    "    )\n",
    "    ax.set_title(f\"Seasonal Plot ({period}/{freq})\")\n",
    "    for line, name in zip(ax.lines, X[period].unique()):\n",
    "        y_ = line.get_ydata()[-1]\n",
    "        ax.annotate(\n",
    "            name,\n",
    "            xy=(1, y_),\n",
    "            xytext=(6, 0),\n",
    "            color=line.get_color(),\n",
    "            xycoords=ax.get_yaxis_transform(),\n",
    "            textcoords=\"offset points\",\n",
    "            size=14,\n",
    "            va=\"center\",\n",
    "        )\n",
    "    return ax\n",
    "\n",
    "\n",
    "def plot_periodogram(ts, detrend='linear', ax=None):\n",
    "    from scipy.signal import periodogram\n",
    "    fs = pd.Timedelta(\"1D\") / pd.Timedelta(\"1H\")\n",
    "    freqencies, spectrum = periodogram(\n",
    "        ts,\n",
    "        fs=fs,\n",
    "        detrend=detrend,\n",
    "        window=\"boxcar\",\n",
    "        scaling='spectrum',\n",
    "    )\n",
    "    if ax is None:\n",
    "        _, ax = plt.subplots()\n",
    "    ax.step(freqencies, spectrum, color=\"purple\")\n",
    "    ax.set_xscale(\"log\")\n",
    "    ax.set_xticks([\n",
    "        #1, 2, 4, 6, 12, 26, 52, 104,365,730,876,1095,1460,1752,2190,2920,4380,8760\n",
    "        1/8760, 1/4380, 1/2920, 1/1460, 1/730, 1/336,1/168,1/84, 1/56, 1/42,1,2,3,4,6,8,12,24, \n",
    "        ])\n",
    "    ax.set_xticklabels(\n",
    "        [\n",
    "            #\"Annual (1)\",\n",
    "            #\"Semiannual (2)\",\n",
    "            #\"Quarterly (4)\",\n",
    "            #\"Bimonthly (6)\",\n",
    "            #\"Monthly (12)\",\n",
    "            #\"Biweekly (26)\",\n",
    "            #\"Weekly (52)\",\n",
    "            #\"Semiweekly (104)\",\n",
    "            'yearly',\n",
    "            'biyearly',\n",
    "            'thirdyearly',\n",
    "            'bimonthly',\n",
    "            'monthly',\n",
    "            'biweekly',\n",
    "            'weekly',\n",
    "            'halfweekly',\n",
    "            'thirdweekly',\n",
    "            'quarterweekly',\n",
    "            \"daily\",\n",
    "            \"12h\",\n",
    "            #\"10h\",\n",
    "            \"8h\",\n",
    "            \"6h\",\n",
    "            #\"5h\",\n",
    "            \"4h\",\n",
    "            \"3h\",\n",
    "            '2h',\n",
    "            '1h'\n",
    "        ],\n",
    "        rotation=30,\n",
    "    )\n",
    "    ax.ticklabel_format(axis=\"y\", style=\"sci\", scilimits=(0, 0))\n",
    "    ax.set_ylabel(\"Variance\")\n",
    "    ax.set_title(\"Periodogram\")\n",
    "    return ax"
   ]
  },
  {
   "cell_type": "code",
   "execution_count": 171,
   "metadata": {},
   "outputs": [
    {
     "data": {
      "text/plain": [
       "<Axes: title={'center': 'Periodogram'}, ylabel='Variance'>"
      ]
     },
     "execution_count": 171,
     "metadata": {},
     "output_type": "execute_result"
    },
    {
     "data": {
      "image/png": "[encoded data removed]",
      "text/plain": [
       "<Figure size 640x480 with 1 Axes>"
      ]
     },
     "metadata": {},
     "output_type": "display_data"
    }
   ],
   "source": [
    "plot_periodogram(mergedData.loc[1,:].target_cons)"
   ]
  },
  {
   "cell_type": "code",
   "execution_count": 166,
   "metadata": {},
   "outputs": [
    {
     "data": {
      "text/plain": [
       "<Axes: title={'center': 'Periodogram'}, ylabel='Variance'>"
      ]
     },
     "execution_count": 166,
     "metadata": {},
     "output_type": "execute_result"
    },
    {
     "data": {
      "image/png": "[encoded data removed]",
      "text/plain": [
       "<Figure size 640x480 with 1 Axes>"
      ]
     },
     "metadata": {},
     "output_type": "display_data"
    }
   ],
   "source": [
    "plot_periodogram(mergedData.loc[1,:].target_prod)"
   ]
  },
  {
   "cell_type": "code",
   "execution_count": 179,
   "metadata": {},
   "outputs": [
    {
     "data": {
      "text/plain": [
       "<Axes: title={'center': 'Periodogram'}, ylabel='Variance'>"
      ]
     },
     "execution_count": 179,
     "metadata": {},
     "output_type": "execute_result"
    },
    {
     "data": {
      "image/png": "[encoded data removed]",
      "text/plain": [
       "<Figure size 640x480 with 1 Axes>"
      ]
     },
     "metadata": {},
     "output_type": "display_data"
    }
   ],
   "source": [
    "plot_periodogram(mergedData.target_cons)"
   ]
  },
  {
   "cell_type": "code",
   "execution_count": 180,
   "metadata": {},
   "outputs": [
    {
     "data": {
      "text/plain": [
       "<Axes: title={'center': 'Periodogram'}, ylabel='Variance'>"
      ]
     },
     "execution_count": 180,
     "metadata": {},
     "output_type": "execute_result"
    },
    {
     "data": {
      "image/png": "[encoded data removed]",
      "text/plain": [
       "<Figure size 640x480 with 1 Axes>"
      ]
     },
     "metadata": {},
     "output_type": "display_data"
    }
   ],
   "source": [
    "plot_periodogram(mergedData.target_prod)"
   ]
  },
  {
   "cell_type": "markdown",
   "metadata": {},
   "source": [
    "## lag features\n",
    "\n",
    "production lag feature: \n",
    "- 1 & 2 lag has massive correlation\n",
    "- betwen 10-20 also big correlation but not as important since probably FP\n",
    "\n",
    "consumption lag feature:\n",
    "- 1,2,3 big correlation\n",
    "- around 24h has big correlation\n",
    "- around 48 has big correlation, old target data might help for consumption\n",
    "\n",
    "\n",
    "seems to be a linear correlation between them, consumption has way more correlation in later time (available)\n",
    "\n",
    "probably not helpful since not availalbe\n",
    "\n",
    "TODO:\n",
    "try lag features for weather & gas/electricity price data"
   ]
  },
  {
   "cell_type": "code",
   "execution_count": 112,
   "metadata": {},
   "outputs": [
    {
     "data": {
      "image/png": "[encoded data removed]",
      "text/plain": [
       "<Figure size 640x480 with 1 Axes>"
      ]
     },
     "execution_count": 112,
     "metadata": {},
     "output_type": "execute_result"
    },
    {
     "data": {
      "image/png": "[encoded data removed]",
      "text/plain": [
       "<Figure size 640x480 with 1 Axes>"
      ]
     },
     "metadata": {},
     "output_type": "display_data"
    }
   ],
   "source": [
    "plot_pacf(mergedData.target_cons, lags=72)"
   ]
  },
  {
   "cell_type": "code",
   "execution_count": 121,
   "metadata": {},
   "outputs": [
    {
     "data": {
      "image/png": "[encoded data removed]",
      "text/plain": [
       "<Figure size 800x2000 with 10 Axes>"
      ]
     },
     "metadata": {},
     "output_type": "display_data"
    }
   ],
   "source": [
    "num_lags = 10\n",
    "\n",
    "# Create a subplot with multiple lag plots\n",
    "fig, axes = plt.subplots(nrows=num_lags, ncols=1, figsize=(8, 2*num_lags))\n",
    "\n",
    "# Iterate over lags and plot\n",
    "for lag in range(1, num_lags + 1):\n",
    "    lag = lag + 47\n",
    "    pd.plotting.lag_plot(mergedData['target_cons'], lag=lag, ax=axes[lag-1-47])\n",
    "    axes[lag-1-47].set_title(f'Lag {lag}')\n",
    "\n",
    "plt.tight_layout()\n",
    "plt.show()"
   ]
  },
  {
   "cell_type": "markdown",
   "metadata": {},
   "source": [
    "## rolling"
   ]
  },
  {
   "cell_type": "code",
   "execution_count": 105,
   "metadata": {},
   "outputs": [
    {
     "data": {
      "text/plain": [
       "Text(0.5, 1.0, 'Moving Average')"
      ]
     },
     "execution_count": 105,
     "metadata": {},
     "output_type": "execute_result"
    },
    {
     "data": {
      "image/png": "[encoded data removed]",
      "text/plain": [
       "<Figure size 640x480 with 1 Axes>"
      ]
     },
     "metadata": {},
     "output_type": "display_data"
    }
   ],
   "source": [
    "# rolling mean\n",
    "cons_ma = mergedData.loc[1,:].target_prod.rolling(24).mean()\n",
    "ax = cons_ma.plot()\n",
    "ax.set_title(\"Moving Average\")"
   ]
  },
  {
   "cell_type": "markdown",
   "metadata": {},
   "source": [
    "#"
   ]
  },
  {
   "cell_type": "markdown",
   "metadata": {},
   "source": [
    "# training a model"
   ]
  },
  {
   "cell_type": "code",
   "execution_count": 122,
   "metadata": {},
   "outputs": [
    {
     "data": {
      "text/plain": [
       "Index(['county', 'is_business', 'product_type', 'target_prod', 'data_block_id',\n",
       "       'row_id_prod', 'prediction_unit_id', 'target_cons', 'row_id_cons',\n",
       "       'eic_count', 'installed_capacity', 'date', 'yearday', 'weekday',\n",
       "       'month', 'monthday', 'year', 'hour', 'business_prodType',\n",
       "       'euros_per_mwh', 'lowest_price_per_mwh', 'highest_price_per_mwh',\n",
       "       'latitude', 'longitude', 'forecast_datetime', 'hours_ahead',\n",
       "       'origin_datetime', 'temperatureint', 'dewpointint',\n",
       "       'cloudcover_highint', 'cloudcover_lowint', 'cloudcover_midint',\n",
       "       'cloudcover_totalint', '10_metre_u_wind_componentint',\n",
       "       '10_metre_v_wind_componentint', 'direct_solar_radiationint',\n",
       "       'surface_solar_radiation_downwardsint', 'snowfallint',\n",
       "       'total_precipitationint', 'latitude_hist', 'longitude_hist',\n",
       "       'datetime_hist', 'temperatureint_hist', 'dewpointint_hist', 'rainint',\n",
       "       'snowfallint_hist', 'surface_pressureint', 'cloudcover_totalint_hist',\n",
       "       'cloudcover_lowint_hist', 'cloudcover_midint_hist',\n",
       "       'cloudcover_highint_hist', 'windspeed_10mint', 'winddirection_10mint',\n",
       "       'shortwave_radiationint', 'direct_solar_radiationint_hist',\n",
       "       'diffuse_radiationint', 'meltingInCM', 'snowHeightFlux', 'snowcover',\n",
       "       'hour_original'],\n",
       "      dtype='object')"
      ]
     },
     "execution_count": 122,
     "metadata": {},
     "output_type": "execute_result"
    }
   ],
   "source": [
    "mergedData.columns"
   ]
  },
  {
   "cell_type": "code",
   "execution_count": null,
   "metadata": {},
   "outputs": [],
   "source": []
  }
 ],
 "metadata": {
  "kernelspec": {
   "display_name": "Python 3.10.13 ('predictenegycons')",
   "language": "python",
   "name": "python3"
  },
  "language_info": {
   "codemirror_mode": {
    "name": "ipython",
    "version": 3
   },
   "file_extension": ".py",
   "mimetype": "text/x-python",
   "name": "python",
   "nbconvert_exporter": "python",
   "pygments_lexer": "ipython3",
   "version": "3.10.13"
  },
  "orig_nbformat": 4,
  "vscode": {
   "interpreter": {
    "hash": "691b0b37d4acdba726dc1c278f9e08b3b5ec9c42dc9e0c737423aa652ed87f03"
   }
  }
 },
 "nbformat": 4,
 "nbformat_minor": 2
}
