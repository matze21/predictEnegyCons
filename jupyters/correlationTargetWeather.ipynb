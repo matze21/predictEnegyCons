{
 "cells": [
  {
   "cell_type": "code",
   "execution_count": 1,
   "metadata": {},
   "outputs": [],
   "source": [
    "import pandas as pd"
   ]
  },
  {
   "cell_type": "code",
   "execution_count": 2,
   "metadata": {},
   "outputs": [],
   "source": [
    "train = pd.read_csv(\"../data/train.csv\")\n",
    "weatherHist = pd.read_csv(\"../data/historical_weather.csv\")"
   ]
  },
  {
   "cell_type": "code",
   "execution_count": 7,
   "metadata": {},
   "outputs": [],
   "source": [
    "times = weatherHist.datetime.unique()"
   ]
  },
  {
   "cell_type": "code",
   "execution_count": 15,
   "metadata": {},
   "outputs": [
    {
     "name": "stderr",
     "output_type": "stream",
     "text": [
      "/var/folders/15/v1vyry112dv3d398dy47k8v40000gn/T/ipykernel_1578/2960087045.py:5: FutureWarning: Dropping of nuisance columns in DataFrame reductions (with 'numeric_only=None') is deprecated; in a future version this will raise TypeError.  Select only valid columns before calling the reduction.\n",
      "  mean.append(a.mean())\n",
      "/var/folders/15/v1vyry112dv3d398dy47k8v40000gn/T/ipykernel_1578/2960087045.py:6: FutureWarning: Dropping of nuisance columns in DataFrame reductions (with 'numeric_only=None') is deprecated; in a future version this will raise TypeError.  Select only valid columns before calling the reduction.\n",
      "  std.append(a.std())\n"
     ]
    }
   ],
   "source": [
    "mean = []\n",
    "std = []\n",
    "for time in times:\n",
    "    a = weatherHist.loc[weatherHist.datetime == time]\n",
    "    mean.append(a.mean())\n",
    "    std.append(a.std())\n",
    "    break"
   ]
  },
  {
   "cell_type": "code",
   "execution_count": 16,
   "metadata": {},
   "outputs": [
    {
     "data": {
      "text/plain": [
       "[temperature                 13.443750\n",
       " dewpoint                    11.209821\n",
       " rain                         0.020536\n",
       " snowfall                     0.000000\n",
       " surface_pressure          1009.308929\n",
       " cloudcover_total            39.687500\n",
       " cloudcover_low              35.794643\n",
       " cloudcover_mid               5.383929\n",
       " cloudcover_high             25.964286\n",
       " windspeed_10m                4.621280\n",
       " winddirection_10m          307.580357\n",
       " shortwave_radiation          0.000000\n",
       " direct_solar_radiation       0.000000\n",
       " diffuse_radiation            0.000000\n",
       " latitude                    58.650000\n",
       " longitude                   24.923214\n",
       " data_block_id                1.000000\n",
       " dtype: float64]"
      ]
     },
     "execution_count": 16,
     "metadata": {},
     "output_type": "execute_result"
    }
   ],
   "source": [
    "mean"
   ]
  },
  {
   "cell_type": "code",
   "execution_count": 17,
   "metadata": {},
   "outputs": [
    {
     "data": {
      "text/plain": [
       "[temperature                1.208288\n",
       " dewpoint                   0.849161\n",
       " rain                       0.117893\n",
       " snowfall                   0.000000\n",
       " surface_pressure           5.680194\n",
       " cloudcover_total          34.695076\n",
       " cloudcover_low            33.814049\n",
       " cloudcover_mid            16.188220\n",
       " cloudcover_high           37.586879\n",
       " windspeed_10m              2.188117\n",
       " winddirection_10m         97.842090\n",
       " shortwave_radiation        0.000000\n",
       " direct_solar_radiation     0.000000\n",
       " diffuse_radiation          0.000000\n",
       " latitude                   0.690476\n",
       " longitude                  2.050971\n",
       " data_block_id              0.000000\n",
       " dtype: float64]"
      ]
     },
     "execution_count": 17,
     "metadata": {},
     "output_type": "execute_result"
    }
   ],
   "source": [
    "std"
   ]
  },
  {
   "cell_type": "code",
   "execution_count": null,
   "metadata": {},
   "outputs": [],
   "source": []
  }
 ],
 "metadata": {
  "kernelspec": {
   "display_name": "Python 3.9.12 ('base')",
   "language": "python",
   "name": "python3"
  },
  "language_info": {
   "codemirror_mode": {
    "name": "ipython",
    "version": 3
   },
   "file_extension": ".py",
   "mimetype": "text/x-python",
   "name": "python",
   "nbconvert_exporter": "python",
   "pygments_lexer": "ipython3",
   "version": "3.9.12"
  },
  "orig_nbformat": 4,
  "vscode": {
   "interpreter": {
    "hash": "47365178ca2b810317f6bec8ffd68848fb8e8a2bfe3057633cce814219a896e2"
   }
  }
 },
 "nbformat": 4,
 "nbformat_minor": 2
}
