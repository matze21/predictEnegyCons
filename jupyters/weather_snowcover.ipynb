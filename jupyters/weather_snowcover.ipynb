{
 "cells": [
  {
   "cell_type": "code",
   "execution_count": null,
   "metadata": {},
   "outputs": [],
   "source": [
    "import pandas as pd\n",
    "import numpy as np"
   ]
  },
  {
   "cell_type": "markdown",
   "metadata": {},
   "source": [
    "# assume around 2.5 mm of melting/°C per day -> 0.1mm/h/°C roughly"
   ]
  },
  {
   "cell_type": "markdown",
   "metadata": {},
   "source": [
    "# start with a very simple model of snow the snow cover (only temperature and snow fall)\n",
    "\n",
    "snowfall is in cm for the historic dataset"
   ]
  },
  {
   "cell_type": "code",
   "execution_count": null,
   "metadata": {},
   "outputs": [],
   "source": [
    "histWeather = pd.read_csv(\"interpolHistWeather.csv\")"
   ]
  },
  {
   "cell_type": "code",
   "execution_count": null,
   "metadata": {},
   "outputs": [],
   "source": [
    "histWeather.columns"
   ]
  },
  {
   "cell_type": "code",
   "execution_count": null,
   "metadata": {},
   "outputs": [],
   "source": [
    "#unique_pairs = list(set(zip(histWeather['latitude'], histWeather[ 'longitude'])))\n",
    "#pair_index_dict = {pair: index for index, pair in enumerate(unique_pairs)}\n",
    "#histWeather['weatherStation'] = list(map(pair_index_dict.get, zip(histWeather['latitude'], histWeather['longitude'])))\n",
    "#unique_pairs"
   ]
  },
  {
   "cell_type": "code",
   "execution_count": null,
   "metadata": {},
   "outputs": [],
   "source": [
    "histWeather['meltingInCM'] = -0.09 * histWeather['temperatureint'].clip(lower=0) #roughly 21mm/day/°\n",
    "histWeather['snowHeightFlux'] = histWeather['snowfallint'] + histWeather['meltingInCM']\n",
    "\n",
    "newDfList = []\n",
    "for county in histWeather.County.unique():\n",
    "    #test = histWeather.loc[(histWeather.latitude == pair[0]) & (histWeather.longitude==pair[1])]\n",
    "    test = histWeather.loc[(histWeather.County == county)]\n",
    "\n",
    "    snowcover = 0\n",
    "    snowcoverArr = np.zeros((test.shape[0]))\n",
    "    for i,snowFlux in enumerate(test['snowHeightFlux']):\n",
    "        snowcover = max(snowcover + snowFlux,0)\n",
    "        #print(snowcover,snowFlux,test['temperature'].iloc[i],test['snowfall'].iloc[i])\n",
    "        snowcoverArr[i] = snowcover\n",
    "    test['snowcover'] = snowcoverArr\n",
    "    newDfList.append(test)\n",
    "histWeather = pd.concat(newDfList)"
   ]
  },
  {
   "cell_type": "code",
   "execution_count": null,
   "metadata": {},
   "outputs": [],
   "source": [
    "histWeather.to_csv('histWeatherSnowCover.csv')"
   ]
  },
  {
   "cell_type": "code",
   "execution_count": null,
   "metadata": {},
   "outputs": [],
   "source": [
    "import plotly.express as px\n",
    "\n",
    "histWeather['meltingInCM'] = -0.09 * histWeather['temperatureint'].clip(lower=0)\n",
    "histWeather['snowHeightFlux'] = histWeather['snowfallint'] + histWeather['meltingInCM']\n",
    "test = histWeather.loc[histWeather.County == 3]\n",
    "\n",
    "snowcover = 0\n",
    "snowcoverArr = np.zeros((test.shape[0]))\n",
    "for i,snowFlux in enumerate(test['snowHeightFlux']):\n",
    "    snowcover = max(snowcover + snowFlux,0)\n",
    "    #print(snowcover,snowFlux,test['temperature'].iloc[i],test['snowfall'].iloc[i])\n",
    "    snowcoverArr[i] = snowcover\n",
    "test['snowcover'] = snowcoverArr\n",
    "\n",
    "# Plot the 'Values' column over time using Plotly Express\n",
    "fig = px.line(test, x='datetime', y='snowcover', title='Values over Time', labels={'Values': 'Values'})\n",
    "fig.show()"
   ]
  },
  {
   "cell_type": "code",
   "execution_count": null,
   "metadata": {},
   "outputs": [],
   "source": []
  }
 ],
 "metadata": {
  "kernelspec": {
   "display_name": "Python 3.10.13 ('predictenegycons')",
   "language": "python",
   "name": "python3"
  },
  "language_info": {
   "codemirror_mode": {
    "name": "ipython",
    "version": 3
   },
   "file_extension": ".py",
   "mimetype": "text/x-python",
   "name": "python",
   "nbconvert_exporter": "python",
   "pygments_lexer": "ipython3",
   "version": "3.10.13"
  },
  "orig_nbformat": 4,
  "vscode": {
   "interpreter": {
    "hash": "691b0b37d4acdba726dc1c278f9e08b3b5ec9c42dc9e0c737423aa652ed87f03"
   }
  }
 },
 "nbformat": 4,
 "nbformat_minor": 2
}
