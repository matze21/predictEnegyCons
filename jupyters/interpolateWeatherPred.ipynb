{
 "cells": [
  {
   "cell_type": "code",
   "execution_count": 1,
   "metadata": {},
   "outputs": [],
   "source": [
    "import pandas as pd\n",
    "from scipy.interpolate import griddata\n",
    "import numpy as np\n",
    "from multiprocessing import Pool"
   ]
  },
  {
   "cell_type": "code",
   "execution_count": 2,
   "metadata": {},
   "outputs": [],
   "source": [
    "#client = pd.read_csv(\"../data/client.csv\")\n",
    "#ePrices = pd.read_csv(\"../data/electricity_prices.csv\")\n",
    "#gasPrices = pd.read_csv(\"../data/gas_prices.csv\")\n",
    "\n",
    "weatherPred = pd.read_csv(\"../data/forecast_weather.csv\")\n",
    "#weatherHist = pd.read_csv(\"../data/historical_weather.csv\")\n",
    "#train = pd.read_csv(\"../data/train.csv\")"
   ]
  },
  {
   "cell_type": "markdown",
   "metadata": {},
   "source": [
    "# throw away unimportant weather data"
   ]
  },
  {
   "cell_type": "code",
   "execution_count": 3,
   "metadata": {},
   "outputs": [],
   "source": [
    "weatherPred = weatherPred.loc[(weatherPred.hours_ahead > 23) & (weatherPred.hours_ahead < 48)]"
   ]
  },
  {
   "cell_type": "markdown",
   "metadata": {},
   "source": [
    "### map lat/long to county by doing a interpolation to the county centers"
   ]
  },
  {
   "cell_type": "code",
   "execution_count": 5,
   "metadata": {},
   "outputs": [
    {
     "name": "stdout",
     "output_type": "stream",
     "text": [
      "unique days 637.0\n"
     ]
    }
   ],
   "source": [
    "#TODO use multiprocessing \n",
    "\n",
    "interpolatedVal = []\n",
    "interpolationFeat = [\n",
    "       'temperature', 'dewpoint', 'cloudcover_high', 'cloudcover_low',\n",
    "       'cloudcover_mid', 'cloudcover_total', '10_metre_u_wind_component',\n",
    "       '10_metre_v_wind_component',\n",
    "       'direct_solar_radiation', 'surface_solar_radiation_downwards',\n",
    "       'snowfall', 'total_precipitation'\n",
    "]\n",
    "\n",
    "# Coordinates of points where you want to interpolate\n",
    "interp_points = np.array([\n",
    "    [59.31092599057606, 24.924347516442776],#\"HARJUMAA\",        # index = county id\n",
    "    [58.89325336822078, 22.61868018616204], #\"HIIUMAA\",         # index = county id\n",
    "    [59.177732657186525, 27.327483563720584], #\"IDA-VIRUMAA\",   # index = county id\n",
    "    [58.9401960343481, 25.66666660100041],#   \"JÄRVAMAA\",       # index = county id\n",
    "    [58.722190565952324, 26.536903689900708],#\"JÕGEVAMAA\",      # index = county id\n",
    "    [59.265951945347595, 26.355665774943418],#\"LÄÄNE-VIRUMAA\",  # index = county id\n",
    "    [58.90131388796995, 23.760348418177717],#\"LÄÄNEMAA\",         # index = county id\n",
    "    [58.39642190189904, 24.550321648922793],#\"PÄRNUMAA\",         # index = county id\n",
    "    [58.043991137798386, 27.162798202382948],#\"PÕLVAMAA\",        # index = county id\n",
    "    [58.923144729594874, 24.70288373555266],#\"RAPLAMAA\",         # index = county id\n",
    "    [58.39256707482195, 22.537559658585536],#\"SAAREMAA\",         # index = county id\n",
    "    [58.392720495713554, 26.82996683757416],#\"TARTUMAA\",         # index = county id\n",
    "    [58.5975, 24.9873], #\"UNKNOWN\", = center of the country      # index = county id\n",
    "    [57.93303855829815, 26.14302669183717], #\"VALGAMAA\",         # index = county id\n",
    "    [58.336987487787404, 25.558364059539933],#\"VILJANDIMAA\",     # index = county id\n",
    "    [57.74795525256318, 26.91115291686715], #\"VÕRUMAA\"           # index = county id\n",
    "  ])\n",
    "# Convert to a 2D array\n",
    "interp_points_arr = np.vstack(interp_points)\n",
    "\n",
    "i = 0\n",
    "print('unique days', len(weatherPred.forecast_datetime.unique())/24)\n",
    "for time_id,time in enumerate(weatherPred.forecast_datetime.unique()):\n",
    "  timeSlice = weatherPred.loc[weatherPred.forecast_datetime == time]\n",
    "  points = timeSlice[['latitude', 'longitude']].values\n",
    "  \n",
    "  if (len(points)) != 112:\n",
    "    print('more datapoints than we should have', time_id, time)\n",
    "    break\n",
    "\n",
    "  hours_ahead = timeSlice['hours_ahead'].unique()\n",
    "  data_block_id = timeSlice['data_block_id'].unique()\n",
    "  origin_datetime = timeSlice['origin_datetime'].unique()\n",
    "\n",
    "  if len(hours_ahead) != 1 or len(data_block_id) != 1 or len(origin_datetime) != 1:\n",
    "    print('more than one unique value', hours_ahead, data_block_id, origin_datetime)\n",
    "  \n",
    "  if i%(24*10)== 0 and i>0:\n",
    "    print(i/24,' days done')\n",
    "    if i%(24*100)== 0:\n",
    "      print('intermediate saving..')\n",
    "      intWeatherPred = pd.concat(interpolatedVal)\n",
    "      intWeatherPred.to_csv(\"interpolPredWeather.csv\")\n",
    "      print('done')\n",
    "\n",
    "\n",
    "  allIntFeat = {}\n",
    "  allIntFeat['latitude'] = interp_points_arr[:,0]\n",
    "  allIntFeat['longitude'] = interp_points_arr[:,1]\n",
    "  allIntFeat['County'] = np.linspace(0,15,16).astype('int')\n",
    "  allIntFeat['forecast_datetime'] = time\n",
    "  allIntFeat['hours_ahead']       = hours_ahead[0]\n",
    "  allIntFeat['data_block_id']     = data_block_id[0]\n",
    "  allIntFeat['origin_datetime']   = origin_datetime[0]\n",
    "  for feat in interpolationFeat:\n",
    "    # Values at the known points\n",
    "    values_feat = timeSlice[feat].values\n",
    "\n",
    "    # Linear interpolation for temperature\n",
    "    result = griddata(points, values_feat, interp_points, method='linear')\n",
    "\n",
    "    allIntFeat[feat+'int'] = result\n",
    "  \n",
    "  df = pd.DataFrame(allIntFeat)\n",
    "  interpolatedVal.append(df)\n",
    "  i = i+1\n",
    "\n",
    "intWeatherPred = pd.concat(interpolatedVal)\n",
    "intWeatherPred.to_csv(\"interpolPredWeather.csv\")\n"
   ]
  },
  {
   "cell_type": "code",
   "execution_count": 8,
   "metadata": {},
   "outputs": [
    {
     "data": {
      "text/plain": [
       "12"
      ]
     },
     "execution_count": 8,
     "metadata": {},
     "output_type": "execute_result"
    }
   ],
   "source": [
    "i"
   ]
  },
  {
   "cell_type": "code",
   "execution_count": null,
   "metadata": {},
   "outputs": [],
   "source": []
  }
 ],
 "metadata": {
  "kernelspec": {
   "display_name": "Python 3.9.12 ('base')",
   "language": "python",
   "name": "python3"
  },
  "language_info": {
   "codemirror_mode": {
    "name": "ipython",
    "version": 3
   },
   "file_extension": ".py",
   "mimetype": "text/x-python",
   "name": "python",
   "nbconvert_exporter": "python",
   "pygments_lexer": "ipython3",
   "version": "3.9.12"
  },
  "orig_nbformat": 4,
  "vscode": {
   "interpreter": {
    "hash": "47365178ca2b810317f6bec8ffd68848fb8e8a2bfe3057633cce814219a896e2"
   }
  }
 },
 "nbformat": 4,
 "nbformat_minor": 2
}
