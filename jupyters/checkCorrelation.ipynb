{
 "cells": [
  {
   "cell_type": "code",
   "execution_count": 2,
   "metadata": {},
   "outputs": [
    {
     "name": "stdout",
     "output_type": "stream",
     "text": [
      "Intel MKL WARNING: Support of Intel(R) Streaming SIMD Extensions 4.2 (Intel(R) SSE4.2) enabled only processors has been deprecated. Intel oneAPI Math Kernel Library 2025.0 will require Intel(R) Advanced Vector Extensions (Intel(R) AVX) instructions.\n",
      "Intel MKL WARNING: Support of Intel(R) Streaming SIMD Extensions 4.2 (Intel(R) SSE4.2) enabled only processors has been deprecated. Intel oneAPI Math Kernel Library 2025.0 will require Intel(R) Advanced Vector Extensions (Intel(R) AVX) instructions.\n"
     ]
    }
   ],
   "source": [
    "import pandas as pd"
   ]
  },
  {
   "cell_type": "code",
   "execution_count": 3,
   "metadata": {},
   "outputs": [],
   "source": [
    "client = pd.read_csv(\"../data/client.csv\")\n",
    "ePrices = pd.read_csv(\"../data/electricity_prices.csv\")\n",
    "gasPrices = pd.read_csv(\"../data/gas_prices.csv\")\n",
    "\n",
    "weatherPredInt = pd.read_csv(\"interpolPredWeather.csv\")\n",
    "#weatherHist = pd.read_csv(\"../data/historical_weather.csv\")\n",
    "train = pd.read_csv(\"../data/train.csv\")"
   ]
  },
  {
   "cell_type": "markdown",
   "metadata": {},
   "source": [
    "## combine data"
   ]
  },
  {
   "cell_type": "code",
   "execution_count": 4,
   "metadata": {},
   "outputs": [
    {
     "name": "stdout",
     "output_type": "stream",
     "text": [
      "(1009176, 10)\n"
     ]
    }
   ],
   "source": [
    "producing = train.loc[train.is_consumption == 0]\n",
    "consuming = train.loc[train.is_consumption == 1]\n",
    "train = pd.merge(producing.drop('is_consumption',axis = 1), consuming.drop('is_consumption',axis = 1),on=['data_block_id','prediction_unit_id','datetime','county','is_business','product_type'], how='outer',suffixes=('_prod', '_cons'))\n",
    "del producing, consuming\n",
    "print(train.shape)"
   ]
  },
  {
   "cell_type": "code",
   "execution_count": 130,
   "metadata": {},
   "outputs": [],
   "source": [
    "df_prices = pd.merge(ePrices, gasPrices[['data_block_id','lowest_price_per_mwh','highest_price_per_mwh']], on=['data_block_id'], how='outer',suffixes=('_el', '_gas'))"
   ]
  },
  {
   "cell_type": "code",
   "execution_count": 138,
   "metadata": {},
   "outputs": [],
   "source": [
    "df_prices['datetime'] = pd.to_datetime(df_prices['forecast_date'])\n",
    "df_prices['hour'] = pd.to_datetime(df_prices['forecast_date']).dt.hour\n",
    "train['datetime'] = pd.to_datetime(train['datetime'])\n",
    "train['hour'] = pd.to_datetime(train['datetime']).dt.hour"
   ]
  },
  {
   "cell_type": "code",
   "execution_count": 142,
   "metadata": {},
   "outputs": [],
   "source": [
    "df = pd.merge(train, df_prices,on=['data_block_id','hour'], how='outer',suffixes=('', '_GasEl_prices'))\n",
    "del df_prices"
   ]
  },
  {
   "cell_type": "code",
   "execution_count": 143,
   "metadata": {},
   "outputs": [],
   "source": [
    "weatherPredInt['datetime'] = pd.to_datetime(weatherPredInt['forecast_datetime'])\n",
    "weatherPredInt = weatherPredInt.rename(columns={'County': 'county'})"
   ]
  },
  {
   "cell_type": "code",
   "execution_count": 144,
   "metadata": {},
   "outputs": [],
   "source": [
    "weatherPredInt['hour'] = weatherPredInt['datetime'].dt.hour"
   ]
  },
  {
   "cell_type": "code",
   "execution_count": 145,
   "metadata": {},
   "outputs": [
    {
     "data": {
      "text/plain": [
       "(1007712, 36)"
      ]
     },
     "execution_count": 145,
     "metadata": {},
     "output_type": "execute_result"
    }
   ],
   "source": [
    "df = pd.merge(df, weatherPredInt, on=['hour','county','data_block_id'], how='inner')\n",
    "df.shape"
   ]
  },
  {
   "cell_type": "code",
   "execution_count": 169,
   "metadata": {},
   "outputs": [
    {
     "data": {
      "text/html": [
       "<div>\n",
       "<style scoped>\n",
       "    .dataframe tbody tr th:only-of-type {\n",
       "        vertical-align: middle;\n",
       "    }\n",
       "\n",
       "    .dataframe tbody tr th {\n",
       "        vertical-align: top;\n",
       "    }\n",
       "\n",
       "    .dataframe thead th {\n",
       "        text-align: right;\n",
       "    }\n",
       "</style>\n",
       "<table border=\"1\" class=\"dataframe\">\n",
       "  <thead>\n",
       "    <tr style=\"text-align: right;\">\n",
       "      <th></th>\n",
       "      <th>product_type</th>\n",
       "      <th>county</th>\n",
       "      <th>eic_count</th>\n",
       "      <th>installed_capacity</th>\n",
       "      <th>is_business</th>\n",
       "      <th>date</th>\n",
       "      <th>data_block_id</th>\n",
       "    </tr>\n",
       "  </thead>\n",
       "  <tbody>\n",
       "    <tr>\n",
       "      <th>0</th>\n",
       "      <td>1</td>\n",
       "      <td>0</td>\n",
       "      <td>108</td>\n",
       "      <td>952.89</td>\n",
       "      <td>0</td>\n",
       "      <td>2021-09-01</td>\n",
       "      <td>2</td>\n",
       "    </tr>\n",
       "    <tr>\n",
       "      <th>1</th>\n",
       "      <td>2</td>\n",
       "      <td>0</td>\n",
       "      <td>17</td>\n",
       "      <td>166.40</td>\n",
       "      <td>0</td>\n",
       "      <td>2021-09-01</td>\n",
       "      <td>2</td>\n",
       "    </tr>\n",
       "    <tr>\n",
       "      <th>2</th>\n",
       "      <td>3</td>\n",
       "      <td>0</td>\n",
       "      <td>688</td>\n",
       "      <td>7207.88</td>\n",
       "      <td>0</td>\n",
       "      <td>2021-09-01</td>\n",
       "      <td>2</td>\n",
       "    </tr>\n",
       "    <tr>\n",
       "      <th>3</th>\n",
       "      <td>0</td>\n",
       "      <td>0</td>\n",
       "      <td>5</td>\n",
       "      <td>400.00</td>\n",
       "      <td>1</td>\n",
       "      <td>2021-09-01</td>\n",
       "      <td>2</td>\n",
       "    </tr>\n",
       "    <tr>\n",
       "      <th>4</th>\n",
       "      <td>1</td>\n",
       "      <td>0</td>\n",
       "      <td>43</td>\n",
       "      <td>1411.00</td>\n",
       "      <td>1</td>\n",
       "      <td>2021-09-01</td>\n",
       "      <td>2</td>\n",
       "    </tr>\n",
       "    <tr>\n",
       "      <th>...</th>\n",
       "      <td>...</td>\n",
       "      <td>...</td>\n",
       "      <td>...</td>\n",
       "      <td>...</td>\n",
       "      <td>...</td>\n",
       "      <td>...</td>\n",
       "      <td>...</td>\n",
       "    </tr>\n",
       "    <tr>\n",
       "      <th>41914</th>\n",
       "      <td>1</td>\n",
       "      <td>15</td>\n",
       "      <td>51</td>\n",
       "      <td>415.60</td>\n",
       "      <td>0</td>\n",
       "      <td>2023-05-29</td>\n",
       "      <td>637</td>\n",
       "    </tr>\n",
       "    <tr>\n",
       "      <th>41915</th>\n",
       "      <td>3</td>\n",
       "      <td>15</td>\n",
       "      <td>161</td>\n",
       "      <td>2035.75</td>\n",
       "      <td>0</td>\n",
       "      <td>2023-05-29</td>\n",
       "      <td>637</td>\n",
       "    </tr>\n",
       "    <tr>\n",
       "      <th>41916</th>\n",
       "      <td>0</td>\n",
       "      <td>15</td>\n",
       "      <td>15</td>\n",
       "      <td>620.00</td>\n",
       "      <td>1</td>\n",
       "      <td>2023-05-29</td>\n",
       "      <td>637</td>\n",
       "    </tr>\n",
       "    <tr>\n",
       "      <th>41917</th>\n",
       "      <td>1</td>\n",
       "      <td>15</td>\n",
       "      <td>20</td>\n",
       "      <td>624.50</td>\n",
       "      <td>1</td>\n",
       "      <td>2023-05-29</td>\n",
       "      <td>637</td>\n",
       "    </tr>\n",
       "    <tr>\n",
       "      <th>41918</th>\n",
       "      <td>3</td>\n",
       "      <td>15</td>\n",
       "      <td>55</td>\n",
       "      <td>2188.20</td>\n",
       "      <td>1</td>\n",
       "      <td>2023-05-29</td>\n",
       "      <td>637</td>\n",
       "    </tr>\n",
       "  </tbody>\n",
       "</table>\n",
       "<p>41919 rows × 7 columns</p>\n",
       "</div>"
      ],
      "text/plain": [
       "       product_type  county  eic_count  installed_capacity  is_business  \\\n",
       "0                 1       0        108              952.89            0   \n",
       "1                 2       0         17              166.40            0   \n",
       "2                 3       0        688             7207.88            0   \n",
       "3                 0       0          5              400.00            1   \n",
       "4                 1       0         43             1411.00            1   \n",
       "...             ...     ...        ...                 ...          ...   \n",
       "41914             1      15         51              415.60            0   \n",
       "41915             3      15        161             2035.75            0   \n",
       "41916             0      15         15              620.00            1   \n",
       "41917             1      15         20              624.50            1   \n",
       "41918             3      15         55             2188.20            1   \n",
       "\n",
       "             date  data_block_id  \n",
       "0      2021-09-01              2  \n",
       "1      2021-09-01              2  \n",
       "2      2021-09-01              2  \n",
       "3      2021-09-01              2  \n",
       "4      2021-09-01              2  \n",
       "...           ...            ...  \n",
       "41914  2023-05-29            637  \n",
       "41915  2023-05-29            637  \n",
       "41916  2023-05-29            637  \n",
       "41917  2023-05-29            637  \n",
       "41918  2023-05-29            637  \n",
       "\n",
       "[41919 rows x 7 columns]"
      ]
     },
     "execution_count": 169,
     "metadata": {},
     "output_type": "execute_result"
    }
   ],
   "source": [
    "client"
   ]
  },
  {
   "cell_type": "code",
   "execution_count": 146,
   "metadata": {},
   "outputs": [
    {
     "data": {
      "text/plain": [
       "(1007762, 39)"
      ]
     },
     "execution_count": 146,
     "metadata": {},
     "output_type": "execute_result"
    }
   ],
   "source": [
    "# merge with clients\n",
    "df = pd.merge(df, client, on=['county','is_business','product_type','data_block_id'], how='outer')\n",
    "df.shape"
   ]
  },
  {
   "cell_type": "code",
   "execution_count": 147,
   "metadata": {},
   "outputs": [],
   "source": [
    "df['yearday'] = df['datetime_x'].dt.day_of_year\n",
    "df['weekday'] = df['datetime_x'].dt.day_of_week\n",
    "df['month'] = df['datetime_x'].dt.month"
   ]
  },
  {
   "cell_type": "code",
   "execution_count": 148,
   "metadata": {},
   "outputs": [],
   "source": [
    "df = df.dropna()"
   ]
  },
  {
   "cell_type": "markdown",
   "metadata": {},
   "source": [
    "# check correlations"
   ]
  },
  {
   "cell_type": "markdown",
   "metadata": {},
   "source": [
    "### investigate on relative production (targets / capacity)\n",
    "- relative Production is NOT const over all customers in county -> something else needs to be there\n",
    "-  investigate product type, business & installed capacity\n",
    "- usually only around 6 customers per county, mostly less"
   ]
  },
  {
   "cell_type": "code",
   "execution_count": 153,
   "metadata": {},
   "outputs": [],
   "source": [
    "df['relProd'] = df['target_prod'] / df['installed_capacity']\n",
    "df['relProd_solarNorm'] = df['relProd'] / (df['product_type']+1)\n"
   ]
  },
  {
   "cell_type": "code",
   "execution_count": 53,
   "metadata": {},
   "outputs": [],
   "source": [
    "#df.loc[(df.county == 0) & (df.data_block_id == 3)].groupby('datetime_x')['relProd'].mean()"
   ]
  },
  {
   "cell_type": "code",
   "execution_count": 54,
   "metadata": {},
   "outputs": [],
   "source": [
    "#df.loc[(df.county == 0) & (df.data_block_id == 3)].groupby('datetime_x')['relProd'].std()\n",
    "# we have a correlation but only 3 customers in there"
   ]
  },
  {
   "cell_type": "code",
   "execution_count": 55,
   "metadata": {},
   "outputs": [],
   "source": [
    "# how many customers per county: max around 6\n",
    "#df.loc[(df.datetime_x == '2021-09-04 11:00:00')].county.value_counts()"
   ]
  },
  {
   "cell_type": "code",
   "execution_count": 52,
   "metadata": {},
   "outputs": [
    {
     "data": {
      "text/html": [
       "<div>\n",
       "<style scoped>\n",
       "    .dataframe tbody tr th:only-of-type {\n",
       "        vertical-align: middle;\n",
       "    }\n",
       "\n",
       "    .dataframe tbody tr th {\n",
       "        vertical-align: top;\n",
       "    }\n",
       "\n",
       "    .dataframe thead th {\n",
       "        text-align: right;\n",
       "    }\n",
       "</style>\n",
       "<table border=\"1\" class=\"dataframe\">\n",
       "  <thead>\n",
       "    <tr style=\"text-align: right;\">\n",
       "      <th></th>\n",
       "      <th>county</th>\n",
       "      <th>is_business</th>\n",
       "      <th>product_type</th>\n",
       "      <th>target_prod</th>\n",
       "      <th>datetime_x</th>\n",
       "      <th>data_block_id</th>\n",
       "      <th>row_id_prod</th>\n",
       "      <th>prediction_unit_id</th>\n",
       "      <th>target_cons</th>\n",
       "      <th>row_id_cons</th>\n",
       "      <th>forecast_date</th>\n",
       "      <th>euros_per_mwh</th>\n",
       "      <th>origin_date</th>\n",
       "      <th>data_block_id_GasEl_prices</th>\n",
       "      <th>lowest_price_per_mwh</th>\n",
       "      <th>highest_price_per_mwh</th>\n",
       "      <th>hour</th>\n",
       "      <th>Unnamed: 0</th>\n",
       "      <th>latitude</th>\n",
       "      <th>longitude</th>\n",
       "      <th>forecast_datetime</th>\n",
       "      <th>hours_ahead</th>\n",
       "      <th>origin_datetime</th>\n",
       "      <th>temperatureint</th>\n",
       "      <th>dewpointint</th>\n",
       "      <th>cloudcover_highint</th>\n",
       "      <th>cloudcover_lowint</th>\n",
       "      <th>cloudcover_midint</th>\n",
       "      <th>cloudcover_totalint</th>\n",
       "      <th>10_metre_u_wind_componentint</th>\n",
       "      <th>10_metre_v_wind_componentint</th>\n",
       "      <th>direct_solar_radiationint</th>\n",
       "      <th>surface_solar_radiation_downwardsint</th>\n",
       "      <th>snowfallint</th>\n",
       "      <th>total_precipitationint</th>\n",
       "      <th>datetime_y</th>\n",
       "      <th>eic_count</th>\n",
       "      <th>installed_capacity</th>\n",
       "      <th>date</th>\n",
       "      <th>yearday</th>\n",
       "      <th>weekday</th>\n",
       "      <th>month</th>\n",
       "      <th>relProd</th>\n",
       "      <th>relProd_solarNorm</th>\n",
       "    </tr>\n",
       "  </thead>\n",
       "  <tbody>\n",
       "    <tr>\n",
       "      <th>2944</th>\n",
       "      <td>0</td>\n",
       "      <td>0</td>\n",
       "      <td>1</td>\n",
       "      <td>251.643</td>\n",
       "      <td>2021-09-04 16:00:00</td>\n",
       "      <td>3</td>\n",
       "      <td>10736.0</td>\n",
       "      <td>0.0</td>\n",
       "      <td>52.525</td>\n",
       "      <td>10737.0</td>\n",
       "      <td>2021-09-04 16:00:00</td>\n",
       "      <td>89.27</td>\n",
       "      <td>2021-09-03 16:00:00</td>\n",
       "      <td>4.0</td>\n",
       "      <td>46.3</td>\n",
       "      <td>46.8</td>\n",
       "      <td>16.0</td>\n",
       "      <td>0.0</td>\n",
       "      <td>59.310926</td>\n",
       "      <td>24.924348</td>\n",
       "      <td>2021-09-04 16:00:00+00:00</td>\n",
       "      <td>40.0</td>\n",
       "      <td>2021-09-03 00:00:00+00:00</td>\n",
       "      <td>11.026382</td>\n",
       "      <td>1.945055</td>\n",
       "      <td>0.0</td>\n",
       "      <td>0.237879</td>\n",
       "      <td>0.33392</td>\n",
       "      <td>0.372942</td>\n",
       "      <td>1.458484</td>\n",
       "      <td>-3.092217</td>\n",
       "      <td>308.09048</td>\n",
       "      <td>119.079122</td>\n",
       "      <td>0.0</td>\n",
       "      <td>6.652520e-07</td>\n",
       "      <td>2021-09-04 16:00:00+00:00</td>\n",
       "      <td>108.0</td>\n",
       "      <td>952.89</td>\n",
       "      <td>2021-09-02</td>\n",
       "      <td>247.0</td>\n",
       "      <td>5.0</td>\n",
       "      <td>9.0</td>\n",
       "      <td>0.264084</td>\n",
       "      <td>0.132042</td>\n",
       "    </tr>\n",
       "    <tr>\n",
       "      <th>2968</th>\n",
       "      <td>0</td>\n",
       "      <td>0</td>\n",
       "      <td>2</td>\n",
       "      <td>58.577</td>\n",
       "      <td>2021-09-04 16:00:00</td>\n",
       "      <td>3</td>\n",
       "      <td>10738.0</td>\n",
       "      <td>1.0</td>\n",
       "      <td>9.580</td>\n",
       "      <td>10739.0</td>\n",
       "      <td>2021-09-04 16:00:00</td>\n",
       "      <td>89.27</td>\n",
       "      <td>2021-09-03 16:00:00</td>\n",
       "      <td>4.0</td>\n",
       "      <td>46.3</td>\n",
       "      <td>46.8</td>\n",
       "      <td>16.0</td>\n",
       "      <td>0.0</td>\n",
       "      <td>59.310926</td>\n",
       "      <td>24.924348</td>\n",
       "      <td>2021-09-04 16:00:00+00:00</td>\n",
       "      <td>40.0</td>\n",
       "      <td>2021-09-03 00:00:00+00:00</td>\n",
       "      <td>11.026382</td>\n",
       "      <td>1.945055</td>\n",
       "      <td>0.0</td>\n",
       "      <td>0.237879</td>\n",
       "      <td>0.33392</td>\n",
       "      <td>0.372942</td>\n",
       "      <td>1.458484</td>\n",
       "      <td>-3.092217</td>\n",
       "      <td>308.09048</td>\n",
       "      <td>119.079122</td>\n",
       "      <td>0.0</td>\n",
       "      <td>6.652520e-07</td>\n",
       "      <td>2021-09-04 16:00:00+00:00</td>\n",
       "      <td>17.0</td>\n",
       "      <td>166.40</td>\n",
       "      <td>2021-09-02</td>\n",
       "      <td>247.0</td>\n",
       "      <td>5.0</td>\n",
       "      <td>9.0</td>\n",
       "      <td>0.352025</td>\n",
       "      <td>0.117342</td>\n",
       "    </tr>\n",
       "    <tr>\n",
       "      <th>2992</th>\n",
       "      <td>0</td>\n",
       "      <td>0</td>\n",
       "      <td>3</td>\n",
       "      <td>1993.963</td>\n",
       "      <td>2021-09-04 16:00:00</td>\n",
       "      <td>3</td>\n",
       "      <td>10740.0</td>\n",
       "      <td>2.0</td>\n",
       "      <td>308.340</td>\n",
       "      <td>10741.0</td>\n",
       "      <td>2021-09-04 16:00:00</td>\n",
       "      <td>89.27</td>\n",
       "      <td>2021-09-03 16:00:00</td>\n",
       "      <td>4.0</td>\n",
       "      <td>46.3</td>\n",
       "      <td>46.8</td>\n",
       "      <td>16.0</td>\n",
       "      <td>0.0</td>\n",
       "      <td>59.310926</td>\n",
       "      <td>24.924348</td>\n",
       "      <td>2021-09-04 16:00:00+00:00</td>\n",
       "      <td>40.0</td>\n",
       "      <td>2021-09-03 00:00:00+00:00</td>\n",
       "      <td>11.026382</td>\n",
       "      <td>1.945055</td>\n",
       "      <td>0.0</td>\n",
       "      <td>0.237879</td>\n",
       "      <td>0.33392</td>\n",
       "      <td>0.372942</td>\n",
       "      <td>1.458484</td>\n",
       "      <td>-3.092217</td>\n",
       "      <td>308.09048</td>\n",
       "      <td>119.079122</td>\n",
       "      <td>0.0</td>\n",
       "      <td>6.652520e-07</td>\n",
       "      <td>2021-09-04 16:00:00+00:00</td>\n",
       "      <td>688.0</td>\n",
       "      <td>7207.88</td>\n",
       "      <td>2021-09-02</td>\n",
       "      <td>247.0</td>\n",
       "      <td>5.0</td>\n",
       "      <td>9.0</td>\n",
       "      <td>0.276637</td>\n",
       "      <td>0.069159</td>\n",
       "    </tr>\n",
       "    <tr>\n",
       "      <th>3016</th>\n",
       "      <td>0</td>\n",
       "      <td>1</td>\n",
       "      <td>0</td>\n",
       "      <td>131.600</td>\n",
       "      <td>2021-09-04 16:00:00</td>\n",
       "      <td>3</td>\n",
       "      <td>10742.0</td>\n",
       "      <td>3.0</td>\n",
       "      <td>5.600</td>\n",
       "      <td>10743.0</td>\n",
       "      <td>2021-09-04 16:00:00</td>\n",
       "      <td>89.27</td>\n",
       "      <td>2021-09-03 16:00:00</td>\n",
       "      <td>4.0</td>\n",
       "      <td>46.3</td>\n",
       "      <td>46.8</td>\n",
       "      <td>16.0</td>\n",
       "      <td>0.0</td>\n",
       "      <td>59.310926</td>\n",
       "      <td>24.924348</td>\n",
       "      <td>2021-09-04 16:00:00+00:00</td>\n",
       "      <td>40.0</td>\n",
       "      <td>2021-09-03 00:00:00+00:00</td>\n",
       "      <td>11.026382</td>\n",
       "      <td>1.945055</td>\n",
       "      <td>0.0</td>\n",
       "      <td>0.237879</td>\n",
       "      <td>0.33392</td>\n",
       "      <td>0.372942</td>\n",
       "      <td>1.458484</td>\n",
       "      <td>-3.092217</td>\n",
       "      <td>308.09048</td>\n",
       "      <td>119.079122</td>\n",
       "      <td>0.0</td>\n",
       "      <td>6.652520e-07</td>\n",
       "      <td>2021-09-04 16:00:00+00:00</td>\n",
       "      <td>5.0</td>\n",
       "      <td>400.00</td>\n",
       "      <td>2021-09-02</td>\n",
       "      <td>247.0</td>\n",
       "      <td>5.0</td>\n",
       "      <td>9.0</td>\n",
       "      <td>0.329000</td>\n",
       "      <td>0.329000</td>\n",
       "    </tr>\n",
       "    <tr>\n",
       "      <th>3040</th>\n",
       "      <td>0</td>\n",
       "      <td>1</td>\n",
       "      <td>1</td>\n",
       "      <td>179.423</td>\n",
       "      <td>2021-09-04 16:00:00</td>\n",
       "      <td>3</td>\n",
       "      <td>10744.0</td>\n",
       "      <td>4.0</td>\n",
       "      <td>334.786</td>\n",
       "      <td>10745.0</td>\n",
       "      <td>2021-09-04 16:00:00</td>\n",
       "      <td>89.27</td>\n",
       "      <td>2021-09-03 16:00:00</td>\n",
       "      <td>4.0</td>\n",
       "      <td>46.3</td>\n",
       "      <td>46.8</td>\n",
       "      <td>16.0</td>\n",
       "      <td>0.0</td>\n",
       "      <td>59.310926</td>\n",
       "      <td>24.924348</td>\n",
       "      <td>2021-09-04 16:00:00+00:00</td>\n",
       "      <td>40.0</td>\n",
       "      <td>2021-09-03 00:00:00+00:00</td>\n",
       "      <td>11.026382</td>\n",
       "      <td>1.945055</td>\n",
       "      <td>0.0</td>\n",
       "      <td>0.237879</td>\n",
       "      <td>0.33392</td>\n",
       "      <td>0.372942</td>\n",
       "      <td>1.458484</td>\n",
       "      <td>-3.092217</td>\n",
       "      <td>308.09048</td>\n",
       "      <td>119.079122</td>\n",
       "      <td>0.0</td>\n",
       "      <td>6.652520e-07</td>\n",
       "      <td>2021-09-04 16:00:00+00:00</td>\n",
       "      <td>43.0</td>\n",
       "      <td>1411.00</td>\n",
       "      <td>2021-09-02</td>\n",
       "      <td>247.0</td>\n",
       "      <td>5.0</td>\n",
       "      <td>9.0</td>\n",
       "      <td>0.127160</td>\n",
       "      <td>0.063580</td>\n",
       "    </tr>\n",
       "    <tr>\n",
       "      <th>3064</th>\n",
       "      <td>0</td>\n",
       "      <td>1</td>\n",
       "      <td>3</td>\n",
       "      <td>2200.999</td>\n",
       "      <td>2021-09-04 16:00:00</td>\n",
       "      <td>3</td>\n",
       "      <td>10746.0</td>\n",
       "      <td>5.0</td>\n",
       "      <td>3536.446</td>\n",
       "      <td>10747.0</td>\n",
       "      <td>2021-09-04 16:00:00</td>\n",
       "      <td>89.27</td>\n",
       "      <td>2021-09-03 16:00:00</td>\n",
       "      <td>4.0</td>\n",
       "      <td>46.3</td>\n",
       "      <td>46.8</td>\n",
       "      <td>16.0</td>\n",
       "      <td>0.0</td>\n",
       "      <td>59.310926</td>\n",
       "      <td>24.924348</td>\n",
       "      <td>2021-09-04 16:00:00+00:00</td>\n",
       "      <td>40.0</td>\n",
       "      <td>2021-09-03 00:00:00+00:00</td>\n",
       "      <td>11.026382</td>\n",
       "      <td>1.945055</td>\n",
       "      <td>0.0</td>\n",
       "      <td>0.237879</td>\n",
       "      <td>0.33392</td>\n",
       "      <td>0.372942</td>\n",
       "      <td>1.458484</td>\n",
       "      <td>-3.092217</td>\n",
       "      <td>308.09048</td>\n",
       "      <td>119.079122</td>\n",
       "      <td>0.0</td>\n",
       "      <td>6.652520e-07</td>\n",
       "      <td>2021-09-04 16:00:00+00:00</td>\n",
       "      <td>265.0</td>\n",
       "      <td>13417.79</td>\n",
       "      <td>2021-09-02</td>\n",
       "      <td>247.0</td>\n",
       "      <td>5.0</td>\n",
       "      <td>9.0</td>\n",
       "      <td>0.164036</td>\n",
       "      <td>0.041009</td>\n",
       "    </tr>\n",
       "  </tbody>\n",
       "</table>\n",
       "</div>"
      ],
      "text/plain": [
       "      county  is_business  product_type  target_prod          datetime_x  \\\n",
       "2944       0            0             1      251.643 2021-09-04 16:00:00   \n",
       "2968       0            0             2       58.577 2021-09-04 16:00:00   \n",
       "2992       0            0             3     1993.963 2021-09-04 16:00:00   \n",
       "3016       0            1             0      131.600 2021-09-04 16:00:00   \n",
       "3040       0            1             1      179.423 2021-09-04 16:00:00   \n",
       "3064       0            1             3     2200.999 2021-09-04 16:00:00   \n",
       "\n",
       "      data_block_id  row_id_prod  prediction_unit_id  target_cons  \\\n",
       "2944              3      10736.0                 0.0       52.525   \n",
       "2968              3      10738.0                 1.0        9.580   \n",
       "2992              3      10740.0                 2.0      308.340   \n",
       "3016              3      10742.0                 3.0        5.600   \n",
       "3040              3      10744.0                 4.0      334.786   \n",
       "3064              3      10746.0                 5.0     3536.446   \n",
       "\n",
       "      row_id_cons        forecast_date  euros_per_mwh          origin_date  \\\n",
       "2944      10737.0  2021-09-04 16:00:00          89.27  2021-09-03 16:00:00   \n",
       "2968      10739.0  2021-09-04 16:00:00          89.27  2021-09-03 16:00:00   \n",
       "2992      10741.0  2021-09-04 16:00:00          89.27  2021-09-03 16:00:00   \n",
       "3016      10743.0  2021-09-04 16:00:00          89.27  2021-09-03 16:00:00   \n",
       "3040      10745.0  2021-09-04 16:00:00          89.27  2021-09-03 16:00:00   \n",
       "3064      10747.0  2021-09-04 16:00:00          89.27  2021-09-03 16:00:00   \n",
       "\n",
       "      data_block_id_GasEl_prices  lowest_price_per_mwh  highest_price_per_mwh  \\\n",
       "2944                         4.0                  46.3                   46.8   \n",
       "2968                         4.0                  46.3                   46.8   \n",
       "2992                         4.0                  46.3                   46.8   \n",
       "3016                         4.0                  46.3                   46.8   \n",
       "3040                         4.0                  46.3                   46.8   \n",
       "3064                         4.0                  46.3                   46.8   \n",
       "\n",
       "      hour  Unnamed: 0   latitude  longitude          forecast_datetime  \\\n",
       "2944  16.0         0.0  59.310926  24.924348  2021-09-04 16:00:00+00:00   \n",
       "2968  16.0         0.0  59.310926  24.924348  2021-09-04 16:00:00+00:00   \n",
       "2992  16.0         0.0  59.310926  24.924348  2021-09-04 16:00:00+00:00   \n",
       "3016  16.0         0.0  59.310926  24.924348  2021-09-04 16:00:00+00:00   \n",
       "3040  16.0         0.0  59.310926  24.924348  2021-09-04 16:00:00+00:00   \n",
       "3064  16.0         0.0  59.310926  24.924348  2021-09-04 16:00:00+00:00   \n",
       "\n",
       "      hours_ahead            origin_datetime  temperatureint  dewpointint  \\\n",
       "2944         40.0  2021-09-03 00:00:00+00:00       11.026382     1.945055   \n",
       "2968         40.0  2021-09-03 00:00:00+00:00       11.026382     1.945055   \n",
       "2992         40.0  2021-09-03 00:00:00+00:00       11.026382     1.945055   \n",
       "3016         40.0  2021-09-03 00:00:00+00:00       11.026382     1.945055   \n",
       "3040         40.0  2021-09-03 00:00:00+00:00       11.026382     1.945055   \n",
       "3064         40.0  2021-09-03 00:00:00+00:00       11.026382     1.945055   \n",
       "\n",
       "      cloudcover_highint  cloudcover_lowint  cloudcover_midint  \\\n",
       "2944                 0.0           0.237879            0.33392   \n",
       "2968                 0.0           0.237879            0.33392   \n",
       "2992                 0.0           0.237879            0.33392   \n",
       "3016                 0.0           0.237879            0.33392   \n",
       "3040                 0.0           0.237879            0.33392   \n",
       "3064                 0.0           0.237879            0.33392   \n",
       "\n",
       "      cloudcover_totalint  10_metre_u_wind_componentint  \\\n",
       "2944             0.372942                      1.458484   \n",
       "2968             0.372942                      1.458484   \n",
       "2992             0.372942                      1.458484   \n",
       "3016             0.372942                      1.458484   \n",
       "3040             0.372942                      1.458484   \n",
       "3064             0.372942                      1.458484   \n",
       "\n",
       "      10_metre_v_wind_componentint  direct_solar_radiationint  \\\n",
       "2944                     -3.092217                  308.09048   \n",
       "2968                     -3.092217                  308.09048   \n",
       "2992                     -3.092217                  308.09048   \n",
       "3016                     -3.092217                  308.09048   \n",
       "3040                     -3.092217                  308.09048   \n",
       "3064                     -3.092217                  308.09048   \n",
       "\n",
       "      surface_solar_radiation_downwardsint  snowfallint  \\\n",
       "2944                            119.079122          0.0   \n",
       "2968                            119.079122          0.0   \n",
       "2992                            119.079122          0.0   \n",
       "3016                            119.079122          0.0   \n",
       "3040                            119.079122          0.0   \n",
       "3064                            119.079122          0.0   \n",
       "\n",
       "      total_precipitationint                datetime_y  eic_count  \\\n",
       "2944            6.652520e-07 2021-09-04 16:00:00+00:00      108.0   \n",
       "2968            6.652520e-07 2021-09-04 16:00:00+00:00       17.0   \n",
       "2992            6.652520e-07 2021-09-04 16:00:00+00:00      688.0   \n",
       "3016            6.652520e-07 2021-09-04 16:00:00+00:00        5.0   \n",
       "3040            6.652520e-07 2021-09-04 16:00:00+00:00       43.0   \n",
       "3064            6.652520e-07 2021-09-04 16:00:00+00:00      265.0   \n",
       "\n",
       "      installed_capacity        date  yearday  weekday  month   relProd  \\\n",
       "2944              952.89  2021-09-02    247.0      5.0    9.0  0.264084   \n",
       "2968              166.40  2021-09-02    247.0      5.0    9.0  0.352025   \n",
       "2992             7207.88  2021-09-02    247.0      5.0    9.0  0.276637   \n",
       "3016              400.00  2021-09-02    247.0      5.0    9.0  0.329000   \n",
       "3040             1411.00  2021-09-02    247.0      5.0    9.0  0.127160   \n",
       "3064            13417.79  2021-09-02    247.0      5.0    9.0  0.164036   \n",
       "\n",
       "      relProd_solarNorm  \n",
       "2944           0.132042  \n",
       "2968           0.117342  \n",
       "2992           0.069159  \n",
       "3016           0.329000  \n",
       "3040           0.063580  \n",
       "3064           0.041009  "
      ]
     },
     "execution_count": 52,
     "metadata": {},
     "output_type": "execute_result"
    }
   ],
   "source": [
    "pd.set_option('Display.max_column', None)\n",
    "df.loc[(df.county == 0) & (df.data_block_id == 3) & (df.datetime_x == '2021-09-04 16:00:00')]\n",
    "# relative Production is NOT const over all customers in county -> something else needs to be there\n",
    "# investigate product type, business & installed capacity"
   ]
  },
  {
   "cell_type": "markdown",
   "metadata": {},
   "source": [
    "### investigate product type \n",
    "- we only have 1 \"is_business\", \"product_type\" pair per county!!! \n",
    "- this means our we have 1 individual customer per \"county, is_business, product_type\"\n",
    "- is the chance to map production result to solar power per county\n",
    "- not always customers for all business_product_types -> can't predict for all the customers at the same time"
   ]
  },
  {
   "cell_type": "code",
   "execution_count": 154,
   "metadata": {},
   "outputs": [
    {
     "data": {
      "text/plain": [
       "[(0, 1), (1, 2), (1, 1), (0, 3), (0, 2), (1, 0), (1, 3)]"
      ]
     },
     "execution_count": 154,
     "metadata": {},
     "output_type": "execute_result"
    }
   ],
   "source": [
    "unique_pairs = list(set(zip(df['is_business'], df[ 'product_type'])))\n",
    "pair_index_dict = {pair: index for index, pair in enumerate(unique_pairs)}\n",
    "df['business_prodType'] = list(map(pair_index_dict.get, zip(df['is_business'], df['product_type'])))\n",
    "unique_pairs"
   ]
  },
  {
   "cell_type": "code",
   "execution_count": 125,
   "metadata": {},
   "outputs": [],
   "source": [
    "#df.groupby('product_type')['installed_capacity'].max()"
   ]
  },
  {
   "cell_type": "code",
   "execution_count": 126,
   "metadata": {},
   "outputs": [],
   "source": [
    "#df.groupby('product_type')['installed_capacity'].min()"
   ]
  },
  {
   "cell_type": "code",
   "execution_count": 127,
   "metadata": {},
   "outputs": [],
   "source": [
    "#df.loc[(df.datetime_x == '2021-09-04 16:00:00')].groupby('business_prodType')[['relProd','relProd_solarNorm','installed_capacity','target_prod','target_cons']].mean()"
   ]
  },
  {
   "cell_type": "code",
   "execution_count": 129,
   "metadata": {},
   "outputs": [],
   "source": [
    "#df.loc[(df.datetime_x == '2021-09-04 16:00:00')].groupby('business_prodType')[['relProd','relProd_solarNorm','installed_capacity','target_prod','target_cons']].std()"
   ]
  },
  {
   "cell_type": "code",
   "execution_count": 167,
   "metadata": {},
   "outputs": [
    {
     "data": {
      "text/html": [
       "<div>\n",
       "<style scoped>\n",
       "    .dataframe tbody tr th:only-of-type {\n",
       "        vertical-align: middle;\n",
       "    }\n",
       "\n",
       "    .dataframe tbody tr th {\n",
       "        vertical-align: top;\n",
       "    }\n",
       "\n",
       "    .dataframe thead th {\n",
       "        text-align: right;\n",
       "    }\n",
       "</style>\n",
       "<table border=\"1\" class=\"dataframe\">\n",
       "  <thead>\n",
       "    <tr style=\"text-align: right;\">\n",
       "      <th></th>\n",
       "      <th>county</th>\n",
       "      <th>is_business</th>\n",
       "      <th>product_type</th>\n",
       "      <th>target_prod</th>\n",
       "      <th>target_cons</th>\n",
       "      <th>eic_count</th>\n",
       "      <th>installed_capacity</th>\n",
       "      <th>relProd</th>\n",
       "      <th>relProd_solarNorm</th>\n",
       "      <th>business_prodType</th>\n",
       "    </tr>\n",
       "  </thead>\n",
       "  <tbody>\n",
       "    <tr>\n",
       "      <th>2945</th>\n",
       "      <td>0</td>\n",
       "      <td>0</td>\n",
       "      <td>1</td>\n",
       "      <td>152.195</td>\n",
       "      <td>63.018</td>\n",
       "      <td>108.0</td>\n",
       "      <td>952.89</td>\n",
       "      <td>0.159719</td>\n",
       "      <td>0.079860</td>\n",
       "      <td>0</td>\n",
       "    </tr>\n",
       "    <tr>\n",
       "      <th>3089</th>\n",
       "      <td>1</td>\n",
       "      <td>0</td>\n",
       "      <td>1</td>\n",
       "      <td>8.305</td>\n",
       "      <td>1.989</td>\n",
       "      <td>7.0</td>\n",
       "      <td>80.00</td>\n",
       "      <td>0.103813</td>\n",
       "      <td>0.051906</td>\n",
       "      <td>0</td>\n",
       "    </tr>\n",
       "    <tr>\n",
       "      <th>3209</th>\n",
       "      <td>3</td>\n",
       "      <td>0</td>\n",
       "      <td>1</td>\n",
       "      <td>21.140</td>\n",
       "      <td>10.372</td>\n",
       "      <td>16.0</td>\n",
       "      <td>179.90</td>\n",
       "      <td>0.117510</td>\n",
       "      <td>0.058755</td>\n",
       "      <td>0</td>\n",
       "    </tr>\n",
       "    <tr>\n",
       "      <th>3305</th>\n",
       "      <td>4</td>\n",
       "      <td>0</td>\n",
       "      <td>1</td>\n",
       "      <td>9.387</td>\n",
       "      <td>3.851</td>\n",
       "      <td>9.0</td>\n",
       "      <td>72.20</td>\n",
       "      <td>0.130014</td>\n",
       "      <td>0.065007</td>\n",
       "      <td>0</td>\n",
       "    </tr>\n",
       "    <tr>\n",
       "      <th>3401</th>\n",
       "      <td>5</td>\n",
       "      <td>0</td>\n",
       "      <td>1</td>\n",
       "      <td>24.113</td>\n",
       "      <td>18.810</td>\n",
       "      <td>24.0</td>\n",
       "      <td>289.80</td>\n",
       "      <td>0.083206</td>\n",
       "      <td>0.041603</td>\n",
       "      <td>0</td>\n",
       "    </tr>\n",
       "    <tr>\n",
       "      <th>3545</th>\n",
       "      <td>7</td>\n",
       "      <td>0</td>\n",
       "      <td>1</td>\n",
       "      <td>50.964</td>\n",
       "      <td>13.518</td>\n",
       "      <td>31.0</td>\n",
       "      <td>334.80</td>\n",
       "      <td>0.152222</td>\n",
       "      <td>0.076111</td>\n",
       "      <td>0</td>\n",
       "    </tr>\n",
       "    <tr>\n",
       "      <th>3689</th>\n",
       "      <td>8</td>\n",
       "      <td>0</td>\n",
       "      <td>1</td>\n",
       "      <td>13.637</td>\n",
       "      <td>11.741</td>\n",
       "      <td>11.0</td>\n",
       "      <td>83.00</td>\n",
       "      <td>0.164301</td>\n",
       "      <td>0.082151</td>\n",
       "      <td>0</td>\n",
       "    </tr>\n",
       "    <tr>\n",
       "      <th>3761</th>\n",
       "      <td>9</td>\n",
       "      <td>0</td>\n",
       "      <td>1</td>\n",
       "      <td>37.883</td>\n",
       "      <td>14.505</td>\n",
       "      <td>20.0</td>\n",
       "      <td>247.90</td>\n",
       "      <td>0.152816</td>\n",
       "      <td>0.076408</td>\n",
       "      <td>0</td>\n",
       "    </tr>\n",
       "    <tr>\n",
       "      <th>3857</th>\n",
       "      <td>10</td>\n",
       "      <td>0</td>\n",
       "      <td>1</td>\n",
       "      <td>38.577</td>\n",
       "      <td>9.042</td>\n",
       "      <td>19.0</td>\n",
       "      <td>240.70</td>\n",
       "      <td>0.160270</td>\n",
       "      <td>0.080135</td>\n",
       "      <td>0</td>\n",
       "    </tr>\n",
       "    <tr>\n",
       "      <th>3977</th>\n",
       "      <td>11</td>\n",
       "      <td>0</td>\n",
       "      <td>1</td>\n",
       "      <td>35.491</td>\n",
       "      <td>17.083</td>\n",
       "      <td>39.0</td>\n",
       "      <td>384.30</td>\n",
       "      <td>0.092352</td>\n",
       "      <td>0.046176</td>\n",
       "      <td>0</td>\n",
       "    </tr>\n",
       "    <tr>\n",
       "      <th>4145</th>\n",
       "      <td>13</td>\n",
       "      <td>0</td>\n",
       "      <td>1</td>\n",
       "      <td>17.010</td>\n",
       "      <td>1.450</td>\n",
       "      <td>10.0</td>\n",
       "      <td>118.20</td>\n",
       "      <td>0.143909</td>\n",
       "      <td>0.071954</td>\n",
       "      <td>0</td>\n",
       "    </tr>\n",
       "    <tr>\n",
       "      <th>4217</th>\n",
       "      <td>14</td>\n",
       "      <td>0</td>\n",
       "      <td>1</td>\n",
       "      <td>22.933</td>\n",
       "      <td>14.395</td>\n",
       "      <td>18.0</td>\n",
       "      <td>260.00</td>\n",
       "      <td>0.088204</td>\n",
       "      <td>0.044102</td>\n",
       "      <td>0</td>\n",
       "    </tr>\n",
       "    <tr>\n",
       "      <th>4313</th>\n",
       "      <td>15</td>\n",
       "      <td>0</td>\n",
       "      <td>1</td>\n",
       "      <td>11.068</td>\n",
       "      <td>4.491</td>\n",
       "      <td>10.0</td>\n",
       "      <td>83.20</td>\n",
       "      <td>0.133029</td>\n",
       "      <td>0.066514</td>\n",
       "      <td>0</td>\n",
       "    </tr>\n",
       "  </tbody>\n",
       "</table>\n",
       "</div>"
      ],
      "text/plain": [
       "      county  is_business  product_type  target_prod  target_cons  eic_count  \\\n",
       "2945       0            0             1      152.195       63.018      108.0   \n",
       "3089       1            0             1        8.305        1.989        7.0   \n",
       "3209       3            0             1       21.140       10.372       16.0   \n",
       "3305       4            0             1        9.387        3.851        9.0   \n",
       "3401       5            0             1       24.113       18.810       24.0   \n",
       "3545       7            0             1       50.964       13.518       31.0   \n",
       "3689       8            0             1       13.637       11.741       11.0   \n",
       "3761       9            0             1       37.883       14.505       20.0   \n",
       "3857      10            0             1       38.577        9.042       19.0   \n",
       "3977      11            0             1       35.491       17.083       39.0   \n",
       "4145      13            0             1       17.010        1.450       10.0   \n",
       "4217      14            0             1       22.933       14.395       18.0   \n",
       "4313      15            0             1       11.068        4.491       10.0   \n",
       "\n",
       "      installed_capacity   relProd  relProd_solarNorm  business_prodType  \n",
       "2945              952.89  0.159719           0.079860                  0  \n",
       "3089               80.00  0.103813           0.051906                  0  \n",
       "3209              179.90  0.117510           0.058755                  0  \n",
       "3305               72.20  0.130014           0.065007                  0  \n",
       "3401              289.80  0.083206           0.041603                  0  \n",
       "3545              334.80  0.152222           0.076111                  0  \n",
       "3689               83.00  0.164301           0.082151                  0  \n",
       "3761              247.90  0.152816           0.076408                  0  \n",
       "3857              240.70  0.160270           0.080135                  0  \n",
       "3977              384.30  0.092352           0.046176                  0  \n",
       "4145              118.20  0.143909           0.071954                  0  \n",
       "4217              260.00  0.088204           0.044102                  0  \n",
       "4313               83.20  0.133029           0.066514                  0  "
      ]
     },
     "execution_count": 167,
     "metadata": {},
     "output_type": "execute_result"
    }
   ],
   "source": [
    "f = ['county', 'is_business', 'product_type', 'target_prod', 'target_cons',\n",
    "       # 'euros_per_mwh', 'lowest_price_per_mwh',\n",
    "       #'highest_price_per_mwh', 'hour', 'temperatureint',\n",
    "       #'dewpointint', 'cloudcover_highint', 'cloudcover_lowint',\n",
    "       #'cloudcover_midint', 'cloudcover_totalint',\n",
    "       #'10_metre_u_wind_componentint', '10_metre_v_wind_componentint',\n",
    "       #'direct_solar_radiationint', 'surface_solar_radiation_downwardsint',\n",
    "       #'snowfallint', 'total_precipitationint', 'yearday', 'weekday', 'month',\n",
    "        'eic_count',\n",
    "       'installed_capacity', 'relProd',\n",
    "       'relProd_solarNorm', 'business_prodType'\n",
    "]\n",
    "df.loc[(df.datetime_x == '2021-09-04 17:00:00') & (df.business_prodType == 0)][f]"
   ]
  },
  {
   "cell_type": "code",
   "execution_count": 163,
   "metadata": {},
   "outputs": [
    {
     "data": {
      "text/plain": [
       "False"
      ]
     },
     "execution_count": 163,
     "metadata": {},
     "output_type": "execute_result"
    }
   ],
   "source": [
    "a = df.groupby(['datetime_x','county'])['business_prodType'].value_counts()\n",
    "(a>1).any()"
   ]
  },
  {
   "cell_type": "markdown",
   "metadata": {},
   "source": [
    "### investigate eic_count\n",
    "- one eic count per customer, BUT different customer can have a same eic count\n",
    "- individual customer = unique business_prodType per county\n",
    "\n",
    "- a change indicates that we have a new customer with the old customer_id!\n",
    "    - but how does this make sense if we don't have older data for predicting stuff??"
   ]
  },
  {
   "cell_type": "code",
   "execution_count": 170,
   "metadata": {},
   "outputs": [
    {
     "data": {
      "text/plain": [
       "True"
      ]
     },
     "execution_count": 170,
     "metadata": {},
     "output_type": "execute_result"
    }
   ],
   "source": [
    "a = df.groupby(['datetime_x','business_prodType'])['eic_count'].value_counts()\n",
    "(a>1).any()\n",
    "# whaat eic count is a multiple thing per county (each county has only 1 business_prod_type)"
   ]
  },
  {
   "cell_type": "code",
   "execution_count": 186,
   "metadata": {},
   "outputs": [],
   "source": [
    "unique_pairs_cust = list(set(zip(df['is_business'], df[ 'product_type'], df['county'])))\n",
    "pair_index_dict = {pair: index for index, pair in enumerate(unique_pairs_cust)}\n",
    "df['customer_id'] = list(map(pair_index_dict.get, zip(df['is_business'], df['product_type'], df['county'])))\n",
    "#unique_pairs_cust"
   ]
  },
  {
   "cell_type": "code",
   "execution_count": 199,
   "metadata": {},
   "outputs": [
    {
     "data": {
      "text/plain": [
       "<Axes: >"
      ]
     },
     "execution_count": 199,
     "metadata": {},
     "output_type": "execute_result"
    },
    {
     "data": {
      "image/png": "[encoded data removed]",
      "text/plain": [
       "<Figure size 640x480 with 1 Axes>"
      ]
     },
     "metadata": {},
     "output_type": "display_data"
    }
   ],
   "source": [
    "df.loc[df.customer_id == 38]['eic_count'].plot()"
   ]
  },
  {
   "cell_type": "code",
   "execution_count": 198,
   "metadata": {},
   "outputs": [
    {
     "data": {
      "text/html": [
       "<div>\n",
       "<style scoped>\n",
       "    .dataframe tbody tr th:only-of-type {\n",
       "        vertical-align: middle;\n",
       "    }\n",
       "\n",
       "    .dataframe tbody tr th {\n",
       "        vertical-align: top;\n",
       "    }\n",
       "\n",
       "    .dataframe thead th {\n",
       "        text-align: right;\n",
       "    }\n",
       "</style>\n",
       "<table border=\"1\" class=\"dataframe\">\n",
       "  <thead>\n",
       "    <tr style=\"text-align: right;\">\n",
       "      <th></th>\n",
       "      <th>county</th>\n",
       "      <th>is_business</th>\n",
       "      <th>product_type</th>\n",
       "      <th>target_prod</th>\n",
       "      <th>target_cons</th>\n",
       "      <th>eic_count</th>\n",
       "      <th>installed_capacity</th>\n",
       "      <th>relProd</th>\n",
       "      <th>relProd_solarNorm</th>\n",
       "      <th>business_prodType</th>\n",
       "      <th>customer_id</th>\n",
       "    </tr>\n",
       "  </thead>\n",
       "  <tbody>\n",
       "    <tr>\n",
       "      <th>3016</th>\n",
       "      <td>0</td>\n",
       "      <td>1</td>\n",
       "      <td>0</td>\n",
       "      <td>131.600</td>\n",
       "      <td>5.600</td>\n",
       "      <td>5.0</td>\n",
       "      <td>400.0</td>\n",
       "      <td>0.329000</td>\n",
       "      <td>0.329000</td>\n",
       "      <td>5</td>\n",
       "      <td>44</td>\n",
       "    </tr>\n",
       "    <tr>\n",
       "      <th>3448</th>\n",
       "      <td>5</td>\n",
       "      <td>1</td>\n",
       "      <td>0</td>\n",
       "      <td>33.420</td>\n",
       "      <td>667.430</td>\n",
       "      <td>5.0</td>\n",
       "      <td>1160.0</td>\n",
       "      <td>0.028810</td>\n",
       "      <td>0.028810</td>\n",
       "      <td>5</td>\n",
       "      <td>68</td>\n",
       "    </tr>\n",
       "    <tr>\n",
       "      <th>3568</th>\n",
       "      <td>7</td>\n",
       "      <td>0</td>\n",
       "      <td>2</td>\n",
       "      <td>22.517</td>\n",
       "      <td>0.514</td>\n",
       "      <td>5.0</td>\n",
       "      <td>50.5</td>\n",
       "      <td>0.445881</td>\n",
       "      <td>0.148627</td>\n",
       "      <td>4</td>\n",
       "      <td>19</td>\n",
       "    </tr>\n",
       "    <tr>\n",
       "      <th>3928</th>\n",
       "      <td>10</td>\n",
       "      <td>1</td>\n",
       "      <td>2</td>\n",
       "      <td>16.915</td>\n",
       "      <td>46.581</td>\n",
       "      <td>5.0</td>\n",
       "      <td>121.5</td>\n",
       "      <td>0.139218</td>\n",
       "      <td>0.046406</td>\n",
       "      <td>1</td>\n",
       "      <td>38</td>\n",
       "    </tr>\n",
       "  </tbody>\n",
       "</table>\n",
       "</div>"
      ],
      "text/plain": [
       "      county  is_business  product_type  target_prod  target_cons  eic_count  \\\n",
       "3016       0            1             0      131.600        5.600        5.0   \n",
       "3448       5            1             0       33.420      667.430        5.0   \n",
       "3568       7            0             2       22.517        0.514        5.0   \n",
       "3928      10            1             2       16.915       46.581        5.0   \n",
       "\n",
       "      installed_capacity   relProd  relProd_solarNorm  business_prodType  \\\n",
       "3016               400.0  0.329000           0.329000                  5   \n",
       "3448              1160.0  0.028810           0.028810                  5   \n",
       "3568                50.5  0.445881           0.148627                  4   \n",
       "3928               121.5  0.139218           0.046406                  1   \n",
       "\n",
       "      customer_id  \n",
       "3016           44  \n",
       "3448           68  \n",
       "3568           19  \n",
       "3928           38  "
      ]
     },
     "execution_count": 198,
     "metadata": {},
     "output_type": "execute_result"
    }
   ],
   "source": [
    "f2 = ['county', 'is_business', 'product_type', 'target_prod', 'target_cons',\n",
    "       # 'euros_per_mwh', 'lowest_price_per_mwh',\n",
    "       #'highest_price_per_mwh', 'hour', 'temperatureint',\n",
    "       #'dewpointint', 'cloudcover_highint', 'cloudcover_lowint',\n",
    "       #'cloudcover_midint', 'cloudcover_totalint',\n",
    "       #'10_metre_u_wind_componentint', '10_metre_v_wind_componentint',\n",
    "       #'direct_solar_radiationint', 'surface_solar_radiation_downwardsint',\n",
    "       #'snowfallint', 'total_precipitationint', 'yearday', 'weekday', 'month',\n",
    "        'eic_count',\n",
    "       'installed_capacity', 'relProd',\n",
    "       'relProd_solarNorm', 'business_prodType', 'customer_id'\n",
    "]\n",
    "df.loc[(df.datetime_x == '2021-09-04 16:00:00') & (df.eic_count == 5)][f2]#.eic_count.value_counts()"
   ]
  },
  {
   "cell_type": "code",
   "execution_count": 202,
   "metadata": {},
   "outputs": [
    {
     "data": {
      "text/plain": [
       "False"
      ]
     },
     "execution_count": 202,
     "metadata": {},
     "output_type": "execute_result"
    }
   ],
   "source": [
    "b = df.groupby('customer_id').datetime_x.value_counts()\n",
    "(b>1).any()"
   ]
  },
  {
   "cell_type": "markdown",
   "metadata": {},
   "source": [
    "### individual customer id"
   ]
  },
  {
   "cell_type": "code",
   "execution_count": null,
   "metadata": {},
   "outputs": [],
   "source": [
    "unique_pairs_cust = list(set(zip(df['is_business'], df[ 'product_type'], df['county'], df['eic_count'])))\n",
    "pair_index_dict = {pair: index for index, pair in enumerate(unique_pairs_cust)}\n",
    "df['customer_id'] = list(map(pair_index_dict.get, zip(df['is_business'], df['product_type'], df['county'])))"
   ]
  },
  {
   "cell_type": "markdown",
   "metadata": {},
   "source": [
    "### investigate consumption"
   ]
  },
  {
   "cell_type": "code",
   "execution_count": 174,
   "metadata": {},
   "outputs": [],
   "source": [
    "df['relCons_ePrice'] = df['target_cons'] / df['euros_per_mwh']\n",
    "df['relCons_prod'] = df['target_cons'] / df['target_prod']\n",
    "df['relCons_eic'] = df['target_cons'] / df['eic_count']\n",
    "df['relCons_cap'] = df['target_cons'] / df['installed_capacity']\n"
   ]
  },
  {
   "cell_type": "code",
   "execution_count": 204,
   "metadata": {},
   "outputs": [
    {
     "data": {
      "text/html": [
       "<div>\n",
       "<style scoped>\n",
       "    .dataframe tbody tr th:only-of-type {\n",
       "        vertical-align: middle;\n",
       "    }\n",
       "\n",
       "    .dataframe tbody tr th {\n",
       "        vertical-align: top;\n",
       "    }\n",
       "\n",
       "    .dataframe thead th {\n",
       "        text-align: right;\n",
       "    }\n",
       "</style>\n",
       "<table border=\"1\" class=\"dataframe\">\n",
       "  <thead>\n",
       "    <tr style=\"text-align: right;\">\n",
       "      <th></th>\n",
       "      <th>county</th>\n",
       "      <th>target_prod</th>\n",
       "      <th>target_cons</th>\n",
       "      <th>temperatureint</th>\n",
       "      <th>10_metre_u_wind_componentint</th>\n",
       "      <th>10_metre_v_wind_componentint</th>\n",
       "      <th>snowfallint</th>\n",
       "      <th>total_precipitationint</th>\n",
       "      <th>eic_count</th>\n",
       "      <th>installed_capacity</th>\n",
       "      <th>relProd</th>\n",
       "      <th>business_prodType</th>\n",
       "      <th>relCons_ePrice</th>\n",
       "      <th>relCons_prod</th>\n",
       "      <th>relCons_eic</th>\n",
       "      <th>relCons_cap</th>\n",
       "    </tr>\n",
       "  </thead>\n",
       "  <tbody>\n",
       "    <tr>\n",
       "      <th>2944</th>\n",
       "      <td>0</td>\n",
       "      <td>251.643</td>\n",
       "      <td>52.525</td>\n",
       "      <td>11.026382</td>\n",
       "      <td>1.458484</td>\n",
       "      <td>-3.092217</td>\n",
       "      <td>0.0</td>\n",
       "      <td>6.652520e-07</td>\n",
       "      <td>108.0</td>\n",
       "      <td>952.89</td>\n",
       "      <td>0.264084</td>\n",
       "      <td>0</td>\n",
       "      <td>0.568945</td>\n",
       "      <td>0.208728</td>\n",
       "      <td>0.486343</td>\n",
       "      <td>0.055122</td>\n",
       "    </tr>\n",
       "  </tbody>\n",
       "</table>\n",
       "</div>"
      ],
      "text/plain": [
       "      county  target_prod  target_cons  temperatureint  \\\n",
       "2944       0      251.643       52.525       11.026382   \n",
       "\n",
       "      10_metre_u_wind_componentint  10_metre_v_wind_componentint  snowfallint  \\\n",
       "2944                      1.458484                     -3.092217          0.0   \n",
       "\n",
       "      total_precipitationint  eic_count  installed_capacity   relProd  \\\n",
       "2944            6.652520e-07      108.0              952.89  0.264084   \n",
       "\n",
       "      business_prodType  relCons_ePrice  relCons_prod  relCons_eic  \\\n",
       "2944                  0        0.568945      0.208728     0.486343   \n",
       "\n",
       "      relCons_cap  \n",
       "2944     0.055122  "
      ]
     },
     "execution_count": 204,
     "metadata": {},
     "output_type": "execute_result"
    }
   ],
   "source": [
    "f = ['county', #'is_business', 'product_type', \n",
    "       'target_prod', 'target_cons',\n",
    "       # 'euros_per_mwh', 'lowest_price_per_mwh','highest_price_per_mwh',\n",
    "       # 'hour', \n",
    "       'temperatureint',\n",
    "       #'dewpointint', 'cloudcover_highint', 'cloudcover_lowint',\n",
    "       #'cloudcover_midint', 'cloudcover_totalint',\n",
    "       '10_metre_u_wind_componentint', '10_metre_v_wind_componentint',\n",
    "       #'direct_solar_radiationint', 'surface_solar_radiation_downwardsint',\n",
    "       'snowfallint', 'total_precipitationint', \n",
    "       # 'yearday', 'weekday', 'month',\n",
    "        'eic_count',\n",
    "       'installed_capacity', 'relProd',\n",
    "       #'relProd_solarNorm', \n",
    "       'business_prodType',\n",
    "       'relCons_ePrice','relCons_prod','relCons_eic','relCons_cap'\n",
    "]\n",
    "df.loc[(df.datetime_x == '2021-09-04 16:00:00') & (df.customer_id == 2)][f]"
   ]
  },
  {
   "cell_type": "code",
   "execution_count": null,
   "metadata": {},
   "outputs": [],
   "source": [
    "df.groupby(['datetime_x',''])"
   ]
  },
  {
   "cell_type": "markdown",
   "metadata": {},
   "source": [
    "### correlations\n",
    "- what consumption exactly, electricity?\n",
    "- is produced electricity directly used or is always produced and consumed absolute?"
   ]
  },
  {
   "cell_type": "code",
   "execution_count": 36,
   "metadata": {},
   "outputs": [],
   "source": [
    "#df.loc[df.is_business == 0].target_prod.plot()"
   ]
  },
  {
   "cell_type": "code",
   "execution_count": 181,
   "metadata": {},
   "outputs": [],
   "source": [
    "corr_matrix = df.drop(['datetime_x','origin_date','forecast_date','origin_datetime','datetime_y','date','Unnamed: 0','forecast_datetime'],axis=1).corr()\n",
    "correlations_prod = corr_matrix['target_prod'].sort_values(ascending=False)\n",
    "correlations_cons = corr_matrix['target_cons'].sort_values(ascending=False)"
   ]
  },
  {
   "cell_type": "code",
   "execution_count": 182,
   "metadata": {},
   "outputs": [
    {
     "data": {
      "text/plain": [
       "prediction_unit_id                     -0.140789\n",
       "county                                 -0.132839\n",
       "relProd_solarNorm                      -0.100975\n",
       "relProd                                -0.092634\n",
       "temperatureint                         -0.074068\n",
       "dewpointint                            -0.060886\n",
       "direct_solar_radiationint              -0.047819\n",
       "surface_solar_radiation_downwardsint   -0.047335\n",
       "weekday                                -0.039559\n",
       "lowest_price_per_mwh                   -0.026161\n",
       "highest_price_per_mwh                  -0.023119\n",
       "10_metre_u_wind_componentint           -0.016786\n",
       "yearday                                -0.016208\n",
       "month                                  -0.015955\n",
       "longitude                              -0.003873\n",
       "total_precipitationint                  0.005155\n",
       "hours_ahead                             0.013658\n",
       "hour                                    0.013658\n",
       "10_metre_v_wind_componentint            0.014422\n",
       "cloudcover_highint                      0.016144\n",
       "euros_per_mwh                           0.017543\n",
       "snowfallint                             0.021601\n",
       "relCons                                 0.023706\n",
       "relCons_ePrice                          0.023706\n",
       "cloudcover_midint                       0.026152\n",
       "data_block_id                           0.029329\n",
       "datetime_GasEl_prices                   0.029350\n",
       "row_id_cons                             0.029495\n",
       "row_id_prod                             0.029495\n",
       "cloudcover_totalint                     0.043342\n",
       "cloudcover_lowint                       0.055211\n",
       "target_prod                             0.108127\n",
       "latitude                                0.156497\n",
       "relCons_prod                            0.166700\n",
       "relCons_cap                             0.193891\n",
       "product_type                            0.222200\n",
       "is_business                             0.255040\n",
       "relCons_eic                             0.276725\n",
       "eic_count                               0.336345\n",
       "business_prodType                       0.354829\n",
       "installed_capacity                      0.808895\n",
       "target_cons                             1.000000\n",
       "Name: target_cons, dtype: float64"
      ]
     },
     "execution_count": 182,
     "metadata": {},
     "output_type": "execute_result"
    }
   ],
   "source": [
    "corr_matrix['target_cons'].sort_values()"
   ]
  },
  {
   "cell_type": "code",
   "execution_count": 39,
   "metadata": {},
   "outputs": [
    {
     "data": {
      "text/plain": [
       "<AxesSubplot:>"
      ]
     },
     "execution_count": 39,
     "metadata": {},
     "output_type": "execute_result"
    },
    {
     "data": {
      "image/png": "[encoded data removed]",
      "text/plain": [
       "<Figure size 432x288 with 2 Axes>"
      ]
     },
     "metadata": {
      "needs_background": "light"
     },
     "output_type": "display_data"
    }
   ],
   "source": [
    "import seaborn as sns\n",
    "import matplotlib.pyplot as plt\n",
    "\n",
    "sns.heatmap(corr_matrix, cmap=\"coolwarm\")\n",
    "#plt.show()"
   ]
  },
  {
   "cell_type": "markdown",
   "metadata": {},
   "source": [
    "# try to fit a little tree"
   ]
  },
  {
   "cell_type": "code",
   "execution_count": 41,
   "metadata": {},
   "outputs": [],
   "source": [
    "from sklearn.metrics import balanced_accuracy_score\n",
    "from sklearn.ensemble import GradientBoostingClassifier, RandomForestClassifier, RandomForestRegressor\n",
    "from sklearn.metrics import accuracy_score\n",
    "from sklearn.model_selection import train_test_split\n",
    "from sklearn.datasets import make_classification"
   ]
  },
  {
   "cell_type": "code",
   "execution_count": 44,
   "metadata": {},
   "outputs": [],
   "source": [
    "Y = df[['target_prod','target_cons']]\n",
    "X = df.drop(['target_prod','target_cons', 'datetime_x',\n",
    "       'row_id_cons', 'forecast_date', 'origin_date',\n",
    "       'Unnamed: 0',\n",
    "       'forecast_datetime', 'hours_ahead', 'origin_datetime', 'datetime_y', 'date'],axis=1)\n",
    "X_train, X_test, y_train, y_test = train_test_split(X, Y, test_size=0.4, random_state=42, shuffle = False)"
   ]
  },
  {
   "cell_type": "code",
   "execution_count": 51,
   "metadata": {},
   "outputs": [
    {
     "data": {
      "text/plain": [
       "1464       0.793\n",
       "1465       2.106\n",
       "1466       0.955\n",
       "1467       0.711\n",
       "1468       0.729\n",
       "           ...  \n",
       "604067    63.683\n",
       "604068    55.180\n",
       "604069    50.340\n",
       "604070    58.049\n",
       "604071    61.917\n",
       "Name: target_prod, Length: 601739, dtype: float64"
      ]
     },
     "execution_count": 51,
     "metadata": {},
     "output_type": "execute_result"
    }
   ],
   "source": [
    "y_train.target_cons"
   ]
  },
  {
   "cell_type": "code",
   "execution_count": 52,
   "metadata": {},
   "outputs": [
    {
     "ename": "ValueError",
     "evalue": "continuous is not supported",
     "output_type": "error",
     "traceback": [
      "\u001b[0;31m---------------------------------------------------------------------------\u001b[0m",
      "\u001b[0;31mValueError\u001b[0m                                Traceback (most recent call last)",
      "\u001b[1;32m/Users/matthiaskargl/Codes/kaggle/predictEnegyCons/jupyters/checkCorrelation.ipynb Cell 25\u001b[0m in \u001b[0;36m<cell line: 4>\u001b[0;34m()\u001b[0m\n\u001b[1;32m      <a href='vscode-notebook-cell:/Users/matthiaskargl/Codes/kaggle/predictEnegyCons/jupyters/checkCorrelation.ipynb#X43sZmlsZQ%3D%3D?line=1'>2</a>\u001b[0m random_forest_model\u001b[39m.\u001b[39mfit(X_train, y_train\u001b[39m.\u001b[39mtarget_prod)\n\u001b[1;32m      <a href='vscode-notebook-cell:/Users/matthiaskargl/Codes/kaggle/predictEnegyCons/jupyters/checkCorrelation.ipynb#X43sZmlsZQ%3D%3D?line=2'>3</a>\u001b[0m random_forest_test_predictions \u001b[39m=\u001b[39m random_forest_model\u001b[39m.\u001b[39mpredict(X_train)\n\u001b[0;32m----> <a href='vscode-notebook-cell:/Users/matthiaskargl/Codes/kaggle/predictEnegyCons/jupyters/checkCorrelation.ipynb#X43sZmlsZQ%3D%3D?line=3'>4</a>\u001b[0m random_forest_test_accuracy \u001b[39m=\u001b[39m balanced_accuracy_score(y_train\u001b[39m.\u001b[39;49mtarget_prod, random_forest_test_predictions)\n\u001b[1;32m      <a href='vscode-notebook-cell:/Users/matthiaskargl/Codes/kaggle/predictEnegyCons/jupyters/checkCorrelation.ipynb#X43sZmlsZQ%3D%3D?line=4'>5</a>\u001b[0m \u001b[39mprint\u001b[39m(\u001b[39m\"\u001b[39m\u001b[39mRandom Forest train Accuracy:\u001b[39m\u001b[39m\"\u001b[39m, random_forest_test_accuracy)\n\u001b[1;32m      <a href='vscode-notebook-cell:/Users/matthiaskargl/Codes/kaggle/predictEnegyCons/jupyters/checkCorrelation.ipynb#X43sZmlsZQ%3D%3D?line=6'>7</a>\u001b[0m \u001b[39m# Make predictions on the testing set using the trained model\u001b[39;00m\n",
      "File \u001b[0;32m~/opt/anaconda3/lib/python3.9/site-packages/sklearn/metrics/_classification.py:1983\u001b[0m, in \u001b[0;36mbalanced_accuracy_score\u001b[0;34m(y_true, y_pred, sample_weight, adjusted)\u001b[0m\n\u001b[1;32m   1914\u001b[0m \u001b[39mdef\u001b[39;00m \u001b[39mbalanced_accuracy_score\u001b[39m(y_true, y_pred, \u001b[39m*\u001b[39m, sample_weight\u001b[39m=\u001b[39m\u001b[39mNone\u001b[39;00m, adjusted\u001b[39m=\u001b[39m\u001b[39mFalse\u001b[39;00m):\n\u001b[1;32m   1915\u001b[0m     \u001b[39m\"\"\"Compute the balanced accuracy.\u001b[39;00m\n\u001b[1;32m   1916\u001b[0m \n\u001b[1;32m   1917\u001b[0m \u001b[39m    The balanced accuracy in binary and multiclass classification problems to\u001b[39;00m\n\u001b[0;32m   (...)\u001b[0m\n\u001b[1;32m   1981\u001b[0m \u001b[39m    0.625\u001b[39;00m\n\u001b[1;32m   1982\u001b[0m \u001b[39m    \"\"\"\u001b[39;00m\n\u001b[0;32m-> 1983\u001b[0m     C \u001b[39m=\u001b[39m confusion_matrix(y_true, y_pred, sample_weight\u001b[39m=\u001b[39;49msample_weight)\n\u001b[1;32m   1984\u001b[0m     \u001b[39mwith\u001b[39;00m np\u001b[39m.\u001b[39merrstate(divide\u001b[39m=\u001b[39m\u001b[39m\"\u001b[39m\u001b[39mignore\u001b[39m\u001b[39m\"\u001b[39m, invalid\u001b[39m=\u001b[39m\u001b[39m\"\u001b[39m\u001b[39mignore\u001b[39m\u001b[39m\"\u001b[39m):\n\u001b[1;32m   1985\u001b[0m         per_class \u001b[39m=\u001b[39m np\u001b[39m.\u001b[39mdiag(C) \u001b[39m/\u001b[39m C\u001b[39m.\u001b[39msum(axis\u001b[39m=\u001b[39m\u001b[39m1\u001b[39m)\n",
      "File \u001b[0;32m~/opt/anaconda3/lib/python3.9/site-packages/sklearn/metrics/_classification.py:307\u001b[0m, in \u001b[0;36mconfusion_matrix\u001b[0;34m(y_true, y_pred, labels, sample_weight, normalize)\u001b[0m\n\u001b[1;32m    222\u001b[0m \u001b[39mdef\u001b[39;00m \u001b[39mconfusion_matrix\u001b[39m(\n\u001b[1;32m    223\u001b[0m     y_true, y_pred, \u001b[39m*\u001b[39m, labels\u001b[39m=\u001b[39m\u001b[39mNone\u001b[39;00m, sample_weight\u001b[39m=\u001b[39m\u001b[39mNone\u001b[39;00m, normalize\u001b[39m=\u001b[39m\u001b[39mNone\u001b[39;00m\n\u001b[1;32m    224\u001b[0m ):\n\u001b[1;32m    225\u001b[0m     \u001b[39m\"\"\"Compute confusion matrix to evaluate the accuracy of a classification.\u001b[39;00m\n\u001b[1;32m    226\u001b[0m \n\u001b[1;32m    227\u001b[0m \u001b[39m    By definition a confusion matrix :math:`C` is such that :math:`C_{i, j}`\u001b[39;00m\n\u001b[0;32m   (...)\u001b[0m\n\u001b[1;32m    305\u001b[0m \u001b[39m    (0, 2, 1, 1)\u001b[39;00m\n\u001b[1;32m    306\u001b[0m \u001b[39m    \"\"\"\u001b[39;00m\n\u001b[0;32m--> 307\u001b[0m     y_type, y_true, y_pred \u001b[39m=\u001b[39m _check_targets(y_true, y_pred)\n\u001b[1;32m    308\u001b[0m     \u001b[39mif\u001b[39;00m y_type \u001b[39mnot\u001b[39;00m \u001b[39min\u001b[39;00m (\u001b[39m\"\u001b[39m\u001b[39mbinary\u001b[39m\u001b[39m\"\u001b[39m, \u001b[39m\"\u001b[39m\u001b[39mmulticlass\u001b[39m\u001b[39m\"\u001b[39m):\n\u001b[1;32m    309\u001b[0m         \u001b[39mraise\u001b[39;00m \u001b[39mValueError\u001b[39;00m(\u001b[39m\"\u001b[39m\u001b[39m%s\u001b[39;00m\u001b[39m is not supported\u001b[39m\u001b[39m\"\u001b[39m \u001b[39m%\u001b[39m y_type)\n",
      "File \u001b[0;32m~/opt/anaconda3/lib/python3.9/site-packages/sklearn/metrics/_classification.py:104\u001b[0m, in \u001b[0;36m_check_targets\u001b[0;34m(y_true, y_pred)\u001b[0m\n\u001b[1;32m    102\u001b[0m \u001b[39m# No metrics support \"multiclass-multioutput\" format\u001b[39;00m\n\u001b[1;32m    103\u001b[0m \u001b[39mif\u001b[39;00m y_type \u001b[39mnot\u001b[39;00m \u001b[39min\u001b[39;00m [\u001b[39m\"\u001b[39m\u001b[39mbinary\u001b[39m\u001b[39m\"\u001b[39m, \u001b[39m\"\u001b[39m\u001b[39mmulticlass\u001b[39m\u001b[39m\"\u001b[39m, \u001b[39m\"\u001b[39m\u001b[39mmultilabel-indicator\u001b[39m\u001b[39m\"\u001b[39m]:\n\u001b[0;32m--> 104\u001b[0m     \u001b[39mraise\u001b[39;00m \u001b[39mValueError\u001b[39;00m(\u001b[39m\"\u001b[39m\u001b[39m{0}\u001b[39;00m\u001b[39m is not supported\u001b[39m\u001b[39m\"\u001b[39m\u001b[39m.\u001b[39mformat(y_type))\n\u001b[1;32m    106\u001b[0m \u001b[39mif\u001b[39;00m y_type \u001b[39min\u001b[39;00m [\u001b[39m\"\u001b[39m\u001b[39mbinary\u001b[39m\u001b[39m\"\u001b[39m, \u001b[39m\"\u001b[39m\u001b[39mmulticlass\u001b[39m\u001b[39m\"\u001b[39m]:\n\u001b[1;32m    107\u001b[0m     y_true \u001b[39m=\u001b[39m column_or_1d(y_true)\n",
      "\u001b[0;31mValueError\u001b[0m: continuous is not supported"
     ]
    }
   ],
   "source": [
    "random_forest_model = RandomForestRegressor(n_estimators=100, max_depth=10, random_state=42)\n",
    "random_forest_model.fit(X_train, y_train.target_prod)"
   ]
  },
  {
   "cell_type": "code",
   "execution_count": 54,
   "metadata": {},
   "outputs": [
    {
     "name": "stdout",
     "output_type": "stream",
     "text": [
      "Random Forest train Accuracy: 26.07718183200533\n",
      "Random Forest Test Accuracy: 43.93698269424609\n"
     ]
    }
   ],
   "source": [
    "random_forest_test_predictions = random_forest_model.predict(X_train)\n",
    "random_forest_test_accuracy = sum(abs(y_train.target_prod - random_forest_test_predictions))/len(y_train)\n",
    "print(\"Random Forest train Accuracy:\", random_forest_test_accuracy)\n",
    "\n",
    "# Make predictions on the testing set using the trained model\n",
    "random_forest_test_predictions = random_forest_model.predict(X_test)\n",
    "\n",
    "# Calculate accuracy of the random forest model on the testing set\n",
    "random_forest_test_accuracy = sum(abs(y_test.target_prod- random_forest_test_predictions))/len(y_test)\n",
    "print(\"Random Forest Test Accuracy:\", random_forest_test_accuracy)"
   ]
  },
  {
   "cell_type": "code",
   "execution_count": 55,
   "metadata": {},
   "outputs": [
    {
     "name": "stdout",
     "output_type": "stream",
     "text": [
      "[ 16.6031463    5.84723095   0.89005171   0.88896512   0.76900953\n",
      "   0.76379282   0.76379282   0.7359595    0.26925229   0.26925229\n",
      "   0.26925229   0.26925229   0.26925229   0.56286539   1.32390281\n",
      "  10.68224417  60.86747416  71.44241514 234.2327413  218.67328976]\n",
      "[4.58090e+01 1.90300e+01 5.11700e+00 1.25000e-01 0.00000e+00 0.00000e+00\n",
      " 0.00000e+00 0.00000e+00 1.21900e+00 5.64000e-01 4.70000e-01 7.56000e-01\n",
      " 6.13000e-01 8.60000e-02 5.00000e-03 8.18000e-01 1.12830e+01 5.91650e+01\n",
      " 1.59393e+02 2.37765e+02]\n"
     ]
    }
   ],
   "source": [
    "print(random_forest_test_predictions[0:20])\n",
    "print(y_test.target_prod.to_numpy()[0:20])"
   ]
  },
  {
   "cell_type": "code",
   "execution_count": 1,
   "metadata": {},
   "outputs": [
    {
     "ename": "NameError",
     "evalue": "name 'X' is not defined",
     "output_type": "error",
     "traceback": [
      "\u001b[0;31m---------------------------------------------------------------------------\u001b[0m",
      "\u001b[0;31mNameError\u001b[0m                                 Traceback (most recent call last)",
      "\u001b[1;32m/Users/matthiaskargl/Codes/kaggle/predictEnegyCons/jupyters/checkCorrelation.ipynb Cell 28\u001b[0m in \u001b[0;36m<cell line: 1>\u001b[0;34m()\u001b[0m\n\u001b[0;32m----> <a href='vscode-notebook-cell:/Users/matthiaskargl/Codes/kaggle/predictEnegyCons/jupyters/checkCorrelation.ipynb#X36sZmlsZQ%3D%3D?line=0'>1</a>\u001b[0m \u001b[39mfor\u001b[39;00m i,feat \u001b[39min\u001b[39;00m \u001b[39menumerate\u001b[39m(X\u001b[39m.\u001b[39mcolumns):\n\u001b[1;32m      <a href='vscode-notebook-cell:/Users/matthiaskargl/Codes/kaggle/predictEnegyCons/jupyters/checkCorrelation.ipynb#X36sZmlsZQ%3D%3D?line=1'>2</a>\u001b[0m     \u001b[39mprint\u001b[39m(feat, random_forest_model\u001b[39m.\u001b[39mfeature_importances_[i])\n",
      "\u001b[0;31mNameError\u001b[0m: name 'X' is not defined"
     ]
    }
   ],
   "source": [
    "\n",
    "for i,feat in enumerate(X.columns):\n",
    "    print(feat, random_forest_model.feature_importances_[i])"
   ]
  },
  {
   "cell_type": "code",
   "execution_count": null,
   "metadata": {},
   "outputs": [],
   "source": [
    "random_forest_model = RandomForestRegressor(n_estimators=100, max_depth=10, random_state=42)\n",
    "random_forest_model.fit(X_train, y_train.target_cons)\n",
    "random_forest_test_predictions = random_forest_model.predict(X_train)\n",
    "random_forest_test_accuracy = balanced_accuracy_score(y_train.target_cons, random_forest_test_predictions)\n",
    "print(\"Random Forest train Accuracy:\", random_forest_test_accuracy)\n",
    "\n",
    "# Make predictions on the testing set using the trained model\n",
    "random_forest_test_predictions = random_forest_model.predict(X_test)\n",
    "\n",
    "# Calculate accuracy of the random forest model on the testing set\n",
    "random_forest_test_accuracy = balanced_accuracy_score(y_test.target_cons, random_forest_test_predictions)\n",
    "print(\"Random Forest Test Accuracy:\", random_forest_test_accuracy)\n",
    "print(random_forest_test_predictions)\n",
    "#print(y_test.target_cons.to_numpy())"
   ]
  },
  {
   "cell_type": "code",
   "execution_count": null,
   "metadata": {},
   "outputs": [],
   "source": [
    "from sklearn.preprocessing import MinMaxScaler\n",
    "\n",
    "scaler = MinMaxScaler()\n",
    "X_normalized = scaler.fit_transform(X)\n",
    "scaler2 = MinMaxScaler()\n",
    "Y_normalized = scaler2.fit_transform(Y)\n",
    "\n",
    "\n",
    "X_trainN, X_testN, y_trainN, y_testN = train_test_split(X_normalized, Y_normalized, test_size=0.4, random_state=42, shuffle = False)\n",
    "\n",
    "random_forest_model = RandomForestRegressor(n_estimators=100, max_depth=10, random_state=42)\n",
    "random_forest_model.fit(X_trainN, y_trainN)\n",
    "random_forest_test_predictions = random_forest_model.predict(X_trainN)\n",
    "random_forest_test_accuracy = balanced_accuracy_score(y_trainN, random_forest_test_predictions)\n",
    "print(\"Random Forest train Accuracy:\", random_forest_test_accuracy)\n",
    "\n",
    "# Make predictions on the testing set using the trained model\n",
    "random_forest_test_predictions = random_forest_model.predict(X_testN)\n",
    "\n",
    "# Calculate accuracy of the random forest model on the testing set\n",
    "random_forest_test_accuracy = balanced_accuracy_score(y_testN, random_forest_test_predictions)\n",
    "print(\"Random Forest Test Accuracy:\", random_forest_test_accuracy)\n",
    "print(random_forest_test_predictions)\n",
    "print(y_testN.to_numpy())\n"
   ]
  }
 ],
 "metadata": {
  "kernelspec": {
   "display_name": "Python 3.10.13 ('predictenegycons')",
   "language": "python",
   "name": "python3"
  },
  "language_info": {
   "codemirror_mode": {
    "name": "ipython",
    "version": 3
   },
   "file_extension": ".py",
   "mimetype": "text/x-python",
   "name": "python",
   "nbconvert_exporter": "python",
   "pygments_lexer": "ipython3",
   "version": "3.10.13"
  },
  "orig_nbformat": 4,
  "vscode": {
   "interpreter": {
    "hash": "691b0b37d4acdba726dc1c278f9e08b3b5ec9c42dc9e0c737423aa652ed87f03"
   }
  }
 },
 "nbformat": 4,
 "nbformat_minor": 2
}
