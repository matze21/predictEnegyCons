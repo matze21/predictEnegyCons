{
 "cells": [
  {
   "cell_type": "code",
   "execution_count": 1,
   "metadata": {},
   "outputs": [],
   "source": [
    "import pandas as pd"
   ]
  },
  {
   "cell_type": "code",
   "execution_count": 2,
   "metadata": {},
   "outputs": [],
   "source": [
    "client = pd.read_csv(\"../data/client.csv\")\n",
    "ePrices = pd.read_csv(\"../data/electricity_prices.csv\")\n",
    "gasPrices = pd.read_csv(\"../data/gas_prices.csv\")\n",
    "\n",
    "weatherPredInt = pd.read_csv(\"interpolPredWeather.csv\")\n",
    "#weatherHist = pd.read_csv(\"../data/historical_weather.csv\")\n",
    "train = pd.read_csv(\"../data/train.csv\")"
   ]
  },
  {
   "cell_type": "markdown",
   "metadata": {},
   "source": [
    "## combine data"
   ]
  },
  {
   "cell_type": "code",
   "execution_count": 3,
   "metadata": {},
   "outputs": [
    {
     "name": "stdout",
     "output_type": "stream",
     "text": [
      "(1009176, 10)\n"
     ]
    }
   ],
   "source": [
    "producing = train.loc[train.is_consumption == 0]\n",
    "consuming = train.loc[train.is_consumption == 1]\n",
    "train = pd.merge(producing.drop('is_consumption',axis = 1), consuming.drop('is_consumption',axis = 1),on=['data_block_id','prediction_unit_id','datetime','county','is_business','product_type'], how='outer',suffixes=('_prod', '_cons'))\n",
    "del producing, consuming\n",
    "print(train.shape)"
   ]
  },
  {
   "cell_type": "code",
   "execution_count": 4,
   "metadata": {},
   "outputs": [],
   "source": [
    "df_prices = pd.merge(ePrices, gasPrices[['data_block_id','lowest_price_per_mwh','highest_price_per_mwh']], on=['data_block_id'], how='outer',suffixes=('_el', '_gas'))"
   ]
  },
  {
   "cell_type": "code",
   "execution_count": 5,
   "metadata": {},
   "outputs": [],
   "source": [
    "df_prices['datetime'] = pd.to_datetime(df_prices['forecast_date'])\n",
    "train['datetime'] = pd.to_datetime(train['datetime'])"
   ]
  },
  {
   "cell_type": "code",
   "execution_count": 6,
   "metadata": {},
   "outputs": [],
   "source": [
    "df = pd.merge(train, df_prices,on=['datetime'], how='outer',suffixes=('', '_GasEl_prices'))\n",
    "del df_prices"
   ]
  },
  {
   "cell_type": "code",
   "execution_count": 7,
   "metadata": {},
   "outputs": [],
   "source": [
    "weatherPredInt['datetime'] = pd.to_datetime(weatherPredInt['forecast_datetime'])\n",
    "weatherPredInt = weatherPredInt.rename(columns={'County': 'county'})"
   ]
  },
  {
   "cell_type": "code",
   "execution_count": 8,
   "metadata": {},
   "outputs": [],
   "source": [
    "weatherPredInt['hour'] = weatherPredInt['datetime'].dt.hour\n",
    "df['hour'] = df['datetime'].dt.hour"
   ]
  },
  {
   "cell_type": "code",
   "execution_count": 9,
   "metadata": {},
   "outputs": [
    {
     "data": {
      "text/plain": [
       "(1007712, 36)"
      ]
     },
     "execution_count": 9,
     "metadata": {},
     "output_type": "execute_result"
    }
   ],
   "source": [
    "df = pd.merge(df, weatherPredInt, on=['hour','county','data_block_id'], how='inner')\n",
    "df.shape"
   ]
  },
  {
   "cell_type": "code",
   "execution_count": 11,
   "metadata": {},
   "outputs": [
    {
     "data": {
      "text/plain": [
       "(1007762, 39)"
      ]
     },
     "execution_count": 11,
     "metadata": {},
     "output_type": "execute_result"
    }
   ],
   "source": [
    "# merge with clients\n",
    "df = pd.merge(df, client, on=['county','is_business','product_type','data_block_id'], how='outer')\n",
    "df.shape"
   ]
  },
  {
   "cell_type": "code",
   "execution_count": 26,
   "metadata": {},
   "outputs": [
    {
     "data": {
      "text/plain": [
       "Index(['county', 'is_business', 'product_type', 'target_prod', 'datetime_x',\n",
       "       'data_block_id', 'row_id_prod', 'prediction_unit_id', 'target_cons',\n",
       "       'row_id_cons', 'forecast_date', 'euros_per_mwh', 'origin_date',\n",
       "       'data_block_id_GasEl_prices', 'lowest_price_per_mwh',\n",
       "       'highest_price_per_mwh', 'hour', 'Unnamed: 0', 'latitude', 'longitude',\n",
       "       'forecast_datetime', 'hours_ahead', 'origin_datetime', 'temperatureint',\n",
       "       'dewpointint', 'cloudcover_highint', 'cloudcover_lowint',\n",
       "       'cloudcover_midint', 'cloudcover_totalint',\n",
       "       '10_metre_u_wind_componentint', '10_metre_v_wind_componentint',\n",
       "       'direct_solar_radiationint', 'surface_solar_radiation_downwardsint',\n",
       "       'snowfallint', 'total_precipitationint', 'datetime_y', 'eic_count',\n",
       "       'installed_capacity', 'date'],\n",
       "      dtype='object')"
      ]
     },
     "execution_count": 26,
     "metadata": {},
     "output_type": "execute_result"
    }
   ],
   "source": [
    "df.datetime_x"
   ]
  },
  {
   "cell_type": "code",
   "execution_count": 31,
   "metadata": {},
   "outputs": [
    {
     "name": "stderr",
     "output_type": "stream",
     "text": [
      "/var/folders/15/v1vyry112dv3d398dy47k8v40000gn/T/ipykernel_19615/2415486271.py:1: SettingWithCopyWarning: \n",
      "A value is trying to be set on a copy of a slice from a DataFrame.\n",
      "Try using .loc[row_indexer,col_indexer] = value instead\n",
      "\n",
      "See the caveats in the documentation: https://pandas.pydata.org/pandas-docs/stable/user_guide/indexing.html#returning-a-view-versus-a-copy\n",
      "  df['yearday'] = df['datetime_x'].dt.day_of_year\n",
      "/var/folders/15/v1vyry112dv3d398dy47k8v40000gn/T/ipykernel_19615/2415486271.py:2: SettingWithCopyWarning: \n",
      "A value is trying to be set on a copy of a slice from a DataFrame.\n",
      "Try using .loc[row_indexer,col_indexer] = value instead\n",
      "\n",
      "See the caveats in the documentation: https://pandas.pydata.org/pandas-docs/stable/user_guide/indexing.html#returning-a-view-versus-a-copy\n",
      "  df['weekday'] = df['datetime_x'].dt.day_of_week\n",
      "/var/folders/15/v1vyry112dv3d398dy47k8v40000gn/T/ipykernel_19615/2415486271.py:3: SettingWithCopyWarning: \n",
      "A value is trying to be set on a copy of a slice from a DataFrame.\n",
      "Try using .loc[row_indexer,col_indexer] = value instead\n",
      "\n",
      "See the caveats in the documentation: https://pandas.pydata.org/pandas-docs/stable/user_guide/indexing.html#returning-a-view-versus-a-copy\n",
      "  df['month'] = df['datetime_x'].dt.month\n"
     ]
    }
   ],
   "source": [
    "df['yearday'] = df['datetime_x'].dt.day_of_year\n",
    "df['weekday'] = df['datetime_x'].dt.day_of_week\n",
    "df['month'] = df['datetime_x'].dt.month"
   ]
  },
  {
   "cell_type": "code",
   "execution_count": 16,
   "metadata": {},
   "outputs": [],
   "source": [
    "df = df.dropna()"
   ]
  },
  {
   "cell_type": "markdown",
   "metadata": {},
   "source": [
    "# check correlations"
   ]
  },
  {
   "cell_type": "code",
   "execution_count": 17,
   "metadata": {},
   "outputs": [
    {
     "data": {
      "text/plain": [
       "<AxesSubplot:>"
      ]
     },
     "execution_count": 17,
     "metadata": {},
     "output_type": "execute_result"
    },
    {
     "data": {
      "image/png": "[encoded data removed]",
      "text/plain": [
       "<Figure size 432x288 with 1 Axes>"
      ]
     },
     "metadata": {
      "needs_background": "light"
     },
     "output_type": "display_data"
    }
   ],
   "source": [
    "df.loc[df.is_business == 0].target_prod.plot()"
   ]
  },
  {
   "cell_type": "code",
   "execution_count": 36,
   "metadata": {},
   "outputs": [],
   "source": [
    "corr_matrix = df.corr()\n",
    "correlations_prod = corr_matrix['target_prod'].sort_values(ascending=False)\n",
    "correlations_cons = corr_matrix['target_cons'].sort_values(ascending=False)"
   ]
  },
  {
   "cell_type": "code",
   "execution_count": 37,
   "metadata": {},
   "outputs": [
    {
     "data": {
      "text/plain": [
       "target_prod                             1.000000\n",
       "surface_solar_radiation_downwardsint    0.389365\n",
       "installed_capacity                      0.356369\n",
       "direct_solar_radiationint               0.347997\n",
       "eic_count                               0.339173\n",
       "temperatureint                          0.228567\n",
       "product_type                            0.135231\n",
       "target_cons                             0.108288\n",
       "dewpointint                             0.093339\n",
       "data_block_id                           0.086451\n",
       "data_block_id_GasEl_prices              0.086451\n",
       "row_id_prod                             0.086179\n",
       "row_id_cons                             0.086179\n",
       "latitude                                0.058681\n",
       "hours_ahead                             0.041061\n",
       "hour                                    0.041061\n",
       "weekday                                 0.022774\n",
       "10_metre_u_wind_componentint            0.021961\n",
       "lowest_price_per_mwh                    0.015229\n",
       "highest_price_per_mwh                   0.009609\n",
       "longitude                              -0.017022\n",
       "is_business                            -0.024182\n",
       "euros_per_mwh                          -0.028769\n",
       "total_precipitationint                 -0.030992\n",
       "month                                  -0.042260\n",
       "yearday                                -0.042748\n",
       "snowfallint                            -0.045962\n",
       "cloudcover_highint                     -0.051329\n",
       "Unnamed: 0                             -0.052501\n",
       "county                                 -0.052501\n",
       "10_metre_v_wind_componentint           -0.055959\n",
       "cloudcover_midint                      -0.064838\n",
       "prediction_unit_id                     -0.076277\n",
       "cloudcover_totalint                    -0.110182\n",
       "cloudcover_lowint                      -0.151044\n",
       "Name: target_prod, dtype: float64"
      ]
     },
     "execution_count": 37,
     "metadata": {},
     "output_type": "execute_result"
    }
   ],
   "source": [
    "correlations_prod"
   ]
  },
  {
   "cell_type": "code",
   "execution_count": 38,
   "metadata": {},
   "outputs": [
    {
     "data": {
      "text/plain": [
       "target_cons                             1.000000\n",
       "installed_capacity                      0.809344\n",
       "eic_count                               0.336634\n",
       "is_business                             0.255040\n",
       "product_type                            0.222207\n",
       "latitude                                0.156535\n",
       "target_prod                             0.108288\n",
       "cloudcover_lowint                       0.055214\n",
       "cloudcover_totalint                     0.043321\n",
       "row_id_prod                             0.029740\n",
       "row_id_cons                             0.029740\n",
       "data_block_id                           0.029573\n",
       "data_block_id_GasEl_prices              0.029573\n",
       "cloudcover_midint                       0.026179\n",
       "euros_per_mwh                           0.025790\n",
       "snowfallint                             0.021607\n",
       "cloudcover_highint                      0.016053\n",
       "10_metre_v_wind_componentint            0.014429\n",
       "hour                                    0.013663\n",
       "hours_ahead                             0.013663\n",
       "total_precipitationint                  0.005138\n",
       "longitude                              -0.003883\n",
       "month                                  -0.016006\n",
       "yearday                                -0.016246\n",
       "10_metre_u_wind_componentint           -0.016696\n",
       "highest_price_per_mwh                  -0.023029\n",
       "lowest_price_per_mwh                   -0.027095\n",
       "weekday                                -0.039620\n",
       "surface_solar_radiation_downwardsint   -0.047310\n",
       "direct_solar_radiationint              -0.047812\n",
       "dewpointint                            -0.060902\n",
       "temperatureint                         -0.074072\n",
       "Unnamed: 0                             -0.132877\n",
       "county                                 -0.132877\n",
       "prediction_unit_id                     -0.140811\n",
       "Name: target_cons, dtype: float64"
      ]
     },
     "execution_count": 38,
     "metadata": {},
     "output_type": "execute_result"
    }
   ],
   "source": [
    "correlations_cons"
   ]
  },
  {
   "cell_type": "code",
   "execution_count": 39,
   "metadata": {},
   "outputs": [
    {
     "data": {
      "text/plain": [
       "<AxesSubplot:>"
      ]
     },
     "execution_count": 39,
     "metadata": {},
     "output_type": "execute_result"
    },
    {
     "data": {
      "image/png": "[encoded data removed]",
      "text/plain": [
       "<Figure size 432x288 with 2 Axes>"
      ]
     },
     "metadata": {
      "needs_background": "light"
     },
     "output_type": "display_data"
    }
   ],
   "source": [
    "import seaborn as sns\n",
    "import matplotlib.pyplot as plt\n",
    "\n",
    "sns.heatmap(corr_matrix, cmap=\"coolwarm\")\n",
    "#plt.show()"
   ]
  },
  {
   "cell_type": "markdown",
   "metadata": {},
   "source": [
    "# try to fit a little tree"
   ]
  },
  {
   "cell_type": "code",
   "execution_count": 41,
   "metadata": {},
   "outputs": [],
   "source": [
    "from sklearn.metrics import balanced_accuracy_score\n",
    "from sklearn.ensemble import GradientBoostingClassifier, RandomForestClassifier, RandomForestRegressor\n",
    "from sklearn.metrics import accuracy_score\n",
    "from sklearn.model_selection import train_test_split\n",
    "from sklearn.datasets import make_classification"
   ]
  },
  {
   "cell_type": "code",
   "execution_count": 44,
   "metadata": {},
   "outputs": [],
   "source": [
    "Y = df[['target_prod','target_cons']]\n",
    "X = df.drop(['target_prod','target_cons', 'datetime_x',\n",
    "       'row_id_cons', 'forecast_date', 'origin_date',\n",
    "       'Unnamed: 0',\n",
    "       'forecast_datetime', 'hours_ahead', 'origin_datetime', 'datetime_y', 'date'],axis=1)\n",
    "X_train, X_test, y_train, y_test = train_test_split(X, Y, test_size=0.4, random_state=42, shuffle = False)"
   ]
  },
  {
   "cell_type": "code",
   "execution_count": 51,
   "metadata": {},
   "outputs": [
    {
     "data": {
      "text/plain": [
       "1464       0.793\n",
       "1465       2.106\n",
       "1466       0.955\n",
       "1467       0.711\n",
       "1468       0.729\n",
       "           ...  \n",
       "604067    63.683\n",
       "604068    55.180\n",
       "604069    50.340\n",
       "604070    58.049\n",
       "604071    61.917\n",
       "Name: target_prod, Length: 601739, dtype: float64"
      ]
     },
     "execution_count": 51,
     "metadata": {},
     "output_type": "execute_result"
    }
   ],
   "source": [
    "y_train.target_cons"
   ]
  },
  {
   "cell_type": "code",
   "execution_count": 52,
   "metadata": {},
   "outputs": [
    {
     "ename": "ValueError",
     "evalue": "continuous is not supported",
     "output_type": "error",
     "traceback": [
      "\u001b[0;31m---------------------------------------------------------------------------\u001b[0m",
      "\u001b[0;31mValueError\u001b[0m                                Traceback (most recent call last)",
      "\u001b[1;32m/Users/matthiaskargl/Codes/kaggle/predictEnegyCons/jupyters/checkCorrelation.ipynb Cell 25\u001b[0m in \u001b[0;36m<cell line: 4>\u001b[0;34m()\u001b[0m\n\u001b[1;32m      <a href='vscode-notebook-cell:/Users/matthiaskargl/Codes/kaggle/predictEnegyCons/jupyters/checkCorrelation.ipynb#X43sZmlsZQ%3D%3D?line=1'>2</a>\u001b[0m random_forest_model\u001b[39m.\u001b[39mfit(X_train, y_train\u001b[39m.\u001b[39mtarget_prod)\n\u001b[1;32m      <a href='vscode-notebook-cell:/Users/matthiaskargl/Codes/kaggle/predictEnegyCons/jupyters/checkCorrelation.ipynb#X43sZmlsZQ%3D%3D?line=2'>3</a>\u001b[0m random_forest_test_predictions \u001b[39m=\u001b[39m random_forest_model\u001b[39m.\u001b[39mpredict(X_train)\n\u001b[0;32m----> <a href='vscode-notebook-cell:/Users/matthiaskargl/Codes/kaggle/predictEnegyCons/jupyters/checkCorrelation.ipynb#X43sZmlsZQ%3D%3D?line=3'>4</a>\u001b[0m random_forest_test_accuracy \u001b[39m=\u001b[39m balanced_accuracy_score(y_train\u001b[39m.\u001b[39;49mtarget_prod, random_forest_test_predictions)\n\u001b[1;32m      <a href='vscode-notebook-cell:/Users/matthiaskargl/Codes/kaggle/predictEnegyCons/jupyters/checkCorrelation.ipynb#X43sZmlsZQ%3D%3D?line=4'>5</a>\u001b[0m \u001b[39mprint\u001b[39m(\u001b[39m\"\u001b[39m\u001b[39mRandom Forest train Accuracy:\u001b[39m\u001b[39m\"\u001b[39m, random_forest_test_accuracy)\n\u001b[1;32m      <a href='vscode-notebook-cell:/Users/matthiaskargl/Codes/kaggle/predictEnegyCons/jupyters/checkCorrelation.ipynb#X43sZmlsZQ%3D%3D?line=6'>7</a>\u001b[0m \u001b[39m# Make predictions on the testing set using the trained model\u001b[39;00m\n",
      "File \u001b[0;32m~/opt/anaconda3/lib/python3.9/site-packages/sklearn/metrics/_classification.py:1983\u001b[0m, in \u001b[0;36mbalanced_accuracy_score\u001b[0;34m(y_true, y_pred, sample_weight, adjusted)\u001b[0m\n\u001b[1;32m   1914\u001b[0m \u001b[39mdef\u001b[39;00m \u001b[39mbalanced_accuracy_score\u001b[39m(y_true, y_pred, \u001b[39m*\u001b[39m, sample_weight\u001b[39m=\u001b[39m\u001b[39mNone\u001b[39;00m, adjusted\u001b[39m=\u001b[39m\u001b[39mFalse\u001b[39;00m):\n\u001b[1;32m   1915\u001b[0m     \u001b[39m\"\"\"Compute the balanced accuracy.\u001b[39;00m\n\u001b[1;32m   1916\u001b[0m \n\u001b[1;32m   1917\u001b[0m \u001b[39m    The balanced accuracy in binary and multiclass classification problems to\u001b[39;00m\n\u001b[0;32m   (...)\u001b[0m\n\u001b[1;32m   1981\u001b[0m \u001b[39m    0.625\u001b[39;00m\n\u001b[1;32m   1982\u001b[0m \u001b[39m    \"\"\"\u001b[39;00m\n\u001b[0;32m-> 1983\u001b[0m     C \u001b[39m=\u001b[39m confusion_matrix(y_true, y_pred, sample_weight\u001b[39m=\u001b[39;49msample_weight)\n\u001b[1;32m   1984\u001b[0m     \u001b[39mwith\u001b[39;00m np\u001b[39m.\u001b[39merrstate(divide\u001b[39m=\u001b[39m\u001b[39m\"\u001b[39m\u001b[39mignore\u001b[39m\u001b[39m\"\u001b[39m, invalid\u001b[39m=\u001b[39m\u001b[39m\"\u001b[39m\u001b[39mignore\u001b[39m\u001b[39m\"\u001b[39m):\n\u001b[1;32m   1985\u001b[0m         per_class \u001b[39m=\u001b[39m np\u001b[39m.\u001b[39mdiag(C) \u001b[39m/\u001b[39m C\u001b[39m.\u001b[39msum(axis\u001b[39m=\u001b[39m\u001b[39m1\u001b[39m)\n",
      "File \u001b[0;32m~/opt/anaconda3/lib/python3.9/site-packages/sklearn/metrics/_classification.py:307\u001b[0m, in \u001b[0;36mconfusion_matrix\u001b[0;34m(y_true, y_pred, labels, sample_weight, normalize)\u001b[0m\n\u001b[1;32m    222\u001b[0m \u001b[39mdef\u001b[39;00m \u001b[39mconfusion_matrix\u001b[39m(\n\u001b[1;32m    223\u001b[0m     y_true, y_pred, \u001b[39m*\u001b[39m, labels\u001b[39m=\u001b[39m\u001b[39mNone\u001b[39;00m, sample_weight\u001b[39m=\u001b[39m\u001b[39mNone\u001b[39;00m, normalize\u001b[39m=\u001b[39m\u001b[39mNone\u001b[39;00m\n\u001b[1;32m    224\u001b[0m ):\n\u001b[1;32m    225\u001b[0m     \u001b[39m\"\"\"Compute confusion matrix to evaluate the accuracy of a classification.\u001b[39;00m\n\u001b[1;32m    226\u001b[0m \n\u001b[1;32m    227\u001b[0m \u001b[39m    By definition a confusion matrix :math:`C` is such that :math:`C_{i, j}`\u001b[39;00m\n\u001b[0;32m   (...)\u001b[0m\n\u001b[1;32m    305\u001b[0m \u001b[39m    (0, 2, 1, 1)\u001b[39;00m\n\u001b[1;32m    306\u001b[0m \u001b[39m    \"\"\"\u001b[39;00m\n\u001b[0;32m--> 307\u001b[0m     y_type, y_true, y_pred \u001b[39m=\u001b[39m _check_targets(y_true, y_pred)\n\u001b[1;32m    308\u001b[0m     \u001b[39mif\u001b[39;00m y_type \u001b[39mnot\u001b[39;00m \u001b[39min\u001b[39;00m (\u001b[39m\"\u001b[39m\u001b[39mbinary\u001b[39m\u001b[39m\"\u001b[39m, \u001b[39m\"\u001b[39m\u001b[39mmulticlass\u001b[39m\u001b[39m\"\u001b[39m):\n\u001b[1;32m    309\u001b[0m         \u001b[39mraise\u001b[39;00m \u001b[39mValueError\u001b[39;00m(\u001b[39m\"\u001b[39m\u001b[39m%s\u001b[39;00m\u001b[39m is not supported\u001b[39m\u001b[39m\"\u001b[39m \u001b[39m%\u001b[39m y_type)\n",
      "File \u001b[0;32m~/opt/anaconda3/lib/python3.9/site-packages/sklearn/metrics/_classification.py:104\u001b[0m, in \u001b[0;36m_check_targets\u001b[0;34m(y_true, y_pred)\u001b[0m\n\u001b[1;32m    102\u001b[0m \u001b[39m# No metrics support \"multiclass-multioutput\" format\u001b[39;00m\n\u001b[1;32m    103\u001b[0m \u001b[39mif\u001b[39;00m y_type \u001b[39mnot\u001b[39;00m \u001b[39min\u001b[39;00m [\u001b[39m\"\u001b[39m\u001b[39mbinary\u001b[39m\u001b[39m\"\u001b[39m, \u001b[39m\"\u001b[39m\u001b[39mmulticlass\u001b[39m\u001b[39m\"\u001b[39m, \u001b[39m\"\u001b[39m\u001b[39mmultilabel-indicator\u001b[39m\u001b[39m\"\u001b[39m]:\n\u001b[0;32m--> 104\u001b[0m     \u001b[39mraise\u001b[39;00m \u001b[39mValueError\u001b[39;00m(\u001b[39m\"\u001b[39m\u001b[39m{0}\u001b[39;00m\u001b[39m is not supported\u001b[39m\u001b[39m\"\u001b[39m\u001b[39m.\u001b[39mformat(y_type))\n\u001b[1;32m    106\u001b[0m \u001b[39mif\u001b[39;00m y_type \u001b[39min\u001b[39;00m [\u001b[39m\"\u001b[39m\u001b[39mbinary\u001b[39m\u001b[39m\"\u001b[39m, \u001b[39m\"\u001b[39m\u001b[39mmulticlass\u001b[39m\u001b[39m\"\u001b[39m]:\n\u001b[1;32m    107\u001b[0m     y_true \u001b[39m=\u001b[39m column_or_1d(y_true)\n",
      "\u001b[0;31mValueError\u001b[0m: continuous is not supported"
     ]
    }
   ],
   "source": [
    "random_forest_model = RandomForestRegressor(n_estimators=100, max_depth=10, random_state=42)\n",
    "random_forest_model.fit(X_train, y_train.target_prod)"
   ]
  },
  {
   "cell_type": "code",
   "execution_count": 54,
   "metadata": {},
   "outputs": [
    {
     "name": "stdout",
     "output_type": "stream",
     "text": [
      "Random Forest train Accuracy: 26.07718183200533\n",
      "Random Forest Test Accuracy: 43.93698269424609\n"
     ]
    }
   ],
   "source": [
    "random_forest_test_predictions = random_forest_model.predict(X_train)\n",
    "random_forest_test_accuracy = sum(abs(y_train.target_prod - random_forest_test_predictions))/len(y_train)\n",
    "print(\"Random Forest train Accuracy:\", random_forest_test_accuracy)\n",
    "\n",
    "# Make predictions on the testing set using the trained model\n",
    "random_forest_test_predictions = random_forest_model.predict(X_test)\n",
    "\n",
    "# Calculate accuracy of the random forest model on the testing set\n",
    "random_forest_test_accuracy = sum(abs(y_test.target_prod- random_forest_test_predictions))/len(y_test)\n",
    "print(\"Random Forest Test Accuracy:\", random_forest_test_accuracy)"
   ]
  },
  {
   "cell_type": "code",
   "execution_count": 55,
   "metadata": {},
   "outputs": [
    {
     "name": "stdout",
     "output_type": "stream",
     "text": [
      "[ 16.6031463    5.84723095   0.89005171   0.88896512   0.76900953\n",
      "   0.76379282   0.76379282   0.7359595    0.26925229   0.26925229\n",
      "   0.26925229   0.26925229   0.26925229   0.56286539   1.32390281\n",
      "  10.68224417  60.86747416  71.44241514 234.2327413  218.67328976]\n",
      "[4.58090e+01 1.90300e+01 5.11700e+00 1.25000e-01 0.00000e+00 0.00000e+00\n",
      " 0.00000e+00 0.00000e+00 1.21900e+00 5.64000e-01 4.70000e-01 7.56000e-01\n",
      " 6.13000e-01 8.60000e-02 5.00000e-03 8.18000e-01 1.12830e+01 5.91650e+01\n",
      " 1.59393e+02 2.37765e+02]\n"
     ]
    }
   ],
   "source": [
    "print(random_forest_test_predictions[0:20])\n",
    "print(y_test.target_prod.to_numpy()[0:20])"
   ]
  },
  {
   "cell_type": "code",
   "execution_count": null,
   "metadata": {},
   "outputs": [],
   "source": [
    "random_forest_model = RandomForestRegressor(n_estimators=100, max_depth=10, random_state=42)\n",
    "random_forest_model.fit(X_train, y_train.target_cons)\n",
    "random_forest_test_predictions = random_forest_model.predict(X_train)\n",
    "random_forest_test_accuracy = balanced_accuracy_score(y_train.target_cons, random_forest_test_predictions)\n",
    "print(\"Random Forest train Accuracy:\", random_forest_test_accuracy)\n",
    "\n",
    "# Make predictions on the testing set using the trained model\n",
    "random_forest_test_predictions = random_forest_model.predict(X_test)\n",
    "\n",
    "# Calculate accuracy of the random forest model on the testing set\n",
    "random_forest_test_accuracy = balanced_accuracy_score(y_test.target_cons, random_forest_test_predictions)\n",
    "print(\"Random Forest Test Accuracy:\", random_forest_test_accuracy)\n",
    "print(random_forest_test_predictions)\n",
    "#print(y_test.target_cons.to_numpy())"
   ]
  },
  {
   "cell_type": "code",
   "execution_count": null,
   "metadata": {},
   "outputs": [],
   "source": [
    "from sklearn.preprocessing import MinMaxScaler\n",
    "\n",
    "scaler = MinMaxScaler()\n",
    "X_normalized = scaler.fit_transform(X)\n",
    "scaler2 = MinMaxScaler()\n",
    "Y_normalized = scaler2.fit_transform(Y)\n",
    "\n",
    "\n",
    "X_trainN, X_testN, y_trainN, y_testN = train_test_split(X_normalized, Y_normalized, test_size=0.4, random_state=42, shuffle = False)\n",
    "\n",
    "random_forest_model = RandomForestRegressor(n_estimators=100, max_depth=10, random_state=42)\n",
    "random_forest_model.fit(X_trainN, y_trainN)\n",
    "random_forest_test_predictions = random_forest_model.predict(X_trainN)\n",
    "random_forest_test_accuracy = balanced_accuracy_score(y_trainN, random_forest_test_predictions)\n",
    "print(\"Random Forest train Accuracy:\", random_forest_test_accuracy)\n",
    "\n",
    "# Make predictions on the testing set using the trained model\n",
    "random_forest_test_predictions = random_forest_model.predict(X_testN)\n",
    "\n",
    "# Calculate accuracy of the random forest model on the testing set\n",
    "random_forest_test_accuracy = balanced_accuracy_score(y_testN, random_forest_test_predictions)\n",
    "print(\"Random Forest Test Accuracy:\", random_forest_test_accuracy)\n",
    "print(random_forest_test_predictions)\n",
    "print(y_testN.to_numpy())\n"
   ]
  }
 ],
 "metadata": {
  "kernelspec": {
   "display_name": "Python 3.9.12 ('base')",
   "language": "python",
   "name": "python3"
  },
  "language_info": {
   "codemirror_mode": {
    "name": "ipython",
    "version": 3
   },
   "file_extension": ".py",
   "mimetype": "text/x-python",
   "name": "python",
   "nbconvert_exporter": "python",
   "pygments_lexer": "ipython3",
   "version": "3.9.12"
  },
  "orig_nbformat": 4,
  "vscode": {
   "interpreter": {
    "hash": "47365178ca2b810317f6bec8ffd68848fb8e8a2bfe3057633cce814219a896e2"
   }
  }
 },
 "nbformat": 4,
 "nbformat_minor": 2
}
