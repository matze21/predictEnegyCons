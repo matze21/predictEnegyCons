{
 "cells": [
  {
   "cell_type": "code",
   "execution_count": 353,
   "metadata": {},
   "outputs": [],
   "source": [
    "from scipy.interpolate import griddata\n",
    "from sklearn.metrics import balanced_accuracy_score\n",
    "from sklearn.ensemble import GradientBoostingClassifier, RandomForestClassifier, RandomForestRegressor\n",
    "from sklearn.metrics import accuracy_score\n",
    "from sklearn.model_selection import train_test_split\n",
    "from sklearn.datasets import make_classification\n",
    "\n",
    "import tensorflow as tf\n",
    "from tensorflow.keras import layers, models\n",
    "from tensorflow.keras.layers import Input, BatchNormalization"
   ]
  },
  {
   "cell_type": "code",
   "execution_count": 2,
   "metadata": {},
   "outputs": [],
   "source": [
    "import pandas as pd\n",
    "import numpy as np\n",
    "import plotly.offline as pyo\n",
    "from plotly import subplots\n",
    "import plotly.graph_objects as go"
   ]
  },
  {
   "cell_type": "code",
   "execution_count": 172,
   "metadata": {},
   "outputs": [],
   "source": [
    "client = pd.read_csv(\"../../data/client.csv\")\n",
    "ePrices = pd.read_csv(\"../../data/electricity_prices.csv\")\n",
    "gasPrices = pd.read_csv(\"../../data/gas_prices.csv\")\n",
    "train = pd.read_csv(\"../../data/train.csv\")"
   ]
  },
  {
   "cell_type": "code",
   "execution_count": 196,
   "metadata": {},
   "outputs": [],
   "source": [
    "weatherPredInt = pd.read_csv(\"interpolPredWeather.csv\")\n",
    "weatherHistInt = pd.read_csv(\"../histWeatherSnowCover.csv\")"
   ]
  },
  {
   "cell_type": "markdown",
   "metadata": {},
   "source": [
    "# process data"
   ]
  },
  {
   "cell_type": "markdown",
   "metadata": {},
   "source": [
    "### merge client & train, add business feat & interpolate daylight savings"
   ]
  },
  {
   "cell_type": "code",
   "execution_count": 174,
   "metadata": {},
   "outputs": [
    {
     "name": "stdout",
     "output_type": "stream",
     "text": [
      "(1009176, 10)\n"
     ]
    },
    {
     "name": "stderr",
     "output_type": "stream",
     "text": [
      "/var/folders/15/v1vyry112dv3d398dy47k8v40000gn/T/ipykernel_25586/1731394031.py:24: FutureWarning:\n",
      "\n",
      "DataFrame.interpolate with object dtype is deprecated and will raise in a future version. Call obj.infer_objects(copy=False) before interpolating instead.\n",
      "\n"
     ]
    }
   ],
   "source": [
    "producing = train.loc[train.is_consumption == 0]\n",
    "consuming = train.loc[train.is_consumption == 1]\n",
    "train = pd.merge(producing.drop('is_consumption',axis = 1), consuming.drop('is_consumption',axis = 1),on=['data_block_id','prediction_unit_id','datetime','county','is_business','product_type'], how='outer',suffixes=('_prod', '_cons'))\n",
    "del producing, consuming\n",
    "print(train.shape)\n",
    "\n",
    "clientsTime = pd.merge(train, client, on=['county','is_business','product_type','data_block_id'], how='inner')\n",
    "\n",
    "clientsTime['datetime'] = pd.to_datetime(clientsTime['datetime'])\n",
    "clientsTime['yearday'] = clientsTime['datetime'].dt.day_of_year\n",
    "clientsTime['weekday'] = clientsTime['datetime'].dt.day_of_week\n",
    "clientsTime['month'] = clientsTime['datetime'].dt.month\n",
    "clientsTime['monthday'] = clientsTime['datetime'].dt.day\n",
    "\n",
    "unique_pairs = list(set(zip(clientsTime['is_business'], clientsTime[ 'product_type'])))\n",
    "pair_index_dict = {pair: index for index, pair in enumerate(unique_pairs)}\n",
    "clientsTime['business_prodType'] = list(map(pair_index_dict.get, zip(clientsTime['is_business'], clientsTime['product_type'])))\n",
    "\n",
    "unique_pairs_cust = list(set(zip(clientsTime['is_business'], clientsTime[ 'product_type'], clientsTime['county'], clientsTime['eic_count'],clientsTime['installed_capacity'])))\n",
    "pair_index_dict = {pair: index for index, pair in enumerate(unique_pairs_cust)}\n",
    "clientsTime['ind_customer_id'] = list(map(pair_index_dict.get, zip(clientsTime['is_business'], clientsTime['product_type'], clientsTime['county'], clientsTime['eic_count'],clientsTime['installed_capacity'])))\n",
    "\n",
    "# interpolate daylight savings\n",
    "clientsTime = clientsTime.interpolate()"
   ]
  },
  {
   "cell_type": "markdown",
   "metadata": {},
   "source": [
    "### prepare electric prices"
   ]
  },
  {
   "cell_type": "code",
   "execution_count": 197,
   "metadata": {},
   "outputs": [
    {
     "name": "stderr",
     "output_type": "stream",
     "text": [
      "/var/folders/15/v1vyry112dv3d398dy47k8v40000gn/T/ipykernel_25586/2052008978.py:10: FutureWarning:\n",
      "\n",
      "DataFrame.interpolate with object dtype is deprecated and will raise in a future version. Call obj.infer_objects(copy=False) before interpolating instead.\n",
      "\n"
     ]
    }
   ],
   "source": [
    "ePrices['forecast_date'] = pd.to_datetime(ePrices['forecast_date'])\n",
    "\n",
    "# Set 'timestamp' as the index\n",
    "ePrices.set_index('forecast_date', inplace=True)\n",
    "\n",
    "# Resample to fill missing hours\n",
    "df_resampled = ePrices.resample('1H').asfreq()\n",
    "\n",
    "# Linearly interpolate missing values\n",
    "ePrices = df_resampled.interpolate(method='linear')"
   ]
  },
  {
   "cell_type": "markdown",
   "metadata": {},
   "source": [
    "# write data into python arrays"
   ]
  },
  {
   "cell_type": "code",
   "execution_count": 200,
   "metadata": {},
   "outputs": [],
   "source": [
    "#clientsTime, weatherPredInt, weatherHistInt, ePrices, gasPrices\n",
    "\n",
    "featPredWeather = [\n",
    "        #'latitude', 'longitude', \n",
    "        'County', #'forecast_datetime',\n",
    "       'hours_ahead',\n",
    "        'data_block_id', #'origin_datetime', \n",
    "       'temperatureint',\n",
    "       'dewpointint', 'cloudcover_highint', 'cloudcover_lowint',\n",
    "       'cloudcover_midint', 'cloudcover_totalint',\n",
    "       '10_metre_u_wind_componentint', '10_metre_v_wind_componentint',\n",
    "       'direct_solar_radiationint', 'surface_solar_radiation_downwardsint',\n",
    "       'snowfallint', 'total_precipitationint', \n",
    "       #'sunrise', 'sunset',\n",
    "       #'daylight', 'minDaylight'\n",
    "       ]\n",
    "\n",
    "predWeatherComplete = weatherPredInt[featPredWeather]\n",
    "del weatherPredInt\n",
    "\n",
    "featHistWeather = [\n",
    "       #'latitude', 'longitude', \n",
    "       'County',\n",
    "       #'datetime', \n",
    "       'data_block_id', \n",
    "       'temperatureint', 'dewpointint', 'rainint',\n",
    "       'snowfallint', 'surface_pressureint', 'cloudcover_totalint',\n",
    "       'cloudcover_lowint', 'cloudcover_midint', 'cloudcover_highint',\n",
    "       'windspeed_10mint', 'winddirection_10mint', 'shortwave_radiationint',\n",
    "       'direct_solar_radiationint', 'diffuse_radiationint', 'meltingInCM',\n",
    "       'snowHeightFlux', 'snowcover'\n",
    "]\n",
    "histWeatherComplete = weatherHistInt[featHistWeather]\n",
    "del weatherHistInt\n",
    "\n",
    "# can't use client id as an axis in data because it's not constant!\n",
    "y = np.zeros((clientsTime.shape[0],2))\n",
    "y_indexes = np.zeros((clientsTime.shape[0],2)) # dataframe indexes in the end, not important for now\n",
    "index_y = 0\n",
    "\n",
    "customers = []\n",
    "\n",
    "constValsArray = np.zeros((1,14))\n",
    "targetsArray = np.zeros((1,24,2))\n",
    "ePricesArray = np.zeros((1,24,1))\n",
    "\n",
    "nFeatHistWeather = histWeatherComplete.shape[1]-1\n",
    "histWeatherArray = np.zeros((1,24,nFeatHistWeather))\n",
    "nFeatPredWeather = predWeatherComplete.shape[1]-1\n",
    "predWeatherArray = np.zeros((1,24,nFeatPredWeather))\n",
    "dataBlockIdArray = np.zeros((1))\n",
    "\n",
    "# loop over customer, append all data cycles for each customer\n",
    "for customerId in clientsTime.ind_customer_id.unique():\n",
    "    customerSlice = clientsTime.loc[clientsTime.ind_customer_id == customerId]\n",
    "\n",
    "    for dataBlockId in customerSlice.data_block_id.unique():\n",
    "        timeSlice = customerSlice.loc[customerSlice.data_block_id == dataBlockId]\n",
    "        gasSlice = gasPrices.loc[gasPrices.data_block_id == dataBlockId]\n",
    "        eSlice   = ePrices.loc[ePrices.data_block_id == dataBlockId]\n",
    "\n",
    "        if len(timeSlice.yearday.unique()) > 1:\n",
    "            print(timeSlice.yearday.unique())\n",
    "\n",
    "        # const values\n",
    "        yearday = timeSlice.yearday.unique()[0]\n",
    "        weekday = timeSlice.weekday.unique()[0]\n",
    "        month   = timeSlice.month.unique()[0]\n",
    "        monthday = timeSlice.monthday.unique()[0]\n",
    "\n",
    "        county       = customerSlice.county.unique()[0]\n",
    "        is_business  = customerSlice.is_business.unique()[0]\n",
    "        product_type = customerSlice.product_type.unique()[0]\n",
    "        prediction_unit_id = customerSlice.prediction_unit_id.unique()[0] #should be redundant\n",
    "        eic_count          = customerSlice.eic_count.unique()[0]\n",
    "        installed_capacity = customerSlice.installed_capacity.unique()[0]\n",
    "    \n",
    "        business_prodType = customerSlice.business_prodType.unique()[0]\n",
    "        ind_customer_id   = customerSlice.ind_customer_id.unique()[0]\n",
    "\n",
    "        \n",
    "\n",
    "        lowest_price_per_mwh = gasSlice.lowest_price_per_mwh.iloc[0]\n",
    "        highest_price_per_mwh = gasSlice.highest_price_per_mwh.iloc[0]\n",
    "        euros_per_mwh = eSlice['euros_per_mwh'].to_numpy()\n",
    "        if euros_per_mwh.shape[0] == 23:\n",
    "            print(dataBlockId, customerId)\n",
    "\n",
    "        y_cons = timeSlice['target_cons'] / installed_capacity\n",
    "        y_prod = timeSlice['target_prod'] / installed_capacity\n",
    "\n",
    "        histWeather = histWeatherComplete.loc[(histWeatherComplete.data_block_id == dataBlockId) & (histWeatherComplete.County == county)]\n",
    "        predWeather = predWeatherComplete.loc[(predWeatherComplete.data_block_id == dataBlockId) & (predWeatherComplete.County == county)]\n",
    "\n",
    "        histWeather = histWeather.drop('data_block_id', axis = 1)\n",
    "        predWeather = predWeather.drop('data_block_id', axis = 1)\n",
    "\n",
    "\n",
    "        if y_cons.shape[0] == 23:\n",
    "            print(dataBlockId, customerId)\n",
    "\n",
    "        new_row = np.array([county, is_business, product_type, prediction_unit_id, eic_count, installed_capacity, \n",
    "        business_prodType,ind_customer_id,lowest_price_per_mwh,highest_price_per_mwh,\n",
    "        yearday,weekday,month,monthday\n",
    "        ])\n",
    "        constValsArray = np.vstack((constValsArray, new_row))\n",
    "\n",
    "        new_row = np.zeros((1,24,2))\n",
    "        new_row[:,:,0] = y_cons\n",
    "        new_row[:,:,1] = y_prod\n",
    "        targetsArray = np.concatenate((targetsArray, new_row), axis=0)\n",
    "\n",
    "        new_row = np.zeros((1,24,1))\n",
    "        new_row[0,:,0] = euros_per_mwh\n",
    "        ePricesArray = np.concatenate((ePricesArray, new_row), axis=0)\n",
    "\n",
    "        new_row = np.zeros((1,24,nFeatHistWeather)) #without datablock id\n",
    "        new_row[:,:,:] = histWeather\n",
    "        histWeatherArray = np.concatenate((histWeatherArray, new_row), axis=0)\n",
    "\n",
    "        new_row = np.zeros((1,24,nFeatPredWeather)) # withotu datablock id\n",
    "        new_row[:,:,:] = predWeather\n",
    "        predWeatherArray = np.concatenate((predWeatherArray, new_row), axis=0)\n",
    "\n",
    "        dataBlockIdArray = np.concatenate((dataBlockIdArray, np.array([dataBlockId])))\n",
    "    \n"
   ]
  },
  {
   "cell_type": "code",
   "execution_count": 201,
   "metadata": {},
   "outputs": [
    {
     "name": "stdout",
     "output_type": "stream",
     "text": [
      "(41869, 24, 2) (41869, 14) (41869, 24, 1) (41869, 24, 18) (41869, 24, 14) (41869,)\n"
     ]
    }
   ],
   "source": [
    "#remove first rows\n",
    "targetsArray     = targetsArray[1:,:,:]\n",
    "constValsArray   = constValsArray[1:,:]\n",
    "ePricesArray     = ePricesArray[1:,:,:]\n",
    "histWeatherArray = histWeatherArray[1:,:,:]\n",
    "predWeatherArray = predWeatherArray[1:,:,:]\n",
    "dataBlockIdArray = dataBlockIdArray[1:]\n",
    "print(targetsArray.shape, constValsArray.shape, ePricesArray.shape,histWeatherArray.shape, predWeatherArray.shape, dataBlockIdArray.shape)"
   ]
  },
  {
   "cell_type": "code",
   "execution_count": 202,
   "metadata": {},
   "outputs": [
    {
     "name": "stdout",
     "output_type": "stream",
     "text": [
      "(41869, 24, 2)\n"
     ]
    }
   ],
   "source": [
    "#calc absolute targets, not normalized by capacity\n",
    "targetsAbs = targetsArray.copy()\n",
    "targetsAbs = targetsAbs * constValsArray[:,5].reshape(constValsArray.shape[0],1,1)\n",
    "print(targetsAbs.shape)"
   ]
  },
  {
   "cell_type": "code",
   "execution_count": 203,
   "metadata": {},
   "outputs": [
    {
     "name": "stdout",
     "output_type": "stream",
     "text": [
      "(41869, 24, 2) (41869, 14) (41869, 24, 1) (41869, 24, 18) (41869, 24, 14) (41869,)\n"
     ]
    }
   ],
   "source": [
    "print(targetsArray.shape, constValsArray.shape, ePricesArray.shape,histWeatherArray.shape, predWeatherArray.shape, dataBlockIdArray.shape)"
   ]
  },
  {
   "cell_type": "code",
   "execution_count": 204,
   "metadata": {},
   "outputs": [],
   "source": [
    "np.savez('data_arrays_snowcover_GasPr_noSunrise_timeFeat.npz', arr1=targetsArray, arr2=constValsArray, arr3=ePricesArray, arr4 = histWeatherArray, arr5=predWeatherArray, arr6=dataBlockIdArray, arr7=targetsAbs)"
   ]
  },
  {
   "cell_type": "markdown",
   "metadata": {},
   "source": [
    "# load data"
   ]
  },
  {
   "cell_type": "code",
   "execution_count": 445,
   "metadata": {},
   "outputs": [
    {
     "name": "stdout",
     "output_type": "stream",
     "text": [
      "6 2 16\n"
     ]
    }
   ],
   "source": [
    "loaded_data = np.load('data_arrays_snowcover_GasPr_noSunrise_timeFeat.npz')\n",
    "\n",
    "# Access individual arrays by their keys\n",
    "targetsArray = loaded_data['arr1']\n",
    "constValsArray = loaded_data['arr2']\n",
    "ePricesArray = loaded_data['arr3']\n",
    "histWeatherArray = loaded_data['arr4']\n",
    "predWeatherArray = loaded_data['arr5']\n",
    "dataBlockIdArray = loaded_data['arr6']\n",
    "targetsAbs = loaded_data['arr7']\n",
    "\n",
    "featConst =['county', 'is_business', 'product_type', 'prediction_unit_id', 'eic_count', 'installed_capacity', 'business_prodType', 'ind_customer_id',\n",
    "'lowest_price_per_mwh','highest_price_per_mwh','yearday','weekday','month','monthday'\n",
    "]\n",
    "\n",
    "featPredWeather = [\n",
    "        'County',\n",
    "       'hours_ahead',\n",
    "       # 'data_block_id',\n",
    "       'temperatureint',\n",
    "       'dewpointint', 'cloudcover_highint', 'cloudcover_lowint',\n",
    "       'cloudcover_midint', \n",
    "       'cloudcover_totalint',\n",
    "       '10_metre_u_wind_componentint', '10_metre_v_wind_componentint',\n",
    "       'direct_solar_radiationint', 'surface_solar_radiation_downwardsint',\n",
    "       'snowfallint', 'total_precipitationint', \n",
    "       ]\n",
    "featPredWeatherKeepIdx = [0,1,2,3,4,5,6,10,11,12,13]\n",
    "featPredWeatherKeepIdx = [1,2,3,13]\n",
    "predWeatherArray=predWeatherArray[:,:,featPredWeatherKeepIdx]\n",
    "featPredWeather = [featPredWeather[i] for i in featPredWeatherKeepIdx]\n",
    "\n",
    "#correct hours\n",
    "predWeatherArray[:,:,1] = predWeatherArray[:,:,1] - 24\n",
    "\n",
    "# add sin of hours\n",
    "sinDay = np.reshape(np.sin((predWeatherArray[:,:,1] - 24)*np.pi/24),(predWeatherArray.shape[0],predWeatherArray.shape[1],1))\n",
    "predWeatherArray = np.concatenate((predWeatherArray, sinDay), axis=2)\n",
    "featPredWeatherKeepIdx = featPredWeatherKeepIdx + [len(featPredWeatherKeepIdx)] \n",
    "featPredWeather = featPredWeather + ['sinDay']\n",
    "\n",
    "cosDay = np.reshape(np.cos((predWeatherArray[:,:,1] - 24)*np.pi/24),(predWeatherArray.shape[0],predWeatherArray.shape[1],1))\n",
    "predWeatherArray = np.concatenate((predWeatherArray, cosDay), axis=2)\n",
    "featPredWeatherKeepIdx = featPredWeatherKeepIdx + [len(featPredWeatherKeepIdx)] \n",
    "featPredWeather = featPredWeather + ['cosDay']\n",
    "nPredFeat = predWeatherArray.shape[2]\n",
    "\n",
    "\n",
    "# add sin of year day\n",
    "sinYear = np.reshape(np.sin(2*constValsArray[:,10]*np.pi/365),(constValsArray.shape[0],1))\n",
    "constValsArray = np.concatenate((constValsArray, sinYear), axis=1)\n",
    "featConst = featConst + ['sinYearDay']\n",
    "\n",
    "cosYear = np.reshape(np.cos(2*constValsArray[:,10]*np.pi/365),(constValsArray.shape[0],1))\n",
    "constValsArray = np.concatenate((constValsArray, cosYear), axis=1)\n",
    "featConst = featConst + ['cosYearDay']\n",
    "nConst = constValsArray.shape[1]\n",
    "\n",
    "\n",
    "\n",
    "featHistWeather = [\n",
    "       'County', \n",
    "       #'data_block_id', \n",
    "       'temperatureint', 'dewpointint', 'rainint',\n",
    "       'snowfallint', 'surface_pressureint', 'cloudcover_totalint',\n",
    "       'cloudcover_lowint', 'cloudcover_midint', 'cloudcover_highint',\n",
    "       'windspeed_10mint', 'winddirection_10mint', 'shortwave_radiationint',\n",
    "       'direct_solar_radiationint', 'diffuse_radiationint', 'meltingInCM',\n",
    "       'snowHeightFlux', 'snowcover'\n",
    "]\n",
    "featHistWeatherKeepIdx = [1,10]\n",
    "histWeatherArray=histWeatherArray[:,:,featHistWeatherKeepIdx]\n",
    "\n",
    "featHistWeather = [featHistWeather[i] for i in featHistWeatherKeepIdx]\n",
    "nHistFeat = histWeatherArray.shape[2]\n",
    "\n",
    "print(nPredFeat,nHistFeat,nConst)"
   ]
  },
  {
   "cell_type": "code",
   "execution_count": 388,
   "metadata": {},
   "outputs": [
    {
     "ename": "ValueError",
     "evalue": "setting an array element with a sequence. The requested array has an inhomogeneous shape after 2 dimensions. The detected shape was (4, 33495) + inhomogeneous part.",
     "output_type": "error",
     "traceback": [
      "\u001b[0;31m---------------------------------------------------------------------------\u001b[0m",
      "\u001b[0;31mValueError\u001b[0m                                Traceback (most recent call last)",
      "Cell \u001b[0;32mIn[388], line 3\u001b[0m\n\u001b[1;32m      1\u001b[0m \u001b[38;5;28;01mfrom\u001b[39;00m \u001b[38;5;21;01msklearn\u001b[39;00m\u001b[38;5;21;01m.\u001b[39;00m\u001b[38;5;21;01mpreprocessing\u001b[39;00m \u001b[38;5;28;01mimport\u001b[39;00m StandardScaler\n\u001b[1;32m      2\u001b[0m scaler \u001b[38;5;241m=\u001b[39m StandardScaler()\n\u001b[0;32m----> 3\u001b[0m X_train_scaled \u001b[38;5;241m=\u001b[39m \u001b[43mscaler\u001b[49m\u001b[38;5;241;43m.\u001b[39;49m\u001b[43mfit_transform\u001b[49m\u001b[43m(\u001b[49m\u001b[43mX_train\u001b[49m\u001b[43m)\u001b[49m\n",
      "File \u001b[0;32m~/opt/anaconda3/envs/predictenegycons/lib/python3.10/site-packages/sklearn/utils/_set_output.py:140\u001b[0m, in \u001b[0;36m_wrap_method_output.<locals>.wrapped\u001b[0;34m(self, X, *args, **kwargs)\u001b[0m\n\u001b[1;32m    138\u001b[0m \u001b[39m@wraps\u001b[39m(f)\n\u001b[1;32m    139\u001b[0m \u001b[39mdef\u001b[39;00m \u001b[39mwrapped\u001b[39m(\u001b[39mself\u001b[39m, X, \u001b[39m*\u001b[39margs, \u001b[39m*\u001b[39m\u001b[39m*\u001b[39mkwargs):\n\u001b[0;32m--> 140\u001b[0m     data_to_wrap \u001b[39m=\u001b[39m f(\u001b[39mself\u001b[39;49m, X, \u001b[39m*\u001b[39;49margs, \u001b[39m*\u001b[39;49m\u001b[39m*\u001b[39;49mkwargs)\n\u001b[1;32m    141\u001b[0m     \u001b[39mif\u001b[39;00m \u001b[39misinstance\u001b[39m(data_to_wrap, \u001b[39mtuple\u001b[39m):\n\u001b[1;32m    142\u001b[0m         \u001b[39m# only wrap the first output for cross decomposition\u001b[39;00m\n\u001b[1;32m    143\u001b[0m         \u001b[39mreturn\u001b[39;00m (\n\u001b[1;32m    144\u001b[0m             _wrap_data_with_container(method, data_to_wrap[\u001b[39m0\u001b[39m], X, \u001b[39mself\u001b[39m),\n\u001b[1;32m    145\u001b[0m             \u001b[39m*\u001b[39mdata_to_wrap[\u001b[39m1\u001b[39m:],\n\u001b[1;32m    146\u001b[0m         )\n",
      "File \u001b[0;32m~/opt/anaconda3/envs/predictenegycons/lib/python3.10/site-packages/sklearn/base.py:878\u001b[0m, in \u001b[0;36mTransformerMixin.fit_transform\u001b[0;34m(self, X, y, **fit_params)\u001b[0m\n\u001b[1;32m    874\u001b[0m \u001b[39m# non-optimized default implementation; override when a better\u001b[39;00m\n\u001b[1;32m    875\u001b[0m \u001b[39m# method is possible for a given clustering algorithm\u001b[39;00m\n\u001b[1;32m    876\u001b[0m \u001b[39mif\u001b[39;00m y \u001b[39mis\u001b[39;00m \u001b[39mNone\u001b[39;00m:\n\u001b[1;32m    877\u001b[0m     \u001b[39m# fit method of arity 1 (unsupervised transformation)\u001b[39;00m\n\u001b[0;32m--> 878\u001b[0m     \u001b[39mreturn\u001b[39;00m \u001b[39mself\u001b[39;49m\u001b[39m.\u001b[39;49mfit(X, \u001b[39m*\u001b[39;49m\u001b[39m*\u001b[39;49mfit_params)\u001b[39m.\u001b[39mtransform(X)\n\u001b[1;32m    879\u001b[0m \u001b[39melse\u001b[39;00m:\n\u001b[1;32m    880\u001b[0m     \u001b[39m# fit method of arity 2 (supervised transformation)\u001b[39;00m\n\u001b[1;32m    881\u001b[0m     \u001b[39mreturn\u001b[39;00m \u001b[39mself\u001b[39m\u001b[39m.\u001b[39mfit(X, y, \u001b[39m*\u001b[39m\u001b[39m*\u001b[39mfit_params)\u001b[39m.\u001b[39mtransform(X)\n",
      "File \u001b[0;32m~/opt/anaconda3/envs/predictenegycons/lib/python3.10/site-packages/sklearn/preprocessing/_data.py:824\u001b[0m, in \u001b[0;36mStandardScaler.fit\u001b[0;34m(self, X, y, sample_weight)\u001b[0m\n\u001b[1;32m    822\u001b[0m \u001b[39m# Reset internal state before fitting\u001b[39;00m\n\u001b[1;32m    823\u001b[0m \u001b[39mself\u001b[39m\u001b[39m.\u001b[39m_reset()\n\u001b[0;32m--> 824\u001b[0m \u001b[39mreturn\u001b[39;00m \u001b[39mself\u001b[39;49m\u001b[39m.\u001b[39;49mpartial_fit(X, y, sample_weight)\n",
      "File \u001b[0;32m~/opt/anaconda3/envs/predictenegycons/lib/python3.10/site-packages/sklearn/preprocessing/_data.py:861\u001b[0m, in \u001b[0;36mStandardScaler.partial_fit\u001b[0;34m(self, X, y, sample_weight)\u001b[0m\n\u001b[1;32m    858\u001b[0m \u001b[39mself\u001b[39m\u001b[39m.\u001b[39m_validate_params()\n\u001b[1;32m    860\u001b[0m first_call \u001b[39m=\u001b[39m \u001b[39mnot\u001b[39;00m \u001b[39mhasattr\u001b[39m(\u001b[39mself\u001b[39m, \u001b[39m\"\u001b[39m\u001b[39mn_samples_seen_\u001b[39m\u001b[39m\"\u001b[39m)\n\u001b[0;32m--> 861\u001b[0m X \u001b[39m=\u001b[39m \u001b[39mself\u001b[39;49m\u001b[39m.\u001b[39;49m_validate_data(\n\u001b[1;32m    862\u001b[0m     X,\n\u001b[1;32m    863\u001b[0m     accept_sparse\u001b[39m=\u001b[39;49m(\u001b[39m\"\u001b[39;49m\u001b[39mcsr\u001b[39;49m\u001b[39m\"\u001b[39;49m, \u001b[39m\"\u001b[39;49m\u001b[39mcsc\u001b[39;49m\u001b[39m\"\u001b[39;49m),\n\u001b[1;32m    864\u001b[0m     dtype\u001b[39m=\u001b[39;49mFLOAT_DTYPES,\n\u001b[1;32m    865\u001b[0m     force_all_finite\u001b[39m=\u001b[39;49m\u001b[39m\"\u001b[39;49m\u001b[39mallow-nan\u001b[39;49m\u001b[39m\"\u001b[39;49m,\n\u001b[1;32m    866\u001b[0m     reset\u001b[39m=\u001b[39;49mfirst_call,\n\u001b[1;32m    867\u001b[0m )\n\u001b[1;32m    868\u001b[0m n_features \u001b[39m=\u001b[39m X\u001b[39m.\u001b[39mshape[\u001b[39m1\u001b[39m]\n\u001b[1;32m    870\u001b[0m \u001b[39mif\u001b[39;00m sample_weight \u001b[39mis\u001b[39;00m \u001b[39mnot\u001b[39;00m \u001b[39mNone\u001b[39;00m:\n",
      "File \u001b[0;32m~/opt/anaconda3/envs/predictenegycons/lib/python3.10/site-packages/sklearn/base.py:565\u001b[0m, in \u001b[0;36mBaseEstimator._validate_data\u001b[0;34m(self, X, y, reset, validate_separately, **check_params)\u001b[0m\n\u001b[1;32m    563\u001b[0m     \u001b[39mraise\u001b[39;00m \u001b[39mValueError\u001b[39;00m(\u001b[39m\"\u001b[39m\u001b[39mValidation should be done on X, y or both.\u001b[39m\u001b[39m\"\u001b[39m)\n\u001b[1;32m    564\u001b[0m \u001b[39melif\u001b[39;00m \u001b[39mnot\u001b[39;00m no_val_X \u001b[39mand\u001b[39;00m no_val_y:\n\u001b[0;32m--> 565\u001b[0m     X \u001b[39m=\u001b[39m check_array(X, input_name\u001b[39m=\u001b[39;49m\u001b[39m\"\u001b[39;49m\u001b[39mX\u001b[39;49m\u001b[39m\"\u001b[39;49m, \u001b[39m*\u001b[39;49m\u001b[39m*\u001b[39;49mcheck_params)\n\u001b[1;32m    566\u001b[0m     out \u001b[39m=\u001b[39m X\n\u001b[1;32m    567\u001b[0m \u001b[39melif\u001b[39;00m no_val_X \u001b[39mand\u001b[39;00m \u001b[39mnot\u001b[39;00m no_val_y:\n",
      "File \u001b[0;32m~/opt/anaconda3/envs/predictenegycons/lib/python3.10/site-packages/sklearn/utils/validation.py:879\u001b[0m, in \u001b[0;36mcheck_array\u001b[0;34m(array, accept_sparse, accept_large_sparse, dtype, order, copy, force_all_finite, ensure_2d, allow_nd, ensure_min_samples, ensure_min_features, estimator, input_name)\u001b[0m\n\u001b[1;32m    877\u001b[0m         array \u001b[39m=\u001b[39m xp\u001b[39m.\u001b[39mastype(array, dtype, copy\u001b[39m=\u001b[39m\u001b[39mFalse\u001b[39;00m)\n\u001b[1;32m    878\u001b[0m     \u001b[39melse\u001b[39;00m:\n\u001b[0;32m--> 879\u001b[0m         array \u001b[39m=\u001b[39m _asarray_with_order(array, order\u001b[39m=\u001b[39;49morder, dtype\u001b[39m=\u001b[39;49mdtype, xp\u001b[39m=\u001b[39;49mxp)\n\u001b[1;32m    880\u001b[0m \u001b[39mexcept\u001b[39;00m ComplexWarning \u001b[39mas\u001b[39;00m complex_warning:\n\u001b[1;32m    881\u001b[0m     \u001b[39mraise\u001b[39;00m \u001b[39mValueError\u001b[39;00m(\n\u001b[1;32m    882\u001b[0m         \u001b[39m\"\u001b[39m\u001b[39mComplex data not supported\u001b[39m\u001b[39m\\n\u001b[39;00m\u001b[39m{}\u001b[39;00m\u001b[39m\\n\u001b[39;00m\u001b[39m\"\u001b[39m\u001b[39m.\u001b[39mformat(array)\n\u001b[1;32m    883\u001b[0m     ) \u001b[39mfrom\u001b[39;00m \u001b[39mcomplex_warning\u001b[39;00m\n",
      "File \u001b[0;32m~/opt/anaconda3/envs/predictenegycons/lib/python3.10/site-packages/sklearn/utils/_array_api.py:185\u001b[0m, in \u001b[0;36m_asarray_with_order\u001b[0;34m(array, dtype, order, copy, xp)\u001b[0m\n\u001b[1;32m    182\u001b[0m     xp, _ \u001b[39m=\u001b[39m get_namespace(array)\n\u001b[1;32m    183\u001b[0m \u001b[39mif\u001b[39;00m xp\u001b[39m.\u001b[39m\u001b[39m__name__\u001b[39m \u001b[39min\u001b[39;00m {\u001b[39m\"\u001b[39m\u001b[39mnumpy\u001b[39m\u001b[39m\"\u001b[39m, \u001b[39m\"\u001b[39m\u001b[39mnumpy.array_api\u001b[39m\u001b[39m\"\u001b[39m}:\n\u001b[1;32m    184\u001b[0m     \u001b[39m# Use NumPy API to support order\u001b[39;00m\n\u001b[0;32m--> 185\u001b[0m     array \u001b[39m=\u001b[39m numpy\u001b[39m.\u001b[39;49masarray(array, order\u001b[39m=\u001b[39;49morder, dtype\u001b[39m=\u001b[39;49mdtype)\n\u001b[1;32m    186\u001b[0m     \u001b[39mreturn\u001b[39;00m xp\u001b[39m.\u001b[39masarray(array, copy\u001b[39m=\u001b[39mcopy)\n\u001b[1;32m    187\u001b[0m \u001b[39melse\u001b[39;00m:\n",
      "\u001b[0;31mValueError\u001b[0m: setting an array element with a sequence. The requested array has an inhomogeneous shape after 2 dimensions. The detected shape was (4, 33495) + inhomogeneous part."
     ]
    }
   ],
   "source": [
    "from sklearn.preprocessing import StandardScaler\n",
    "scaler = StandardScaler()\n",
    "X_train_scaled = scaler.fit_transform(X_train)"
   ]
  },
  {
   "cell_type": "markdown",
   "metadata": {},
   "source": [
    "# build a model & train it"
   ]
  },
  {
   "cell_type": "code",
   "execution_count": 389,
   "metadata": {},
   "outputs": [],
   "source": [
    "tf.random.set_seed(42)\n",
    "from sklearn.model_selection import train_test_split"
   ]
  },
  {
   "cell_type": "markdown",
   "metadata": {},
   "source": [
    "### shuffle if needed & split into x train y train"
   ]
  },
  {
   "cell_type": "code",
   "execution_count": 446,
   "metadata": {},
   "outputs": [],
   "source": [
    "np.random.seed(42)\n",
    "index_array = np.arange(targetsArray.shape[0])\n",
    "np.random.shuffle(index_array)\n",
    "arrays = [constValsArray,ePricesArray,histWeatherArray,predWeatherArray,targetsAbs,targetsArray,dataBlockIdArray]\n",
    "shuffledArr = [arr[index_array] for arr in arrays]\n",
    "del arrays"
   ]
  },
  {
   "cell_type": "code",
   "execution_count": 447,
   "metadata": {},
   "outputs": [],
   "source": [
    "trainSplit = int(shuffledArr[4].shape[0]*0.8)\n",
    "X_train = [shuffledArr[0][0:trainSplit,:],shuffledArr[1][0:trainSplit,:,:],shuffledArr[2][0:trainSplit,:,:],shuffledArr[3][0:trainSplit,:,:]]\n",
    "# only const and e prices\n",
    "X_train = [shuffledArr[0][0:trainSplit,:],shuffledArr[1][0:trainSplit,:,:]]\n",
    "y_trainAbs = shuffledArr[4][0:trainSplit,:]\n",
    "y_train = shuffledArr[5][0:trainSplit,:]\n",
    "\n",
    "X_test = [shuffledArr[0][trainSplit:-1,:],shuffledArr[1][trainSplit:-1,:,:]]\n",
    "y_testAbs = shuffledArr[4][trainSplit:-1,:]\n",
    "y_test = shuffledArr[5][trainSplit:-1,:]"
   ]
  },
  {
   "cell_type": "code",
   "execution_count": 428,
   "metadata": {},
   "outputs": [
    {
     "data": {
      "text/plain": [
       "(33495, 24, 2)"
      ]
     },
     "execution_count": 428,
     "metadata": {},
     "output_type": "execute_result"
    }
   ],
   "source": [
    "y_trainAbs.shape"
   ]
  },
  {
   "cell_type": "markdown",
   "metadata": {},
   "source": [
    "#### use standard scaler for target"
   ]
  },
  {
   "cell_type": "code",
   "execution_count": 432,
   "metadata": {},
   "outputs": [],
   "source": [
    "# normalize the target\n",
    "from sklearn.preprocessing import StandardScaler\n",
    "\n",
    "scalerT = StandardScaler()\n",
    "y_trainAbsN_cons = scalerT.fit_transform(y_trainAbs[:,:,0].reshape(-1, 1)).reshape(-1,24,1)\n",
    "y_testAbsN_cons  = scalerT.transform(y_testAbs[:,:,0].reshape(-1, 1)).reshape(-1,24,1)"
   ]
  },
  {
   "cell_type": "markdown",
   "metadata": {},
   "source": [
    "### split unshuffled data"
   ]
  },
  {
   "cell_type": "code",
   "execution_count": null,
   "metadata": {},
   "outputs": [],
   "source": [
    "trainSplit = int(targetsArray.shape[0]*0.3)\n",
    "X_train = [constValsArray[0:trainSplit,:],ePricesArray[0:trainSplit,:,:],histWeatherArray[0:trainSplit,:,:],predWeatherArray[0:trainSplit,:,:]]\n",
    "y_train = targetsArray[0:trainSplit,:]\n",
    "y_trainAbs = targetsAbs[0:trainSplit,:]\n",
    "\n",
    "X_test = [constValsArray[trainSplit:-1,:],ePricesArray[trainSplit:-1,:,:],histWeatherArray[trainSplit:-1,:,:],predWeatherArray[trainSplit:-1,:,:]]\n",
    "y_test = targetsArray[trainSplit:-1,:]\n",
    "y_testAbs = targetsAbs[trainSplit:-1,:]"
   ]
  },
  {
   "cell_type": "markdown",
   "metadata": {},
   "source": [
    "### define model & train it"
   ]
  },
  {
   "cell_type": "markdown",
   "metadata": {},
   "source": [
    "#### model with 2 outputs"
   ]
  },
  {
   "cell_type": "code",
   "execution_count": null,
   "metadata": {},
   "outputs": [],
   "source": [
    "# Define the inputs\n",
    "weatherPred_inputs = tf.keras.Input(shape=(24, 16), name='weatherPred_inputs')\n",
    "ePrices_inputs = tf.keras.Input(shape=(24, 1), name='ePrices_inputs')\n",
    "\n",
    "weatherHist_input = tf.keras.Input(shape=(24, 18), name='weatherHist_input')\n",
    "constant_inputs = tf.keras.Input(shape=(14,), name='constant_inputs')\n",
    "\n",
    "# Process the time-based inputs\n",
    "weatherPred_flattened = layers.Flatten()(weatherPred_inputs)\n",
    "weatherPred_flattened = layers.Dense(408, activation='relu')(weatherPred_flattened)\n",
    "weatherPred_flattened = layers.Dense(408, activation='relu')(weatherPred_flattened)\n",
    "weatherPred_flattened = layers.Dense(408, activation='relu')(weatherPred_flattened)\n",
    "#weatherPred_flattened = layers.Dense(256, activation='relu')(weatherPred_flattened)\n",
    "#weatherPred_flattened = layers.Dense(64, activation='relu')(weatherPred_flattened)\n",
    "\n",
    "weatherHist_flattened = layers.Flatten()(weatherHist_input)\n",
    "weatherHist_flattened = layers.Dense(240, activation='relu')(weatherHist_flattened)\n",
    "weatherHist_flattened = layers.Dense(240, activation='relu')(weatherHist_flattened)\n",
    "weatherHist_flattened = layers.Dense(240, activation='relu')(weatherHist_flattened)\n",
    "#weatherHist_flattened = layers.Dense(64, activation='relu')(weatherHist_flattened)\n",
    "\n",
    "ePrices_layer = layers.Flatten()(ePrices_inputs)\n",
    "ePrices_layer = layers.Dense(24, activation='relu')(ePrices_layer)\n",
    "\n",
    "# Concatenate all inputs\n",
    "x = layers.Concatenate()([weatherPred_flattened, weatherHist_flattened, ePrices_layer, constant_inputs])\n",
    "\n",
    "# Main dense block\n",
    "for i in range(0,5):\n",
    "    x = layers.Dense(540, activation='relu')(x)\n",
    "    #x = layers.Dropout(0.1)(x)\n",
    "\n",
    "# Output layer for 24*2 targets\n",
    "output_layer = layers.Dense(24 * 2, activation='linear', name='output')(x)\n",
    "output_layer = layers.Reshape((24, 2))(output_layer)"
   ]
  },
  {
   "cell_type": "code",
   "execution_count": null,
   "metadata": {},
   "outputs": [],
   "source": [
    "model = models.Model(inputs=[constant_inputs,ePrices_inputs, weatherHist_input, weatherPred_inputs], outputs=output_layer)\n",
    "\n",
    "# Compile the model with an appropriate loss function and optimizer\n",
    "model.compile(optimizer='adam', loss='mae', metrics=['mae','mse'])\n",
    "\n",
    "history = model.fit(X_train, y_train, validation_data=(X_test, y_test), epochs=200, batch_size=200) #batch size = 110 weather station"
   ]
  },
  {
   "cell_type": "code",
   "execution_count": null,
   "metadata": {},
   "outputs": [],
   "source": [
    "fig = go.Figure()\n",
    "length = len(history.history['loss'])\n",
    "fig.add_trace(go.Scatter(x=np.arange(1, length+1), y=history.history['loss'], mode='lines', name='Train Loss'))\n",
    "fig.add_trace(go.Scatter(x=np.arange(1, length+1), y=history.history['val_loss'], mode='lines', name='Validation Loss'))\n",
    "fig.update_layout(\n",
    "    title='Training and Validation Loss Over Epochs',\n",
    "    xaxis=dict(title='Epoch'),\n",
    "    yaxis=dict(title='Loss'),\n",
    "    legend=dict(x=0, y=1, traceorder='normal'),\n",
    ")\n",
    "fig.show()"
   ]
  },
  {
   "cell_type": "code",
   "execution_count": null,
   "metadata": {},
   "outputs": [],
   "source": [
    "a = model.predict(X_test)\n",
    "predVals = a*X_test[0][:,5].reshape(X_test[0].shape[0],1,1)\n",
    "print(np.mean(np.abs(y_testAbs - predVals)))\n",
    "a = model.predict(X_train)\n",
    "predVals = a*X_train[0][:,5].reshape(X_train[0].shape[0],1,1)\n",
    "trueVals = targetsAbs[0:trainSplit,:]\n",
    "print(np.mean(np.abs(y_trainAbs - predVals)))\n",
    "del a,predVals,trueVals"
   ]
  },
  {
   "cell_type": "markdown",
   "metadata": {},
   "source": [
    "### use a model for production and consumption separately"
   ]
  },
  {
   "cell_type": "code",
   "execution_count": 14,
   "metadata": {},
   "outputs": [
    {
     "name": "stderr",
     "output_type": "stream",
     "text": [
      "2023-12-27 16:47:15.300619: I tensorflow/core/platform/cpu_feature_guard.cc:193] This TensorFlow binary is optimized with oneAPI Deep Neural Network Library (oneDNN) to use the following CPU instructions in performance-critical operations:  SSE4.1 SSE4.2\n",
      "To enable them in other operations, rebuild TensorFlow with the appropriate compiler flags.\n"
     ]
    },
    {
     "name": "stdout",
     "output_type": "stream",
     "text": [
      "Epoch 1/100\n",
      "84/84 [==============================] - 5s 51ms/step - loss: 46.4742 - val_loss: 33.8714\n",
      "Epoch 2/100\n",
      "84/84 [==============================] - 4s 50ms/step - loss: 33.7909 - val_loss: 29.8004\n",
      "Epoch 3/100\n",
      "84/84 [==============================] - 4s 52ms/step - loss: 32.9166 - val_loss: 30.5366\n",
      "Epoch 4/100\n",
      "84/84 [==============================] - 5s 55ms/step - loss: 30.3373 - val_loss: 31.4892\n",
      "Epoch 5/100\n",
      "84/84 [==============================] - 4s 54ms/step - loss: 30.5417 - val_loss: 28.8298\n",
      "Epoch 6/100\n",
      "84/84 [==============================] - 5s 54ms/step - loss: 28.7493 - val_loss: 27.5593\n",
      "Epoch 7/100\n",
      "84/84 [==============================] - 4s 53ms/step - loss: 27.7565 - val_loss: 27.9405\n",
      "Epoch 8/100\n",
      "84/84 [==============================] - 5s 56ms/step - loss: 27.9888 - val_loss: 28.5697\n",
      "Epoch 9/100\n",
      "84/84 [==============================] - 4s 52ms/step - loss: 27.5353 - val_loss: 30.4658\n",
      "Epoch 10/100\n",
      "84/84 [==============================] - 4s 52ms/step - loss: 27.2149 - val_loss: 27.0240\n",
      "Epoch 11/100\n",
      "84/84 [==============================] - 4s 52ms/step - loss: 25.6914 - val_loss: 25.2784\n",
      "Epoch 12/100\n",
      "84/84 [==============================] - 4s 52ms/step - loss: 25.4348 - val_loss: 24.8202\n",
      "Epoch 13/100\n",
      "84/84 [==============================] - 4s 53ms/step - loss: 25.5510 - val_loss: 25.5778\n",
      "Epoch 14/100\n",
      "84/84 [==============================] - 4s 53ms/step - loss: 25.7780 - val_loss: 25.6798\n",
      "Epoch 15/100\n",
      "84/84 [==============================] - 4s 53ms/step - loss: 24.3125 - val_loss: 23.9422\n",
      "Epoch 16/100\n",
      "84/84 [==============================] - 5s 54ms/step - loss: 25.1243 - val_loss: 24.6757\n",
      "Epoch 17/100\n",
      "84/84 [==============================] - 5s 54ms/step - loss: 24.2531 - val_loss: 27.5104\n",
      "Epoch 18/100\n",
      "84/84 [==============================] - 5s 54ms/step - loss: 23.6727 - val_loss: 24.1668\n",
      "Epoch 19/100\n",
      "84/84 [==============================] - 5s 54ms/step - loss: 22.5118 - val_loss: 23.2390\n",
      "Epoch 20/100\n",
      "84/84 [==============================] - 5s 54ms/step - loss: 22.8745 - val_loss: 22.9916\n",
      "Epoch 21/100\n",
      "84/84 [==============================] - 5s 55ms/step - loss: 22.3851 - val_loss: 23.5431\n",
      "Epoch 22/100\n",
      "84/84 [==============================] - 5s 56ms/step - loss: 21.5309 - val_loss: 22.8508\n",
      "Epoch 23/100\n",
      "84/84 [==============================] - 5s 56ms/step - loss: 21.3387 - val_loss: 22.7254\n",
      "Epoch 24/100\n",
      "84/84 [==============================] - 5s 55ms/step - loss: 21.5506 - val_loss: 22.7619\n",
      "Epoch 25/100\n",
      "84/84 [==============================] - 5s 55ms/step - loss: 20.7757 - val_loss: 23.1093\n",
      "Epoch 26/100\n",
      "84/84 [==============================] - 5s 56ms/step - loss: 20.4894 - val_loss: 23.6668\n",
      "Epoch 27/100\n",
      "84/84 [==============================] - 5s 55ms/step - loss: 20.6798 - val_loss: 22.7996\n",
      "Epoch 28/100\n",
      "84/84 [==============================] - 5s 56ms/step - loss: 19.7427 - val_loss: 21.6222\n",
      "Epoch 29/100\n",
      "84/84 [==============================] - 5s 55ms/step - loss: 19.5165 - val_loss: 21.8869\n",
      "Epoch 30/100\n",
      "84/84 [==============================] - 5s 56ms/step - loss: 19.5695 - val_loss: 22.8183\n",
      "Epoch 31/100\n",
      "84/84 [==============================] - 5s 55ms/step - loss: 19.5159 - val_loss: 21.7324\n",
      "Epoch 32/100\n",
      "84/84 [==============================] - 5s 56ms/step - loss: 18.9540 - val_loss: 21.2417\n",
      "Epoch 33/100\n",
      "84/84 [==============================] - 5s 55ms/step - loss: 18.8675 - val_loss: 22.4466\n",
      "Epoch 34/100\n",
      "84/84 [==============================] - 5s 56ms/step - loss: 18.2859 - val_loss: 21.3095\n",
      "Epoch 35/100\n",
      "84/84 [==============================] - 5s 56ms/step - loss: 18.5206 - val_loss: 21.4509\n",
      "Epoch 36/100\n",
      "84/84 [==============================] - 5s 57ms/step - loss: 17.7627 - val_loss: 22.0567\n",
      "Epoch 37/100\n",
      "84/84 [==============================] - 5s 56ms/step - loss: 17.5766 - val_loss: 20.5984\n",
      "Epoch 38/100\n",
      "84/84 [==============================] - 5s 57ms/step - loss: 17.4692 - val_loss: 20.9974\n",
      "Epoch 39/100\n",
      "84/84 [==============================] - 5s 56ms/step - loss: 17.0714 - val_loss: 20.1440\n",
      "Epoch 40/100\n",
      "84/84 [==============================] - 5s 56ms/step - loss: 16.8692 - val_loss: 20.1673\n",
      "Epoch 41/100\n",
      "84/84 [==============================] - 5s 56ms/step - loss: 16.7631 - val_loss: 20.3074\n",
      "Epoch 42/100\n",
      "84/84 [==============================] - 5s 56ms/step - loss: 16.6515 - val_loss: 20.9511\n",
      "Epoch 43/100\n",
      "84/84 [==============================] - 5s 56ms/step - loss: 16.8792 - val_loss: 21.1031\n",
      "Epoch 44/100\n",
      "84/84 [==============================] - 5s 57ms/step - loss: 16.3558 - val_loss: 20.6118\n",
      "Epoch 45/100\n",
      "84/84 [==============================] - 5s 57ms/step - loss: 16.0935 - val_loss: 20.4499\n",
      "Epoch 46/100\n",
      "84/84 [==============================] - 5s 58ms/step - loss: 15.7537 - val_loss: 19.8860\n",
      "Epoch 47/100\n",
      "84/84 [==============================] - 5s 57ms/step - loss: 15.4604 - val_loss: 19.5554\n",
      "Epoch 48/100\n",
      "84/84 [==============================] - 5s 58ms/step - loss: 15.0031 - val_loss: 19.6486\n",
      "Epoch 49/100\n",
      "84/84 [==============================] - 5s 57ms/step - loss: 15.2444 - val_loss: 19.7163\n",
      "Epoch 50/100\n",
      "84/84 [==============================] - 5s 56ms/step - loss: 15.7257 - val_loss: 20.2663\n",
      "Epoch 51/100\n",
      "84/84 [==============================] - 5s 56ms/step - loss: 15.1426 - val_loss: 20.5230\n",
      "Epoch 52/100\n",
      "84/84 [==============================] - 5s 58ms/step - loss: 14.7178 - val_loss: 19.4375\n",
      "Epoch 53/100\n",
      "84/84 [==============================] - 5s 57ms/step - loss: 14.3781 - val_loss: 19.4343\n",
      "Epoch 54/100\n",
      "84/84 [==============================] - 5s 59ms/step - loss: 14.1214 - val_loss: 19.1242\n",
      "Epoch 55/100\n",
      "84/84 [==============================] - 5s 57ms/step - loss: 14.1489 - val_loss: 20.1288\n",
      "Epoch 56/100\n",
      "84/84 [==============================] - 5s 57ms/step - loss: 14.0568 - val_loss: 19.1105\n",
      "Epoch 57/100\n",
      "84/84 [==============================] - 5s 57ms/step - loss: 13.9231 - val_loss: 18.9534\n",
      "Epoch 58/100\n",
      "84/84 [==============================] - 5s 60ms/step - loss: 13.5112 - val_loss: 20.0049\n",
      "Epoch 59/100\n",
      "84/84 [==============================] - 5s 61ms/step - loss: 13.8102 - val_loss: 19.3362\n",
      "Epoch 60/100\n",
      "84/84 [==============================] - 5s 60ms/step - loss: 14.1325 - val_loss: 19.0609\n",
      "Epoch 61/100\n",
      "84/84 [==============================] - 5s 58ms/step - loss: 13.0820 - val_loss: 19.1772\n",
      "Epoch 62/100\n",
      "84/84 [==============================] - 5s 58ms/step - loss: 12.8569 - val_loss: 18.9240\n",
      "Epoch 63/100\n",
      "84/84 [==============================] - 5s 59ms/step - loss: 12.8357 - val_loss: 19.6786\n",
      "Epoch 64/100\n",
      "84/84 [==============================] - 5s 58ms/step - loss: 12.4667 - val_loss: 18.5971\n",
      "Epoch 65/100\n",
      "84/84 [==============================] - 5s 59ms/step - loss: 12.7884 - val_loss: 18.9831\n",
      "Epoch 66/100\n",
      "84/84 [==============================] - 5s 58ms/step - loss: 12.2152 - val_loss: 18.7515\n",
      "Epoch 67/100\n",
      "84/84 [==============================] - 5s 59ms/step - loss: 12.2970 - val_loss: 18.5080\n",
      "Epoch 68/100\n",
      "84/84 [==============================] - 5s 59ms/step - loss: 11.7216 - val_loss: 18.5134\n",
      "Epoch 69/100\n",
      "84/84 [==============================] - 5s 59ms/step - loss: 11.7082 - val_loss: 18.6906\n",
      "Epoch 70/100\n",
      "84/84 [==============================] - 5s 60ms/step - loss: 11.7615 - val_loss: 18.4901\n",
      "Epoch 71/100\n",
      "84/84 [==============================] - 5s 58ms/step - loss: 12.3820 - val_loss: 18.8090\n",
      "Epoch 72/100\n",
      "84/84 [==============================] - 5s 58ms/step - loss: 11.7817 - val_loss: 18.4280\n",
      "Epoch 73/100\n",
      "84/84 [==============================] - 5s 59ms/step - loss: 12.3885 - val_loss: 19.1786\n",
      "Epoch 74/100\n",
      "84/84 [==============================] - 5s 59ms/step - loss: 12.3862 - val_loss: 18.6180\n",
      "Epoch 75/100\n",
      "84/84 [==============================] - 5s 59ms/step - loss: 11.7011 - val_loss: 18.4954\n",
      "Epoch 76/100\n",
      "84/84 [==============================] - 5s 59ms/step - loss: 11.4915 - val_loss: 18.4735\n",
      "Epoch 77/100\n",
      "84/84 [==============================] - 5s 60ms/step - loss: 11.0879 - val_loss: 18.7368\n",
      "Epoch 78/100\n",
      "84/84 [==============================] - 5s 59ms/step - loss: 11.3203 - val_loss: 18.5025\n",
      "Epoch 79/100\n",
      "84/84 [==============================] - 5s 59ms/step - loss: 10.9162 - val_loss: 18.4131\n",
      "Epoch 80/100\n",
      "84/84 [==============================] - 5s 59ms/step - loss: 10.8008 - val_loss: 17.9705\n",
      "Epoch 81/100\n",
      "84/84 [==============================] - 5s 59ms/step - loss: 10.9137 - val_loss: 18.2861\n",
      "Epoch 82/100\n",
      "84/84 [==============================] - 5s 59ms/step - loss: 11.0831 - val_loss: 18.3596\n",
      "Epoch 83/100\n",
      "84/84 [==============================] - 5s 58ms/step - loss: 10.6672 - val_loss: 18.3066\n",
      "Epoch 84/100\n",
      "84/84 [==============================] - 5s 60ms/step - loss: 10.6107 - val_loss: 18.0340\n",
      "Epoch 85/100\n",
      "84/84 [==============================] - 5s 58ms/step - loss: 10.8118 - val_loss: 18.1671\n",
      "Epoch 86/100\n",
      "84/84 [==============================] - 5s 59ms/step - loss: 10.6979 - val_loss: 18.4026\n",
      "Epoch 87/100\n",
      "84/84 [==============================] - 5s 59ms/step - loss: 10.7201 - val_loss: 18.5429\n",
      "Epoch 88/100\n",
      "84/84 [==============================] - 5s 60ms/step - loss: 10.1192 - val_loss: 18.0487\n",
      "Epoch 89/100\n",
      "84/84 [==============================] - 5s 58ms/step - loss: 10.1190 - val_loss: 18.1352\n",
      "Epoch 90/100\n",
      "84/84 [==============================] - 5s 59ms/step - loss: 9.7024 - val_loss: 18.1669\n",
      "Epoch 91/100\n",
      "84/84 [==============================] - 5s 59ms/step - loss: 9.9003 - val_loss: 18.0099\n",
      "Epoch 92/100\n",
      "84/84 [==============================] - 5s 60ms/step - loss: 9.7714 - val_loss: 17.9524\n",
      "Epoch 93/100\n",
      "84/84 [==============================] - 5s 59ms/step - loss: 10.0019 - val_loss: 18.1227\n",
      "Epoch 94/100\n",
      "84/84 [==============================] - 5s 61ms/step - loss: 9.9498 - val_loss: 18.5854\n",
      "Epoch 95/100\n",
      "84/84 [==============================] - 5s 59ms/step - loss: 9.5283 - val_loss: 17.7536\n",
      "Epoch 96/100\n",
      "84/84 [==============================] - 5s 59ms/step - loss: 9.5113 - val_loss: 18.4206\n",
      "Epoch 97/100\n",
      "84/84 [==============================] - 5s 59ms/step - loss: 9.6336 - val_loss: 18.0479\n",
      "Epoch 98/100\n",
      "84/84 [==============================] - 5s 60ms/step - loss: 9.6091 - val_loss: 17.8737\n",
      "Epoch 99/100\n",
      "84/84 [==============================] - 5s 59ms/step - loss: 9.7447 - val_loss: 18.9615\n",
      "Epoch 100/100\n",
      "84/84 [==============================] - 5s 60ms/step - loss: 10.0286 - val_loss: 18.5112\n"
     ]
    }
   ],
   "source": [
    "# production\n",
    "# Define the inputs\n",
    "weatherPred_inputs1 = tf.keras.Input(shape=(24, 10), name='weatherPred_inputs1')\n",
    "ePrices_inputs1 = tf.keras.Input(shape=(24, 1), name='ePrices_inputs1')\n",
    "\n",
    "weatherHist_input1 = tf.keras.Input(shape=(24, 5), name='weatherHist_input1')\n",
    "constant_inputs1 = tf.keras.Input(shape=(14,), name='constant_inputs1')\n",
    "\n",
    "# Process the time-based inputs\n",
    "weatherPred_flattened1 = layers.Flatten()(weatherPred_inputs1)\n",
    "for i in range(0,3):\n",
    "    weatherPred_flattened1 = layers.Dense(240, activation='relu')(weatherPred_flattened1)\n",
    "\n",
    "weatherHist_flattened1 = layers.Flatten()(weatherHist_input1)\n",
    "for i in range(0,3):\n",
    "    weatherHist_flattened1 = layers.Dense(120, activation='relu')(weatherHist_flattened1)\n",
    "\n",
    "ePrices_layer1 = layers.Flatten()(ePrices_inputs1)\n",
    "ePrices_layer1 = layers.Dense(24, activation='relu')(ePrices_layer1)\n",
    "\n",
    "# Concatenate all inputs\n",
    "x1 = layers.Concatenate()([weatherPred_flattened1, weatherHist_flattened1, ePrices_layer1, constant_inputs1])\n",
    "\n",
    "# Main dense block\n",
    "for i in range(0,5):\n",
    "    x1 = layers.Dense(540, activation='relu')(x1)\n",
    "    #x = layers.Dropout(0.1)(x)\n",
    "\n",
    "# Output layer for 24*2 targets\n",
    "output_layer1 = layers.Dense(24 * 1, activation='linear', name='output1')(x1)\n",
    "output_layer1 = layers.Reshape((24, 1))(output_layer1)\n",
    "\n",
    "model2 = models.Model(inputs=[constant_inputs1,ePrices_inputs1, weatherHist_input1, weatherPred_inputs1], outputs=output_layer1)\n",
    "\n",
    "# Compile the model with an appropriate loss function and optimizer\n",
    "model2.compile(optimizer='adam', loss='mae')#, metrics=['mae'])\n",
    "# 0 = cons, 1 = prod\n",
    "history2 = model2.fit(X_train, y_trainAbs[:,:,1], validation_data=(X_test, y_testAbs[:,:,1]), epochs=100, batch_size=400) #batch size = 110 weather station"
   ]
  },
  {
   "cell_type": "code",
   "execution_count": 433,
   "metadata": {},
   "outputs": [
    {
     "name": "stdout",
     "output_type": "stream",
     "text": [
      "Epoch 1/100\n",
      "134/134 [==============================] - 3s 17ms/step - loss: 0.2414 - val_loss: 0.1957\n",
      "Epoch 2/100\n",
      "134/134 [==============================] - 2s 16ms/step - loss: 0.1467 - val_loss: 0.1264\n",
      "Epoch 3/100\n",
      "134/134 [==============================] - 2s 15ms/step - loss: 0.1275 - val_loss: 0.1002\n",
      "Epoch 4/100\n",
      "134/134 [==============================] - 2s 16ms/step - loss: 0.1245 - val_loss: 0.1171\n",
      "Epoch 5/100\n",
      "134/134 [==============================] - 2s 17ms/step - loss: 0.1140 - val_loss: 0.0915\n",
      "Epoch 6/100\n",
      "134/134 [==============================] - 2s 15ms/step - loss: 0.0992 - val_loss: 0.0981\n",
      "Epoch 7/100\n",
      "134/134 [==============================] - 3s 20ms/step - loss: 0.0970 - val_loss: 0.0881\n",
      "Epoch 8/100\n",
      "134/134 [==============================] - 2s 18ms/step - loss: 0.0872 - val_loss: 0.0759\n",
      "Epoch 9/100\n",
      "134/134 [==============================] - 2s 16ms/step - loss: 0.0851 - val_loss: 0.0741\n",
      "Epoch 10/100\n",
      "134/134 [==============================] - 2s 15ms/step - loss: 0.0812 - val_loss: 0.0810\n",
      "Epoch 11/100\n",
      "134/134 [==============================] - 2s 15ms/step - loss: 0.0774 - val_loss: 0.0714\n",
      "Epoch 12/100\n",
      "134/134 [==============================] - 2s 15ms/step - loss: 0.0769 - val_loss: 0.0683\n",
      "Epoch 13/100\n",
      "134/134 [==============================] - 2s 15ms/step - loss: 0.0725 - val_loss: 0.0676\n",
      "Epoch 14/100\n",
      "134/134 [==============================] - 2s 15ms/step - loss: 0.0704 - val_loss: 0.0664\n",
      "Epoch 15/100\n",
      "134/134 [==============================] - 2s 15ms/step - loss: 0.0662 - val_loss: 0.0634\n",
      "Epoch 16/100\n",
      "134/134 [==============================] - 2s 18ms/step - loss: 0.0658 - val_loss: 0.0576\n",
      "Epoch 17/100\n",
      "134/134 [==============================] - 2s 16ms/step - loss: 0.0645 - val_loss: 0.0613\n",
      "Epoch 18/100\n",
      "134/134 [==============================] - 2s 18ms/step - loss: 0.0617 - val_loss: 0.0546\n",
      "Epoch 19/100\n",
      "134/134 [==============================] - 2s 16ms/step - loss: 0.0604 - val_loss: 0.0612\n",
      "Epoch 20/100\n",
      "134/134 [==============================] - 2s 16ms/step - loss: 0.0591 - val_loss: 0.0550\n",
      "Epoch 21/100\n",
      "134/134 [==============================] - 2s 17ms/step - loss: 0.0606 - val_loss: 0.0536\n",
      "Epoch 22/100\n",
      "134/134 [==============================] - 2s 16ms/step - loss: 0.0576 - val_loss: 0.0578\n",
      "Epoch 23/100\n",
      "134/134 [==============================] - 2s 17ms/step - loss: 0.0557 - val_loss: 0.0530\n",
      "Epoch 24/100\n",
      "134/134 [==============================] - 2s 17ms/step - loss: 0.0564 - val_loss: 0.0529\n",
      "Epoch 25/100\n",
      "134/134 [==============================] - 2s 18ms/step - loss: 0.0557 - val_loss: 0.0526\n",
      "Epoch 26/100\n",
      "134/134 [==============================] - 2s 16ms/step - loss: 0.0532 - val_loss: 0.0530\n",
      "Epoch 27/100\n",
      "134/134 [==============================] - 2s 16ms/step - loss: 0.0525 - val_loss: 0.0557\n",
      "Epoch 28/100\n",
      "134/134 [==============================] - 2s 17ms/step - loss: 0.0546 - val_loss: 0.0585\n",
      "Epoch 29/100\n",
      "134/134 [==============================] - 2s 16ms/step - loss: 0.0531 - val_loss: 0.0539\n",
      "Epoch 30/100\n",
      "134/134 [==============================] - 2s 17ms/step - loss: 0.0510 - val_loss: 0.0493\n",
      "Epoch 31/100\n",
      "134/134 [==============================] - 2s 17ms/step - loss: 0.0488 - val_loss: 0.0483\n",
      "Epoch 32/100\n",
      "134/134 [==============================] - 2s 17ms/step - loss: 0.0493 - val_loss: 0.0476\n",
      "Epoch 33/100\n",
      "134/134 [==============================] - 2s 17ms/step - loss: 0.0492 - val_loss: 0.0492\n",
      "Epoch 34/100\n",
      "134/134 [==============================] - 2s 17ms/step - loss: 0.0466 - val_loss: 0.0512\n",
      "Epoch 35/100\n",
      "134/134 [==============================] - 2s 16ms/step - loss: 0.0464 - val_loss: 0.0466\n",
      "Epoch 36/100\n",
      "134/134 [==============================] - 2s 18ms/step - loss: 0.0462 - val_loss: 0.0487\n",
      "Epoch 37/100\n",
      "134/134 [==============================] - 2s 18ms/step - loss: 0.0479 - val_loss: 0.0501\n",
      "Epoch 38/100\n",
      "134/134 [==============================] - 2s 17ms/step - loss: 0.0477 - val_loss: 0.0494\n",
      "Epoch 39/100\n",
      "134/134 [==============================] - 2s 16ms/step - loss: 0.0450 - val_loss: 0.0468\n",
      "Epoch 40/100\n",
      "134/134 [==============================] - 2s 16ms/step - loss: 0.0448 - val_loss: 0.0493\n",
      "Epoch 41/100\n",
      "134/134 [==============================] - 2s 16ms/step - loss: 0.0447 - val_loss: 0.0476\n",
      "Epoch 42/100\n",
      "134/134 [==============================] - 2s 18ms/step - loss: 0.0426 - val_loss: 0.0496\n",
      "Epoch 43/100\n",
      "134/134 [==============================] - 2s 16ms/step - loss: 0.0443 - val_loss: 0.0447\n",
      "Epoch 44/100\n",
      "134/134 [==============================] - 2s 18ms/step - loss: 0.0441 - val_loss: 0.0463\n",
      "Epoch 45/100\n",
      "134/134 [==============================] - 2s 17ms/step - loss: 0.0418 - val_loss: 0.0442\n",
      "Epoch 46/100\n",
      "134/134 [==============================] - 2s 16ms/step - loss: 0.0424 - val_loss: 0.0461\n",
      "Epoch 47/100\n",
      "134/134 [==============================] - 2s 16ms/step - loss: 0.0430 - val_loss: 0.0486\n",
      "Epoch 48/100\n",
      "134/134 [==============================] - 3s 19ms/step - loss: 0.0438 - val_loss: 0.0504\n",
      "Epoch 49/100\n",
      "134/134 [==============================] - 2s 16ms/step - loss: 0.0428 - val_loss: 0.0477\n",
      "Epoch 50/100\n",
      "134/134 [==============================] - 2s 16ms/step - loss: 0.0396 - val_loss: 0.0455\n",
      "Epoch 51/100\n",
      "134/134 [==============================] - 2s 16ms/step - loss: 0.0403 - val_loss: 0.0472\n",
      "Epoch 52/100\n",
      "134/134 [==============================] - 2s 17ms/step - loss: 0.0391 - val_loss: 0.0447\n",
      "Epoch 53/100\n",
      "134/134 [==============================] - 2s 16ms/step - loss: 0.0397 - val_loss: 0.0421\n",
      "Epoch 54/100\n",
      "134/134 [==============================] - 2s 16ms/step - loss: 0.0409 - val_loss: 0.0449\n",
      "Epoch 55/100\n",
      "134/134 [==============================] - 2s 17ms/step - loss: 0.0393 - val_loss: 0.0439\n",
      "Epoch 56/100\n",
      "134/134 [==============================] - 2s 16ms/step - loss: 0.0414 - val_loss: 0.0476\n",
      "Epoch 57/100\n",
      "134/134 [==============================] - 2s 16ms/step - loss: 0.0397 - val_loss: 0.0452\n",
      "Epoch 58/100\n",
      "134/134 [==============================] - 2s 17ms/step - loss: 0.0392 - val_loss: 0.0415\n",
      "Epoch 59/100\n",
      "134/134 [==============================] - 2s 16ms/step - loss: 0.0382 - val_loss: 0.0439\n",
      "Epoch 60/100\n",
      "134/134 [==============================] - 2s 16ms/step - loss: 0.0395 - val_loss: 0.0442\n",
      "Epoch 61/100\n",
      "134/134 [==============================] - 2s 16ms/step - loss: 0.0368 - val_loss: 0.0431\n",
      "Epoch 62/100\n",
      "134/134 [==============================] - 2s 16ms/step - loss: 0.0378 - val_loss: 0.0437\n",
      "Epoch 63/100\n",
      "134/134 [==============================] - 2s 16ms/step - loss: 0.0372 - val_loss: 0.0453\n",
      "Epoch 64/100\n",
      "134/134 [==============================] - 2s 17ms/step - loss: 0.0378 - val_loss: 0.0473\n",
      "Epoch 65/100\n",
      "134/134 [==============================] - 2s 16ms/step - loss: 0.0405 - val_loss: 0.0444\n",
      "Epoch 66/100\n",
      "134/134 [==============================] - 2s 16ms/step - loss: 0.0394 - val_loss: 0.0448\n",
      "Epoch 67/100\n",
      "134/134 [==============================] - 2s 16ms/step - loss: 0.0373 - val_loss: 0.0426\n",
      "Epoch 68/100\n",
      "134/134 [==============================] - 2s 16ms/step - loss: 0.0354 - val_loss: 0.0411\n",
      "Epoch 69/100\n",
      "134/134 [==============================] - 2s 16ms/step - loss: 0.0359 - val_loss: 0.0435\n",
      "Epoch 70/100\n",
      "134/134 [==============================] - 2s 17ms/step - loss: 0.0359 - val_loss: 0.0443\n",
      "Epoch 71/100\n",
      "134/134 [==============================] - 2s 16ms/step - loss: 0.0352 - val_loss: 0.0434\n",
      "Epoch 72/100\n",
      "134/134 [==============================] - 2s 17ms/step - loss: 0.0369 - val_loss: 0.0426\n",
      "Epoch 73/100\n",
      "134/134 [==============================] - 2s 16ms/step - loss: 0.0345 - val_loss: 0.0435\n",
      "Epoch 74/100\n",
      "134/134 [==============================] - 2s 17ms/step - loss: 0.0356 - val_loss: 0.0426\n",
      "Epoch 75/100\n",
      "134/134 [==============================] - 2s 19ms/step - loss: 0.0344 - val_loss: 0.0429\n",
      "Epoch 76/100\n",
      "134/134 [==============================] - 2s 16ms/step - loss: 0.0351 - val_loss: 0.0418\n",
      "Epoch 77/100\n",
      "134/134 [==============================] - 2s 17ms/step - loss: 0.0338 - val_loss: 0.0406\n",
      "Epoch 78/100\n",
      "134/134 [==============================] - 2s 16ms/step - loss: 0.0336 - val_loss: 0.0425\n",
      "Epoch 79/100\n",
      "134/134 [==============================] - 2s 17ms/step - loss: 0.0340 - val_loss: 0.0436\n",
      "Epoch 80/100\n",
      "134/134 [==============================] - 2s 17ms/step - loss: 0.0335 - val_loss: 0.0432\n",
      "Epoch 81/100\n",
      "134/134 [==============================] - 2s 17ms/step - loss: 0.0332 - val_loss: 0.0446\n",
      "Epoch 82/100\n",
      "134/134 [==============================] - 2s 16ms/step - loss: 0.0345 - val_loss: 0.0444\n",
      "Epoch 83/100\n",
      "134/134 [==============================] - 2s 16ms/step - loss: 0.0359 - val_loss: 0.0442\n",
      "Epoch 84/100\n",
      "134/134 [==============================] - 2s 16ms/step - loss: 0.0369 - val_loss: 0.0440\n",
      "Epoch 85/100\n",
      "134/134 [==============================] - 2s 17ms/step - loss: 0.0335 - val_loss: 0.0424\n",
      "Epoch 86/100\n",
      "134/134 [==============================] - 2s 17ms/step - loss: 0.0332 - val_loss: 0.0433\n",
      "Epoch 87/100\n",
      "134/134 [==============================] - 2s 18ms/step - loss: 0.0344 - val_loss: 0.0416\n",
      "Epoch 88/100\n",
      "134/134 [==============================] - 2s 17ms/step - loss: 0.0326 - val_loss: 0.0419\n",
      "Epoch 89/100\n",
      "134/134 [==============================] - 2s 16ms/step - loss: 0.0319 - val_loss: 0.0410\n",
      "Epoch 90/100\n",
      "134/134 [==============================] - 2s 18ms/step - loss: 0.0309 - val_loss: 0.0404\n",
      "Epoch 91/100\n",
      "134/134 [==============================] - 2s 17ms/step - loss: 0.0323 - val_loss: 0.0418\n",
      "Epoch 92/100\n",
      "134/134 [==============================] - 2s 17ms/step - loss: 0.0321 - val_loss: 0.0419\n",
      "Epoch 93/100\n",
      "134/134 [==============================] - 2s 17ms/step - loss: 0.0321 - val_loss: 0.0419\n",
      "Epoch 94/100\n",
      "134/134 [==============================] - 2s 17ms/step - loss: 0.0325 - val_loss: 0.0433\n",
      "Epoch 95/100\n",
      "134/134 [==============================] - 2s 17ms/step - loss: 0.0334 - val_loss: 0.0420\n",
      "Epoch 96/100\n",
      "134/134 [==============================] - 2s 17ms/step - loss: 0.0330 - val_loss: 0.0428\n",
      "Epoch 97/100\n",
      "134/134 [==============================] - 2s 17ms/step - loss: 0.0317 - val_loss: 0.0443\n",
      "Epoch 98/100\n",
      "134/134 [==============================] - 2s 17ms/step - loss: 0.0320 - val_loss: 0.0408\n",
      "Epoch 99/100\n",
      "134/134 [==============================] - 2s 18ms/step - loss: 0.0316 - val_loss: 0.0413\n",
      "Epoch 100/100\n",
      "134/134 [==============================] - 2s 17ms/step - loss: 0.0316 - val_loss: 0.0399\n"
     ]
    }
   ],
   "source": [
    "#consumption\n",
    "\n",
    "#weatherPred_inputs2 = tf.keras.Input(shape=(24, 6), name='weatherPred_inputs2')\n",
    "ePrices_inputs2 = tf.keras.Input(shape=(24, 1), name='ePrices_inputs2')\n",
    "#weatherHist_input2 = tf.keras.Input(shape=(24, 2), name='weatherHist_input2')\n",
    "constant_inputs2 = tf.keras.Input(shape=(16,), name='constant_inputs2')\n",
    "\n",
    "#eatherPred_inputs2_normalized = BatchNormalization()(weatherPred_inputs2)\n",
    "ePrices_inputs2_normalized = BatchNormalization()(ePrices_inputs2)\n",
    "#weatherHist_input2_normalized = BatchNormalization()(weatherHist_input2)\n",
    "constant_inputs2_normalized = BatchNormalization()(constant_inputs2)\n",
    "\n",
    "\n",
    "#weatherPred_flattened2 = layers.Flatten()(weatherPred_inputs2_normalized)\n",
    "#for i in range(0,3):\n",
    "#    weatherPred_flattened2 = layers.Dense(144, activation='relu')(weatherPred_flattened2)\n",
    "#\n",
    "#weatherHist_flattened2 = layers.Flatten()(weatherHist_input2_normalized)\n",
    "#for i in range(0,3):\n",
    "#    weatherHist_flattened2 = layers.Dense(48, activation='relu')(weatherHist_flattened2)\n",
    "\n",
    "ePrices_layer2 = layers.Flatten()(ePrices_inputs2_normalized)\n",
    "for i in range(0,1):\n",
    "    ePrices_layer2 = layers.Dense(24, activation='relu')(ePrices_layer2)\n",
    "\n",
    "constInp_layer2 = layers.Dense(16, activation='relu')(constant_inputs2_normalized)\n",
    "for i in range(0,0):\n",
    "    constInp_layer2 = layers.Dense(16, activation='relu')(constInp_layer2)\n",
    "\n",
    "# Concatenate all inputs\n",
    "#x2 = layers.Concatenate()([weatherPred_flattened2, weatherHist_flattened2, ePrices_layer2, constInp_layer2])\n",
    "x2 = layers.Concatenate()([ePrices_layer2, constInp_layer2])\n",
    "\n",
    "# Main dense block\n",
    "for i in range(0,6):\n",
    "    x2 = layers.Dense(260, activation='relu')(x2) #making it bigger helps a bit, but not super significant\n",
    "    #x = layers.Dropout(0.1)(x)\n",
    "\n",
    "#x2 = layers.Dense(256, activation='relu')(x2)\n",
    "#x2 = layers.Dense(128, activation='relu')(x2)\n",
    "#x2 = layers.Dense(64, activation='relu')(x2)\n",
    "\n",
    "# Output layer for 24*2 targets\n",
    "output_layer2 = layers.Dense(24 * 1, activation='linear', name='output')(x2)\n",
    "output_layer2 = layers.Reshape((24, 1))(output_layer2)\n",
    "\n",
    "#model3 = tf.keras.Model(inputs=[constant_inputs2,ePrices_inputs2, weatherHist_input2, weatherPred_inputs2], outputs=output_layer2)\n",
    "model3 = tf.keras.Model(inputs=[constant_inputs2,ePrices_inputs2], outputs=output_layer2)\n",
    "\n",
    "# Compile the model with an appropriate loss function and optimizer\n",
    "model3.compile(optimizer='adam', loss='mae')#, metrics=['mae'])\n",
    "# 0 = cons, 1 = prod\n",
    "history3 = model3.fit(X_train, y_trainAbsN_cons, validation_data=(X_test, y_testAbsN_cons), epochs=100, batch_size=250) #batch size = 110 weather station"
   ]
  },
  {
   "cell_type": "code",
   "execution_count": 416,
   "metadata": {},
   "outputs": [
    {
     "name": "stdout",
     "output_type": "stream",
     "text": [
      "Epoch 1/10\n",
      "1/1 [==============================] - 1s 1s/step - loss: 32.0558 - val_loss: 48.3642\n",
      "Epoch 2/10\n",
      "1/1 [==============================] - 1s 1s/step - loss: 31.9784 - val_loss: 48.3372\n",
      "Epoch 3/10\n",
      "1/1 [==============================] - 1s 1s/step - loss: 31.9406 - val_loss: 48.8233\n",
      "Epoch 4/10\n",
      "1/1 [==============================] - 1s 1s/step - loss: 32.6720 - val_loss: 58.2627\n",
      "Epoch 5/10\n",
      "1/1 [==============================] - 1s 1s/step - loss: 48.1213 - val_loss: 96.3371\n",
      "Epoch 6/10\n",
      "1/1 [==============================] - 1s 1s/step - loss: 92.3168 - val_loss: 63.3354\n",
      "Epoch 7/10\n",
      "1/1 [==============================] - 1s 1s/step - loss: 53.2423 - val_loss: 163.8218\n",
      "Epoch 8/10\n",
      "1/1 [==============================] - 1s 1s/step - loss: 166.6161 - val_loss: 56.6428\n",
      "Epoch 9/10\n",
      "1/1 [==============================] - 1s 1s/step - loss: 46.4907 - val_loss: 161.4833\n",
      "Epoch 10/10\n",
      "1/1 [==============================] - 1s 1s/step - loss: 161.8082 - val_loss: 195.6012\n"
     ]
    }
   ],
   "source": [
    "#model3.optimizer.lr.assign(0.01)  # Set a new learning rate for subsequent calls to fit\n",
    "history3 = model3.fit(X_train, y_trainAbs[:,:,0], validation_data=(X_test, y_testAbs[:,:,0]), epochs=10, batch_size=40000)"
   ]
  },
  {
   "cell_type": "code",
   "execution_count": 393,
   "metadata": {},
   "outputs": [
    {
     "data": {
      "application/vnd.plotly.v1+json": {
       "config": {
        "plotlyServerURL": "https://plot.ly"
       },
       "data": [
        {
         "mode": "lines",
         "name": "Train Loss",
         "type": "scatter",
         "x": [
          1,
          2,
          3,
          4,
          5,
          6,
          7,
          8,
          9,
          10,
          11,
          12,
          13,
          14,
          15,
          16,
          17,
          18,
          19,
          20,
          21,
          22,
          23,
          24,
          25,
          26,
          27,
          28,
          29,
          30,
          31,
          32,
          33,
          34,
          35,
          36,
          37,
          38,
          39,
          40,
          41,
          42,
          43,
          44,
          45,
          46,
          47,
          48,
          49,
          50,
          51,
          52,
          53,
          54,
          55,
          56,
          57,
          58,
          59,
          60,
          61,
          62,
          63,
          64,
          65,
          66,
          67,
          68,
          69,
          70,
          71,
          72,
          73,
          74,
          75,
          76,
          77,
          78,
          79,
          80,
          81,
          82,
          83,
          84,
          85,
          86,
          87,
          88,
          89,
          90,
          91,
          92,
          93,
          94,
          95,
          96,
          97,
          98,
          99,
          100
         ],
         "y": [
          335.92425537109375,
          203.83546447753906,
          183.99728393554688,
          177.38189697265625,
          166.82997131347656,
          146.8654022216797,
          145.70346069335938,
          136.65313720703125,
          132.79151916503906,
          130.7168731689453,
          123.85737609863281,
          122.37093353271484,
          114.66254425048828,
          109.76839447021484,
          106.84293365478516,
          107.64183807373047,
          102.61746978759766,
          100.2031021118164,
          100.20092010498047,
          96.51765441894531,
          94.8923568725586,
          94.63307189941406,
          92.9797134399414,
          91.30548858642578,
          91.13681030273438,
          87.24317169189453,
          87.75381469726562,
          88.19548034667969,
          86.85215759277344,
          84.29515075683594,
          80.61556243896484,
          82.04422760009766,
          79.29960632324219,
          74.57208251953125,
          74.87751007080078,
          74.75006866455078,
          79.4801254272461,
          73.62213897705078,
          71.31085968017578,
          70.22911834716797,
          70.17259216308594,
          68.8134536743164,
          68.48920440673828,
          68.45024108886719,
          69.43202209472656,
          65.33953857421875,
          66.44920349121094,
          64.77790832519531,
          64.24835205078125,
          62.36191177368164,
          64.51914978027344,
          60.418174743652344,
          60.967105865478516,
          62.660762786865234,
          62.490516662597656,
          66.68124389648438,
          59.933265686035156,
          58.57631301879883,
          58.0418586730957,
          58.59196472167969,
          56.131534576416016,
          59.371944427490234,
          57.95695877075195,
          55.340087890625,
          60.329219818115234,
          55.962852478027344,
          56.529563903808594,
          58.09542465209961,
          53.582706451416016,
          55.006988525390625,
          53.114715576171875,
          55.27115249633789,
          52.5853157043457,
          51.628421783447266,
          51.75373077392578,
          52.68761444091797,
          51.99958038330078,
          52.1561393737793,
          50.76683044433594,
          50.20287322998047,
          50.590816497802734,
          52.630611419677734,
          52.32653045654297,
          50.89633560180664,
          51.78313446044922,
          50.91440963745117,
          50.05327606201172,
          48.242340087890625,
          48.9305534362793,
          47.874176025390625,
          49.59220504760742,
          49.49470520019531,
          50.738182067871094,
          49.609371185302734,
          48.09760665893555,
          47.5389289855957,
          49.14136505126953,
          47.2222785949707,
          45.934478759765625,
          46.667015075683594
         ]
        },
        {
         "mode": "lines",
         "name": "Validation Loss",
         "type": "scatter",
         "x": [
          1,
          2,
          3,
          4,
          5,
          6,
          7,
          8,
          9,
          10,
          11,
          12,
          13,
          14,
          15,
          16,
          17,
          18,
          19,
          20,
          21,
          22,
          23,
          24,
          25,
          26,
          27,
          28,
          29,
          30,
          31,
          32,
          33,
          34,
          35,
          36,
          37,
          38,
          39,
          40,
          41,
          42,
          43,
          44,
          45,
          46,
          47,
          48,
          49,
          50,
          51,
          52,
          53,
          54,
          55,
          56,
          57,
          58,
          59,
          60,
          61,
          62,
          63,
          64,
          65,
          66,
          67,
          68,
          69,
          70,
          71,
          72,
          73,
          74,
          75,
          76,
          77,
          78,
          79,
          80,
          81,
          82,
          83,
          84,
          85,
          86,
          87,
          88,
          89,
          90,
          91,
          92,
          93,
          94,
          95,
          96,
          97,
          98,
          99,
          100
         ],
         "y": [
          282.0589294433594,
          182.73582458496094,
          156.29177856445312,
          168.3948974609375,
          135.56484985351562,
          137.10215759277344,
          121.88334655761719,
          110.35911560058594,
          115.90351867675781,
          123.19098663330078,
          104.86812591552734,
          99.27751922607422,
          96.52411651611328,
          111.60501098632812,
          94.74100494384766,
          98.89164733886719,
          93.45707702636719,
          87.23981475830078,
          95.78628540039062,
          88.1612548828125,
          85.36750030517578,
          85.29412841796875,
          88.14020538330078,
          79.45458221435547,
          80.56827545166016,
          78.99910736083984,
          77.86436462402344,
          83.95237731933594,
          94.5819091796875,
          77.80276489257812,
          72.6537857055664,
          75.6617431640625,
          71.3987808227539,
          76.92398834228516,
          72.9327621459961,
          70.78878784179688,
          69.55570220947266,
          68.5245132446289,
          66.60272216796875,
          66.94532775878906,
          69.61650085449219,
          67.70191955566406,
          66.8869400024414,
          68.74620819091797,
          67.08545684814453,
          63.99422073364258,
          66.06298065185547,
          64.39994812011719,
          62.9414176940918,
          61.103118896484375,
          65.30205535888672,
          62.2957763671875,
          69.35704803466797,
          62.470252990722656,
          64.45841217041016,
          60.6649169921875,
          60.628883361816406,
          58.11921310424805,
          60.15108871459961,
          60.6539192199707,
          63.803768157958984,
          61.83354949951172,
          66.24065399169922,
          70.25467681884766,
          57.50046920776367,
          59.08601760864258,
          57.596656799316406,
          56.09304428100586,
          55.81880569458008,
          68.87222290039062,
          56.05214309692383,
          57.029598236083984,
          57.120811462402344,
          56.21211624145508,
          62.73178482055664,
          57.228092193603516,
          55.64765930175781,
          54.850868225097656,
          58.341163635253906,
          54.27638626098633,
          56.12005615234375,
          60.54375076293945,
          61.24605941772461,
          65.00011444091797,
          56.905208587646484,
          57.14838790893555,
          53.19862747192383,
          54.562110900878906,
          53.7493782043457,
          52.33675765991211,
          54.69837188720703,
          54.202510833740234,
          54.11753845214844,
          53.553977966308594,
          59.89322280883789,
          57.504642486572266,
          61.293800354003906,
          51.69798278808594,
          52.7755012512207,
          52.15284729003906
         ]
        }
       ],
       "layout": {
        "legend": {
         "traceorder": "normal",
         "x": 0,
         "y": 1
        },
        "template": {
         "data": {
          "bar": [
           {
            "error_x": {
             "color": "#2a3f5f"
            },
            "error_y": {
             "color": "#2a3f5f"
            },
            "marker": {
             "line": {
              "color": "#E5ECF6",
              "width": 0.5
             },
             "pattern": {
              "fillmode": "overlay",
              "size": 10,
              "solidity": 0.2
             }
            },
            "type": "bar"
           }
          ],
          "barpolar": [
           {
            "marker": {
             "line": {
              "color": "#E5ECF6",
              "width": 0.5
             },
             "pattern": {
              "fillmode": "overlay",
              "size": 10,
              "solidity": 0.2
             }
            },
            "type": "barpolar"
           }
          ],
          "carpet": [
           {
            "aaxis": {
             "endlinecolor": "#2a3f5f",
             "gridcolor": "white",
             "linecolor": "white",
             "minorgridcolor": "white",
             "startlinecolor": "#2a3f5f"
            },
            "baxis": {
             "endlinecolor": "#2a3f5f",
             "gridcolor": "white",
             "linecolor": "white",
             "minorgridcolor": "white",
             "startlinecolor": "#2a3f5f"
            },
            "type": "carpet"
           }
          ],
          "choropleth": [
           {
            "colorbar": {
             "outlinewidth": 0,
             "ticks": ""
            },
            "type": "choropleth"
           }
          ],
          "contour": [
           {
            "colorbar": {
             "outlinewidth": 0,
             "ticks": ""
            },
            "colorscale": [
             [
              0,
              "#0d0887"
             ],
             [
              0.1111111111111111,
              "#46039f"
             ],
             [
              0.2222222222222222,
              "#7201a8"
             ],
             [
              0.3333333333333333,
              "#9c179e"
             ],
             [
              0.4444444444444444,
              "#bd3786"
             ],
             [
              0.5555555555555556,
              "#d8576b"
             ],
             [
              0.6666666666666666,
              "#ed7953"
             ],
             [
              0.7777777777777778,
              "#fb9f3a"
             ],
             [
              0.8888888888888888,
              "#fdca26"
             ],
             [
              1,
              "#f0f921"
             ]
            ],
            "type": "contour"
           }
          ],
          "contourcarpet": [
           {
            "colorbar": {
             "outlinewidth": 0,
             "ticks": ""
            },
            "type": "contourcarpet"
           }
          ],
          "heatmap": [
           {
            "colorbar": {
             "outlinewidth": 0,
             "ticks": ""
            },
            "colorscale": [
             [
              0,
              "#0d0887"
             ],
             [
              0.1111111111111111,
              "#46039f"
             ],
             [
              0.2222222222222222,
              "#7201a8"
             ],
             [
              0.3333333333333333,
              "#9c179e"
             ],
             [
              0.4444444444444444,
              "#bd3786"
             ],
             [
              0.5555555555555556,
              "#d8576b"
             ],
             [
              0.6666666666666666,
              "#ed7953"
             ],
             [
              0.7777777777777778,
              "#fb9f3a"
             ],
             [
              0.8888888888888888,
              "#fdca26"
             ],
             [
              1,
              "#f0f921"
             ]
            ],
            "type": "heatmap"
           }
          ],
          "heatmapgl": [
           {
            "colorbar": {
             "outlinewidth": 0,
             "ticks": ""
            },
            "colorscale": [
             [
              0,
              "#0d0887"
             ],
             [
              0.1111111111111111,
              "#46039f"
             ],
             [
              0.2222222222222222,
              "#7201a8"
             ],
             [
              0.3333333333333333,
              "#9c179e"
             ],
             [
              0.4444444444444444,
              "#bd3786"
             ],
             [
              0.5555555555555556,
              "#d8576b"
             ],
             [
              0.6666666666666666,
              "#ed7953"
             ],
             [
              0.7777777777777778,
              "#fb9f3a"
             ],
             [
              0.8888888888888888,
              "#fdca26"
             ],
             [
              1,
              "#f0f921"
             ]
            ],
            "type": "heatmapgl"
           }
          ],
          "histogram": [
           {
            "marker": {
             "pattern": {
              "fillmode": "overlay",
              "size": 10,
              "solidity": 0.2
             }
            },
            "type": "histogram"
           }
          ],
          "histogram2d": [
           {
            "colorbar": {
             "outlinewidth": 0,
             "ticks": ""
            },
            "colorscale": [
             [
              0,
              "#0d0887"
             ],
             [
              0.1111111111111111,
              "#46039f"
             ],
             [
              0.2222222222222222,
              "#7201a8"
             ],
             [
              0.3333333333333333,
              "#9c179e"
             ],
             [
              0.4444444444444444,
              "#bd3786"
             ],
             [
              0.5555555555555556,
              "#d8576b"
             ],
             [
              0.6666666666666666,
              "#ed7953"
             ],
             [
              0.7777777777777778,
              "#fb9f3a"
             ],
             [
              0.8888888888888888,
              "#fdca26"
             ],
             [
              1,
              "#f0f921"
             ]
            ],
            "type": "histogram2d"
           }
          ],
          "histogram2dcontour": [
           {
            "colorbar": {
             "outlinewidth": 0,
             "ticks": ""
            },
            "colorscale": [
             [
              0,
              "#0d0887"
             ],
             [
              0.1111111111111111,
              "#46039f"
             ],
             [
              0.2222222222222222,
              "#7201a8"
             ],
             [
              0.3333333333333333,
              "#9c179e"
             ],
             [
              0.4444444444444444,
              "#bd3786"
             ],
             [
              0.5555555555555556,
              "#d8576b"
             ],
             [
              0.6666666666666666,
              "#ed7953"
             ],
             [
              0.7777777777777778,
              "#fb9f3a"
             ],
             [
              0.8888888888888888,
              "#fdca26"
             ],
             [
              1,
              "#f0f921"
             ]
            ],
            "type": "histogram2dcontour"
           }
          ],
          "mesh3d": [
           {
            "colorbar": {
             "outlinewidth": 0,
             "ticks": ""
            },
            "type": "mesh3d"
           }
          ],
          "parcoords": [
           {
            "line": {
             "colorbar": {
              "outlinewidth": 0,
              "ticks": ""
             }
            },
            "type": "parcoords"
           }
          ],
          "pie": [
           {
            "automargin": true,
            "type": "pie"
           }
          ],
          "scatter": [
           {
            "fillpattern": {
             "fillmode": "overlay",
             "size": 10,
             "solidity": 0.2
            },
            "type": "scatter"
           }
          ],
          "scatter3d": [
           {
            "line": {
             "colorbar": {
              "outlinewidth": 0,
              "ticks": ""
             }
            },
            "marker": {
             "colorbar": {
              "outlinewidth": 0,
              "ticks": ""
             }
            },
            "type": "scatter3d"
           }
          ],
          "scattercarpet": [
           {
            "marker": {
             "colorbar": {
              "outlinewidth": 0,
              "ticks": ""
             }
            },
            "type": "scattercarpet"
           }
          ],
          "scattergeo": [
           {
            "marker": {
             "colorbar": {
              "outlinewidth": 0,
              "ticks": ""
             }
            },
            "type": "scattergeo"
           }
          ],
          "scattergl": [
           {
            "marker": {
             "colorbar": {
              "outlinewidth": 0,
              "ticks": ""
             }
            },
            "type": "scattergl"
           }
          ],
          "scattermapbox": [
           {
            "marker": {
             "colorbar": {
              "outlinewidth": 0,
              "ticks": ""
             }
            },
            "type": "scattermapbox"
           }
          ],
          "scatterpolar": [
           {
            "marker": {
             "colorbar": {
              "outlinewidth": 0,
              "ticks": ""
             }
            },
            "type": "scatterpolar"
           }
          ],
          "scatterpolargl": [
           {
            "marker": {
             "colorbar": {
              "outlinewidth": 0,
              "ticks": ""
             }
            },
            "type": "scatterpolargl"
           }
          ],
          "scatterternary": [
           {
            "marker": {
             "colorbar": {
              "outlinewidth": 0,
              "ticks": ""
             }
            },
            "type": "scatterternary"
           }
          ],
          "surface": [
           {
            "colorbar": {
             "outlinewidth": 0,
             "ticks": ""
            },
            "colorscale": [
             [
              0,
              "#0d0887"
             ],
             [
              0.1111111111111111,
              "#46039f"
             ],
             [
              0.2222222222222222,
              "#7201a8"
             ],
             [
              0.3333333333333333,
              "#9c179e"
             ],
             [
              0.4444444444444444,
              "#bd3786"
             ],
             [
              0.5555555555555556,
              "#d8576b"
             ],
             [
              0.6666666666666666,
              "#ed7953"
             ],
             [
              0.7777777777777778,
              "#fb9f3a"
             ],
             [
              0.8888888888888888,
              "#fdca26"
             ],
             [
              1,
              "#f0f921"
             ]
            ],
            "type": "surface"
           }
          ],
          "table": [
           {
            "cells": {
             "fill": {
              "color": "#EBF0F8"
             },
             "line": {
              "color": "white"
             }
            },
            "header": {
             "fill": {
              "color": "#C8D4E3"
             },
             "line": {
              "color": "white"
             }
            },
            "type": "table"
           }
          ]
         },
         "layout": {
          "annotationdefaults": {
           "arrowcolor": "#2a3f5f",
           "arrowhead": 0,
           "arrowwidth": 1
          },
          "autotypenumbers": "strict",
          "coloraxis": {
           "colorbar": {
            "outlinewidth": 0,
            "ticks": ""
           }
          },
          "colorscale": {
           "diverging": [
            [
             0,
             "#8e0152"
            ],
            [
             0.1,
             "#c51b7d"
            ],
            [
             0.2,
             "#de77ae"
            ],
            [
             0.3,
             "#f1b6da"
            ],
            [
             0.4,
             "#fde0ef"
            ],
            [
             0.5,
             "#f7f7f7"
            ],
            [
             0.6,
             "#e6f5d0"
            ],
            [
             0.7,
             "#b8e186"
            ],
            [
             0.8,
             "#7fbc41"
            ],
            [
             0.9,
             "#4d9221"
            ],
            [
             1,
             "#276419"
            ]
           ],
           "sequential": [
            [
             0,
             "#0d0887"
            ],
            [
             0.1111111111111111,
             "#46039f"
            ],
            [
             0.2222222222222222,
             "#7201a8"
            ],
            [
             0.3333333333333333,
             "#9c179e"
            ],
            [
             0.4444444444444444,
             "#bd3786"
            ],
            [
             0.5555555555555556,
             "#d8576b"
            ],
            [
             0.6666666666666666,
             "#ed7953"
            ],
            [
             0.7777777777777778,
             "#fb9f3a"
            ],
            [
             0.8888888888888888,
             "#fdca26"
            ],
            [
             1,
             "#f0f921"
            ]
           ],
           "sequentialminus": [
            [
             0,
             "#0d0887"
            ],
            [
             0.1111111111111111,
             "#46039f"
            ],
            [
             0.2222222222222222,
             "#7201a8"
            ],
            [
             0.3333333333333333,
             "#9c179e"
            ],
            [
             0.4444444444444444,
             "#bd3786"
            ],
            [
             0.5555555555555556,
             "#d8576b"
            ],
            [
             0.6666666666666666,
             "#ed7953"
            ],
            [
             0.7777777777777778,
             "#fb9f3a"
            ],
            [
             0.8888888888888888,
             "#fdca26"
            ],
            [
             1,
             "#f0f921"
            ]
           ]
          },
          "colorway": [
           "#636efa",
           "#EF553B",
           "#00cc96",
           "#ab63fa",
           "#FFA15A",
           "#19d3f3",
           "#FF6692",
           "#B6E880",
           "#FF97FF",
           "#FECB52"
          ],
          "font": {
           "color": "#2a3f5f"
          },
          "geo": {
           "bgcolor": "white",
           "lakecolor": "white",
           "landcolor": "#E5ECF6",
           "showlakes": true,
           "showland": true,
           "subunitcolor": "white"
          },
          "hoverlabel": {
           "align": "left"
          },
          "hovermode": "closest",
          "mapbox": {
           "style": "light"
          },
          "paper_bgcolor": "white",
          "plot_bgcolor": "#E5ECF6",
          "polar": {
           "angularaxis": {
            "gridcolor": "white",
            "linecolor": "white",
            "ticks": ""
           },
           "bgcolor": "#E5ECF6",
           "radialaxis": {
            "gridcolor": "white",
            "linecolor": "white",
            "ticks": ""
           }
          },
          "scene": {
           "xaxis": {
            "backgroundcolor": "#E5ECF6",
            "gridcolor": "white",
            "gridwidth": 2,
            "linecolor": "white",
            "showbackground": true,
            "ticks": "",
            "zerolinecolor": "white"
           },
           "yaxis": {
            "backgroundcolor": "#E5ECF6",
            "gridcolor": "white",
            "gridwidth": 2,
            "linecolor": "white",
            "showbackground": true,
            "ticks": "",
            "zerolinecolor": "white"
           },
           "zaxis": {
            "backgroundcolor": "#E5ECF6",
            "gridcolor": "white",
            "gridwidth": 2,
            "linecolor": "white",
            "showbackground": true,
            "ticks": "",
            "zerolinecolor": "white"
           }
          },
          "shapedefaults": {
           "line": {
            "color": "#2a3f5f"
           }
          },
          "ternary": {
           "aaxis": {
            "gridcolor": "white",
            "linecolor": "white",
            "ticks": ""
           },
           "baxis": {
            "gridcolor": "white",
            "linecolor": "white",
            "ticks": ""
           },
           "bgcolor": "#E5ECF6",
           "caxis": {
            "gridcolor": "white",
            "linecolor": "white",
            "ticks": ""
           }
          },
          "title": {
           "x": 0.05
          },
          "xaxis": {
           "automargin": true,
           "gridcolor": "white",
           "linecolor": "white",
           "ticks": "",
           "title": {
            "standoff": 15
           },
           "zerolinecolor": "white",
           "zerolinewidth": 2
          },
          "yaxis": {
           "automargin": true,
           "gridcolor": "white",
           "linecolor": "white",
           "ticks": "",
           "title": {
            "standoff": 15
           },
           "zerolinecolor": "white",
           "zerolinewidth": 2
          }
         }
        },
        "title": {
         "text": "Training and Validation Loss Over Epochs"
        },
        "xaxis": {
         "title": {
          "text": "Epoch"
         }
        },
        "yaxis": {
         "title": {
          "text": "Loss"
         }
        }
       }
      }
     },
     "metadata": {},
     "output_type": "display_data"
    }
   ],
   "source": [
    "fig = go.Figure()\n",
    "length = len(history3.history['loss'])\n",
    "fig.add_trace(go.Scatter(x=np.arange(1, length+1), y=history3.history['loss'], mode='lines', name='Train Loss'))\n",
    "fig.add_trace(go.Scatter(x=np.arange(1, length+1), y=history3.history['val_loss'], mode='lines', name='Validation Loss'))\n",
    "fig.update_layout(\n",
    "    title='Training and Validation Loss Over Epochs',\n",
    "    xaxis=dict(title='Epoch'),\n",
    "    yaxis=dict(title='Loss'),\n",
    "    legend=dict(x=0, y=1, traceorder='normal'),\n",
    ")\n",
    "fig.show()"
   ]
  },
  {
   "cell_type": "code",
   "execution_count": null,
   "metadata": {},
   "outputs": [],
   "source": [
    "a = model2.predict(X_test)\n",
    "predVals = a*X_test[0][:,5].reshape(X_test[0].shape[0],1,1)\n",
    "print(np.mean(np.abs(y_testAbs - predVals)))\n",
    "a = model2.predict(X_train)\n",
    "predVals = a*X_train[0][:,5].reshape(X_train[0].shape[0],1,1)\n",
    "trueVals = targetsAbs[0:trainSplit,:]\n",
    "print(np.mean(np.abs(y_trainAbs - predVals)))\n",
    "del a,predVals,trueVals\n",
    "\n",
    "# 34/67\n",
    "\n",
    "# mean cons error single traines =35-37 (train) 53-57 (test) -> 34/63 -> 32/55\n",
    "# mean prod error single trainer = 9-20 -> 10/18"
   ]
  },
  {
   "cell_type": "code",
   "execution_count": 437,
   "metadata": {},
   "outputs": [
    {
     "name": "stdout",
     "output_type": "stream",
     "text": [
      "262/262 [==============================] - 1s 2ms/step\n",
      "48.30298230000601\n",
      "1047/1047 [==============================] - 2s 2ms/step\n",
      "32.49173357953375\n"
     ]
    }
   ],
   "source": [
    "\n",
    "\n",
    "a = model3.predict(X_test)\n",
    "predVals = scalerT.inverse_transform(a.reshape(-1,1))\n",
    "print(np.mean(np.abs(y_testAbs[:,:,0] - predVals.reshape(-1,24))))\n",
    "a = model3.predict(X_train)\n",
    "predVals = scalerT.inverse_transform(a.reshape(-1,1))\n",
    "trueVals = targetsAbs[0:trainSplit,:]\n",
    "print(np.mean(np.abs(y_trainAbs[:,:,0]  - predVals.reshape(-1,24))))\n",
    "del a,predVals,trueVals"
   ]
  },
  {
   "cell_type": "code",
   "execution_count": null,
   "metadata": {},
   "outputs": [],
   "source": [
    "model2.save('prod_model_GasPr_noSunrise_timeFeat.h5')\n",
    "model3.save('cons_model_GasPr_noSunrise_timeFeat.h5')"
   ]
  },
  {
   "cell_type": "markdown",
   "metadata": {},
   "source": [
    "# reconstruct dataframe and analyse results"
   ]
  },
  {
   "cell_type": "code",
   "execution_count": 438,
   "metadata": {},
   "outputs": [],
   "source": [
    "# restructure dataframes\n",
    "appendedList = []\n",
    "shuffledDataBlockId = shuffledArr[6]\n",
    "for i,data_block_id in enumerate(shuffledDataBlockId):\n",
    "    isTrain = False\n",
    "    if i<trainSplit:\n",
    "        isTrain=True\n",
    "    \n",
    "    new_columns = np.zeros((24, 2))  # Adjust the size according to your requirements\n",
    "\n",
    "    #use targets as first block\n",
    "    dataBlock = shuffledArr[4][i,:,:].reshape(24,2)\n",
    "\n",
    "    #add train/test info & data block id\n",
    "    new_columns = np.ones((24, 2)) * [isTrain, data_block_id]\n",
    "    dataBlock = np.hstack((dataBlock, new_columns))\n",
    "    #add const values\n",
    "    new_columns = np.ones((24, 16)) * shuffledArr[0][i,:].reshape(1,16)\n",
    "    dataBlock = np.hstack((dataBlock, new_columns))\n",
    "    #eprices (of yesterday)\n",
    "    dataBlock = np.hstack((dataBlock, shuffledArr[1][i,:,:].reshape(24,1)))\n",
    "    # add weather prediction\n",
    "    dataBlock = np.hstack((dataBlock, shuffledArr[3][i,:,:].reshape(24,len(featPredWeatherKeepIdx))))\n",
    "    # hist weather\n",
    "    dataBlock = np.hstack((dataBlock, shuffledArr[2][i,:,:].reshape(24,len(featHistWeatherKeepIdx))))\n",
    "\n",
    "    #hist weather, flatten the array and add all values as columns\n",
    "    #new_columns = np.ones((24, 100)) * shuffledArr[2][i,:].reshape(1,100)\n",
    "    #dataBlock = np.hstack((dataBlock, new_columns))\n",
    "\n",
    "    appendedList.append(dataBlock)\n",
    "\n",
    "\n",
    "\n",
    "\n",
    "feat = ['y_cons','y_prod','isTrain','data_block_id'] + featConst + ['ePrices'] + featPredWeather + featHistWeather\n",
    "#for i in range(0,10):\n",
    "#    feat = feat + [f'{value}_'+str(i) for value in featHistWeather]\n",
    "\n",
    "appendedDf = pd.DataFrame(np.vstack(appendedList), columns=feat)\n",
    "    \n",
    "            "
   ]
  },
  {
   "cell_type": "code",
   "execution_count": null,
   "metadata": {},
   "outputs": [],
   "source": [
    "appendedDf.to_csv('appendedDf_snowcover_relativeTrain_timeFeat.csv')"
   ]
  },
  {
   "cell_type": "code",
   "execution_count": null,
   "metadata": {},
   "outputs": [],
   "source": [
    "appendedDf = pd.read_csv('appendedDf_snowcover_relativeTrain.csv')"
   ]
  },
  {
   "cell_type": "code",
   "execution_count": 17,
   "metadata": {},
   "outputs": [
    {
     "name": "stdout",
     "output_type": "stream",
     "text": [
      "1309/1309 [==============================] - 6s 4ms/step\n",
      "1309/1309 [==============================] - 6s 4ms/step\n"
     ]
    }
   ],
   "source": [
    "X2 = [shuffledArr[0],shuffledArr[1],shuffledArr[2],shuffledArr[3]]\n",
    "pred_prod = model2.predict(X2)\n",
    "pred_cons = model3.predict(X2)\n",
    "\n",
    "appendedListCons = []\n",
    "for ind in range(0,pred_cons.shape[0]):\n",
    "    appendedListCons.append(pred_cons[i,:,:].reshape(24,1))\n",
    "predDfc = pd.DataFrame(np.vstack(appendedListCons), columns=['pred_cons'])\n",
    "\n",
    "\n",
    "appendedListProd = []\n",
    "for ind in range(0,pred_prod.shape[0]):\n",
    "    appendedListProd.append(pred_prod[i,:,:].reshape(24,1))\n",
    "predDfp = pd.DataFrame(np.vstack(appendedListProd), columns=['pred_prod'])\n"
   ]
  },
  {
   "cell_type": "code",
   "execution_count": 18,
   "metadata": {},
   "outputs": [
    {
     "data": {
      "text/html": [
       "<div>\n",
       "<style scoped>\n",
       "    .dataframe tbody tr th:only-of-type {\n",
       "        vertical-align: middle;\n",
       "    }\n",
       "\n",
       "    .dataframe tbody tr th {\n",
       "        vertical-align: top;\n",
       "    }\n",
       "\n",
       "    .dataframe thead th {\n",
       "        text-align: right;\n",
       "    }\n",
       "</style>\n",
       "<table border=\"1\" class=\"dataframe\">\n",
       "  <thead>\n",
       "    <tr style=\"text-align: right;\">\n",
       "      <th></th>\n",
       "      <th>y_cons</th>\n",
       "      <th>y_prod</th>\n",
       "      <th>isTrain</th>\n",
       "      <th>data_block_id</th>\n",
       "      <th>county</th>\n",
       "      <th>is_business</th>\n",
       "      <th>product_type</th>\n",
       "      <th>prediction_unit_id</th>\n",
       "      <th>eic_count</th>\n",
       "      <th>installed_capacity</th>\n",
       "      <th>...</th>\n",
       "      <th>ind_customer_id</th>\n",
       "      <th>lowest_price_per_mwh</th>\n",
       "      <th>highest_price_per_mwh</th>\n",
       "      <th>yearday</th>\n",
       "      <th>weekday</th>\n",
       "      <th>month</th>\n",
       "      <th>monthday</th>\n",
       "      <th>ePrices</th>\n",
       "      <th>pred_cons</th>\n",
       "      <th>pred_prod</th>\n",
       "    </tr>\n",
       "  </thead>\n",
       "  <tbody>\n",
       "    <tr>\n",
       "      <th>0</th>\n",
       "      <td>51.669</td>\n",
       "      <td>0.579</td>\n",
       "      <td>1.0</td>\n",
       "      <td>601.0</td>\n",
       "      <td>5.0</td>\n",
       "      <td>0.0</td>\n",
       "      <td>1.0</td>\n",
       "      <td>19.0</td>\n",
       "      <td>61.0</td>\n",
       "      <td>643.3</td>\n",
       "      <td>...</td>\n",
       "      <td>246.0</td>\n",
       "      <td>46.4</td>\n",
       "      <td>50.0</td>\n",
       "      <td>105.0</td>\n",
       "      <td>5.0</td>\n",
       "      <td>4.0</td>\n",
       "      <td>15.0</td>\n",
       "      <td>38.79</td>\n",
       "      <td>438.920380</td>\n",
       "      <td>0.668991</td>\n",
       "    </tr>\n",
       "    <tr>\n",
       "      <th>1</th>\n",
       "      <td>45.858</td>\n",
       "      <td>0.652</td>\n",
       "      <td>1.0</td>\n",
       "      <td>601.0</td>\n",
       "      <td>5.0</td>\n",
       "      <td>0.0</td>\n",
       "      <td>1.0</td>\n",
       "      <td>19.0</td>\n",
       "      <td>61.0</td>\n",
       "      <td>643.3</td>\n",
       "      <td>...</td>\n",
       "      <td>246.0</td>\n",
       "      <td>46.4</td>\n",
       "      <td>50.0</td>\n",
       "      <td>105.0</td>\n",
       "      <td>5.0</td>\n",
       "      <td>4.0</td>\n",
       "      <td>15.0</td>\n",
       "      <td>36.97</td>\n",
       "      <td>405.929718</td>\n",
       "      <td>0.548708</td>\n",
       "    </tr>\n",
       "    <tr>\n",
       "      <th>2</th>\n",
       "      <td>43.995</td>\n",
       "      <td>0.357</td>\n",
       "      <td>1.0</td>\n",
       "      <td>601.0</td>\n",
       "      <td>5.0</td>\n",
       "      <td>0.0</td>\n",
       "      <td>1.0</td>\n",
       "      <td>19.0</td>\n",
       "      <td>61.0</td>\n",
       "      <td>643.3</td>\n",
       "      <td>...</td>\n",
       "      <td>246.0</td>\n",
       "      <td>46.4</td>\n",
       "      <td>50.0</td>\n",
       "      <td>105.0</td>\n",
       "      <td>5.0</td>\n",
       "      <td>4.0</td>\n",
       "      <td>15.0</td>\n",
       "      <td>36.62</td>\n",
       "      <td>394.767456</td>\n",
       "      <td>0.717795</td>\n",
       "    </tr>\n",
       "    <tr>\n",
       "      <th>3</th>\n",
       "      <td>46.000</td>\n",
       "      <td>0.002</td>\n",
       "      <td>1.0</td>\n",
       "      <td>601.0</td>\n",
       "      <td>5.0</td>\n",
       "      <td>0.0</td>\n",
       "      <td>1.0</td>\n",
       "      <td>19.0</td>\n",
       "      <td>61.0</td>\n",
       "      <td>643.3</td>\n",
       "      <td>...</td>\n",
       "      <td>246.0</td>\n",
       "      <td>46.4</td>\n",
       "      <td>50.0</td>\n",
       "      <td>105.0</td>\n",
       "      <td>5.0</td>\n",
       "      <td>4.0</td>\n",
       "      <td>15.0</td>\n",
       "      <td>37.29</td>\n",
       "      <td>394.467010</td>\n",
       "      <td>0.065887</td>\n",
       "    </tr>\n",
       "    <tr>\n",
       "      <th>4</th>\n",
       "      <td>51.837</td>\n",
       "      <td>0.000</td>\n",
       "      <td>1.0</td>\n",
       "      <td>601.0</td>\n",
       "      <td>5.0</td>\n",
       "      <td>0.0</td>\n",
       "      <td>1.0</td>\n",
       "      <td>19.0</td>\n",
       "      <td>61.0</td>\n",
       "      <td>643.3</td>\n",
       "      <td>...</td>\n",
       "      <td>246.0</td>\n",
       "      <td>46.4</td>\n",
       "      <td>50.0</td>\n",
       "      <td>105.0</td>\n",
       "      <td>5.0</td>\n",
       "      <td>4.0</td>\n",
       "      <td>15.0</td>\n",
       "      <td>40.44</td>\n",
       "      <td>407.295715</td>\n",
       "      <td>0.602540</td>\n",
       "    </tr>\n",
       "  </tbody>\n",
       "</table>\n",
       "<p>5 rows × 21 columns</p>\n",
       "</div>"
      ],
      "text/plain": [
       "   y_cons  y_prod  isTrain  data_block_id  county  is_business  product_type  \\\n",
       "0  51.669   0.579      1.0          601.0     5.0          0.0           1.0   \n",
       "1  45.858   0.652      1.0          601.0     5.0          0.0           1.0   \n",
       "2  43.995   0.357      1.0          601.0     5.0          0.0           1.0   \n",
       "3  46.000   0.002      1.0          601.0     5.0          0.0           1.0   \n",
       "4  51.837   0.000      1.0          601.0     5.0          0.0           1.0   \n",
       "\n",
       "   prediction_unit_id  eic_count  installed_capacity  ...  ind_customer_id  \\\n",
       "0                19.0       61.0               643.3  ...            246.0   \n",
       "1                19.0       61.0               643.3  ...            246.0   \n",
       "2                19.0       61.0               643.3  ...            246.0   \n",
       "3                19.0       61.0               643.3  ...            246.0   \n",
       "4                19.0       61.0               643.3  ...            246.0   \n",
       "\n",
       "   lowest_price_per_mwh  highest_price_per_mwh  yearday  weekday  month  \\\n",
       "0                  46.4                   50.0    105.0      5.0    4.0   \n",
       "1                  46.4                   50.0    105.0      5.0    4.0   \n",
       "2                  46.4                   50.0    105.0      5.0    4.0   \n",
       "3                  46.4                   50.0    105.0      5.0    4.0   \n",
       "4                  46.4                   50.0    105.0      5.0    4.0   \n",
       "\n",
       "   monthday  ePrices   pred_cons  pred_prod  \n",
       "0      15.0    38.79  438.920380   0.668991  \n",
       "1      15.0    36.97  405.929718   0.548708  \n",
       "2      15.0    36.62  394.767456   0.717795  \n",
       "3      15.0    37.29  394.467010   0.065887  \n",
       "4      15.0    40.44  407.295715   0.602540  \n",
       "\n",
       "[5 rows x 21 columns]"
      ]
     },
     "execution_count": 18,
     "metadata": {},
     "output_type": "execute_result"
    }
   ],
   "source": [
    "appendedDf = pd.concat([appendedDf, predDfc], axis = 1)\n",
    "appendedDf = pd.concat([appendedDf, predDfp], axis = 1)\n",
    "appendedDf.head(5)"
   ]
  },
  {
   "cell_type": "code",
   "execution_count": 439,
   "metadata": {},
   "outputs": [
    {
     "name": "stdout",
     "output_type": "stream",
     "text": [
      "1309/1309 [==============================] - 3s 2ms/step\n"
     ]
    }
   ],
   "source": [
    "X2 = [shuffledArr[0],shuffledArr[1],shuffledArr[2],shuffledArr[3]]\n",
    "pred_cons = model3.predict(X2)\n",
    "pred_cons = scalerT.inverse_transform(pred_cons.reshape(-1,1)).reshape(-1,24,1)\n",
    "\n",
    "appendedListProd = []\n",
    "for ind in range(0,pred_cons.shape[0]):\n",
    "    appendedListProd.append(pred_cons[i,:,:].reshape(24,1))\n",
    "    \n",
    "appendedDf['pred_cons'] = np.vstack(appendedListProd)\n",
    "\n",
    "appendedDf['absErr_cons'] = (appendedDf['y_cons']-appendedDf['pred_cons'])"
   ]
  },
  {
   "cell_type": "code",
   "execution_count": 213,
   "metadata": {},
   "outputs": [
    {
     "ename": "KeyError",
     "evalue": "'pred_prod'",
     "output_type": "error",
     "traceback": [
      "\u001b[0;31m---------------------------------------------------------------------------\u001b[0m",
      "\u001b[0;31mKeyError\u001b[0m                                  Traceback (most recent call last)",
      "File \u001b[0;32m~/opt/anaconda3/envs/predictenegycons/lib/python3.10/site-packages/pandas/core/indexes/base.py:3790\u001b[0m, in \u001b[0;36mIndex.get_loc\u001b[0;34m(self, key)\u001b[0m\n\u001b[1;32m   3789\u001b[0m \u001b[39mtry\u001b[39;00m:\n\u001b[0;32m-> 3790\u001b[0m     \u001b[39mreturn\u001b[39;00m \u001b[39mself\u001b[39;49m\u001b[39m.\u001b[39;49m_engine\u001b[39m.\u001b[39;49mget_loc(casted_key)\n\u001b[1;32m   3791\u001b[0m \u001b[39mexcept\u001b[39;00m \u001b[39mKeyError\u001b[39;00m \u001b[39mas\u001b[39;00m err:\n",
      "File \u001b[0;32mindex.pyx:152\u001b[0m, in \u001b[0;36mpandas._libs.index.IndexEngine.get_loc\u001b[0;34m()\u001b[0m\n",
      "File \u001b[0;32mindex.pyx:176\u001b[0m, in \u001b[0;36mpandas._libs.index.IndexEngine.get_loc\u001b[0;34m()\u001b[0m\n",
      "File \u001b[0;32mindex.pyx:219\u001b[0m, in \u001b[0;36mpandas._libs.index.IndexEngine._get_loc_duplicates\u001b[0;34m()\u001b[0m\n",
      "File \u001b[0;32mindex.pyx:227\u001b[0m, in \u001b[0;36mpandas._libs.index.IndexEngine._maybe_get_bool_indexer\u001b[0;34m()\u001b[0m\n",
      "File \u001b[0;32mindex.pyx:119\u001b[0m, in \u001b[0;36mpandas._libs.index._unpack_bool_indexer\u001b[0;34m()\u001b[0m\n",
      "\u001b[0;31mKeyError\u001b[0m: 'pred_prod'",
      "\nThe above exception was the direct cause of the following exception:\n",
      "\u001b[0;31mKeyError\u001b[0m                                  Traceback (most recent call last)",
      "Cell \u001b[0;32mIn[213], line 1\u001b[0m\n\u001b[0;32m----> 1\u001b[0m appendedDf[\u001b[38;5;124m'\u001b[39m\u001b[38;5;124mabsErr_prod\u001b[39m\u001b[38;5;124m'\u001b[39m] \u001b[38;5;241m=\u001b[39m (appendedDf[\u001b[38;5;124m'\u001b[39m\u001b[38;5;124my_prod\u001b[39m\u001b[38;5;124m'\u001b[39m]\u001b[38;5;241m-\u001b[39m\u001b[43mappendedDf\u001b[49m\u001b[43m[\u001b[49m\u001b[38;5;124;43m'\u001b[39;49m\u001b[38;5;124;43mpred_prod\u001b[39;49m\u001b[38;5;124;43m'\u001b[39;49m\u001b[43m]\u001b[49m)\n",
      "File \u001b[0;32m~/opt/anaconda3/envs/predictenegycons/lib/python3.10/site-packages/pandas/core/frame.py:3896\u001b[0m, in \u001b[0;36mDataFrame.__getitem__\u001b[0;34m(self, key)\u001b[0m\n\u001b[1;32m   3894\u001b[0m \u001b[39mif\u001b[39;00m \u001b[39mself\u001b[39m\u001b[39m.\u001b[39mcolumns\u001b[39m.\u001b[39mnlevels \u001b[39m>\u001b[39m \u001b[39m1\u001b[39m:\n\u001b[1;32m   3895\u001b[0m     \u001b[39mreturn\u001b[39;00m \u001b[39mself\u001b[39m\u001b[39m.\u001b[39m_getitem_multilevel(key)\n\u001b[0;32m-> 3896\u001b[0m indexer \u001b[39m=\u001b[39m \u001b[39mself\u001b[39;49m\u001b[39m.\u001b[39;49mcolumns\u001b[39m.\u001b[39;49mget_loc(key)\n\u001b[1;32m   3897\u001b[0m \u001b[39mif\u001b[39;00m is_integer(indexer):\n\u001b[1;32m   3898\u001b[0m     indexer \u001b[39m=\u001b[39m [indexer]\n",
      "File \u001b[0;32m~/opt/anaconda3/envs/predictenegycons/lib/python3.10/site-packages/pandas/core/indexes/base.py:3797\u001b[0m, in \u001b[0;36mIndex.get_loc\u001b[0;34m(self, key)\u001b[0m\n\u001b[1;32m   3792\u001b[0m     \u001b[39mif\u001b[39;00m \u001b[39misinstance\u001b[39m(casted_key, \u001b[39mslice\u001b[39m) \u001b[39mor\u001b[39;00m (\n\u001b[1;32m   3793\u001b[0m         \u001b[39misinstance\u001b[39m(casted_key, abc\u001b[39m.\u001b[39mIterable)\n\u001b[1;32m   3794\u001b[0m         \u001b[39mand\u001b[39;00m \u001b[39many\u001b[39m(\u001b[39misinstance\u001b[39m(x, \u001b[39mslice\u001b[39m) \u001b[39mfor\u001b[39;00m x \u001b[39min\u001b[39;00m casted_key)\n\u001b[1;32m   3795\u001b[0m     ):\n\u001b[1;32m   3796\u001b[0m         \u001b[39mraise\u001b[39;00m InvalidIndexError(key)\n\u001b[0;32m-> 3797\u001b[0m     \u001b[39mraise\u001b[39;00m \u001b[39mKeyError\u001b[39;00m(key) \u001b[39mfrom\u001b[39;00m \u001b[39merr\u001b[39;00m\n\u001b[1;32m   3798\u001b[0m \u001b[39mexcept\u001b[39;00m \u001b[39mTypeError\u001b[39;00m:\n\u001b[1;32m   3799\u001b[0m     \u001b[39m# If we have a listlike key, _check_indexing_error will raise\u001b[39;00m\n\u001b[1;32m   3800\u001b[0m     \u001b[39m#  InvalidIndexError. Otherwise we fall through and re-raise\u001b[39;00m\n\u001b[1;32m   3801\u001b[0m     \u001b[39m#  the TypeError.\u001b[39;00m\n\u001b[1;32m   3802\u001b[0m     \u001b[39mself\u001b[39m\u001b[39m.\u001b[39m_check_indexing_error(key)\n",
      "\u001b[0;31mKeyError\u001b[0m: 'pred_prod'"
     ]
    }
   ],
   "source": [
    "\n",
    "appendedDf['absErr_prod'] = (appendedDf['y_prod']-appendedDf['pred_prod'])"
   ]
  },
  {
   "cell_type": "code",
   "execution_count": 240,
   "metadata": {},
   "outputs": [],
   "source": [
    "appendedDf['cons_prod_diff'] = (appendedDf['y_cons']-appendedDf['y_prod'])"
   ]
  },
  {
   "cell_type": "markdown",
   "metadata": {},
   "source": [
    "# analyze dataframe\n",
    "good generalization, test and train are pretty much always the same\n",
    "\n",
    "production:\n",
    "- overweighting big producers -> lots of errors for smaller capacities\n",
    "\n",
    "consumption:\n",
    "- bigger error in summer\n"
   ]
  },
  {
   "cell_type": "code",
   "execution_count": 440,
   "metadata": {},
   "outputs": [],
   "source": [
    "trainDf = appendedDf.loc[appendedDf.isTrain == True]\n",
    "testDf = appendedDf.loc[appendedDf.isTrain == False]"
   ]
  },
  {
   "cell_type": "markdown",
   "metadata": {},
   "source": [
    "#### general stuff"
   ]
  },
  {
   "cell_type": "code",
   "execution_count": 323,
   "metadata": {},
   "outputs": [],
   "source": [
    "trainDf = appendedDf.loc[appendedDf.isTrain == True]\n",
    "testDf = appendedDf.loc[appendedDf.isTrain == False]"
   ]
  },
  {
   "cell_type": "code",
   "execution_count": 268,
   "metadata": {},
   "outputs": [
    {
     "data": {
      "text/plain": [
       "<Axes: >"
      ]
     },
     "execution_count": 268,
     "metadata": {},
     "output_type": "execute_result"
    },
    {
     "data": {
      "image/png": "[encoded data removed]",
      "text/plain": [
       "<Figure size 640x480 with 1 Axes>"
      ]
     },
     "metadata": {},
     "output_type": "display_data"
    }
   ],
   "source": [
    "testDf.absErr_cons.hist(bins=200)"
   ]
  },
  {
   "cell_type": "code",
   "execution_count": 45,
   "metadata": {},
   "outputs": [
    {
     "ename": "AttributeError",
     "evalue": "'DataFrame' object has no attribute 'absErr_prod'",
     "output_type": "error",
     "traceback": [
      "\u001b[0;31m---------------------------------------------------------------------------\u001b[0m",
      "\u001b[0;31mAttributeError\u001b[0m                            Traceback (most recent call last)",
      "\u001b[0;32m/var/folders/15/v1vyry112dv3d398dy47k8v40000gn/T/ipykernel_25586/1453764920.py\u001b[0m in \u001b[0;36m?\u001b[0;34m()\u001b[0m\n\u001b[0;32m----> 1\u001b[0;31m \u001b[0mtestDf\u001b[0m\u001b[0;34m.\u001b[0m\u001b[0mabsErr_prod\u001b[0m\u001b[0;34m.\u001b[0m\u001b[0mhist\u001b[0m\u001b[0;34m(\u001b[0m\u001b[0mbins\u001b[0m\u001b[0;34m=\u001b[0m\u001b[0;36m200\u001b[0m\u001b[0;34m)\u001b[0m\u001b[0;34m\u001b[0m\u001b[0;34m\u001b[0m\u001b[0m\n\u001b[0m",
      "\u001b[0;32m~/opt/anaconda3/envs/predictenegycons/lib/python3.10/site-packages/pandas/core/generic.py\u001b[0m in \u001b[0;36m?\u001b[0;34m(self, name)\u001b[0m\n\u001b[1;32m   6200\u001b[0m             \u001b[0;32mand\u001b[0m \u001b[0mname\u001b[0m \u001b[0;32mnot\u001b[0m \u001b[0;32min\u001b[0m \u001b[0mself\u001b[0m\u001b[0;34m.\u001b[0m\u001b[0m_accessors\u001b[0m\u001b[0;34m\u001b[0m\u001b[0;34m\u001b[0m\u001b[0m\n\u001b[1;32m   6201\u001b[0m             \u001b[0;32mand\u001b[0m \u001b[0mself\u001b[0m\u001b[0;34m.\u001b[0m\u001b[0m_info_axis\u001b[0m\u001b[0;34m.\u001b[0m\u001b[0m_can_hold_identifiers_and_holds_name\u001b[0m\u001b[0;34m(\u001b[0m\u001b[0mname\u001b[0m\u001b[0;34m)\u001b[0m\u001b[0;34m\u001b[0m\u001b[0;34m\u001b[0m\u001b[0m\n\u001b[1;32m   6202\u001b[0m         ):\n\u001b[1;32m   6203\u001b[0m             \u001b[0;32mreturn\u001b[0m \u001b[0mself\u001b[0m\u001b[0;34m[\u001b[0m\u001b[0mname\u001b[0m\u001b[0;34m]\u001b[0m\u001b[0;34m\u001b[0m\u001b[0;34m\u001b[0m\u001b[0m\n\u001b[0;32m-> 6204\u001b[0;31m         \u001b[0;32mreturn\u001b[0m \u001b[0mobject\u001b[0m\u001b[0;34m.\u001b[0m\u001b[0m__getattribute__\u001b[0m\u001b[0;34m(\u001b[0m\u001b[0mself\u001b[0m\u001b[0;34m,\u001b[0m \u001b[0mname\u001b[0m\u001b[0;34m)\u001b[0m\u001b[0;34m\u001b[0m\u001b[0;34m\u001b[0m\u001b[0m\n\u001b[0m",
      "\u001b[0;31mAttributeError\u001b[0m: 'DataFrame' object has no attribute 'absErr_prod'"
     ]
    }
   ],
   "source": [
    "testDf.absErr_prod.hist(bins=200)"
   ]
  },
  {
   "cell_type": "code",
   "execution_count": 269,
   "metadata": {},
   "outputs": [
    {
     "data": {
      "text/plain": [
       "<Axes: >"
      ]
     },
     "execution_count": 269,
     "metadata": {},
     "output_type": "execute_result"
    },
    {
     "data": {
      "image/png": "[encoded data removed]",
      "text/plain": [
       "<Figure size 640x480 with 1 Axes>"
      ]
     },
     "metadata": {},
     "output_type": "display_data"
    }
   ],
   "source": [
    "trainDf.absErr_cons.hist(bins=200)"
   ]
  },
  {
   "cell_type": "code",
   "execution_count": 47,
   "metadata": {},
   "outputs": [
    {
     "ename": "AttributeError",
     "evalue": "'DataFrame' object has no attribute 'absErr_prod'",
     "output_type": "error",
     "traceback": [
      "\u001b[0;31m---------------------------------------------------------------------------\u001b[0m",
      "\u001b[0;31mAttributeError\u001b[0m                            Traceback (most recent call last)",
      "\u001b[0;32m/var/folders/15/v1vyry112dv3d398dy47k8v40000gn/T/ipykernel_25586/4024692705.py\u001b[0m in \u001b[0;36m?\u001b[0;34m()\u001b[0m\n\u001b[0;32m----> 1\u001b[0;31m \u001b[0mtrainDf\u001b[0m\u001b[0;34m.\u001b[0m\u001b[0mabsErr_prod\u001b[0m\u001b[0;34m.\u001b[0m\u001b[0mhist\u001b[0m\u001b[0;34m(\u001b[0m\u001b[0mbins\u001b[0m\u001b[0;34m=\u001b[0m\u001b[0;36m200\u001b[0m\u001b[0;34m)\u001b[0m\u001b[0;34m\u001b[0m\u001b[0;34m\u001b[0m\u001b[0m\n\u001b[0m",
      "\u001b[0;32m~/opt/anaconda3/envs/predictenegycons/lib/python3.10/site-packages/pandas/core/generic.py\u001b[0m in \u001b[0;36m?\u001b[0;34m(self, name)\u001b[0m\n\u001b[1;32m   6200\u001b[0m             \u001b[0;32mand\u001b[0m \u001b[0mname\u001b[0m \u001b[0;32mnot\u001b[0m \u001b[0;32min\u001b[0m \u001b[0mself\u001b[0m\u001b[0;34m.\u001b[0m\u001b[0m_accessors\u001b[0m\u001b[0;34m\u001b[0m\u001b[0;34m\u001b[0m\u001b[0m\n\u001b[1;32m   6201\u001b[0m             \u001b[0;32mand\u001b[0m \u001b[0mself\u001b[0m\u001b[0;34m.\u001b[0m\u001b[0m_info_axis\u001b[0m\u001b[0;34m.\u001b[0m\u001b[0m_can_hold_identifiers_and_holds_name\u001b[0m\u001b[0;34m(\u001b[0m\u001b[0mname\u001b[0m\u001b[0;34m)\u001b[0m\u001b[0;34m\u001b[0m\u001b[0;34m\u001b[0m\u001b[0m\n\u001b[1;32m   6202\u001b[0m         ):\n\u001b[1;32m   6203\u001b[0m             \u001b[0;32mreturn\u001b[0m \u001b[0mself\u001b[0m\u001b[0;34m[\u001b[0m\u001b[0mname\u001b[0m\u001b[0;34m]\u001b[0m\u001b[0;34m\u001b[0m\u001b[0;34m\u001b[0m\u001b[0m\n\u001b[0;32m-> 6204\u001b[0;31m         \u001b[0;32mreturn\u001b[0m \u001b[0mobject\u001b[0m\u001b[0;34m.\u001b[0m\u001b[0m__getattribute__\u001b[0m\u001b[0;34m(\u001b[0m\u001b[0mself\u001b[0m\u001b[0;34m,\u001b[0m \u001b[0mname\u001b[0m\u001b[0;34m)\u001b[0m\u001b[0;34m\u001b[0m\u001b[0;34m\u001b[0m\u001b[0m\n\u001b[0m",
      "\u001b[0;31mAttributeError\u001b[0m: 'DataFrame' object has no attribute 'absErr_prod'"
     ]
    }
   ],
   "source": [
    "trainDf.absErr_prod.hist(bins=200)"
   ]
  },
  {
   "cell_type": "markdown",
   "metadata": {},
   "source": [
    "### investigate consumption\n",
    "- some heavy overestimation (when no consumption but we predict one)\n",
    "- some heave underestimation, when lots of consumption but no prediciton\n",
    "\n"
   ]
  },
  {
   "cell_type": "code",
   "execution_count": 441,
   "metadata": {},
   "outputs": [
    {
     "name": "stdout",
     "output_type": "stream",
     "text": [
      "448.0924781740108 1160.7522678616065\n",
      "418.27048 43.226375579833984\n",
      "464.8566583718962 1210.1171201557072\n",
      "418.27066 43.18152618408203\n"
     ]
    }
   ],
   "source": [
    "print(testDf.y_cons.mean(),testDf.y_cons.std())\n",
    "print(testDf.pred_cons.mean(),testDf.pred_cons.std())\n",
    "\n",
    "print(trainDf.y_cons.mean(),trainDf.y_cons.std())\n",
    "print(trainDf.pred_cons.mean(),trainDf.pred_cons.std())"
   ]
  },
  {
   "cell_type": "code",
   "execution_count": 442,
   "metadata": {},
   "outputs": [
    {
     "data": {
      "text/plain": [
       "<Axes: xlabel='hours_ahead'>"
      ]
     },
     "execution_count": 442,
     "metadata": {},
     "output_type": "execute_result"
    },
    {
     "data": {
      "image/png": "[encoded data removed]",
      "text/plain": [
       "<Figure size 640x480 with 1 Axes>"
      ]
     },
     "metadata": {},
     "output_type": "display_data"
    }
   ],
   "source": [
    "trainDf.groupby('hours_ahead')[['absErr_cons','pred_cons','y_cons']].mean().plot()"
   ]
  },
  {
   "cell_type": "code",
   "execution_count": 443,
   "metadata": {},
   "outputs": [
    {
     "data": {
      "text/plain": [
       "<Axes: xlabel='hours_ahead'>"
      ]
     },
     "execution_count": 443,
     "metadata": {},
     "output_type": "execute_result"
    },
    {
     "data": {
      "image/png": "[encoded data removed]",
      "text/plain": [
       "<Figure size 640x480 with 1 Axes>"
      ]
     },
     "metadata": {},
     "output_type": "display_data"
    }
   ],
   "source": [
    "trainDf.groupby('hours_ahead')[['cosDay']].mean().plot()"
   ]
  },
  {
   "cell_type": "code",
   "execution_count": 444,
   "metadata": {},
   "outputs": [
    {
     "data": {
      "text/plain": [
       "<Axes: xlabel='yearday'>"
      ]
     },
     "execution_count": 444,
     "metadata": {},
     "output_type": "execute_result"
    },
    {
     "data": {
      "image/png": "[encoded data removed]",
      "text/plain": [
       "<Figure size 640x480 with 1 Axes>"
      ]
     },
     "metadata": {},
     "output_type": "display_data"
    }
   ],
   "source": [
    "trainDf.groupby('yearday')[['absErr_cons','pred_cons','y_cons','sinYearDay']].mean().plot()"
   ]
  },
  {
   "cell_type": "code",
   "execution_count": 400,
   "metadata": {},
   "outputs": [
    {
     "data": {
      "text/plain": [
       "<Axes: xlabel='yearday'>"
      ]
     },
     "execution_count": 400,
     "metadata": {},
     "output_type": "execute_result"
    },
    {
     "data": {
      "image/png": "[encoded data removed]",
      "text/plain": [
       "<Figure size 640x480 with 1 Axes>"
      ]
     },
     "metadata": {},
     "output_type": "display_data"
    }
   ],
   "source": [
    "trainDf.groupby('yearday')[['cosYearDay']].mean().plot()"
   ]
  },
  {
   "cell_type": "code",
   "execution_count": 274,
   "metadata": {},
   "outputs": [
    {
     "data": {
      "text/html": [
       "<div>\n",
       "<style scoped>\n",
       "    .dataframe tbody tr th:only-of-type {\n",
       "        vertical-align: middle;\n",
       "    }\n",
       "\n",
       "    .dataframe tbody tr th {\n",
       "        vertical-align: top;\n",
       "    }\n",
       "\n",
       "    .dataframe thead th {\n",
       "        text-align: right;\n",
       "    }\n",
       "</style>\n",
       "<table border=\"1\" class=\"dataframe\">\n",
       "  <thead>\n",
       "    <tr style=\"text-align: right;\">\n",
       "      <th></th>\n",
       "      <th>y_cons</th>\n",
       "      <th>y_prod</th>\n",
       "      <th>isTrain</th>\n",
       "      <th>data_block_id</th>\n",
       "      <th>county</th>\n",
       "      <th>is_business</th>\n",
       "      <th>product_type</th>\n",
       "      <th>prediction_unit_id</th>\n",
       "      <th>eic_count</th>\n",
       "      <th>installed_capacity</th>\n",
       "      <th>business_prodType</th>\n",
       "      <th>ind_customer_id</th>\n",
       "      <th>lowest_price_per_mwh</th>\n",
       "      <th>highest_price_per_mwh</th>\n",
       "      <th>yearday</th>\n",
       "      <th>weekday</th>\n",
       "      <th>month</th>\n",
       "      <th>monthday</th>\n",
       "      <th>ePrices</th>\n",
       "      <th>County</th>\n",
       "      <th>hours_ahead</th>\n",
       "      <th>County</th>\n",
       "      <th>temperatureint</th>\n",
       "      <th>pred_cons</th>\n",
       "      <th>absErr_cons</th>\n",
       "    </tr>\n",
       "  </thead>\n",
       "  <tbody>\n",
       "    <tr>\n",
       "      <th>527040</th>\n",
       "      <td>177.00</td>\n",
       "      <td>0.0</td>\n",
       "      <td>0.0</td>\n",
       "      <td>495.0</td>\n",
       "      <td>5.0</td>\n",
       "      <td>1.0</td>\n",
       "      <td>0.0</td>\n",
       "      <td>21.0</td>\n",
       "      <td>9.0</td>\n",
       "      <td>505.6</td>\n",
       "      <td>5.0</td>\n",
       "      <td>599.0</td>\n",
       "      <td>76.0</td>\n",
       "      <td>82.95</td>\n",
       "      <td>9.0</td>\n",
       "      <td>0.0</td>\n",
       "      <td>1.0</td>\n",
       "      <td>9.0</td>\n",
       "      <td>24.44</td>\n",
       "      <td>5.0</td>\n",
       "      <td>0.0</td>\n",
       "      <td>5.0</td>\n",
       "      <td>-14.458581</td>\n",
       "      <td>297.226837</td>\n",
       "      <td>-120.226837</td>\n",
       "    </tr>\n",
       "    <tr>\n",
       "      <th>527041</th>\n",
       "      <td>169.25</td>\n",
       "      <td>0.0</td>\n",
       "      <td>0.0</td>\n",
       "      <td>495.0</td>\n",
       "      <td>5.0</td>\n",
       "      <td>1.0</td>\n",
       "      <td>0.0</td>\n",
       "      <td>21.0</td>\n",
       "      <td>9.0</td>\n",
       "      <td>505.6</td>\n",
       "      <td>5.0</td>\n",
       "      <td>599.0</td>\n",
       "      <td>76.0</td>\n",
       "      <td>82.95</td>\n",
       "      <td>9.0</td>\n",
       "      <td>0.0</td>\n",
       "      <td>1.0</td>\n",
       "      <td>9.0</td>\n",
       "      <td>52.50</td>\n",
       "      <td>5.0</td>\n",
       "      <td>1.0</td>\n",
       "      <td>5.0</td>\n",
       "      <td>-14.106949</td>\n",
       "      <td>287.167328</td>\n",
       "      <td>-117.917328</td>\n",
       "    </tr>\n",
       "    <tr>\n",
       "      <th>527042</th>\n",
       "      <td>126.40</td>\n",
       "      <td>0.0</td>\n",
       "      <td>0.0</td>\n",
       "      <td>495.0</td>\n",
       "      <td>5.0</td>\n",
       "      <td>1.0</td>\n",
       "      <td>0.0</td>\n",
       "      <td>21.0</td>\n",
       "      <td>9.0</td>\n",
       "      <td>505.6</td>\n",
       "      <td>5.0</td>\n",
       "      <td>599.0</td>\n",
       "      <td>76.0</td>\n",
       "      <td>82.95</td>\n",
       "      <td>9.0</td>\n",
       "      <td>0.0</td>\n",
       "      <td>1.0</td>\n",
       "      <td>9.0</td>\n",
       "      <td>46.16</td>\n",
       "      <td>5.0</td>\n",
       "      <td>2.0</td>\n",
       "      <td>5.0</td>\n",
       "      <td>-13.669215</td>\n",
       "      <td>286.255219</td>\n",
       "      <td>-159.855219</td>\n",
       "    </tr>\n",
       "    <tr>\n",
       "      <th>527043</th>\n",
       "      <td>170.37</td>\n",
       "      <td>0.0</td>\n",
       "      <td>0.0</td>\n",
       "      <td>495.0</td>\n",
       "      <td>5.0</td>\n",
       "      <td>1.0</td>\n",
       "      <td>0.0</td>\n",
       "      <td>21.0</td>\n",
       "      <td>9.0</td>\n",
       "      <td>505.6</td>\n",
       "      <td>5.0</td>\n",
       "      <td>599.0</td>\n",
       "      <td>76.0</td>\n",
       "      <td>82.95</td>\n",
       "      <td>9.0</td>\n",
       "      <td>0.0</td>\n",
       "      <td>1.0</td>\n",
       "      <td>9.0</td>\n",
       "      <td>34.41</td>\n",
       "      <td>5.0</td>\n",
       "      <td>3.0</td>\n",
       "      <td>5.0</td>\n",
       "      <td>-13.369215</td>\n",
       "      <td>283.637512</td>\n",
       "      <td>-113.267512</td>\n",
       "    </tr>\n",
       "    <tr>\n",
       "      <th>527044</th>\n",
       "      <td>242.11</td>\n",
       "      <td>0.0</td>\n",
       "      <td>0.0</td>\n",
       "      <td>495.0</td>\n",
       "      <td>5.0</td>\n",
       "      <td>1.0</td>\n",
       "      <td>0.0</td>\n",
       "      <td>21.0</td>\n",
       "      <td>9.0</td>\n",
       "      <td>505.6</td>\n",
       "      <td>5.0</td>\n",
       "      <td>599.0</td>\n",
       "      <td>76.0</td>\n",
       "      <td>82.95</td>\n",
       "      <td>9.0</td>\n",
       "      <td>0.0</td>\n",
       "      <td>1.0</td>\n",
       "      <td>9.0</td>\n",
       "      <td>44.38</td>\n",
       "      <td>5.0</td>\n",
       "      <td>4.0</td>\n",
       "      <td>5.0</td>\n",
       "      <td>-13.231482</td>\n",
       "      <td>287.126007</td>\n",
       "      <td>-45.016007</td>\n",
       "    </tr>\n",
       "    <tr>\n",
       "      <th>527045</th>\n",
       "      <td>266.68</td>\n",
       "      <td>0.0</td>\n",
       "      <td>0.0</td>\n",
       "      <td>495.0</td>\n",
       "      <td>5.0</td>\n",
       "      <td>1.0</td>\n",
       "      <td>0.0</td>\n",
       "      <td>21.0</td>\n",
       "      <td>9.0</td>\n",
       "      <td>505.6</td>\n",
       "      <td>5.0</td>\n",
       "      <td>599.0</td>\n",
       "      <td>76.0</td>\n",
       "      <td>82.95</td>\n",
       "      <td>9.0</td>\n",
       "      <td>0.0</td>\n",
       "      <td>1.0</td>\n",
       "      <td>9.0</td>\n",
       "      <td>9.92</td>\n",
       "      <td>5.0</td>\n",
       "      <td>5.0</td>\n",
       "      <td>5.0</td>\n",
       "      <td>-13.262615</td>\n",
       "      <td>286.621735</td>\n",
       "      <td>-19.941735</td>\n",
       "    </tr>\n",
       "    <tr>\n",
       "      <th>527046</th>\n",
       "      <td>264.38</td>\n",
       "      <td>0.0</td>\n",
       "      <td>0.0</td>\n",
       "      <td>495.0</td>\n",
       "      <td>5.0</td>\n",
       "      <td>1.0</td>\n",
       "      <td>0.0</td>\n",
       "      <td>21.0</td>\n",
       "      <td>9.0</td>\n",
       "      <td>505.6</td>\n",
       "      <td>5.0</td>\n",
       "      <td>599.0</td>\n",
       "      <td>76.0</td>\n",
       "      <td>82.95</td>\n",
       "      <td>9.0</td>\n",
       "      <td>0.0</td>\n",
       "      <td>1.0</td>\n",
       "      <td>9.0</td>\n",
       "      <td>49.71</td>\n",
       "      <td>5.0</td>\n",
       "      <td>6.0</td>\n",
       "      <td>5.0</td>\n",
       "      <td>-13.562615</td>\n",
       "      <td>299.921326</td>\n",
       "      <td>-35.541326</td>\n",
       "    </tr>\n",
       "    <tr>\n",
       "      <th>527047</th>\n",
       "      <td>365.46</td>\n",
       "      <td>0.0</td>\n",
       "      <td>0.0</td>\n",
       "      <td>495.0</td>\n",
       "      <td>5.0</td>\n",
       "      <td>1.0</td>\n",
       "      <td>0.0</td>\n",
       "      <td>21.0</td>\n",
       "      <td>9.0</td>\n",
       "      <td>505.6</td>\n",
       "      <td>5.0</td>\n",
       "      <td>599.0</td>\n",
       "      <td>76.0</td>\n",
       "      <td>82.95</td>\n",
       "      <td>9.0</td>\n",
       "      <td>0.0</td>\n",
       "      <td>1.0</td>\n",
       "      <td>9.0</td>\n",
       "      <td>57.67</td>\n",
       "      <td>5.0</td>\n",
       "      <td>7.0</td>\n",
       "      <td>5.0</td>\n",
       "      <td>-13.793748</td>\n",
       "      <td>297.099091</td>\n",
       "      <td>68.360909</td>\n",
       "    </tr>\n",
       "    <tr>\n",
       "      <th>527048</th>\n",
       "      <td>383.20</td>\n",
       "      <td>0.0</td>\n",
       "      <td>0.0</td>\n",
       "      <td>495.0</td>\n",
       "      <td>5.0</td>\n",
       "      <td>1.0</td>\n",
       "      <td>0.0</td>\n",
       "      <td>21.0</td>\n",
       "      <td>9.0</td>\n",
       "      <td>505.6</td>\n",
       "      <td>5.0</td>\n",
       "      <td>599.0</td>\n",
       "      <td>76.0</td>\n",
       "      <td>82.95</td>\n",
       "      <td>9.0</td>\n",
       "      <td>0.0</td>\n",
       "      <td>1.0</td>\n",
       "      <td>9.0</td>\n",
       "      <td>75.53</td>\n",
       "      <td>5.0</td>\n",
       "      <td>8.0</td>\n",
       "      <td>5.0</td>\n",
       "      <td>-13.986799</td>\n",
       "      <td>268.754211</td>\n",
       "      <td>114.445789</td>\n",
       "    </tr>\n",
       "    <tr>\n",
       "      <th>527049</th>\n",
       "      <td>342.70</td>\n",
       "      <td>0.0</td>\n",
       "      <td>0.0</td>\n",
       "      <td>495.0</td>\n",
       "      <td>5.0</td>\n",
       "      <td>1.0</td>\n",
       "      <td>0.0</td>\n",
       "      <td>21.0</td>\n",
       "      <td>9.0</td>\n",
       "      <td>505.6</td>\n",
       "      <td>5.0</td>\n",
       "      <td>599.0</td>\n",
       "      <td>76.0</td>\n",
       "      <td>82.95</td>\n",
       "      <td>9.0</td>\n",
       "      <td>0.0</td>\n",
       "      <td>1.0</td>\n",
       "      <td>9.0</td>\n",
       "      <td>95.76</td>\n",
       "      <td>5.0</td>\n",
       "      <td>9.0</td>\n",
       "      <td>5.0</td>\n",
       "      <td>-14.262615</td>\n",
       "      <td>232.674133</td>\n",
       "      <td>110.025867</td>\n",
       "    </tr>\n",
       "    <tr>\n",
       "      <th>527050</th>\n",
       "      <td>347.07</td>\n",
       "      <td>0.0</td>\n",
       "      <td>0.0</td>\n",
       "      <td>495.0</td>\n",
       "      <td>5.0</td>\n",
       "      <td>1.0</td>\n",
       "      <td>0.0</td>\n",
       "      <td>21.0</td>\n",
       "      <td>9.0</td>\n",
       "      <td>505.6</td>\n",
       "      <td>5.0</td>\n",
       "      <td>599.0</td>\n",
       "      <td>76.0</td>\n",
       "      <td>82.95</td>\n",
       "      <td>9.0</td>\n",
       "      <td>0.0</td>\n",
       "      <td>1.0</td>\n",
       "      <td>9.0</td>\n",
       "      <td>98.53</td>\n",
       "      <td>5.0</td>\n",
       "      <td>10.0</td>\n",
       "      <td>5.0</td>\n",
       "      <td>-14.607297</td>\n",
       "      <td>198.498291</td>\n",
       "      <td>148.571709</td>\n",
       "    </tr>\n",
       "    <tr>\n",
       "      <th>527051</th>\n",
       "      <td>380.66</td>\n",
       "      <td>0.0</td>\n",
       "      <td>0.0</td>\n",
       "      <td>495.0</td>\n",
       "      <td>5.0</td>\n",
       "      <td>1.0</td>\n",
       "      <td>0.0</td>\n",
       "      <td>21.0</td>\n",
       "      <td>9.0</td>\n",
       "      <td>505.6</td>\n",
       "      <td>5.0</td>\n",
       "      <td>599.0</td>\n",
       "      <td>76.0</td>\n",
       "      <td>82.95</td>\n",
       "      <td>9.0</td>\n",
       "      <td>0.0</td>\n",
       "      <td>1.0</td>\n",
       "      <td>9.0</td>\n",
       "      <td>47.00</td>\n",
       "      <td>5.0</td>\n",
       "      <td>11.0</td>\n",
       "      <td>5.0</td>\n",
       "      <td>-15.551980</td>\n",
       "      <td>180.480835</td>\n",
       "      <td>200.179165</td>\n",
       "    </tr>\n",
       "    <tr>\n",
       "      <th>527052</th>\n",
       "      <td>417.37</td>\n",
       "      <td>0.0</td>\n",
       "      <td>0.0</td>\n",
       "      <td>495.0</td>\n",
       "      <td>5.0</td>\n",
       "      <td>1.0</td>\n",
       "      <td>0.0</td>\n",
       "      <td>21.0</td>\n",
       "      <td>9.0</td>\n",
       "      <td>505.6</td>\n",
       "      <td>5.0</td>\n",
       "      <td>599.0</td>\n",
       "      <td>76.0</td>\n",
       "      <td>82.95</td>\n",
       "      <td>9.0</td>\n",
       "      <td>0.0</td>\n",
       "      <td>1.0</td>\n",
       "      <td>9.0</td>\n",
       "      <td>47.00</td>\n",
       "      <td>5.0</td>\n",
       "      <td>12.0</td>\n",
       "      <td>5.0</td>\n",
       "      <td>-15.651980</td>\n",
       "      <td>172.335098</td>\n",
       "      <td>245.034902</td>\n",
       "    </tr>\n",
       "    <tr>\n",
       "      <th>527053</th>\n",
       "      <td>375.99</td>\n",
       "      <td>0.1</td>\n",
       "      <td>0.0</td>\n",
       "      <td>495.0</td>\n",
       "      <td>5.0</td>\n",
       "      <td>1.0</td>\n",
       "      <td>0.0</td>\n",
       "      <td>21.0</td>\n",
       "      <td>9.0</td>\n",
       "      <td>505.6</td>\n",
       "      <td>5.0</td>\n",
       "      <td>599.0</td>\n",
       "      <td>76.0</td>\n",
       "      <td>82.95</td>\n",
       "      <td>9.0</td>\n",
       "      <td>0.0</td>\n",
       "      <td>1.0</td>\n",
       "      <td>9.0</td>\n",
       "      <td>48.96</td>\n",
       "      <td>5.0</td>\n",
       "      <td>13.0</td>\n",
       "      <td>5.0</td>\n",
       "      <td>-15.589714</td>\n",
       "      <td>177.641113</td>\n",
       "      <td>198.348887</td>\n",
       "    </tr>\n",
       "    <tr>\n",
       "      <th>527054</th>\n",
       "      <td>358.04</td>\n",
       "      <td>0.0</td>\n",
       "      <td>0.0</td>\n",
       "      <td>495.0</td>\n",
       "      <td>5.0</td>\n",
       "      <td>1.0</td>\n",
       "      <td>0.0</td>\n",
       "      <td>21.0</td>\n",
       "      <td>9.0</td>\n",
       "      <td>505.6</td>\n",
       "      <td>5.0</td>\n",
       "      <td>599.0</td>\n",
       "      <td>76.0</td>\n",
       "      <td>82.95</td>\n",
       "      <td>9.0</td>\n",
       "      <td>0.0</td>\n",
       "      <td>1.0</td>\n",
       "      <td>9.0</td>\n",
       "      <td>54.91</td>\n",
       "      <td>5.0</td>\n",
       "      <td>14.0</td>\n",
       "      <td>5.0</td>\n",
       "      <td>-15.420847</td>\n",
       "      <td>180.495544</td>\n",
       "      <td>177.544456</td>\n",
       "    </tr>\n",
       "    <tr>\n",
       "      <th>527055</th>\n",
       "      <td>338.89</td>\n",
       "      <td>0.0</td>\n",
       "      <td>0.0</td>\n",
       "      <td>495.0</td>\n",
       "      <td>5.0</td>\n",
       "      <td>1.0</td>\n",
       "      <td>0.0</td>\n",
       "      <td>21.0</td>\n",
       "      <td>9.0</td>\n",
       "      <td>505.6</td>\n",
       "      <td>5.0</td>\n",
       "      <td>599.0</td>\n",
       "      <td>76.0</td>\n",
       "      <td>82.95</td>\n",
       "      <td>9.0</td>\n",
       "      <td>0.0</td>\n",
       "      <td>1.0</td>\n",
       "      <td>9.0</td>\n",
       "      <td>63.49</td>\n",
       "      <td>5.0</td>\n",
       "      <td>15.0</td>\n",
       "      <td>5.0</td>\n",
       "      <td>-15.307297</td>\n",
       "      <td>190.921555</td>\n",
       "      <td>147.968445</td>\n",
       "    </tr>\n",
       "    <tr>\n",
       "      <th>527056</th>\n",
       "      <td>293.16</td>\n",
       "      <td>0.0</td>\n",
       "      <td>0.0</td>\n",
       "      <td>495.0</td>\n",
       "      <td>5.0</td>\n",
       "      <td>1.0</td>\n",
       "      <td>0.0</td>\n",
       "      <td>21.0</td>\n",
       "      <td>9.0</td>\n",
       "      <td>505.6</td>\n",
       "      <td>5.0</td>\n",
       "      <td>599.0</td>\n",
       "      <td>76.0</td>\n",
       "      <td>82.95</td>\n",
       "      <td>9.0</td>\n",
       "      <td>0.0</td>\n",
       "      <td>1.0</td>\n",
       "      <td>9.0</td>\n",
       "      <td>66.11</td>\n",
       "      <td>5.0</td>\n",
       "      <td>16.0</td>\n",
       "      <td>5.0</td>\n",
       "      <td>-15.207297</td>\n",
       "      <td>205.441559</td>\n",
       "      <td>87.718441</td>\n",
       "    </tr>\n",
       "    <tr>\n",
       "      <th>527057</th>\n",
       "      <td>236.51</td>\n",
       "      <td>0.0</td>\n",
       "      <td>0.0</td>\n",
       "      <td>495.0</td>\n",
       "      <td>5.0</td>\n",
       "      <td>1.0</td>\n",
       "      <td>0.0</td>\n",
       "      <td>21.0</td>\n",
       "      <td>9.0</td>\n",
       "      <td>505.6</td>\n",
       "      <td>5.0</td>\n",
       "      <td>599.0</td>\n",
       "      <td>76.0</td>\n",
       "      <td>82.95</td>\n",
       "      <td>9.0</td>\n",
       "      <td>0.0</td>\n",
       "      <td>1.0</td>\n",
       "      <td>9.0</td>\n",
       "      <td>69.19</td>\n",
       "      <td>5.0</td>\n",
       "      <td>17.0</td>\n",
       "      <td>5.0</td>\n",
       "      <td>-14.993748</td>\n",
       "      <td>229.296677</td>\n",
       "      <td>7.213323</td>\n",
       "    </tr>\n",
       "    <tr>\n",
       "      <th>527058</th>\n",
       "      <td>256.77</td>\n",
       "      <td>0.0</td>\n",
       "      <td>0.0</td>\n",
       "      <td>495.0</td>\n",
       "      <td>5.0</td>\n",
       "      <td>1.0</td>\n",
       "      <td>0.0</td>\n",
       "      <td>21.0</td>\n",
       "      <td>9.0</td>\n",
       "      <td>505.6</td>\n",
       "      <td>5.0</td>\n",
       "      <td>599.0</td>\n",
       "      <td>76.0</td>\n",
       "      <td>82.95</td>\n",
       "      <td>9.0</td>\n",
       "      <td>0.0</td>\n",
       "      <td>1.0</td>\n",
       "      <td>9.0</td>\n",
       "      <td>69.91</td>\n",
       "      <td>5.0</td>\n",
       "      <td>18.0</td>\n",
       "      <td>5.0</td>\n",
       "      <td>-14.704383</td>\n",
       "      <td>269.761658</td>\n",
       "      <td>-12.991658</td>\n",
       "    </tr>\n",
       "    <tr>\n",
       "      <th>527059</th>\n",
       "      <td>250.56</td>\n",
       "      <td>0.0</td>\n",
       "      <td>0.0</td>\n",
       "      <td>495.0</td>\n",
       "      <td>5.0</td>\n",
       "      <td>1.0</td>\n",
       "      <td>0.0</td>\n",
       "      <td>21.0</td>\n",
       "      <td>9.0</td>\n",
       "      <td>505.6</td>\n",
       "      <td>5.0</td>\n",
       "      <td>599.0</td>\n",
       "      <td>76.0</td>\n",
       "      <td>82.95</td>\n",
       "      <td>9.0</td>\n",
       "      <td>0.0</td>\n",
       "      <td>1.0</td>\n",
       "      <td>9.0</td>\n",
       "      <td>65.62</td>\n",
       "      <td>5.0</td>\n",
       "      <td>19.0</td>\n",
       "      <td>5.0</td>\n",
       "      <td>-14.077283</td>\n",
       "      <td>306.627930</td>\n",
       "      <td>-56.067930</td>\n",
       "    </tr>\n",
       "    <tr>\n",
       "      <th>527060</th>\n",
       "      <td>253.98</td>\n",
       "      <td>0.0</td>\n",
       "      <td>0.0</td>\n",
       "      <td>495.0</td>\n",
       "      <td>5.0</td>\n",
       "      <td>1.0</td>\n",
       "      <td>0.0</td>\n",
       "      <td>21.0</td>\n",
       "      <td>9.0</td>\n",
       "      <td>505.6</td>\n",
       "      <td>5.0</td>\n",
       "      <td>599.0</td>\n",
       "      <td>76.0</td>\n",
       "      <td>82.95</td>\n",
       "      <td>9.0</td>\n",
       "      <td>0.0</td>\n",
       "      <td>1.0</td>\n",
       "      <td>9.0</td>\n",
       "      <td>60.98</td>\n",
       "      <td>5.0</td>\n",
       "      <td>20.0</td>\n",
       "      <td>5.0</td>\n",
       "      <td>-13.474369</td>\n",
       "      <td>320.494598</td>\n",
       "      <td>-66.514598</td>\n",
       "    </tr>\n",
       "    <tr>\n",
       "      <th>527061</th>\n",
       "      <td>231.57</td>\n",
       "      <td>0.0</td>\n",
       "      <td>0.0</td>\n",
       "      <td>495.0</td>\n",
       "      <td>5.0</td>\n",
       "      <td>1.0</td>\n",
       "      <td>0.0</td>\n",
       "      <td>21.0</td>\n",
       "      <td>9.0</td>\n",
       "      <td>505.6</td>\n",
       "      <td>5.0</td>\n",
       "      <td>599.0</td>\n",
       "      <td>76.0</td>\n",
       "      <td>82.95</td>\n",
       "      <td>9.0</td>\n",
       "      <td>0.0</td>\n",
       "      <td>1.0</td>\n",
       "      <td>9.0</td>\n",
       "      <td>57.41</td>\n",
       "      <td>5.0</td>\n",
       "      <td>21.0</td>\n",
       "      <td>5.0</td>\n",
       "      <td>-12.881318</td>\n",
       "      <td>324.772858</td>\n",
       "      <td>-93.202858</td>\n",
       "    </tr>\n",
       "    <tr>\n",
       "      <th>527062</th>\n",
       "      <td>218.03</td>\n",
       "      <td>0.0</td>\n",
       "      <td>0.0</td>\n",
       "      <td>495.0</td>\n",
       "      <td>5.0</td>\n",
       "      <td>1.0</td>\n",
       "      <td>0.0</td>\n",
       "      <td>21.0</td>\n",
       "      <td>9.0</td>\n",
       "      <td>505.6</td>\n",
       "      <td>5.0</td>\n",
       "      <td>599.0</td>\n",
       "      <td>76.0</td>\n",
       "      <td>82.95</td>\n",
       "      <td>9.0</td>\n",
       "      <td>0.0</td>\n",
       "      <td>1.0</td>\n",
       "      <td>9.0</td>\n",
       "      <td>50.02</td>\n",
       "      <td>5.0</td>\n",
       "      <td>22.0</td>\n",
       "      <td>5.0</td>\n",
       "      <td>-12.505502</td>\n",
       "      <td>317.822510</td>\n",
       "      <td>-99.792510</td>\n",
       "    </tr>\n",
       "    <tr>\n",
       "      <th>527063</th>\n",
       "      <td>205.90</td>\n",
       "      <td>0.0</td>\n",
       "      <td>0.0</td>\n",
       "      <td>495.0</td>\n",
       "      <td>5.0</td>\n",
       "      <td>1.0</td>\n",
       "      <td>0.0</td>\n",
       "      <td>21.0</td>\n",
       "      <td>9.0</td>\n",
       "      <td>505.6</td>\n",
       "      <td>5.0</td>\n",
       "      <td>599.0</td>\n",
       "      <td>76.0</td>\n",
       "      <td>82.95</td>\n",
       "      <td>9.0</td>\n",
       "      <td>0.0</td>\n",
       "      <td>1.0</td>\n",
       "      <td>9.0</td>\n",
       "      <td>46.29</td>\n",
       "      <td>5.0</td>\n",
       "      <td>23.0</td>\n",
       "      <td>5.0</td>\n",
       "      <td>-12.439550</td>\n",
       "      <td>305.617981</td>\n",
       "      <td>-99.717981</td>\n",
       "    </tr>\n",
       "  </tbody>\n",
       "</table>\n",
       "</div>"
      ],
      "text/plain": [
       "        y_cons  y_prod  isTrain  data_block_id  county  is_business  \\\n",
       "527040  177.00     0.0      0.0          495.0     5.0          1.0   \n",
       "527041  169.25     0.0      0.0          495.0     5.0          1.0   \n",
       "527042  126.40     0.0      0.0          495.0     5.0          1.0   \n",
       "527043  170.37     0.0      0.0          495.0     5.0          1.0   \n",
       "527044  242.11     0.0      0.0          495.0     5.0          1.0   \n",
       "527045  266.68     0.0      0.0          495.0     5.0          1.0   \n",
       "527046  264.38     0.0      0.0          495.0     5.0          1.0   \n",
       "527047  365.46     0.0      0.0          495.0     5.0          1.0   \n",
       "527048  383.20     0.0      0.0          495.0     5.0          1.0   \n",
       "527049  342.70     0.0      0.0          495.0     5.0          1.0   \n",
       "527050  347.07     0.0      0.0          495.0     5.0          1.0   \n",
       "527051  380.66     0.0      0.0          495.0     5.0          1.0   \n",
       "527052  417.37     0.0      0.0          495.0     5.0          1.0   \n",
       "527053  375.99     0.1      0.0          495.0     5.0          1.0   \n",
       "527054  358.04     0.0      0.0          495.0     5.0          1.0   \n",
       "527055  338.89     0.0      0.0          495.0     5.0          1.0   \n",
       "527056  293.16     0.0      0.0          495.0     5.0          1.0   \n",
       "527057  236.51     0.0      0.0          495.0     5.0          1.0   \n",
       "527058  256.77     0.0      0.0          495.0     5.0          1.0   \n",
       "527059  250.56     0.0      0.0          495.0     5.0          1.0   \n",
       "527060  253.98     0.0      0.0          495.0     5.0          1.0   \n",
       "527061  231.57     0.0      0.0          495.0     5.0          1.0   \n",
       "527062  218.03     0.0      0.0          495.0     5.0          1.0   \n",
       "527063  205.90     0.0      0.0          495.0     5.0          1.0   \n",
       "\n",
       "        product_type  prediction_unit_id  eic_count  installed_capacity  \\\n",
       "527040           0.0                21.0        9.0               505.6   \n",
       "527041           0.0                21.0        9.0               505.6   \n",
       "527042           0.0                21.0        9.0               505.6   \n",
       "527043           0.0                21.0        9.0               505.6   \n",
       "527044           0.0                21.0        9.0               505.6   \n",
       "527045           0.0                21.0        9.0               505.6   \n",
       "527046           0.0                21.0        9.0               505.6   \n",
       "527047           0.0                21.0        9.0               505.6   \n",
       "527048           0.0                21.0        9.0               505.6   \n",
       "527049           0.0                21.0        9.0               505.6   \n",
       "527050           0.0                21.0        9.0               505.6   \n",
       "527051           0.0                21.0        9.0               505.6   \n",
       "527052           0.0                21.0        9.0               505.6   \n",
       "527053           0.0                21.0        9.0               505.6   \n",
       "527054           0.0                21.0        9.0               505.6   \n",
       "527055           0.0                21.0        9.0               505.6   \n",
       "527056           0.0                21.0        9.0               505.6   \n",
       "527057           0.0                21.0        9.0               505.6   \n",
       "527058           0.0                21.0        9.0               505.6   \n",
       "527059           0.0                21.0        9.0               505.6   \n",
       "527060           0.0                21.0        9.0               505.6   \n",
       "527061           0.0                21.0        9.0               505.6   \n",
       "527062           0.0                21.0        9.0               505.6   \n",
       "527063           0.0                21.0        9.0               505.6   \n",
       "\n",
       "        business_prodType  ind_customer_id  lowest_price_per_mwh  \\\n",
       "527040                5.0            599.0                  76.0   \n",
       "527041                5.0            599.0                  76.0   \n",
       "527042                5.0            599.0                  76.0   \n",
       "527043                5.0            599.0                  76.0   \n",
       "527044                5.0            599.0                  76.0   \n",
       "527045                5.0            599.0                  76.0   \n",
       "527046                5.0            599.0                  76.0   \n",
       "527047                5.0            599.0                  76.0   \n",
       "527048                5.0            599.0                  76.0   \n",
       "527049                5.0            599.0                  76.0   \n",
       "527050                5.0            599.0                  76.0   \n",
       "527051                5.0            599.0                  76.0   \n",
       "527052                5.0            599.0                  76.0   \n",
       "527053                5.0            599.0                  76.0   \n",
       "527054                5.0            599.0                  76.0   \n",
       "527055                5.0            599.0                  76.0   \n",
       "527056                5.0            599.0                  76.0   \n",
       "527057                5.0            599.0                  76.0   \n",
       "527058                5.0            599.0                  76.0   \n",
       "527059                5.0            599.0                  76.0   \n",
       "527060                5.0            599.0                  76.0   \n",
       "527061                5.0            599.0                  76.0   \n",
       "527062                5.0            599.0                  76.0   \n",
       "527063                5.0            599.0                  76.0   \n",
       "\n",
       "        highest_price_per_mwh  yearday  weekday  month  monthday  ePrices  \\\n",
       "527040                  82.95      9.0      0.0    1.0       9.0    24.44   \n",
       "527041                  82.95      9.0      0.0    1.0       9.0    52.50   \n",
       "527042                  82.95      9.0      0.0    1.0       9.0    46.16   \n",
       "527043                  82.95      9.0      0.0    1.0       9.0    34.41   \n",
       "527044                  82.95      9.0      0.0    1.0       9.0    44.38   \n",
       "527045                  82.95      9.0      0.0    1.0       9.0     9.92   \n",
       "527046                  82.95      9.0      0.0    1.0       9.0    49.71   \n",
       "527047                  82.95      9.0      0.0    1.0       9.0    57.67   \n",
       "527048                  82.95      9.0      0.0    1.0       9.0    75.53   \n",
       "527049                  82.95      9.0      0.0    1.0       9.0    95.76   \n",
       "527050                  82.95      9.0      0.0    1.0       9.0    98.53   \n",
       "527051                  82.95      9.0      0.0    1.0       9.0    47.00   \n",
       "527052                  82.95      9.0      0.0    1.0       9.0    47.00   \n",
       "527053                  82.95      9.0      0.0    1.0       9.0    48.96   \n",
       "527054                  82.95      9.0      0.0    1.0       9.0    54.91   \n",
       "527055                  82.95      9.0      0.0    1.0       9.0    63.49   \n",
       "527056                  82.95      9.0      0.0    1.0       9.0    66.11   \n",
       "527057                  82.95      9.0      0.0    1.0       9.0    69.19   \n",
       "527058                  82.95      9.0      0.0    1.0       9.0    69.91   \n",
       "527059                  82.95      9.0      0.0    1.0       9.0    65.62   \n",
       "527060                  82.95      9.0      0.0    1.0       9.0    60.98   \n",
       "527061                  82.95      9.0      0.0    1.0       9.0    57.41   \n",
       "527062                  82.95      9.0      0.0    1.0       9.0    50.02   \n",
       "527063                  82.95      9.0      0.0    1.0       9.0    46.29   \n",
       "\n",
       "        County  hours_ahead  County  temperatureint   pred_cons  absErr_cons  \n",
       "527040     5.0          0.0     5.0      -14.458581  297.226837  -120.226837  \n",
       "527041     5.0          1.0     5.0      -14.106949  287.167328  -117.917328  \n",
       "527042     5.0          2.0     5.0      -13.669215  286.255219  -159.855219  \n",
       "527043     5.0          3.0     5.0      -13.369215  283.637512  -113.267512  \n",
       "527044     5.0          4.0     5.0      -13.231482  287.126007   -45.016007  \n",
       "527045     5.0          5.0     5.0      -13.262615  286.621735   -19.941735  \n",
       "527046     5.0          6.0     5.0      -13.562615  299.921326   -35.541326  \n",
       "527047     5.0          7.0     5.0      -13.793748  297.099091    68.360909  \n",
       "527048     5.0          8.0     5.0      -13.986799  268.754211   114.445789  \n",
       "527049     5.0          9.0     5.0      -14.262615  232.674133   110.025867  \n",
       "527050     5.0         10.0     5.0      -14.607297  198.498291   148.571709  \n",
       "527051     5.0         11.0     5.0      -15.551980  180.480835   200.179165  \n",
       "527052     5.0         12.0     5.0      -15.651980  172.335098   245.034902  \n",
       "527053     5.0         13.0     5.0      -15.589714  177.641113   198.348887  \n",
       "527054     5.0         14.0     5.0      -15.420847  180.495544   177.544456  \n",
       "527055     5.0         15.0     5.0      -15.307297  190.921555   147.968445  \n",
       "527056     5.0         16.0     5.0      -15.207297  205.441559    87.718441  \n",
       "527057     5.0         17.0     5.0      -14.993748  229.296677     7.213323  \n",
       "527058     5.0         18.0     5.0      -14.704383  269.761658   -12.991658  \n",
       "527059     5.0         19.0     5.0      -14.077283  306.627930   -56.067930  \n",
       "527060     5.0         20.0     5.0      -13.474369  320.494598   -66.514598  \n",
       "527061     5.0         21.0     5.0      -12.881318  324.772858   -93.202858  \n",
       "527062     5.0         22.0     5.0      -12.505502  317.822510   -99.792510  \n",
       "527063     5.0         23.0     5.0      -12.439550  305.617981   -99.717981  "
      ]
     },
     "execution_count": 274,
     "metadata": {},
     "output_type": "execute_result"
    }
   ],
   "source": [
    "pd.set_option('Display.max_columns', None)\n",
    "pd.set_option('Display.max_rows', None)\n",
    "cond = (testDf.data_block_id == 469) & (testDf.prediction_unit_id == 5) & (testDf.county == 0)\n",
    "cond = (testDf.data_block_id == 495) & (testDf.prediction_unit_id == 21) & (testDf.county == 5)\n",
    "testDf.loc[cond]\n",
    "\n",
    "#pd.set_option('Display.max_columns', 10)\n",
    "#pd.set_option('Display.max_rows', 10)\n"
   ]
  },
  {
   "cell_type": "code",
   "execution_count": 134,
   "metadata": {},
   "outputs": [
    {
     "data": {
      "text/plain": [
       "<Axes: xlabel='data_block_id'>"
      ]
     },
     "execution_count": 134,
     "metadata": {},
     "output_type": "execute_result"
    },
    {
     "data": {
      "image/png": "[encoded data removed]",
      "text/plain": [
       "<Figure size 640x480 with 1 Axes>"
      ]
     },
     "metadata": {},
     "output_type": "display_data"
    }
   ],
   "source": [
    "testDf.groupby('data_block_id')['absErr_cons'].mean().plot() "
   ]
  },
  {
   "cell_type": "code",
   "execution_count": 217,
   "metadata": {},
   "outputs": [
    {
     "data": {
      "text/plain": [
       "57.601196242992785"
      ]
     },
     "execution_count": 217,
     "metadata": {},
     "output_type": "execute_result"
    }
   ],
   "source": [
    "testDf.loc[testDf.absErr_cons < -140].y_cons.mean()"
   ]
  },
  {
   "cell_type": "code",
   "execution_count": 220,
   "metadata": {},
   "outputs": [
    {
     "data": {
      "text/plain": [
       "330.74252"
      ]
     },
     "execution_count": 220,
     "metadata": {},
     "output_type": "execute_result"
    }
   ],
   "source": [
    "testDf.loc[testDf.absErr_cons < -140].pred_cons.mean()"
   ]
  },
  {
   "cell_type": "code",
   "execution_count": 332,
   "metadata": {},
   "outputs": [
    {
     "data": {
      "text/plain": [
       "Index(['y_cons', 'y_prod', 'isTrain', 'data_block_id', 'county', 'is_business',\n",
       "       'product_type', 'prediction_unit_id', 'eic_count', 'installed_capacity',\n",
       "       'business_prodType', 'ind_customer_id', 'lowest_price_per_mwh',\n",
       "       'highest_price_per_mwh', 'yearday', 'weekday', 'month', 'monthday',\n",
       "       'sinYearDay', 'cosYearDay', 'ePrices', 'hours_ahead', 'temperatureint',\n",
       "       'sinDay', 'cosDay', 'temperatureint', 'pred_cons', 'absErr_cons'],\n",
       "      dtype='object')"
      ]
     },
     "execution_count": 332,
     "metadata": {},
     "output_type": "execute_result"
    }
   ],
   "source": [
    "testDf.columns\n",
    "#yearday\n",
    "#monthday"
   ]
  },
  {
   "cell_type": "code",
   "execution_count": 246,
   "metadata": {},
   "outputs": [
    {
     "data": {
      "text/plain": [
       "array([[<Axes: title={'center': 'cons_prod_diff'}>]], dtype=object)"
      ]
     },
     "execution_count": 246,
     "metadata": {},
     "output_type": "execute_result"
    },
    {
     "data": {
      "image/png": "[encoded data removed]",
      "text/plain": [
       "<Figure size 640x480 with 1 Axes>"
      ]
     },
     "metadata": {},
     "output_type": "display_data"
    }
   ],
   "source": [
    "cond = testDf.absErr_cons > 200\n",
    "cond = (testDf.absErr_cons < 50) & (testDf.absErr_cons > -50)\n",
    "#cond = testDf.absErr_cons < -100\n",
    "\n",
    "testDf.loc[cond][['cons_prod_diff']].hist(bins=100)#.sort_values(by='absErr_cons').tail(15) \n",
    "#,'pred_cons','y_cons' .groupby('yearday')"
   ]
  },
  {
   "cell_type": "code",
   "execution_count": 114,
   "metadata": {},
   "outputs": [
    {
     "name": "stdout",
     "output_type": "stream",
     "text": [
      "2022-09-03 00:00:00\n",
      "2022-10-03 00:00:00\n",
      "2022-05-03 00:00:00\n",
      "2022-01-03 00:00:00\n",
      "2022-07-03 00:00:00\n",
      "2022-11-03 00:00:00\n",
      "2022-04-03 00:00:00\n",
      "2022-06-03 00:00:00\n",
      "2022-08-03 00:00:00\n",
      "2022-02-03 00:00:00\n",
      "2022-03-03 00:00:00\n",
      "2022-12-03 00:00:00\n"
     ]
    }
   ],
   "source": [
    "from datetime import datetime, timedelta\n",
    "\n",
    "# Specify the year and the day of the year\n",
    "year = 2022\n",
    "day_of_year = [246.0, 276,123,3,184,307,93,154,215,34,62,337]\n",
    "\n",
    "# Calculate the date\n",
    "for day in day_of_year:\n",
    "    date_from_day_of_year = datetime(year, 1, 1) + timedelta(days=day - 1)\n",
    "    print(date_from_day_of_year)\n"
   ]
  },
  {
   "cell_type": "code",
   "execution_count": 117,
   "metadata": {},
   "outputs": [
    {
     "data": {
      "text/html": [
       "<div>\n",
       "<style scoped>\n",
       "    .dataframe tbody tr th:only-of-type {\n",
       "        vertical-align: middle;\n",
       "    }\n",
       "\n",
       "    .dataframe tbody tr th {\n",
       "        vertical-align: top;\n",
       "    }\n",
       "\n",
       "    .dataframe thead th {\n",
       "        text-align: right;\n",
       "    }\n",
       "</style>\n",
       "<table border=\"1\" class=\"dataframe\">\n",
       "  <thead>\n",
       "    <tr style=\"text-align: right;\">\n",
       "      <th></th>\n",
       "      <th>y_cons</th>\n",
       "      <th>y_prod</th>\n",
       "      <th>isTrain</th>\n",
       "      <th>data_block_id</th>\n",
       "      <th>county</th>\n",
       "      <th>is_business</th>\n",
       "      <th>product_type</th>\n",
       "      <th>prediction_unit_id</th>\n",
       "      <th>eic_count</th>\n",
       "      <th>installed_capacity</th>\n",
       "      <th>...</th>\n",
       "      <th>ind_customer_id</th>\n",
       "      <th>lowest_price_per_mwh</th>\n",
       "      <th>highest_price_per_mwh</th>\n",
       "      <th>yearday</th>\n",
       "      <th>weekday</th>\n",
       "      <th>month</th>\n",
       "      <th>monthday</th>\n",
       "      <th>ePrices</th>\n",
       "      <th>pred_cons</th>\n",
       "      <th>absErr_cons</th>\n",
       "    </tr>\n",
       "  </thead>\n",
       "  <tbody>\n",
       "    <tr>\n",
       "      <th>804267</th>\n",
       "      <td>68.640</td>\n",
       "      <td>0.000</td>\n",
       "      <td>0.0</td>\n",
       "      <td>2.0</td>\n",
       "      <td>14.0</td>\n",
       "      <td>0.0</td>\n",
       "      <td>3.0</td>\n",
       "      <td>54.0</td>\n",
       "      <td>105.0</td>\n",
       "      <td>1423.36</td>\n",
       "      <td>...</td>\n",
       "      <td>1072.0</td>\n",
       "      <td>45.62</td>\n",
       "      <td>46.29</td>\n",
       "      <td>246.0</td>\n",
       "      <td>4.0</td>\n",
       "      <td>9.0</td>\n",
       "      <td>3.0</td>\n",
       "      <td>92.25</td>\n",
       "      <td>216.413940</td>\n",
       "      <td>-147.773940</td>\n",
       "    </tr>\n",
       "    <tr>\n",
       "      <th>804270</th>\n",
       "      <td>78.256</td>\n",
       "      <td>0.563</td>\n",
       "      <td>0.0</td>\n",
       "      <td>2.0</td>\n",
       "      <td>14.0</td>\n",
       "      <td>0.0</td>\n",
       "      <td>3.0</td>\n",
       "      <td>54.0</td>\n",
       "      <td>105.0</td>\n",
       "      <td>1423.36</td>\n",
       "      <td>...</td>\n",
       "      <td>1072.0</td>\n",
       "      <td>45.62</td>\n",
       "      <td>46.29</td>\n",
       "      <td>246.0</td>\n",
       "      <td>4.0</td>\n",
       "      <td>9.0</td>\n",
       "      <td>3.0</td>\n",
       "      <td>128.94</td>\n",
       "      <td>229.251709</td>\n",
       "      <td>-150.995709</td>\n",
       "    </tr>\n",
       "    <tr>\n",
       "      <th>804271</th>\n",
       "      <td>82.277</td>\n",
       "      <td>11.833</td>\n",
       "      <td>0.0</td>\n",
       "      <td>2.0</td>\n",
       "      <td>14.0</td>\n",
       "      <td>0.0</td>\n",
       "      <td>3.0</td>\n",
       "      <td>54.0</td>\n",
       "      <td>105.0</td>\n",
       "      <td>1423.36</td>\n",
       "      <td>...</td>\n",
       "      <td>1072.0</td>\n",
       "      <td>45.62</td>\n",
       "      <td>46.29</td>\n",
       "      <td>246.0</td>\n",
       "      <td>4.0</td>\n",
       "      <td>9.0</td>\n",
       "      <td>3.0</td>\n",
       "      <td>150.00</td>\n",
       "      <td>225.772629</td>\n",
       "      <td>-143.495629</td>\n",
       "    </tr>\n",
       "    <tr>\n",
       "      <th>804272</th>\n",
       "      <td>75.056</td>\n",
       "      <td>14.559</td>\n",
       "      <td>0.0</td>\n",
       "      <td>2.0</td>\n",
       "      <td>14.0</td>\n",
       "      <td>0.0</td>\n",
       "      <td>3.0</td>\n",
       "      <td>54.0</td>\n",
       "      <td>105.0</td>\n",
       "      <td>1423.36</td>\n",
       "      <td>...</td>\n",
       "      <td>1072.0</td>\n",
       "      <td>45.62</td>\n",
       "      <td>46.29</td>\n",
       "      <td>246.0</td>\n",
       "      <td>4.0</td>\n",
       "      <td>9.0</td>\n",
       "      <td>3.0</td>\n",
       "      <td>146.38</td>\n",
       "      <td>215.182831</td>\n",
       "      <td>-140.126831</td>\n",
       "    </tr>\n",
       "    <tr>\n",
       "      <th>804278</th>\n",
       "      <td>21.493</td>\n",
       "      <td>552.771</td>\n",
       "      <td>0.0</td>\n",
       "      <td>2.0</td>\n",
       "      <td>14.0</td>\n",
       "      <td>0.0</td>\n",
       "      <td>3.0</td>\n",
       "      <td>54.0</td>\n",
       "      <td>105.0</td>\n",
       "      <td>1423.36</td>\n",
       "      <td>...</td>\n",
       "      <td>1072.0</td>\n",
       "      <td>45.62</td>\n",
       "      <td>46.29</td>\n",
       "      <td>246.0</td>\n",
       "      <td>4.0</td>\n",
       "      <td>9.0</td>\n",
       "      <td>3.0</td>\n",
       "      <td>97.97</td>\n",
       "      <td>165.838745</td>\n",
       "      <td>-144.345745</td>\n",
       "    </tr>\n",
       "    <tr>\n",
       "      <th>...</th>\n",
       "      <td>...</td>\n",
       "      <td>...</td>\n",
       "      <td>...</td>\n",
       "      <td>...</td>\n",
       "      <td>...</td>\n",
       "      <td>...</td>\n",
       "      <td>...</td>\n",
       "      <td>...</td>\n",
       "      <td>...</td>\n",
       "      <td>...</td>\n",
       "      <td>...</td>\n",
       "      <td>...</td>\n",
       "      <td>...</td>\n",
       "      <td>...</td>\n",
       "      <td>...</td>\n",
       "      <td>...</td>\n",
       "      <td>...</td>\n",
       "      <td>...</td>\n",
       "      <td>...</td>\n",
       "      <td>...</td>\n",
       "      <td>...</td>\n",
       "    </tr>\n",
       "    <tr>\n",
       "      <th>1004589</th>\n",
       "      <td>47.403</td>\n",
       "      <td>0.000</td>\n",
       "      <td>0.0</td>\n",
       "      <td>30.0</td>\n",
       "      <td>4.0</td>\n",
       "      <td>0.0</td>\n",
       "      <td>3.0</td>\n",
       "      <td>16.0</td>\n",
       "      <td>45.0</td>\n",
       "      <td>568.30</td>\n",
       "      <td>...</td>\n",
       "      <td>1002.0</td>\n",
       "      <td>50.15</td>\n",
       "      <td>69.99</td>\n",
       "      <td>246.0</td>\n",
       "      <td>4.0</td>\n",
       "      <td>9.0</td>\n",
       "      <td>3.0</td>\n",
       "      <td>142.08</td>\n",
       "      <td>225.741013</td>\n",
       "      <td>-178.338013</td>\n",
       "    </tr>\n",
       "    <tr>\n",
       "      <th>1004590</th>\n",
       "      <td>43.739</td>\n",
       "      <td>0.000</td>\n",
       "      <td>0.0</td>\n",
       "      <td>30.0</td>\n",
       "      <td>4.0</td>\n",
       "      <td>0.0</td>\n",
       "      <td>3.0</td>\n",
       "      <td>16.0</td>\n",
       "      <td>45.0</td>\n",
       "      <td>568.30</td>\n",
       "      <td>...</td>\n",
       "      <td>1002.0</td>\n",
       "      <td>50.15</td>\n",
       "      <td>69.99</td>\n",
       "      <td>246.0</td>\n",
       "      <td>4.0</td>\n",
       "      <td>9.0</td>\n",
       "      <td>3.0</td>\n",
       "      <td>104.80</td>\n",
       "      <td>222.144104</td>\n",
       "      <td>-178.405104</td>\n",
       "    </tr>\n",
       "    <tr>\n",
       "      <th>1004591</th>\n",
       "      <td>34.488</td>\n",
       "      <td>0.000</td>\n",
       "      <td>0.0</td>\n",
       "      <td>30.0</td>\n",
       "      <td>4.0</td>\n",
       "      <td>0.0</td>\n",
       "      <td>3.0</td>\n",
       "      <td>16.0</td>\n",
       "      <td>45.0</td>\n",
       "      <td>568.30</td>\n",
       "      <td>...</td>\n",
       "      <td>1002.0</td>\n",
       "      <td>50.15</td>\n",
       "      <td>69.99</td>\n",
       "      <td>246.0</td>\n",
       "      <td>4.0</td>\n",
       "      <td>9.0</td>\n",
       "      <td>3.0</td>\n",
       "      <td>81.53</td>\n",
       "      <td>219.334274</td>\n",
       "      <td>-184.846274</td>\n",
       "    </tr>\n",
       "    <tr>\n",
       "      <th>1004608</th>\n",
       "      <td>82.614</td>\n",
       "      <td>138.410</td>\n",
       "      <td>0.0</td>\n",
       "      <td>12.0</td>\n",
       "      <td>8.0</td>\n",
       "      <td>1.0</td>\n",
       "      <td>3.0</td>\n",
       "      <td>33.0</td>\n",
       "      <td>17.0</td>\n",
       "      <td>751.70</td>\n",
       "      <td>...</td>\n",
       "      <td>1602.0</td>\n",
       "      <td>46.50</td>\n",
       "      <td>47.62</td>\n",
       "      <td>246.0</td>\n",
       "      <td>4.0</td>\n",
       "      <td>9.0</td>\n",
       "      <td>3.0</td>\n",
       "      <td>87.13</td>\n",
       "      <td>226.160583</td>\n",
       "      <td>-143.546583</td>\n",
       "    </tr>\n",
       "    <tr>\n",
       "      <th>1004609</th>\n",
       "      <td>80.105</td>\n",
       "      <td>78.669</td>\n",
       "      <td>0.0</td>\n",
       "      <td>12.0</td>\n",
       "      <td>8.0</td>\n",
       "      <td>1.0</td>\n",
       "      <td>3.0</td>\n",
       "      <td>33.0</td>\n",
       "      <td>17.0</td>\n",
       "      <td>751.70</td>\n",
       "      <td>...</td>\n",
       "      <td>1602.0</td>\n",
       "      <td>46.50</td>\n",
       "      <td>47.62</td>\n",
       "      <td>246.0</td>\n",
       "      <td>4.0</td>\n",
       "      <td>9.0</td>\n",
       "      <td>3.0</td>\n",
       "      <td>148.94</td>\n",
       "      <td>247.007187</td>\n",
       "      <td>-166.902187</td>\n",
       "    </tr>\n",
       "  </tbody>\n",
       "</table>\n",
       "<p>8218 rows × 21 columns</p>\n",
       "</div>"
      ],
      "text/plain": [
       "         y_cons   y_prod  isTrain  data_block_id  county  is_business  \\\n",
       "804267   68.640    0.000      0.0            2.0    14.0          0.0   \n",
       "804270   78.256    0.563      0.0            2.0    14.0          0.0   \n",
       "804271   82.277   11.833      0.0            2.0    14.0          0.0   \n",
       "804272   75.056   14.559      0.0            2.0    14.0          0.0   \n",
       "804278   21.493  552.771      0.0            2.0    14.0          0.0   \n",
       "...         ...      ...      ...            ...     ...          ...   \n",
       "1004589  47.403    0.000      0.0           30.0     4.0          0.0   \n",
       "1004590  43.739    0.000      0.0           30.0     4.0          0.0   \n",
       "1004591  34.488    0.000      0.0           30.0     4.0          0.0   \n",
       "1004608  82.614  138.410      0.0           12.0     8.0          1.0   \n",
       "1004609  80.105   78.669      0.0           12.0     8.0          1.0   \n",
       "\n",
       "         product_type  prediction_unit_id  eic_count  installed_capacity  ...  \\\n",
       "804267            3.0                54.0      105.0             1423.36  ...   \n",
       "804270            3.0                54.0      105.0             1423.36  ...   \n",
       "804271            3.0                54.0      105.0             1423.36  ...   \n",
       "804272            3.0                54.0      105.0             1423.36  ...   \n",
       "804278            3.0                54.0      105.0             1423.36  ...   \n",
       "...               ...                 ...        ...                 ...  ...   \n",
       "1004589           3.0                16.0       45.0              568.30  ...   \n",
       "1004590           3.0                16.0       45.0              568.30  ...   \n",
       "1004591           3.0                16.0       45.0              568.30  ...   \n",
       "1004608           3.0                33.0       17.0              751.70  ...   \n",
       "1004609           3.0                33.0       17.0              751.70  ...   \n",
       "\n",
       "         ind_customer_id  lowest_price_per_mwh  highest_price_per_mwh  \\\n",
       "804267            1072.0                 45.62                  46.29   \n",
       "804270            1072.0                 45.62                  46.29   \n",
       "804271            1072.0                 45.62                  46.29   \n",
       "804272            1072.0                 45.62                  46.29   \n",
       "804278            1072.0                 45.62                  46.29   \n",
       "...                  ...                   ...                    ...   \n",
       "1004589           1002.0                 50.15                  69.99   \n",
       "1004590           1002.0                 50.15                  69.99   \n",
       "1004591           1002.0                 50.15                  69.99   \n",
       "1004608           1602.0                 46.50                  47.62   \n",
       "1004609           1602.0                 46.50                  47.62   \n",
       "\n",
       "         yearday  weekday  month  monthday  ePrices   pred_cons  absErr_cons  \n",
       "804267     246.0      4.0    9.0       3.0    92.25  216.413940  -147.773940  \n",
       "804270     246.0      4.0    9.0       3.0   128.94  229.251709  -150.995709  \n",
       "804271     246.0      4.0    9.0       3.0   150.00  225.772629  -143.495629  \n",
       "804272     246.0      4.0    9.0       3.0   146.38  215.182831  -140.126831  \n",
       "804278     246.0      4.0    9.0       3.0    97.97  165.838745  -144.345745  \n",
       "...          ...      ...    ...       ...      ...         ...          ...  \n",
       "1004589    246.0      4.0    9.0       3.0   142.08  225.741013  -178.338013  \n",
       "1004590    246.0      4.0    9.0       3.0   104.80  222.144104  -178.405104  \n",
       "1004591    246.0      4.0    9.0       3.0    81.53  219.334274  -184.846274  \n",
       "1004608    246.0      4.0    9.0       3.0    87.13  226.160583  -143.546583  \n",
       "1004609    246.0      4.0    9.0       3.0   148.94  247.007187  -166.902187  \n",
       "\n",
       "[8218 rows x 21 columns]"
      ]
     },
     "execution_count": 117,
     "metadata": {},
     "output_type": "execute_result"
    }
   ],
   "source": [
    "testDf.loc[(testDf.absErr_cons < -140) & (testDf.yearday == 246)]"
   ]
  },
  {
   "cell_type": "code",
   "execution_count": 102,
   "metadata": {},
   "outputs": [
    {
     "data": {
      "text/plain": [
       "<Axes: >"
      ]
     },
     "execution_count": 102,
     "metadata": {},
     "output_type": "execute_result"
    },
    {
     "data": {
      "image/png": "[encoded data removed]",
      "text/plain": [
       "<Figure size 640x480 with 1 Axes>"
      ]
     },
     "metadata": {},
     "output_type": "display_data"
    }
   ],
   "source": [
    "testDf.loc[testDf.absErr_cons < -140].ePrices.hist(bins=100)"
   ]
  },
  {
   "cell_type": "code",
   "execution_count": 221,
   "metadata": {},
   "outputs": [
    {
     "name": "stdout",
     "output_type": "stream",
     "text": [
      "1810.2856380464455 306.32648\n"
     ]
    }
   ],
   "source": [
    "print(testDf.loc[testDf.absErr_cons > 220].y_cons.mean(),\n",
    "testDf.loc[testDf.absErr_cons > 220].pred_cons.mean())"
   ]
  },
  {
   "cell_type": "code",
   "execution_count": 160,
   "metadata": {},
   "outputs": [
    {
     "name": "stdout",
     "output_type": "stream",
     "text": [
      "monthday  yearday\n",
      "1.0       91.0         832\n",
      "          121.0         48\n",
      "          213.0         14\n",
      "          274.0         24\n",
      "          305.0         89\n",
      "2.0       33.0           6\n",
      "          61.0          26\n",
      "          92.0          38\n",
      "          122.0          8\n",
      "          183.0         48\n",
      "          214.0         48\n",
      "          275.0         24\n",
      "3.0       3.0        31319\n",
      "          34.0       19689\n",
      "          62.0       17227\n",
      "          93.0       19919\n",
      "          123.0      25925\n",
      "          154.0      14404\n",
      "          184.0      16243\n",
      "          215.0      12955\n",
      "          246.0      35830\n",
      "          276.0      30419\n",
      "          307.0      20954\n",
      "          337.0      16627\n",
      "4.0       63.0         918\n",
      "          94.0         418\n",
      "          124.0        175\n",
      "          155.0        240\n",
      "          247.0        504\n",
      "          338.0         72\n",
      "5.0       5.0           32\n",
      "          36.0          72\n",
      "          64.0         140\n",
      "          125.0        288\n",
      "          217.0        312\n",
      "          248.0        264\n",
      "          309.0         25\n",
      "6.0       37.0         256\n",
      "          65.0         489\n",
      "          96.0         373\n",
      "          126.0        341\n",
      "          157.0        205\n",
      "          218.0        597\n",
      "          310.0        312\n",
      "7.0       7.0          595\n",
      "          38.0          24\n",
      "          97.0         672\n",
      "          127.0        505\n",
      "          219.0         72\n",
      "          311.0        403\n",
      "          341.0         48\n",
      "8.0       8.0            1\n",
      "          39.0          96\n",
      "          67.0          41\n",
      "          98.0         549\n",
      "          128.0        693\n",
      "          251.0         76\n",
      "          281.0        312\n",
      "          312.0        408\n",
      "          342.0         66\n",
      "9.0       9.0          408\n",
      "          40.0         118\n",
      "          68.0         163\n",
      "          99.0         589\n",
      "          129.0        185\n",
      "          160.0        110\n",
      "          282.0         48\n",
      "          313.0        192\n",
      "10.0      41.0          35\n",
      "          69.0         135\n",
      "          100.0        798\n",
      "          130.0        287\n",
      "          161.0        552\n",
      "          191.0          1\n",
      "          253.0        192\n",
      "          314.0         24\n",
      "          344.0        336\n",
      "11.0      42.0          94\n",
      "          70.0         293\n",
      "          162.0        408\n",
      "          284.0        463\n",
      "          315.0        240\n",
      "          345.0         48\n",
      "12.0      12.0         384\n",
      "          43.0         193\n",
      "          71.0         552\n",
      "          102.0       3125\n",
      "          132.0         47\n",
      "          163.0         59\n",
      "          224.0         96\n",
      "          255.0        708\n",
      "          285.0        576\n",
      "          316.0        140\n",
      "          346.0        238\n",
      "13.0      44.0         282\n",
      "          72.0          48\n",
      "          103.0        445\n",
      "          133.0        737\n",
      "          317.0        240\n",
      "          347.0        240\n",
      "14.0      14.0          64\n",
      "          73.0         166\n",
      "          104.0        251\n",
      "          134.0        351\n",
      "          226.0        336\n",
      "15.0      15.0         165\n",
      "          105.0        464\n",
      "          135.0        302\n",
      "          196.0        312\n",
      "          319.0         84\n",
      "16.0      16.0          18\n",
      "          47.0          80\n",
      "          75.0         914\n",
      "          106.0        763\n",
      "          136.0        154\n",
      "          167.0         13\n",
      "          289.0         16\n",
      "          350.0         61\n",
      "17.0      48.0          31\n",
      "          76.0         283\n",
      "          107.0        312\n",
      "          137.0         83\n",
      "          168.0        384\n",
      "          260.0        192\n",
      "          351.0        168\n",
      "18.0      49.0         419\n",
      "          77.0         909\n",
      "          108.0        168\n",
      "          138.0        168\n",
      "          169.0         10\n",
      "          291.0         89\n",
      "          322.0        160\n",
      "19.0      19.0         101\n",
      "          50.0          17\n",
      "          78.0         167\n",
      "          109.0         47\n",
      "          139.0        156\n",
      "          170.0        159\n",
      "          200.0        120\n",
      "          262.0        168\n",
      "          292.0        219\n",
      "          323.0         18\n",
      "          353.0        209\n",
      "20.0      20.0         218\n",
      "          51.0         198\n",
      "          79.0         637\n",
      "          110.0        340\n",
      "          140.0        514\n",
      "          232.0         24\n",
      "          293.0         90\n",
      "          324.0        380\n",
      "          354.0        152\n",
      "21.0      21.0         198\n",
      "          80.0         201\n",
      "          141.0         34\n",
      "          172.0        192\n",
      "          264.0        133\n",
      "          294.0         48\n",
      "          325.0        154\n",
      "22.0      53.0         339\n",
      "          81.0         120\n",
      "          112.0        333\n",
      "          142.0        164\n",
      "          234.0         24\n",
      "          326.0         66\n",
      "          356.0         18\n",
      "23.0      54.0          18\n",
      "          82.0          42\n",
      "          113.0         52\n",
      "          235.0        384\n",
      "          266.0         72\n",
      "          296.0        179\n",
      "          357.0         85\n",
      "24.0      55.0          72\n",
      "          83.0         220\n",
      "          114.0         65\n",
      "          144.0        198\n",
      "          297.0        217\n",
      "          328.0         96\n",
      "          358.0         61\n",
      "25.0      56.0         121\n",
      "          84.0         222\n",
      "          115.0         72\n",
      "          145.0        168\n",
      "          206.0         72\n",
      "          268.0         72\n",
      "          329.0        128\n",
      "26.0      26.0          24\n",
      "          57.0          96\n",
      "          85.0         108\n",
      "          116.0         24\n",
      "          146.0        360\n",
      "          330.0        190\n",
      "27.0      27.0         136\n",
      "          58.0         143\n",
      "          86.0         256\n",
      "          117.0        137\n",
      "          147.0         24\n",
      "          300.0          4\n",
      "          331.0         46\n",
      "28.0      59.0          78\n",
      "          118.0        120\n",
      "          148.0        119\n",
      "          301.0        137\n",
      "29.0      29.0          72\n",
      "          88.0         230\n",
      "          119.0         24\n",
      "          149.0        133\n",
      "          333.0        683\n",
      "          363.0         62\n",
      "30.0      30.0          72\n",
      "          89.0          34\n",
      "          120.0        123\n",
      "          150.0         64\n",
      "          242.0        162\n",
      "31.0      90.0          73\n",
      "          304.0         78\n",
      "          365.0         24\n",
      "Name: absErr_cons, dtype: int64\n"
     ]
    }
   ],
   "source": [
    "pd.set_option('Display.max_rows',None)\n",
    "print(testDf.loc[testDf.absErr_cons < -100].groupby(['monthday','yearday'])['absErr_cons'].count())\n",
    "#day 3 is really bad\n",
    "pd.set_option('Display.max_rows',10)"
   ]
  },
  {
   "cell_type": "code",
   "execution_count": 141,
   "metadata": {},
   "outputs": [
    {
     "data": {
      "text/plain": [
       "<Axes: >"
      ]
     },
     "execution_count": 141,
     "metadata": {},
     "output_type": "execute_result"
    },
    {
     "data": {
      "image/png": "[encoded data removed]",
      "text/plain": [
       "<Figure size 640x480 with 1 Axes>"
      ]
     },
     "metadata": {},
     "output_type": "display_data"
    }
   ],
   "source": [
    "testDf.loc[testDf.absErr_cons > 220].yearday.hist(bins=100)"
   ]
  },
  {
   "cell_type": "code",
   "execution_count": 83,
   "metadata": {},
   "outputs": [
    {
     "data": {
      "text/plain": [
       "448.0924781740108"
      ]
     },
     "execution_count": 83,
     "metadata": {},
     "output_type": "execute_result"
    }
   ],
   "source": [
    "testDf.y_cons.mean()"
   ]
  },
  {
   "cell_type": "code",
   "execution_count": 64,
   "metadata": {},
   "outputs": [
    {
     "data": {
      "text/plain": [
       "<Axes: >"
      ]
     },
     "execution_count": 64,
     "metadata": {},
     "output_type": "execute_result"
    },
    {
     "data": {
      "image/png": "[encoded data removed]",
      "text/plain": [
       "<Figure size 640x480 with 1 Axes>"
      ]
     },
     "metadata": {},
     "output_type": "display_data"
    }
   ],
   "source": [
    "testDf.y_cons.plot()"
   ]
  },
  {
   "cell_type": "code",
   "execution_count": 65,
   "metadata": {},
   "outputs": [
    {
     "ename": "AttributeError",
     "evalue": "'DataFrame' object has no attribute 'absErr_prod'",
     "output_type": "error",
     "traceback": [
      "\u001b[0;31m---------------------------------------------------------------------------\u001b[0m",
      "\u001b[0;31mAttributeError\u001b[0m                            Traceback (most recent call last)",
      "\u001b[0;32m/var/folders/15/v1vyry112dv3d398dy47k8v40000gn/T/ipykernel_25586/2536389992.py\u001b[0m in \u001b[0;36m?\u001b[0;34m()\u001b[0m\n\u001b[0;32m----> 1\u001b[0;31m \u001b[0mabs\u001b[0m\u001b[0;34m(\u001b[0m\u001b[0mtestDf\u001b[0m\u001b[0;34m.\u001b[0m\u001b[0mabsErr_prod\u001b[0m\u001b[0;34m)\u001b[0m\u001b[0;34m.\u001b[0m\u001b[0mmean\u001b[0m\u001b[0;34m(\u001b[0m\u001b[0;34m)\u001b[0m\u001b[0;34m\u001b[0m\u001b[0;34m\u001b[0m\u001b[0m\n\u001b[0m",
      "\u001b[0;32m~/opt/anaconda3/envs/predictenegycons/lib/python3.10/site-packages/pandas/core/generic.py\u001b[0m in \u001b[0;36m?\u001b[0;34m(self, name)\u001b[0m\n\u001b[1;32m   6200\u001b[0m             \u001b[0;32mand\u001b[0m \u001b[0mname\u001b[0m \u001b[0;32mnot\u001b[0m \u001b[0;32min\u001b[0m \u001b[0mself\u001b[0m\u001b[0;34m.\u001b[0m\u001b[0m_accessors\u001b[0m\u001b[0;34m\u001b[0m\u001b[0;34m\u001b[0m\u001b[0m\n\u001b[1;32m   6201\u001b[0m             \u001b[0;32mand\u001b[0m \u001b[0mself\u001b[0m\u001b[0;34m.\u001b[0m\u001b[0m_info_axis\u001b[0m\u001b[0;34m.\u001b[0m\u001b[0m_can_hold_identifiers_and_holds_name\u001b[0m\u001b[0;34m(\u001b[0m\u001b[0mname\u001b[0m\u001b[0;34m)\u001b[0m\u001b[0;34m\u001b[0m\u001b[0;34m\u001b[0m\u001b[0m\n\u001b[1;32m   6202\u001b[0m         ):\n\u001b[1;32m   6203\u001b[0m             \u001b[0;32mreturn\u001b[0m \u001b[0mself\u001b[0m\u001b[0;34m[\u001b[0m\u001b[0mname\u001b[0m\u001b[0;34m]\u001b[0m\u001b[0;34m\u001b[0m\u001b[0;34m\u001b[0m\u001b[0m\n\u001b[0;32m-> 6204\u001b[0;31m         \u001b[0;32mreturn\u001b[0m \u001b[0mobject\u001b[0m\u001b[0;34m.\u001b[0m\u001b[0m__getattribute__\u001b[0m\u001b[0;34m(\u001b[0m\u001b[0mself\u001b[0m\u001b[0;34m,\u001b[0m \u001b[0mname\u001b[0m\u001b[0;34m)\u001b[0m\u001b[0;34m\u001b[0m\u001b[0;34m\u001b[0m\u001b[0m\n\u001b[0m",
      "\u001b[0;31mAttributeError\u001b[0m: 'DataFrame' object has no attribute 'absErr_prod'"
     ]
    }
   ],
   "source": [
    "abs(testDf.absErr_prod).mean()"
   ]
  },
  {
   "cell_type": "code",
   "execution_count": 66,
   "metadata": {},
   "outputs": [
    {
     "data": {
      "text/plain": [
       "460.76425311036706"
      ]
     },
     "execution_count": 66,
     "metadata": {},
     "output_type": "execute_result"
    }
   ],
   "source": [
    "abs(testDf.absErr_cons).mean()"
   ]
  },
  {
   "cell_type": "code",
   "execution_count": null,
   "metadata": {},
   "outputs": [],
   "source": [
    "testDf.absErr_cons.mean()"
   ]
  },
  {
   "cell_type": "code",
   "execution_count": null,
   "metadata": {},
   "outputs": [],
   "source": [
    "testDf.groupby('minDaylight')['absErr_prod'].max().plot() #hist(bins=100)"
   ]
  },
  {
   "cell_type": "code",
   "execution_count": null,
   "metadata": {},
   "outputs": [],
   "source": [
    "testDf.loc[testDf.absErr_prod <100].data_block_id.hist(bins=20)"
   ]
  },
  {
   "cell_type": "code",
   "execution_count": null,
   "metadata": {},
   "outputs": [],
   "source": [
    "fig = subplots.make_subplots(rows=1, cols=1,shared_xaxes=True)\n",
    "fig.add_trace(go.Scatter(x = testDf['data_block_id'], y = testDf['absErr_cons'],mode ='markers', name='diff_snowfall'),row=1, col=1)\n",
    "fig.show()"
   ]
  },
  {
   "cell_type": "code",
   "execution_count": 168,
   "metadata": {},
   "outputs": [
    {
     "data": {
      "text/plain": [
       "<Axes: >"
      ]
     },
     "execution_count": 168,
     "metadata": {},
     "output_type": "execute_result"
    },
    {
     "data": {
      "image/png": "[encoded data removed]",
      "text/plain": [
       "<Figure size 640x480 with 1 Axes>"
      ]
     },
     "metadata": {},
     "output_type": "display_data"
    }
   ],
   "source": [
    "trainDf.loc[trainDf.monthday == 1].absErr_cons.plot()"
   ]
  },
  {
   "cell_type": "markdown",
   "metadata": {},
   "source": [
    "### investigate 3rd day of month"
   ]
  },
  {
   "cell_type": "code",
   "execution_count": 178,
   "metadata": {},
   "outputs": [
    {
     "name": "stdout",
     "output_type": "stream",
     "text": [
      "weekday\n",
      "4.0    212976\n",
      "6.0    163656\n",
      "0.0    148224\n",
      "3.0    138360\n",
      "1.0    123168\n",
      "5.0    111504\n",
      "2.0    106968\n",
      "Name: count, dtype: int64\n"
     ]
    }
   ],
   "source": [
    "pd.set_option('Display.max_rows',None)\n",
    "print(appendedDf.weekday.value_counts())\n",
    "\n",
    "pd.set_option('Display.max_rows',10)"
   ]
  },
  {
   "cell_type": "code",
   "execution_count": 165,
   "metadata": {},
   "outputs": [
    {
     "data": {
      "text/plain": [
       "<Axes: >"
      ]
     },
     "execution_count": 165,
     "metadata": {},
     "output_type": "execute_result"
    },
    {
     "data": {
      "image/png": "[encoded data removed]",
      "text/plain": [
       "<Figure size 640x480 with 1 Axes>"
      ]
     },
     "metadata": {},
     "output_type": "display_data"
    }
   ],
   "source": [
    "testDf.loc[testDf.monthday == 1].absErr_cons.plot()"
   ]
  },
  {
   "cell_type": "code",
   "execution_count": null,
   "metadata": {},
   "outputs": [],
   "source": []
  }
 ],
 "metadata": {
  "kernelspec": {
   "display_name": "Python 3.10.13 ('predictenegycons')",
   "language": "python",
   "name": "python3"
  },
  "language_info": {
   "codemirror_mode": {
    "name": "ipython",
    "version": 3
   },
   "file_extension": ".py",
   "mimetype": "text/x-python",
   "name": "python",
   "nbconvert_exporter": "python",
   "pygments_lexer": "ipython3",
   "version": "3.10.13"
  },
  "orig_nbformat": 4,
  "vscode": {
   "interpreter": {
    "hash": "691b0b37d4acdba726dc1c278f9e08b3b5ec9c42dc9e0c737423aa652ed87f03"
   }
  }
 },
 "nbformat": 4,
 "nbformat_minor": 2
}
