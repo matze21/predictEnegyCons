{
 "cells": [
  {
   "cell_type": "code",
   "execution_count": 1,
   "metadata": {},
   "outputs": [
    {
     "name": "stdout",
     "output_type": "stream",
     "text": [
      "Intel MKL WARNING: Support of Intel(R) Streaming SIMD Extensions 4.2 (Intel(R) SSE4.2) enabled only processors has been deprecated. Intel oneAPI Math Kernel Library 2025.0 will require Intel(R) Advanced Vector Extensions (Intel(R) AVX) instructions.\n",
      "Intel MKL WARNING: Support of Intel(R) Streaming SIMD Extensions 4.2 (Intel(R) SSE4.2) enabled only processors has been deprecated. Intel oneAPI Math Kernel Library 2025.0 will require Intel(R) Advanced Vector Extensions (Intel(R) AVX) instructions.\n"
     ]
    },
    {
     "name": "stderr",
     "output_type": "stream",
     "text": [
      "2023-12-24 22:56:06.263598: I tensorflow/core/platform/cpu_feature_guard.cc:193] This TensorFlow binary is optimized with oneAPI Deep Neural Network Library (oneDNN) to use the following CPU instructions in performance-critical operations:  SSE4.1 SSE4.2\n",
      "To enable them in other operations, rebuild TensorFlow with the appropriate compiler flags.\n"
     ]
    }
   ],
   "source": [
    "from scipy.interpolate import griddata\n",
    "from sklearn.metrics import balanced_accuracy_score\n",
    "from sklearn.ensemble import GradientBoostingClassifier, RandomForestClassifier, RandomForestRegressor\n",
    "from sklearn.metrics import accuracy_score\n",
    "from sklearn.model_selection import train_test_split\n",
    "from sklearn.datasets import make_classification\n",
    "\n",
    "import tensorflow as tf\n",
    "from tensorflow.keras import layers, models"
   ]
  },
  {
   "cell_type": "code",
   "execution_count": 2,
   "metadata": {},
   "outputs": [],
   "source": [
    "import pandas as pd\n",
    "import numpy as np\n",
    "import plotly.offline as pyo\n",
    "from plotly import subplots\n",
    "import plotly.graph_objects as go"
   ]
  },
  {
   "cell_type": "code",
   "execution_count": 3,
   "metadata": {},
   "outputs": [],
   "source": [
    "client = pd.read_csv(\"../../data/client.csv\")\n",
    "ePrices = pd.read_csv(\"../../data/electricity_prices.csv\")\n",
    "gasPrices = pd.read_csv(\"../../data/gas_prices.csv\")\n",
    "train = pd.read_csv(\"../../data/train.csv\")"
   ]
  },
  {
   "cell_type": "code",
   "execution_count": 4,
   "metadata": {},
   "outputs": [],
   "source": [
    "weatherPredInt = pd.read_csv(\"interpolPredWeather.csv\")\n",
    "weatherHistInt = pd.read_csv(\"../histWeatherSnowCover.csv\")"
   ]
  },
  {
   "cell_type": "markdown",
   "metadata": {},
   "source": [
    "# process data"
   ]
  },
  {
   "cell_type": "markdown",
   "metadata": {},
   "source": [
    "### add sunlight feature"
   ]
  },
  {
   "cell_type": "code",
   "execution_count": 13,
   "metadata": {},
   "outputs": [],
   "source": [
    "from datetime import datetime\n",
    "from suntime import Sun\n",
    "import pytz\n",
    "\n",
    "sunrise = []\n",
    "sunset = []\n",
    "for i in range(0,weatherPredInt.shape[0]):\n",
    "    sun = Sun(weatherPredInt.latitude.iloc[i], weatherPredInt.longitude.iloc[i])\n",
    "    dt = pd.to_datetime(weatherPredInt.forecast_datetime.iloc[i])\n",
    "    sunrise.append(sun.get_sunrise_time(dt))\n",
    "    sunset.append(sun.get_sunset_time(dt))\n",
    "\n",
    "#weatherPredInt['sunrise'] = sunrise\n",
    "#weatherPredInt['sunset'] = sunset\n",
    "\n",
    "weatherPredInt['forecast_datetime'] = pd.to_datetime(weatherPredInt['forecast_datetime'])\n",
    "def is_daylight(row):\n",
    "    sunrise = row['sunrise']\n",
    "    sunset = row['sunset']\n",
    "    datetime = row['forecast_datetime']\n",
    "    return sunrise <= datetime <= sunset\n",
    "def calc_daylight(row):\n",
    "    sunrise = row['sunrise']\n",
    "    sunset = row['sunset']\n",
    "    return (sunset-sunrise).total_seconds()/60\n",
    "#weatherPredInt['daylight'] = weatherPredInt.apply(is_daylight, axis=1)\n",
    "#weatherPredInt['minDaylight'] = weatherPredInt.apply(calc_daylight, axis=1)"
   ]
  },
  {
   "cell_type": "markdown",
   "metadata": {},
   "source": [
    "### merge client & train, add business feat & interpolate daylight savings"
   ]
  },
  {
   "cell_type": "code",
   "execution_count": 5,
   "metadata": {},
   "outputs": [
    {
     "name": "stdout",
     "output_type": "stream",
     "text": [
      "(1009176, 10)\n"
     ]
    },
    {
     "name": "stderr",
     "output_type": "stream",
     "text": [
      "/var/folders/15/v1vyry112dv3d398dy47k8v40000gn/T/ipykernel_4660/3104542257.py:23: FutureWarning:\n",
      "\n",
      "DataFrame.interpolate with object dtype is deprecated and will raise in a future version. Call obj.infer_objects(copy=False) before interpolating instead.\n",
      "\n"
     ]
    }
   ],
   "source": [
    "producing = train.loc[train.is_consumption == 0]\n",
    "consuming = train.loc[train.is_consumption == 1]\n",
    "train = pd.merge(producing.drop('is_consumption',axis = 1), consuming.drop('is_consumption',axis = 1),on=['data_block_id','prediction_unit_id','datetime','county','is_business','product_type'], how='outer',suffixes=('_prod', '_cons'))\n",
    "del producing, consuming\n",
    "print(train.shape)\n",
    "\n",
    "clientsTime = pd.merge(train, client, on=['county','is_business','product_type','data_block_id'], how='inner')\n",
    "\n",
    "clientsTime['datetime'] = pd.to_datetime(clientsTime['datetime'])\n",
    "clientsTime['yearday'] = clientsTime['datetime'].dt.day_of_year\n",
    "clientsTime['weekday'] = clientsTime['datetime'].dt.day_of_week\n",
    "clientsTime['month'] = clientsTime['datetime'].dt.month\n",
    "\n",
    "unique_pairs = list(set(zip(clientsTime['is_business'], clientsTime[ 'product_type'])))\n",
    "pair_index_dict = {pair: index for index, pair in enumerate(unique_pairs)}\n",
    "clientsTime['business_prodType'] = list(map(pair_index_dict.get, zip(clientsTime['is_business'], clientsTime['product_type'])))\n",
    "\n",
    "unique_pairs_cust = list(set(zip(clientsTime['is_business'], clientsTime[ 'product_type'], clientsTime['county'], clientsTime['eic_count'],clientsTime['installed_capacity'])))\n",
    "pair_index_dict = {pair: index for index, pair in enumerate(unique_pairs_cust)}\n",
    "clientsTime['ind_customer_id'] = list(map(pair_index_dict.get, zip(clientsTime['is_business'], clientsTime['product_type'], clientsTime['county'], clientsTime['eic_count'],clientsTime['installed_capacity'])))\n",
    "\n",
    "# interpolate daylight savings\n",
    "clientsTime = clientsTime.interpolate()"
   ]
  },
  {
   "cell_type": "markdown",
   "metadata": {},
   "source": [
    "### prepare electric prices"
   ]
  },
  {
   "cell_type": "code",
   "execution_count": 6,
   "metadata": {},
   "outputs": [
    {
     "name": "stderr",
     "output_type": "stream",
     "text": [
      "/var/folders/15/v1vyry112dv3d398dy47k8v40000gn/T/ipykernel_4660/2052008978.py:10: FutureWarning:\n",
      "\n",
      "DataFrame.interpolate with object dtype is deprecated and will raise in a future version. Call obj.infer_objects(copy=False) before interpolating instead.\n",
      "\n"
     ]
    }
   ],
   "source": [
    "ePrices['forecast_date'] = pd.to_datetime(ePrices['forecast_date'])\n",
    "\n",
    "# Set 'timestamp' as the index\n",
    "ePrices.set_index('forecast_date', inplace=True)\n",
    "\n",
    "# Resample to fill missing hours\n",
    "df_resampled = ePrices.resample('1H').asfreq()\n",
    "\n",
    "# Linearly interpolate missing values\n",
    "ePrices = df_resampled.interpolate(method='linear')"
   ]
  },
  {
   "cell_type": "markdown",
   "metadata": {},
   "source": [
    "# write data into python arrays"
   ]
  },
  {
   "cell_type": "code",
   "execution_count": 7,
   "metadata": {},
   "outputs": [],
   "source": [
    "#clientsTime, weatherPredInt, weatherHistInt, ePrices, gasPrices\n",
    "\n",
    "featPredWeather = [\n",
    "        #'latitude', 'longitude', \n",
    "        'County', #'forecast_datetime',\n",
    "       'hours_ahead',\n",
    "        'data_block_id', #'origin_datetime', \n",
    "       'temperatureint',\n",
    "       'dewpointint', 'cloudcover_highint', 'cloudcover_lowint',\n",
    "       'cloudcover_midint', 'cloudcover_totalint',\n",
    "       '10_metre_u_wind_componentint', '10_metre_v_wind_componentint',\n",
    "       'direct_solar_radiationint', 'surface_solar_radiation_downwardsint',\n",
    "       'snowfallint', 'total_precipitationint', \n",
    "       #'sunrise', 'sunset',\n",
    "       #'daylight', 'minDaylight'\n",
    "       ]\n",
    "\n",
    "predWeatherComplete = weatherPredInt[featPredWeather]\n",
    "del weatherPredInt\n",
    "\n",
    "featHistWeather = [\n",
    "       #'latitude', 'longitude', \n",
    "       'County',\n",
    "       #'datetime', \n",
    "       'data_block_id', \n",
    "       'temperatureint', 'dewpointint', 'rainint',\n",
    "       'snowfallint', 'surface_pressureint', 'cloudcover_totalint',\n",
    "       'cloudcover_lowint', 'cloudcover_midint', 'cloudcover_highint',\n",
    "       'windspeed_10mint', 'winddirection_10mint', 'shortwave_radiationint',\n",
    "       'direct_solar_radiationint', 'diffuse_radiationint', 'meltingInCM',\n",
    "       'snowHeightFlux', 'snowcover'\n",
    "]\n",
    "histWeatherComplete = weatherHistInt[featHistWeather]\n",
    "del weatherHistInt\n",
    "\n",
    "# can't use client id as an axis in data because it's not constant!\n",
    "y = np.zeros((clientsTime.shape[0],2))\n",
    "y_indexes = np.zeros((clientsTime.shape[0],2)) # dataframe indexes in the end, not important for now\n",
    "index_y = 0\n",
    "\n",
    "customers = []\n",
    "\n",
    "constValsArray = np.zeros((1,10))\n",
    "targetsArray = np.zeros((1,24,2))\n",
    "ePricesArray = np.zeros((1,24,1))\n",
    "\n",
    "nFeatHistWeather = histWeatherComplete.shape[1]-1\n",
    "histWeatherArray = np.zeros((1,24,nFeatHistWeather))\n",
    "nFeatPredWeather = predWeatherComplete.shape[1]-1\n",
    "predWeatherArray = np.zeros((1,24,nFeatPredWeather))\n",
    "dataBlockIdArray = np.zeros((1))\n",
    "\n",
    "# loop over customer, append all data cycles for each customer\n",
    "for customerId in clientsTime.ind_customer_id.unique():\n",
    "    customerSlice = clientsTime.loc[clientsTime.ind_customer_id == customerId]\n",
    "\n",
    "    # const values\n",
    "    county       = customerSlice.county.unique()[0]\n",
    "    is_business  = customerSlice.is_business.unique()[0]\n",
    "    product_type = customerSlice.product_type.unique()[0]\n",
    "    prediction_unit_id = customerSlice.prediction_unit_id.unique()[0] #should be redundant\n",
    "    eic_count          = customerSlice.eic_count.unique()[0]\n",
    "    installed_capacity = customerSlice.installed_capacity.unique()[0]\n",
    "    yearday = customerSlice.yearday.unique()[0]\n",
    "    weekday = customerSlice.weekday.unique()[0]\n",
    "    month   = customerSlice.month.unique()[0]\n",
    "    business_prodType = customerSlice.business_prodType.unique()[0]\n",
    "    ind_customer_id   = customerSlice.ind_customer_id.unique()[0]\n",
    "\n",
    "    for dataBlockId in customerSlice.data_block_id.unique():\n",
    "        timeSlice = customerSlice.loc[customerSlice.data_block_id == dataBlockId]\n",
    "        gasSlice = gasPrices.loc[gasPrices.data_block_id == dataBlockId]\n",
    "        eSlice   = ePrices.loc[ePrices.data_block_id == dataBlockId]\n",
    "\n",
    "        \n",
    "\n",
    "        lowest_price_per_mwh = gasSlice.lowest_price_per_mwh.iloc[0]\n",
    "        highest_price_per_mwh = gasSlice.highest_price_per_mwh.iloc[0]\n",
    "        euros_per_mwh = eSlice['euros_per_mwh'].to_numpy()\n",
    "        if euros_per_mwh.shape[0] == 23:\n",
    "            print(dataBlockId, customerId)\n",
    "\n",
    "        y_cons = timeSlice['target_cons'] / installed_capacity\n",
    "        y_prod = timeSlice['target_prod'] / installed_capacity\n",
    "\n",
    "        histWeather = histWeatherComplete.loc[(histWeatherComplete.data_block_id == dataBlockId) & (histWeatherComplete.County == county)]\n",
    "        predWeather = predWeatherComplete.loc[(predWeatherComplete.data_block_id == dataBlockId) & (predWeatherComplete.County == county)]\n",
    "\n",
    "        histWeather = histWeather.drop('data_block_id', axis = 1)\n",
    "        predWeather = predWeather.drop('data_block_id', axis = 1)\n",
    "\n",
    "\n",
    "        if y_cons.shape[0] == 23:\n",
    "            print(dataBlockId, customerId)\n",
    "\n",
    "        new_row = np.array([county, is_business, product_type, prediction_unit_id, eic_count, installed_capacity, business_prodType, ind_customer_id,lowest_price_per_mwh,highest_price_per_mwh])\n",
    "        constValsArray = np.vstack((constValsArray, new_row))\n",
    "\n",
    "        new_row = np.zeros((1,24,2))\n",
    "        new_row[:,:,0] = y_cons\n",
    "        new_row[:,:,1] = y_prod\n",
    "        targetsArray = np.concatenate((targetsArray, new_row), axis=0)\n",
    "\n",
    "        new_row = np.zeros((1,24,1))\n",
    "        new_row[0,:,0] = euros_per_mwh\n",
    "        ePricesArray = np.concatenate((ePricesArray, new_row), axis=0)\n",
    "\n",
    "        new_row = np.zeros((1,24,nFeatHistWeather)) #without datablock id\n",
    "        new_row[:,:,:] = histWeather\n",
    "        histWeatherArray = np.concatenate((histWeatherArray, new_row), axis=0)\n",
    "\n",
    "        new_row = np.zeros((1,24,nFeatPredWeather)) # withotu datablock id\n",
    "        new_row[:,:,:] = predWeather\n",
    "        predWeatherArray = np.concatenate((predWeatherArray, new_row), axis=0)\n",
    "\n",
    "        dataBlockIdArray = np.concatenate((dataBlockIdArray, np.array([dataBlockId])))\n",
    "\n",
    "    \n"
   ]
  },
  {
   "cell_type": "code",
   "execution_count": 8,
   "metadata": {},
   "outputs": [
    {
     "name": "stdout",
     "output_type": "stream",
     "text": [
      "(41869, 24, 2) (41869, 10) (41869, 24, 1) (41869, 24, 18) (41869, 24, 14) (41869,)\n"
     ]
    }
   ],
   "source": [
    "#remove first rows\n",
    "targetsArray     = targetsArray[1:,:,:]\n",
    "constValsArray   = constValsArray[1:,:]\n",
    "ePricesArray     = ePricesArray[1:,:,:]\n",
    "histWeatherArray = histWeatherArray[1:,:,:]\n",
    "predWeatherArray = predWeatherArray[1:,:,:]\n",
    "dataBlockIdArray = dataBlockIdArray[1:]\n",
    "print(targetsArray.shape, constValsArray.shape, ePricesArray.shape,histWeatherArray.shape, predWeatherArray.shape, dataBlockIdArray.shape)"
   ]
  },
  {
   "cell_type": "code",
   "execution_count": 9,
   "metadata": {},
   "outputs": [
    {
     "name": "stdout",
     "output_type": "stream",
     "text": [
      "(41869, 24, 2)\n"
     ]
    }
   ],
   "source": [
    "#calc absolute targets, not normalized by capacity\n",
    "targetsAbs = targetsArray.copy()\n",
    "targetsAbs = targetsAbs * constValsArray[:,5].reshape(constValsArray.shape[0],1,1)\n",
    "print(targetsAbs.shape)"
   ]
  },
  {
   "cell_type": "code",
   "execution_count": 10,
   "metadata": {},
   "outputs": [
    {
     "name": "stdout",
     "output_type": "stream",
     "text": [
      "(41869, 24, 2) (41869, 10) (41869, 24, 1) (41869, 24, 18) (41869, 24, 14) (41869,)\n"
     ]
    }
   ],
   "source": [
    "print(targetsArray.shape, constValsArray.shape, ePricesArray.shape,histWeatherArray.shape, predWeatherArray.shape, dataBlockIdArray.shape)"
   ]
  },
  {
   "cell_type": "code",
   "execution_count": 11,
   "metadata": {},
   "outputs": [],
   "source": [
    "np.savez('data_arrays_snowcover_GasPr_noSunrise.npz', arr1=targetsArray, arr2=constValsArray, arr3=ePricesArray, arr4 = histWeatherArray, arr5=predWeatherArray, arr6=dataBlockIdArray, arr7=targetsAbs)"
   ]
  },
  {
   "cell_type": "markdown",
   "metadata": {},
   "source": [
    "# load data"
   ]
  },
  {
   "cell_type": "code",
   "execution_count": 12,
   "metadata": {},
   "outputs": [],
   "source": [
    "loaded_data = np.load('data_arrays_snowcover_GasPr_noSunrise.npz')\n",
    "\n",
    "# Access individual arrays by their keys\n",
    "targetsArray = loaded_data['arr1']\n",
    "constValsArray = loaded_data['arr2']\n",
    "ePricesArray = loaded_data['arr3']\n",
    "histWeatherArray = loaded_data['arr4']\n",
    "predWeatherArray = loaded_data['arr5']\n",
    "dataBlockIdArray = loaded_data['arr6']\n",
    "targetsAbs = loaded_data['arr7']"
   ]
  },
  {
   "cell_type": "markdown",
   "metadata": {},
   "source": [
    "# build a model & train it"
   ]
  },
  {
   "cell_type": "code",
   "execution_count": 13,
   "metadata": {},
   "outputs": [],
   "source": [
    "tf.random.set_seed(42)\n",
    "from sklearn.model_selection import train_test_split"
   ]
  },
  {
   "cell_type": "markdown",
   "metadata": {},
   "source": [
    "### shuffle if needed & split into x train y train"
   ]
  },
  {
   "cell_type": "code",
   "execution_count": 14,
   "metadata": {},
   "outputs": [],
   "source": [
    "np.random.seed(42)\n",
    "index_array = np.arange(targetsArray.shape[0])\n",
    "np.random.shuffle(index_array)\n",
    "arrays = [constValsArray,ePricesArray,histWeatherArray,predWeatherArray,targetsAbs,targetsArray,dataBlockIdArray]\n",
    "shuffledArr = [arr[index_array] for arr in arrays]\n",
    "del arrays"
   ]
  },
  {
   "cell_type": "code",
   "execution_count": 15,
   "metadata": {},
   "outputs": [],
   "source": [
    "trainSplit = int(shuffledArr[4].shape[0]*0.8)\n",
    "X_train = [shuffledArr[0][0:trainSplit,:],shuffledArr[1][0:trainSplit,:,:],shuffledArr[2][0:trainSplit,:,:],shuffledArr[3][0:trainSplit,:,:]]\n",
    "y_trainAbs = shuffledArr[4][0:trainSplit,:]\n",
    "y_train = shuffledArr[5][0:trainSplit,:]\n",
    "\n",
    "X_test = [shuffledArr[0][trainSplit:-1,:],shuffledArr[1][trainSplit:-1,:,:],shuffledArr[2][trainSplit:-1,:,:],shuffledArr[3][trainSplit:-1,:,:]]\n",
    "y_testAbs = shuffledArr[4][trainSplit:-1,:]\n",
    "y_test = shuffledArr[5][trainSplit:-1,:]"
   ]
  },
  {
   "cell_type": "code",
   "execution_count": null,
   "metadata": {},
   "outputs": [],
   "source": [
    "del targetsArray ,constValsArray   ,ePricesArray     ,histWeatherArray ,predWeatherArray ,dataBlockIdArray ,targetsAbs"
   ]
  },
  {
   "cell_type": "markdown",
   "metadata": {},
   "source": [
    "### split unshuffled data"
   ]
  },
  {
   "cell_type": "code",
   "execution_count": 7,
   "metadata": {},
   "outputs": [],
   "source": [
    "trainSplit = int(targetsArray.shape[0]*0.3)\n",
    "X_train = [constValsArray[0:trainSplit,:],ePricesArray[0:trainSplit,:,:],histWeatherArray[0:trainSplit,:,:],predWeatherArray[0:trainSplit,:,:]]\n",
    "y_train = targetsArray[0:trainSplit,:]\n",
    "y_trainAbs = targetsAbs[0:trainSplit,:]\n",
    "\n",
    "X_test = [constValsArray[trainSplit:-1,:],ePricesArray[trainSplit:-1,:,:],histWeatherArray[trainSplit:-1,:,:],predWeatherArray[trainSplit:-1,:,:]]\n",
    "y_test = targetsArray[trainSplit:-1,:]\n",
    "y_testAbs = targetsAbs[trainSplit:-1,:]"
   ]
  },
  {
   "cell_type": "markdown",
   "metadata": {},
   "source": [
    "### define model & train it"
   ]
  },
  {
   "cell_type": "markdown",
   "metadata": {},
   "source": [
    "#### model with 2 outputs"
   ]
  },
  {
   "cell_type": "code",
   "execution_count": null,
   "metadata": {},
   "outputs": [],
   "source": [
    "# Define the inputs\n",
    "weatherPred_inputs = tf.keras.Input(shape=(24, 16), name='weatherPred_inputs')\n",
    "ePrices_inputs = tf.keras.Input(shape=(24, 1), name='ePrices_inputs')\n",
    "\n",
    "weatherHist_input = tf.keras.Input(shape=(24, 18), name='weatherHist_input')\n",
    "constant_inputs = tf.keras.Input(shape=(8,), name='constant_inputs')\n",
    "\n",
    "# Process the time-based inputs\n",
    "weatherPred_flattened = layers.Flatten()(weatherPred_inputs)\n",
    "weatherPred_flattened = layers.Dense(408, activation='relu')(weatherPred_flattened)\n",
    "weatherPred_flattened = layers.Dense(408, activation='relu')(weatherPred_flattened)\n",
    "weatherPred_flattened = layers.Dense(408, activation='relu')(weatherPred_flattened)\n",
    "#weatherPred_flattened = layers.Dense(256, activation='relu')(weatherPred_flattened)\n",
    "#weatherPred_flattened = layers.Dense(64, activation='relu')(weatherPred_flattened)\n",
    "\n",
    "weatherHist_flattened = layers.Flatten()(weatherHist_input)\n",
    "weatherHist_flattened = layers.Dense(240, activation='relu')(weatherHist_flattened)\n",
    "weatherHist_flattened = layers.Dense(240, activation='relu')(weatherHist_flattened)\n",
    "weatherHist_flattened = layers.Dense(240, activation='relu')(weatherHist_flattened)\n",
    "#weatherHist_flattened = layers.Dense(64, activation='relu')(weatherHist_flattened)\n",
    "\n",
    "ePrices_layer = layers.Flatten()(ePrices_inputs)\n",
    "ePrices_layer = layers.Dense(24, activation='relu')(ePrices_layer)\n",
    "\n",
    "# Concatenate all inputs\n",
    "x = layers.Concatenate()([weatherPred_flattened, weatherHist_flattened, ePrices_layer, constant_inputs])\n",
    "\n",
    "# Main dense block\n",
    "for i in range(0,5):\n",
    "    x = layers.Dense(540, activation='relu')(x)\n",
    "    #x = layers.Dropout(0.1)(x)\n",
    "\n",
    "# Output layer for 24*2 targets\n",
    "output_layer = layers.Dense(24 * 2, activation='linear', name='output')(x)\n",
    "output_layer = layers.Reshape((24, 2))(output_layer)"
   ]
  },
  {
   "cell_type": "code",
   "execution_count": null,
   "metadata": {},
   "outputs": [],
   "source": [
    "model = models.Model(inputs=[constant_inputs,ePrices_inputs, weatherHist_input, weatherPred_inputs], outputs=output_layer)\n",
    "\n",
    "# Compile the model with an appropriate loss function and optimizer\n",
    "model.compile(optimizer='adam', loss='mae', metrics=['mae','mse'])\n",
    "\n",
    "history = model.fit(X_train, y_train, validation_data=(X_test, y_test), epochs=200, batch_size=200) #batch size = 110 weather station"
   ]
  },
  {
   "cell_type": "code",
   "execution_count": null,
   "metadata": {},
   "outputs": [],
   "source": [
    "fig = go.Figure()\n",
    "length = len(history.history['loss'])\n",
    "fig.add_trace(go.Scatter(x=np.arange(1, length+1), y=history.history['loss'], mode='lines', name='Train Loss'))\n",
    "fig.add_trace(go.Scatter(x=np.arange(1, length+1), y=history.history['val_loss'], mode='lines', name='Validation Loss'))\n",
    "fig.update_layout(\n",
    "    title='Training and Validation Loss Over Epochs',\n",
    "    xaxis=dict(title='Epoch'),\n",
    "    yaxis=dict(title='Loss'),\n",
    "    legend=dict(x=0, y=1, traceorder='normal'),\n",
    ")\n",
    "fig.show()"
   ]
  },
  {
   "cell_type": "code",
   "execution_count": null,
   "metadata": {},
   "outputs": [],
   "source": [
    "a = model.predict(X_test)\n",
    "predVals = a*X_test[0][:,5].reshape(X_test[0].shape[0],1,1)\n",
    "print(np.mean(np.abs(y_testAbs - predVals)))\n",
    "a = model.predict(X_train)\n",
    "predVals = a*X_train[0][:,5].reshape(X_train[0].shape[0],1,1)\n",
    "trueVals = targetsAbs[0:trainSplit,:]\n",
    "print(np.mean(np.abs(y_trainAbs - predVals)))\n",
    "del a,predVals,trueVals"
   ]
  },
  {
   "cell_type": "markdown",
   "metadata": {},
   "source": [
    "### use a model for production and consumption separately"
   ]
  },
  {
   "cell_type": "code",
   "execution_count": 34,
   "metadata": {},
   "outputs": [
    {
     "name": "stdout",
     "output_type": "stream",
     "text": [
      "Epoch 1/100\n",
      "84/84 [==============================] - 6s 69ms/step - loss: 1.5640 - mae: 1.5640 - val_loss: 0.0794 - val_mae: 0.0794\n",
      "Epoch 2/100\n",
      "84/84 [==============================] - 6s 66ms/step - loss: 0.0659 - mae: 0.0659 - val_loss: 0.0501 - val_mae: 0.0501\n",
      "Epoch 3/100\n",
      "84/84 [==============================] - 5s 65ms/step - loss: 0.0467 - mae: 0.0467 - val_loss: 0.0429 - val_mae: 0.0429\n",
      "Epoch 4/100\n",
      "84/84 [==============================] - 5s 66ms/step - loss: 0.0392 - mae: 0.0392 - val_loss: 0.0361 - val_mae: 0.0361\n",
      "Epoch 5/100\n",
      "84/84 [==============================] - 6s 66ms/step - loss: 0.0346 - mae: 0.0346 - val_loss: 0.0313 - val_mae: 0.0313\n",
      "Epoch 6/100\n",
      "84/84 [==============================] - 6s 67ms/step - loss: 0.0314 - mae: 0.0314 - val_loss: 0.0302 - val_mae: 0.0302\n",
      "Epoch 7/100\n",
      "84/84 [==============================] - 6s 70ms/step - loss: 0.0301 - mae: 0.0301 - val_loss: 0.0283 - val_mae: 0.0283\n",
      "Epoch 8/100\n",
      "84/84 [==============================] - 6s 68ms/step - loss: 0.0280 - mae: 0.0280 - val_loss: 0.0268 - val_mae: 0.0268\n",
      "Epoch 9/100\n",
      "84/84 [==============================] - 6s 69ms/step - loss: 0.0277 - mae: 0.0277 - val_loss: 0.0261 - val_mae: 0.0261\n",
      "Epoch 10/100\n",
      "84/84 [==============================] - 6s 69ms/step - loss: 0.0263 - mae: 0.0263 - val_loss: 0.0252 - val_mae: 0.0252\n",
      "Epoch 11/100\n",
      "84/84 [==============================] - 6s 70ms/step - loss: 0.0265 - mae: 0.0265 - val_loss: 0.0242 - val_mae: 0.0242\n",
      "Epoch 12/100\n",
      "84/84 [==============================] - 6s 69ms/step - loss: 0.0249 - mae: 0.0249 - val_loss: 0.0251 - val_mae: 0.0251\n",
      "Epoch 13/100\n",
      "84/84 [==============================] - 6s 70ms/step - loss: 0.0241 - mae: 0.0241 - val_loss: 0.0233 - val_mae: 0.0233\n",
      "Epoch 14/100\n",
      "84/84 [==============================] - 7s 78ms/step - loss: 0.0237 - mae: 0.0237 - val_loss: 0.0233 - val_mae: 0.0233\n",
      "Epoch 15/100\n",
      "84/84 [==============================] - 6s 71ms/step - loss: 0.0233 - mae: 0.0233 - val_loss: 0.0240 - val_mae: 0.0240\n",
      "Epoch 16/100\n",
      "84/84 [==============================] - 6s 71ms/step - loss: 0.0235 - mae: 0.0235 - val_loss: 0.0231 - val_mae: 0.0231\n",
      "Epoch 17/100\n",
      "84/84 [==============================] - 6s 77ms/step - loss: 0.0225 - mae: 0.0225 - val_loss: 0.0224 - val_mae: 0.0224\n",
      "Epoch 18/100\n",
      "84/84 [==============================] - 7s 77ms/step - loss: 0.0229 - mae: 0.0229 - val_loss: 0.0247 - val_mae: 0.0247\n",
      "Epoch 19/100\n",
      "84/84 [==============================] - 7s 80ms/step - loss: 0.0222 - mae: 0.0222 - val_loss: 0.0225 - val_mae: 0.0225\n",
      "Epoch 20/100\n",
      "84/84 [==============================] - 6s 76ms/step - loss: 0.0218 - mae: 0.0218 - val_loss: 0.0216 - val_mae: 0.0216\n",
      "Epoch 21/100\n",
      "84/84 [==============================] - 6s 72ms/step - loss: 0.0215 - mae: 0.0215 - val_loss: 0.0213 - val_mae: 0.0213\n",
      "Epoch 22/100\n",
      "84/84 [==============================] - 6s 71ms/step - loss: 0.0218 - mae: 0.0218 - val_loss: 0.0219 - val_mae: 0.0219\n",
      "Epoch 23/100\n",
      "84/84 [==============================] - 6s 72ms/step - loss: 0.0216 - mae: 0.0216 - val_loss: 0.0235 - val_mae: 0.0235\n",
      "Epoch 24/100\n",
      "84/84 [==============================] - 6s 74ms/step - loss: 0.0215 - mae: 0.0215 - val_loss: 0.0217 - val_mae: 0.0217\n",
      "Epoch 25/100\n",
      "84/84 [==============================] - 6s 73ms/step - loss: 0.0212 - mae: 0.0212 - val_loss: 0.0222 - val_mae: 0.0222\n",
      "Epoch 26/100\n",
      "84/84 [==============================] - 6s 74ms/step - loss: 0.0207 - mae: 0.0207 - val_loss: 0.0216 - val_mae: 0.0216\n",
      "Epoch 27/100\n",
      "84/84 [==============================] - 6s 75ms/step - loss: 0.0210 - mae: 0.0210 - val_loss: 0.0211 - val_mae: 0.0211\n",
      "Epoch 28/100\n",
      "84/84 [==============================] - 6s 72ms/step - loss: 0.0208 - mae: 0.0208 - val_loss: 0.0208 - val_mae: 0.0208\n",
      "Epoch 29/100\n",
      "84/84 [==============================] - 6s 70ms/step - loss: 0.0201 - mae: 0.0201 - val_loss: 0.0218 - val_mae: 0.0218\n",
      "Epoch 30/100\n",
      "84/84 [==============================] - 7s 78ms/step - loss: 0.0201 - mae: 0.0201 - val_loss: 0.0203 - val_mae: 0.0203\n",
      "Epoch 31/100\n",
      "84/84 [==============================] - 6s 74ms/step - loss: 0.0198 - mae: 0.0198 - val_loss: 0.0206 - val_mae: 0.0206\n",
      "Epoch 32/100\n",
      "84/84 [==============================] - 6s 75ms/step - loss: 0.0197 - mae: 0.0197 - val_loss: 0.0203 - val_mae: 0.0203\n",
      "Epoch 33/100\n",
      "84/84 [==============================] - 6s 75ms/step - loss: 0.0199 - mae: 0.0199 - val_loss: 0.0215 - val_mae: 0.0215\n",
      "Epoch 34/100\n",
      "84/84 [==============================] - 7s 84ms/step - loss: 0.0195 - mae: 0.0195 - val_loss: 0.0215 - val_mae: 0.0215\n",
      "Epoch 35/100\n",
      "84/84 [==============================] - 6s 75ms/step - loss: 0.0194 - mae: 0.0194 - val_loss: 0.0211 - val_mae: 0.0211\n",
      "Epoch 36/100\n",
      "84/84 [==============================] - 6s 74ms/step - loss: 0.0193 - mae: 0.0193 - val_loss: 0.0197 - val_mae: 0.0197\n",
      "Epoch 37/100\n",
      "84/84 [==============================] - 6s 75ms/step - loss: 0.0193 - mae: 0.0193 - val_loss: 0.0201 - val_mae: 0.0201\n",
      "Epoch 38/100\n",
      "84/84 [==============================] - 6s 77ms/step - loss: 0.0189 - mae: 0.0189 - val_loss: 0.0208 - val_mae: 0.0208\n",
      "Epoch 39/100\n",
      "84/84 [==============================] - 6s 72ms/step - loss: 0.0187 - mae: 0.0187 - val_loss: 0.0201 - val_mae: 0.0201\n",
      "Epoch 40/100\n",
      "84/84 [==============================] - 6s 76ms/step - loss: 0.0187 - mae: 0.0187 - val_loss: 0.0193 - val_mae: 0.0193\n",
      "Epoch 41/100\n",
      "84/84 [==============================] - 6s 74ms/step - loss: 0.0184 - mae: 0.0184 - val_loss: 0.0195 - val_mae: 0.0195\n",
      "Epoch 42/100\n",
      "84/84 [==============================] - 6s 71ms/step - loss: 0.0182 - mae: 0.0182 - val_loss: 0.0196 - val_mae: 0.0196\n",
      "Epoch 43/100\n",
      "84/84 [==============================] - 6s 75ms/step - loss: 0.0182 - mae: 0.0182 - val_loss: 0.0199 - val_mae: 0.0199\n",
      "Epoch 44/100\n",
      "84/84 [==============================] - 6s 75ms/step - loss: 0.0182 - mae: 0.0182 - val_loss: 0.0196 - val_mae: 0.0196\n",
      "Epoch 45/100\n",
      "84/84 [==============================] - 6s 73ms/step - loss: 0.0178 - mae: 0.0178 - val_loss: 0.0190 - val_mae: 0.0190\n",
      "Epoch 46/100\n",
      "84/84 [==============================] - 6s 75ms/step - loss: 0.0177 - mae: 0.0177 - val_loss: 0.0199 - val_mae: 0.0199\n",
      "Epoch 47/100\n",
      "84/84 [==============================] - 6s 74ms/step - loss: 0.0176 - mae: 0.0176 - val_loss: 0.0206 - val_mae: 0.0206\n",
      "Epoch 48/100\n",
      "84/84 [==============================] - 6s 72ms/step - loss: 0.0177 - mae: 0.0177 - val_loss: 0.0197 - val_mae: 0.0197\n",
      "Epoch 49/100\n",
      "84/84 [==============================] - 6s 75ms/step - loss: 0.0174 - mae: 0.0174 - val_loss: 0.0192 - val_mae: 0.0192\n",
      "Epoch 50/100\n",
      "84/84 [==============================] - 6s 73ms/step - loss: 0.0175 - mae: 0.0175 - val_loss: 0.0196 - val_mae: 0.0196\n",
      "Epoch 51/100\n",
      "84/84 [==============================] - 6s 74ms/step - loss: 0.0171 - mae: 0.0171 - val_loss: 0.0209 - val_mae: 0.0209\n",
      "Epoch 52/100\n",
      "84/84 [==============================] - 6s 74ms/step - loss: 0.0171 - mae: 0.0171 - val_loss: 0.0189 - val_mae: 0.0189\n",
      "Epoch 53/100\n",
      "84/84 [==============================] - 6s 74ms/step - loss: 0.0169 - mae: 0.0169 - val_loss: 0.0185 - val_mae: 0.0185\n",
      "Epoch 54/100\n",
      "84/84 [==============================] - 6s 74ms/step - loss: 0.0167 - mae: 0.0167 - val_loss: 0.0184 - val_mae: 0.0184\n",
      "Epoch 55/100\n",
      "84/84 [==============================] - 6s 73ms/step - loss: 0.0168 - mae: 0.0168 - val_loss: 0.0193 - val_mae: 0.0193\n",
      "Epoch 56/100\n",
      "84/84 [==============================] - 6s 74ms/step - loss: 0.0168 - mae: 0.0168 - val_loss: 0.0188 - val_mae: 0.0188\n",
      "Epoch 57/100\n",
      "84/84 [==============================] - 6s 75ms/step - loss: 0.0164 - mae: 0.0164 - val_loss: 0.0188 - val_mae: 0.0188\n",
      "Epoch 58/100\n",
      "84/84 [==============================] - 6s 74ms/step - loss: 0.0160 - mae: 0.0160 - val_loss: 0.0177 - val_mae: 0.0177\n",
      "Epoch 59/100\n",
      "84/84 [==============================] - 6s 74ms/step - loss: 0.0160 - mae: 0.0160 - val_loss: 0.0183 - val_mae: 0.0183\n",
      "Epoch 60/100\n",
      "84/84 [==============================] - 6s 74ms/step - loss: 0.0163 - mae: 0.0163 - val_loss: 0.0182 - val_mae: 0.0182\n",
      "Epoch 61/100\n",
      "84/84 [==============================] - 6s 74ms/step - loss: 0.0160 - mae: 0.0160 - val_loss: 0.0181 - val_mae: 0.0181\n",
      "Epoch 62/100\n",
      "84/84 [==============================] - 6s 74ms/step - loss: 0.0162 - mae: 0.0162 - val_loss: 0.0179 - val_mae: 0.0179\n",
      "Epoch 63/100\n",
      "84/84 [==============================] - 6s 75ms/step - loss: 0.0158 - mae: 0.0158 - val_loss: 0.0179 - val_mae: 0.0179\n",
      "Epoch 64/100\n",
      "84/84 [==============================] - 6s 74ms/step - loss: 0.0155 - mae: 0.0155 - val_loss: 0.0183 - val_mae: 0.0183\n",
      "Epoch 65/100\n",
      "84/84 [==============================] - 6s 74ms/step - loss: 0.0155 - mae: 0.0155 - val_loss: 0.0176 - val_mae: 0.0176\n",
      "Epoch 66/100\n",
      "84/84 [==============================] - 6s 73ms/step - loss: 0.0150 - mae: 0.0150 - val_loss: 0.0186 - val_mae: 0.0186\n",
      "Epoch 67/100\n",
      "84/84 [==============================] - 6s 75ms/step - loss: 0.0155 - mae: 0.0155 - val_loss: 0.0178 - val_mae: 0.0178\n",
      "Epoch 68/100\n",
      "84/84 [==============================] - 6s 75ms/step - loss: 0.0151 - mae: 0.0151 - val_loss: 0.0174 - val_mae: 0.0174\n",
      "Epoch 69/100\n",
      "84/84 [==============================] - 6s 75ms/step - loss: 0.0149 - mae: 0.0149 - val_loss: 0.0176 - val_mae: 0.0176\n",
      "Epoch 70/100\n",
      "84/84 [==============================] - 6s 74ms/step - loss: 0.0148 - mae: 0.0148 - val_loss: 0.0174 - val_mae: 0.0174\n",
      "Epoch 71/100\n",
      "84/84 [==============================] - 6s 75ms/step - loss: 0.0147 - mae: 0.0147 - val_loss: 0.0182 - val_mae: 0.0182\n",
      "Epoch 72/100\n",
      "84/84 [==============================] - 6s 74ms/step - loss: 0.0148 - mae: 0.0148 - val_loss: 0.0172 - val_mae: 0.0172\n",
      "Epoch 73/100\n",
      "84/84 [==============================] - 6s 75ms/step - loss: 0.0146 - mae: 0.0146 - val_loss: 0.0173 - val_mae: 0.0173\n",
      "Epoch 74/100\n",
      "84/84 [==============================] - 6s 74ms/step - loss: 0.0144 - mae: 0.0144 - val_loss: 0.0177 - val_mae: 0.0177\n",
      "Epoch 75/100\n",
      "84/84 [==============================] - 6s 74ms/step - loss: 0.0143 - mae: 0.0143 - val_loss: 0.0172 - val_mae: 0.0172\n",
      "Epoch 76/100\n",
      "84/84 [==============================] - 6s 74ms/step - loss: 0.0142 - mae: 0.0142 - val_loss: 0.0173 - val_mae: 0.0173\n",
      "Epoch 77/100\n",
      "84/84 [==============================] - 6s 75ms/step - loss: 0.0141 - mae: 0.0141 - val_loss: 0.0171 - val_mae: 0.0171\n",
      "Epoch 78/100\n",
      "84/84 [==============================] - 6s 75ms/step - loss: 0.0140 - mae: 0.0140 - val_loss: 0.0169 - val_mae: 0.0169\n",
      "Epoch 79/100\n",
      "84/84 [==============================] - 6s 75ms/step - loss: 0.0138 - mae: 0.0138 - val_loss: 0.0166 - val_mae: 0.0166\n",
      "Epoch 80/100\n",
      "84/84 [==============================] - 6s 75ms/step - loss: 0.0140 - mae: 0.0140 - val_loss: 0.0172 - val_mae: 0.0172\n",
      "Epoch 81/100\n",
      "84/84 [==============================] - 6s 75ms/step - loss: 0.0134 - mae: 0.0134 - val_loss: 0.0166 - val_mae: 0.0166\n",
      "Epoch 82/100\n",
      "84/84 [==============================] - 6s 75ms/step - loss: 0.0135 - mae: 0.0135 - val_loss: 0.0165 - val_mae: 0.0165\n",
      "Epoch 83/100\n",
      "84/84 [==============================] - 6s 76ms/step - loss: 0.0136 - mae: 0.0136 - val_loss: 0.0167 - val_mae: 0.0167\n",
      "Epoch 84/100\n",
      "84/84 [==============================] - 6s 75ms/step - loss: 0.0133 - mae: 0.0133 - val_loss: 0.0170 - val_mae: 0.0170\n",
      "Epoch 85/100\n",
      "84/84 [==============================] - 6s 74ms/step - loss: 0.0132 - mae: 0.0132 - val_loss: 0.0164 - val_mae: 0.0164\n",
      "Epoch 86/100\n",
      "84/84 [==============================] - 6s 75ms/step - loss: 0.0132 - mae: 0.0132 - val_loss: 0.0174 - val_mae: 0.0174\n",
      "Epoch 87/100\n",
      "84/84 [==============================] - 6s 74ms/step - loss: 0.0131 - mae: 0.0131 - val_loss: 0.0167 - val_mae: 0.0167\n",
      "Epoch 88/100\n",
      "84/84 [==============================] - 6s 75ms/step - loss: 0.0128 - mae: 0.0128 - val_loss: 0.0165 - val_mae: 0.0165\n",
      "Epoch 89/100\n",
      "84/84 [==============================] - 6s 74ms/step - loss: 0.0125 - mae: 0.0125 - val_loss: 0.0164 - val_mae: 0.0164\n",
      "Epoch 90/100\n",
      "84/84 [==============================] - 6s 75ms/step - loss: 0.0130 - mae: 0.0130 - val_loss: 0.0167 - val_mae: 0.0167\n",
      "Epoch 91/100\n",
      "84/84 [==============================] - 6s 77ms/step - loss: 0.0132 - mae: 0.0132 - val_loss: 0.0168 - val_mae: 0.0168\n",
      "Epoch 92/100\n",
      "84/84 [==============================] - 6s 74ms/step - loss: 0.0127 - mae: 0.0127 - val_loss: 0.0166 - val_mae: 0.0166\n",
      "Epoch 93/100\n",
      "84/84 [==============================] - 6s 75ms/step - loss: 0.0125 - mae: 0.0125 - val_loss: 0.0163 - val_mae: 0.0163\n",
      "Epoch 94/100\n",
      "84/84 [==============================] - 6s 74ms/step - loss: 0.0124 - mae: 0.0124 - val_loss: 0.0165 - val_mae: 0.0165\n",
      "Epoch 95/100\n",
      "84/84 [==============================] - 6s 77ms/step - loss: 0.0127 - mae: 0.0127 - val_loss: 0.0161 - val_mae: 0.0161\n",
      "Epoch 96/100\n",
      "84/84 [==============================] - 6s 76ms/step - loss: 0.0123 - mae: 0.0123 - val_loss: 0.0159 - val_mae: 0.0159\n",
      "Epoch 97/100\n",
      "84/84 [==============================] - 6s 75ms/step - loss: 0.0123 - mae: 0.0123 - val_loss: 0.0165 - val_mae: 0.0165\n",
      "Epoch 98/100\n",
      "84/84 [==============================] - 6s 74ms/step - loss: 0.0121 - mae: 0.0121 - val_loss: 0.0156 - val_mae: 0.0156\n",
      "Epoch 99/100\n",
      "84/84 [==============================] - 6s 75ms/step - loss: 0.0119 - mae: 0.0119 - val_loss: 0.0157 - val_mae: 0.0157\n",
      "Epoch 100/100\n",
      "84/84 [==============================] - 6s 76ms/step - loss: 0.0117 - mae: 0.0117 - val_loss: 0.0158 - val_mae: 0.0158\n"
     ]
    }
   ],
   "source": [
    "# Define the inputs\n",
    "weatherPred_inputs1 = tf.keras.Input(shape=(24, 14), name='weatherPred_inputs1')\n",
    "ePrices_inputs1 = tf.keras.Input(shape=(24, 1), name='ePrices_inputs1')\n",
    "\n",
    "weatherHist_input1 = tf.keras.Input(shape=(24, 18), name='weatherHist_input1')\n",
    "constant_inputs1 = tf.keras.Input(shape=(10,), name='constant_inputs1')\n",
    "\n",
    "# Process the time-based inputs\n",
    "weatherPred_flattened1 = layers.Flatten()(weatherPred_inputs1)\n",
    "for i in range(0,3):\n",
    "    weatherPred_flattened1 = layers.Dense(408, activation='relu')(weatherPred_flattened1)\n",
    "\n",
    "weatherHist_flattened1 = layers.Flatten()(weatherHist_input1)\n",
    "for i in range(0,3):\n",
    "    weatherHist_flattened1 = layers.Dense(240, activation='relu')(weatherHist_flattened1)\n",
    "\n",
    "ePrices_layer1 = layers.Flatten()(ePrices_inputs1)\n",
    "ePrices_layer1 = layers.Dense(24, activation='relu')(ePrices_layer1)\n",
    "\n",
    "# Concatenate all inputs\n",
    "x1 = layers.Concatenate()([weatherPred_flattened1, weatherHist_flattened1, ePrices_layer1, constant_inputs1])\n",
    "\n",
    "# Main dense block\n",
    "for i in range(0,5):\n",
    "    x1 = layers.Dense(540, activation='relu')(x1)\n",
    "    #x = layers.Dropout(0.1)(x)\n",
    "\n",
    "# Output layer for 24*2 targets\n",
    "output_layer1 = layers.Dense(24 * 1, activation='linear', name='output1')(x1)\n",
    "output_layer1 = layers.Reshape((24, 1))(output_layer1)\n",
    "\n",
    "model2 = models.Model(inputs=[constant_inputs1,ePrices_inputs1, weatherHist_input1, weatherPred_inputs1], outputs=output_layer1)\n",
    "\n",
    "# Compile the model with an appropriate loss function and optimizer\n",
    "model2.compile(optimizer='adam', loss='mae', metrics=['mae'])\n",
    "# 0 = cons, 1 = prod\n",
    "history2 = model2.fit(X_train, y_trainAbs[:,:,1], validation_data=(X_test, y_testAbs[:,:,1]), epochs=100, batch_size=400) #batch size = 110 weather station"
   ]
  },
  {
   "cell_type": "code",
   "execution_count": 19,
   "metadata": {},
   "outputs": [
    {
     "name": "stdout",
     "output_type": "stream",
     "text": [
      "Epoch 1/100\n",
      "168/168 [==============================] - 8s 42ms/step - loss: 217.4719 - mae: 217.4719 - val_loss: 162.8275 - val_mae: 162.8275\n",
      "Epoch 2/100\n",
      "168/168 [==============================] - 7s 40ms/step - loss: 163.3667 - mae: 163.3667 - val_loss: 150.8122 - val_mae: 150.8122\n",
      "Epoch 3/100\n",
      "168/168 [==============================] - 7s 41ms/step - loss: 145.8367 - mae: 145.8367 - val_loss: 136.6228 - val_mae: 136.6228\n",
      "Epoch 4/100\n",
      "168/168 [==============================] - 7s 41ms/step - loss: 150.4096 - mae: 150.4096 - val_loss: 140.2688 - val_mae: 140.2688\n",
      "Epoch 5/100\n",
      "168/168 [==============================] - 7s 43ms/step - loss: 135.6758 - mae: 135.6758 - val_loss: 128.7624 - val_mae: 128.7624\n",
      "Epoch 6/100\n",
      "168/168 [==============================] - 7s 43ms/step - loss: 129.6979 - mae: 129.6979 - val_loss: 128.3567 - val_mae: 128.3567\n",
      "Epoch 7/100\n",
      "168/168 [==============================] - 7s 44ms/step - loss: 124.4563 - mae: 124.4563 - val_loss: 122.9142 - val_mae: 122.9142\n",
      "Epoch 8/100\n",
      "168/168 [==============================] - 8s 47ms/step - loss: 120.6227 - mae: 120.6227 - val_loss: 127.1038 - val_mae: 127.1038\n",
      "Epoch 9/100\n",
      "168/168 [==============================] - 8s 45ms/step - loss: 112.6269 - mae: 112.6269 - val_loss: 119.0487 - val_mae: 119.0487\n",
      "Epoch 10/100\n",
      "168/168 [==============================] - 7s 43ms/step - loss: 107.2100 - mae: 107.2100 - val_loss: 111.3493 - val_mae: 111.3493\n",
      "Epoch 11/100\n",
      "168/168 [==============================] - 7s 44ms/step - loss: 104.9519 - mae: 104.9519 - val_loss: 104.0867 - val_mae: 104.0867\n",
      "Epoch 12/100\n",
      "168/168 [==============================] - 8s 47ms/step - loss: 100.0799 - mae: 100.0799 - val_loss: 102.2489 - val_mae: 102.2489\n",
      "Epoch 13/100\n",
      "168/168 [==============================] - 7s 44ms/step - loss: 97.5178 - mae: 97.5178 - val_loss: 93.9485 - val_mae: 93.9485\n",
      "Epoch 14/100\n",
      "168/168 [==============================] - 7s 43ms/step - loss: 95.4569 - mae: 95.4569 - val_loss: 107.0895 - val_mae: 107.0895\n",
      "Epoch 15/100\n",
      "168/168 [==============================] - 7s 45ms/step - loss: 93.7747 - mae: 93.7747 - val_loss: 88.5098 - val_mae: 88.5098\n",
      "Epoch 16/100\n",
      "168/168 [==============================] - 7s 43ms/step - loss: 90.4085 - mae: 90.4085 - val_loss: 99.9568 - val_mae: 99.9568\n",
      "Epoch 17/100\n",
      "168/168 [==============================] - 7s 42ms/step - loss: 85.9892 - mae: 85.9892 - val_loss: 86.9650 - val_mae: 86.9650\n",
      "Epoch 18/100\n",
      "168/168 [==============================] - 7s 42ms/step - loss: 86.0416 - mae: 86.0416 - val_loss: 107.0233 - val_mae: 107.0233\n",
      "Epoch 19/100\n",
      "168/168 [==============================] - 7s 42ms/step - loss: 84.6927 - mae: 84.6927 - val_loss: 86.2730 - val_mae: 86.2730\n",
      "Epoch 20/100\n",
      "168/168 [==============================] - 7s 43ms/step - loss: 80.1514 - mae: 80.1514 - val_loss: 102.0723 - val_mae: 102.0723\n",
      "Epoch 21/100\n",
      "168/168 [==============================] - 7s 42ms/step - loss: 81.1399 - mae: 81.1399 - val_loss: 86.4664 - val_mae: 86.4664\n",
      "Epoch 22/100\n",
      "168/168 [==============================] - 7s 43ms/step - loss: 79.1518 - mae: 79.1518 - val_loss: 83.9427 - val_mae: 83.9427\n",
      "Epoch 23/100\n",
      "168/168 [==============================] - 7s 43ms/step - loss: 78.2027 - mae: 78.2027 - val_loss: 83.9597 - val_mae: 83.9597\n",
      "Epoch 24/100\n",
      "168/168 [==============================] - 7s 43ms/step - loss: 75.4994 - mae: 75.4994 - val_loss: 81.1539 - val_mae: 81.1539\n",
      "Epoch 25/100\n",
      "168/168 [==============================] - 7s 43ms/step - loss: 75.3575 - mae: 75.3575 - val_loss: 100.1319 - val_mae: 100.1319\n",
      "Epoch 26/100\n",
      "168/168 [==============================] - 7s 44ms/step - loss: 72.6630 - mae: 72.6630 - val_loss: 79.7285 - val_mae: 79.7285\n",
      "Epoch 27/100\n",
      "168/168 [==============================] - 7s 43ms/step - loss: 70.2748 - mae: 70.2748 - val_loss: 78.2353 - val_mae: 78.2353\n",
      "Epoch 28/100\n",
      "168/168 [==============================] - 7s 42ms/step - loss: 70.6585 - mae: 70.6585 - val_loss: 80.1245 - val_mae: 80.1245\n",
      "Epoch 29/100\n",
      "168/168 [==============================] - 8s 45ms/step - loss: 66.2339 - mae: 66.2339 - val_loss: 85.5518 - val_mae: 85.5518\n",
      "Epoch 30/100\n",
      "168/168 [==============================] - 7s 43ms/step - loss: 68.6371 - mae: 68.6371 - val_loss: 76.8099 - val_mae: 76.8099\n",
      "Epoch 31/100\n",
      "168/168 [==============================] - 7s 43ms/step - loss: 66.2861 - mae: 66.2861 - val_loss: 79.4338 - val_mae: 79.4338\n",
      "Epoch 32/100\n",
      "168/168 [==============================] - 7s 44ms/step - loss: 66.1616 - mae: 66.1616 - val_loss: 76.8787 - val_mae: 76.8787\n",
      "Epoch 33/100\n",
      "168/168 [==============================] - 7s 43ms/step - loss: 63.4021 - mae: 63.4021 - val_loss: 77.3546 - val_mae: 77.3546\n",
      "Epoch 34/100\n",
      "168/168 [==============================] - 7s 41ms/step - loss: 62.1764 - mae: 62.1764 - val_loss: 74.3555 - val_mae: 74.3555\n",
      "Epoch 35/100\n",
      "168/168 [==============================] - 8s 46ms/step - loss: 61.4522 - mae: 61.4522 - val_loss: 72.9437 - val_mae: 72.9437\n",
      "Epoch 36/100\n",
      "168/168 [==============================] - 8s 48ms/step - loss: 61.7592 - mae: 61.7592 - val_loss: 70.9282 - val_mae: 70.9282\n",
      "Epoch 37/100\n",
      "168/168 [==============================] - 7s 45ms/step - loss: 59.6144 - mae: 59.6144 - val_loss: 75.5057 - val_mae: 75.5057\n",
      "Epoch 38/100\n",
      "168/168 [==============================] - 7s 44ms/step - loss: 61.8255 - mae: 61.8255 - val_loss: 72.7029 - val_mae: 72.7029\n",
      "Epoch 39/100\n",
      "168/168 [==============================] - 7s 43ms/step - loss: 60.1005 - mae: 60.1005 - val_loss: 70.1050 - val_mae: 70.1050\n",
      "Epoch 40/100\n",
      "168/168 [==============================] - 7s 43ms/step - loss: 60.0082 - mae: 60.0082 - val_loss: 70.3894 - val_mae: 70.3894\n",
      "Epoch 41/100\n",
      "168/168 [==============================] - 7s 42ms/step - loss: 57.7704 - mae: 57.7704 - val_loss: 69.0062 - val_mae: 69.0062\n",
      "Epoch 42/100\n",
      "168/168 [==============================] - 7s 43ms/step - loss: 55.8183 - mae: 55.8183 - val_loss: 72.9941 - val_mae: 72.9941\n",
      "Epoch 43/100\n",
      "168/168 [==============================] - 7s 43ms/step - loss: 53.7620 - mae: 53.7620 - val_loss: 71.4792 - val_mae: 71.4792\n",
      "Epoch 44/100\n",
      "168/168 [==============================] - 7s 43ms/step - loss: 53.1338 - mae: 53.1338 - val_loss: 68.9604 - val_mae: 68.9604\n",
      "Epoch 45/100\n",
      "168/168 [==============================] - 7s 43ms/step - loss: 56.7799 - mae: 56.7799 - val_loss: 73.2848 - val_mae: 73.2848\n",
      "Epoch 46/100\n",
      "168/168 [==============================] - 7s 42ms/step - loss: 54.6107 - mae: 54.6107 - val_loss: 69.9525 - val_mae: 69.9525\n",
      "Epoch 47/100\n",
      "168/168 [==============================] - 7s 42ms/step - loss: 51.1191 - mae: 51.1191 - val_loss: 74.0629 - val_mae: 74.0629\n",
      "Epoch 48/100\n",
      "168/168 [==============================] - 7s 43ms/step - loss: 50.7858 - mae: 50.7858 - val_loss: 70.3646 - val_mae: 70.3646\n",
      "Epoch 49/100\n",
      "168/168 [==============================] - 7s 43ms/step - loss: 52.2305 - mae: 52.2305 - val_loss: 66.7992 - val_mae: 66.7993\n",
      "Epoch 50/100\n",
      "168/168 [==============================] - 7s 43ms/step - loss: 50.4099 - mae: 50.4099 - val_loss: 74.8957 - val_mae: 74.8957\n",
      "Epoch 51/100\n",
      "168/168 [==============================] - 7s 43ms/step - loss: 52.7388 - mae: 52.7388 - val_loss: 66.7486 - val_mae: 66.7486\n",
      "Epoch 52/100\n",
      "168/168 [==============================] - 7s 43ms/step - loss: 49.3316 - mae: 49.3316 - val_loss: 66.2100 - val_mae: 66.2100\n",
      "Epoch 53/100\n",
      "168/168 [==============================] - 7s 44ms/step - loss: 50.2203 - mae: 50.2203 - val_loss: 64.2279 - val_mae: 64.2279\n",
      "Epoch 54/100\n",
      "168/168 [==============================] - 8s 45ms/step - loss: 49.3969 - mae: 49.3969 - val_loss: 69.9114 - val_mae: 69.9114\n",
      "Epoch 55/100\n",
      "168/168 [==============================] - 8s 46ms/step - loss: 49.0391 - mae: 49.0391 - val_loss: 63.2975 - val_mae: 63.2975\n",
      "Epoch 56/100\n",
      "168/168 [==============================] - 7s 44ms/step - loss: 47.0645 - mae: 47.0645 - val_loss: 62.5167 - val_mae: 62.5167\n",
      "Epoch 57/100\n",
      "168/168 [==============================] - 7s 44ms/step - loss: 47.9053 - mae: 47.9053 - val_loss: 67.7706 - val_mae: 67.7706\n",
      "Epoch 58/100\n",
      "168/168 [==============================] - 7s 43ms/step - loss: 49.3742 - mae: 49.3742 - val_loss: 67.2175 - val_mae: 67.2175\n",
      "Epoch 59/100\n",
      "168/168 [==============================] - 7s 44ms/step - loss: 47.1184 - mae: 47.1184 - val_loss: 62.0866 - val_mae: 62.0866\n",
      "Epoch 60/100\n",
      "168/168 [==============================] - 7s 43ms/step - loss: 44.2555 - mae: 44.2555 - val_loss: 62.1188 - val_mae: 62.1188\n",
      "Epoch 61/100\n",
      "168/168 [==============================] - 7s 44ms/step - loss: 45.4608 - mae: 45.4608 - val_loss: 60.6286 - val_mae: 60.6286\n",
      "Epoch 62/100\n",
      "168/168 [==============================] - 7s 44ms/step - loss: 44.5240 - mae: 44.5240 - val_loss: 61.4120 - val_mae: 61.4120\n",
      "Epoch 63/100\n",
      "168/168 [==============================] - 7s 44ms/step - loss: 43.8612 - mae: 43.8612 - val_loss: 59.6361 - val_mae: 59.6361\n",
      "Epoch 64/100\n",
      "168/168 [==============================] - 8s 47ms/step - loss: 48.4883 - mae: 48.4883 - val_loss: 61.6701 - val_mae: 61.6701\n",
      "Epoch 65/100\n",
      "168/168 [==============================] - 8s 45ms/step - loss: 45.5924 - mae: 45.5924 - val_loss: 61.5275 - val_mae: 61.5275\n",
      "Epoch 66/100\n",
      "168/168 [==============================] - 8s 45ms/step - loss: 45.3656 - mae: 45.3656 - val_loss: 70.2436 - val_mae: 70.2436\n",
      "Epoch 67/100\n",
      "168/168 [==============================] - 8s 47ms/step - loss: 45.8265 - mae: 45.8265 - val_loss: 60.3741 - val_mae: 60.3741\n",
      "Epoch 68/100\n",
      "168/168 [==============================] - 7s 44ms/step - loss: 42.2076 - mae: 42.2076 - val_loss: 59.0871 - val_mae: 59.0871\n",
      "Epoch 69/100\n",
      "168/168 [==============================] - 7s 44ms/step - loss: 41.0149 - mae: 41.0149 - val_loss: 62.0482 - val_mae: 62.0482\n",
      "Epoch 70/100\n",
      "168/168 [==============================] - 8s 45ms/step - loss: 44.5853 - mae: 44.5853 - val_loss: 64.8332 - val_mae: 64.8332\n",
      "Epoch 71/100\n",
      "168/168 [==============================] - 7s 44ms/step - loss: 46.3930 - mae: 46.3930 - val_loss: 71.9409 - val_mae: 71.9409\n",
      "Epoch 72/100\n",
      "168/168 [==============================] - 7s 45ms/step - loss: 43.6667 - mae: 43.6667 - val_loss: 63.3065 - val_mae: 63.3065\n",
      "Epoch 73/100\n",
      "168/168 [==============================] - 8s 45ms/step - loss: 41.9026 - mae: 41.9026 - val_loss: 59.5237 - val_mae: 59.5237\n",
      "Epoch 74/100\n",
      "168/168 [==============================] - 7s 44ms/step - loss: 39.5342 - mae: 39.5342 - val_loss: 64.3070 - val_mae: 64.3070\n",
      "Epoch 75/100\n",
      "168/168 [==============================] - 8s 45ms/step - loss: 39.3092 - mae: 39.3092 - val_loss: 59.5906 - val_mae: 59.5906\n",
      "Epoch 76/100\n",
      "168/168 [==============================] - 7s 43ms/step - loss: 38.9489 - mae: 38.9489 - val_loss: 58.7767 - val_mae: 58.7767\n",
      "Epoch 77/100\n",
      "168/168 [==============================] - 7s 44ms/step - loss: 39.3214 - mae: 39.3214 - val_loss: 59.4957 - val_mae: 59.4957\n",
      "Epoch 78/100\n",
      "168/168 [==============================] - 8s 45ms/step - loss: 40.8739 - mae: 40.8739 - val_loss: 61.6946 - val_mae: 61.6946\n",
      "Epoch 79/100\n",
      "168/168 [==============================] - 8s 45ms/step - loss: 41.4453 - mae: 41.4453 - val_loss: 59.4105 - val_mae: 59.4105\n",
      "Epoch 80/100\n",
      "168/168 [==============================] - 7s 44ms/step - loss: 40.5392 - mae: 40.5392 - val_loss: 56.0509 - val_mae: 56.0509\n",
      "Epoch 81/100\n",
      "168/168 [==============================] - 7s 44ms/step - loss: 37.8335 - mae: 37.8335 - val_loss: 58.4344 - val_mae: 58.4344\n",
      "Epoch 82/100\n",
      "168/168 [==============================] - 8s 47ms/step - loss: 39.9567 - mae: 39.9567 - val_loss: 63.9358 - val_mae: 63.9358\n",
      "Epoch 83/100\n",
      "168/168 [==============================] - 7s 44ms/step - loss: 45.3985 - mae: 45.3985 - val_loss: 61.1125 - val_mae: 61.1125\n",
      "Epoch 84/100\n",
      "168/168 [==============================] - 7s 44ms/step - loss: 39.2201 - mae: 39.2201 - val_loss: 58.3946 - val_mae: 58.3946\n",
      "Epoch 85/100\n",
      "168/168 [==============================] - 7s 44ms/step - loss: 37.7441 - mae: 37.7441 - val_loss: 62.6196 - val_mae: 62.6196\n",
      "Epoch 86/100\n",
      "168/168 [==============================] - 8s 46ms/step - loss: 39.3761 - mae: 39.3761 - val_loss: 56.7968 - val_mae: 56.7968\n",
      "Epoch 87/100\n",
      "168/168 [==============================] - 8s 47ms/step - loss: 37.2659 - mae: 37.2659 - val_loss: 56.4701 - val_mae: 56.4701\n",
      "Epoch 88/100\n",
      "168/168 [==============================] - 8s 47ms/step - loss: 37.0275 - mae: 37.0275 - val_loss: 58.3461 - val_mae: 58.3461\n",
      "Epoch 89/100\n",
      "168/168 [==============================] - 8s 46ms/step - loss: 39.1770 - mae: 39.1770 - val_loss: 59.8809 - val_mae: 59.8809\n",
      "Epoch 90/100\n",
      "168/168 [==============================] - 8s 46ms/step - loss: 40.6601 - mae: 40.6601 - val_loss: 55.4616 - val_mae: 55.4616\n",
      "Epoch 91/100\n",
      "168/168 [==============================] - 7s 45ms/step - loss: 36.8061 - mae: 36.8061 - val_loss: 59.7564 - val_mae: 59.7564\n",
      "Epoch 92/100\n",
      "168/168 [==============================] - 8s 46ms/step - loss: 38.0860 - mae: 38.0860 - val_loss: 61.7792 - val_mae: 61.7792\n",
      "Epoch 93/100\n",
      "168/168 [==============================] - 8s 45ms/step - loss: 36.2547 - mae: 36.2547 - val_loss: 56.7356 - val_mae: 56.7356\n",
      "Epoch 94/100\n",
      "168/168 [==============================] - 8s 46ms/step - loss: 38.6520 - mae: 38.6520 - val_loss: 58.5647 - val_mae: 58.5647\n",
      "Epoch 95/100\n",
      "168/168 [==============================] - 8s 47ms/step - loss: 37.6721 - mae: 37.6721 - val_loss: 60.0774 - val_mae: 60.0774\n",
      "Epoch 96/100\n",
      "168/168 [==============================] - 8s 45ms/step - loss: 42.7068 - mae: 42.7068 - val_loss: 59.6557 - val_mae: 59.6557\n",
      "Epoch 97/100\n",
      "168/168 [==============================] - 8s 45ms/step - loss: 36.8174 - mae: 36.8174 - val_loss: 56.6724 - val_mae: 56.6724\n",
      "Epoch 98/100\n",
      "168/168 [==============================] - 8s 45ms/step - loss: 34.4134 - mae: 34.4134 - val_loss: 54.7523 - val_mae: 54.7523\n",
      "Epoch 99/100\n",
      "168/168 [==============================] - 8s 50ms/step - loss: 33.8916 - mae: 33.8916 - val_loss: 55.7216 - val_mae: 55.7216\n",
      "Epoch 100/100\n",
      "168/168 [==============================] - 8s 50ms/step - loss: 34.8675 - mae: 34.8675 - val_loss: 56.4099 - val_mae: 56.4099\n"
     ]
    }
   ],
   "source": [
    "# Define the inputs\n",
    "weatherPred_inputs2 = tf.keras.Input(shape=(24, 14), name='weatherPred_inputs2')\n",
    "ePrices_inputs2 = tf.keras.Input(shape=(24, 1), name='ePrices_inputs2')\n",
    "\n",
    "weatherHist_input2 = tf.keras.Input(shape=(24, 18), name='weatherHist_input2')\n",
    "constant_inputs2 = tf.keras.Input(shape=(10,), name='constant_inputs2')\n",
    "\n",
    "# Process the time-based inputs\n",
    "weatherPred_flattened2 = layers.Flatten()(weatherPred_inputs2)\n",
    "for i in range(0,3):\n",
    "    weatherPred_flattened2 = layers.Dense(408, activation='relu')(weatherPred_flattened2)\n",
    "\n",
    "weatherHist_flattened2 = layers.Flatten()(weatherHist_input2)\n",
    "for i in range(0,3):\n",
    "    weatherHist_flattened2 = layers.Dense(240, activation='relu')(weatherHist_flattened2)\n",
    "\n",
    "ePrices_layer2 = layers.Flatten()(ePrices_inputs2)\n",
    "ePrices_layer2 = layers.Dense(24, activation='relu')(ePrices_layer2)\n",
    "\n",
    "# Concatenate all inputs\n",
    "x2 = layers.Concatenate()([weatherPred_flattened2, weatherHist_flattened2, ePrices_layer2, constant_inputs2])\n",
    "\n",
    "# Main dense block\n",
    "for i in range(0,5):\n",
    "    x2 = layers.Dense(540, activation='relu')(x2)\n",
    "    #x = layers.Dropout(0.1)(x)\n",
    "\n",
    "# Output layer for 24*2 targets\n",
    "output_layer2 = layers.Dense(24 * 1, activation='linear', name='output')(x2)\n",
    "output_layer2 = layers.Reshape((24, 1))(output_layer2)\n",
    "\n",
    "model3 = tf.keras.Model(inputs=[constant_inputs2,ePrices_inputs2, weatherHist_input2, weatherPred_inputs2], outputs=output_layer2)\n",
    "\n",
    "# Compile the model with an appropriate loss function and optimizer\n",
    "model3.compile(optimizer='adam', loss='mae', metrics=['mae'])\n",
    "# 0 = cons, 1 = prod\n",
    "history3 = model3.fit(X_train, y_trainAbs[:,:,0], validation_data=(X_test, y_testAbs[:,:,0]), epochs=100, batch_size=200) #batch size = 110 weather station"
   ]
  },
  {
   "cell_type": "code",
   "execution_count": 23,
   "metadata": {},
   "outputs": [
    {
     "data": {
      "application/vnd.plotly.v1+json": {
       "config": {
        "plotlyServerURL": "https://plot.ly"
       },
       "data": [
        {
         "mode": "lines",
         "name": "Train Loss",
         "type": "scatter",
         "x": [
          1,
          2,
          3,
          4,
          5,
          6,
          7,
          8,
          9,
          10,
          11,
          12,
          13,
          14,
          15,
          16,
          17,
          18,
          19,
          20,
          21,
          22,
          23,
          24,
          25,
          26,
          27,
          28,
          29,
          30,
          31,
          32,
          33,
          34,
          35,
          36,
          37,
          38,
          39,
          40,
          41,
          42,
          43,
          44,
          45,
          46,
          47,
          48,
          49,
          50,
          51,
          52,
          53,
          54,
          55,
          56,
          57,
          58,
          59,
          60,
          61,
          62,
          63,
          64,
          65,
          66,
          67,
          68,
          69,
          70,
          71,
          72,
          73,
          74,
          75,
          76,
          77,
          78,
          79,
          80,
          81,
          82,
          83,
          84,
          85,
          86,
          87,
          88,
          89,
          90,
          91,
          92,
          93,
          94,
          95,
          96,
          97,
          98,
          99,
          100
         ],
         "y": [
          218.77203369140625,
          171.00186157226562,
          155.71177673339844,
          153.77432250976562,
          148.4047393798828,
          139.34640502929688,
          137.81332397460938,
          132.74725341796875,
          126.9790267944336,
          125.13646697998047,
          124.66441345214844,
          118.45451354980469,
          114.95783996582031,
          112.02716064453125,
          108.42610931396484,
          104.51435852050781,
          100.36896514892578,
          102.02784729003906,
          98.9338150024414,
          93.07746887207031,
          93.75251770019531,
          88.50700378417969,
          87.190673828125,
          86.2431869506836,
          83.5527114868164,
          84.32208251953125,
          83.5018310546875,
          80.6118392944336,
          81.1556396484375,
          77.54421997070312,
          79.65267181396484,
          77.60261535644531,
          77.19483947753906,
          77.3661117553711,
          76.98300170898438,
          74.05554962158203,
          76.72199249267578,
          74.51866912841797,
          71.14036560058594,
          73.07036590576172,
          72.75543975830078,
          69.46062469482422,
          70.07350158691406,
          71.92025756835938,
          69.95160675048828,
          68.33815002441406,
          67.92054748535156,
          65.03836059570312,
          68.26261138916016,
          64.53131103515625,
          63.44947814941406,
          66.17052459716797,
          64.17031860351562,
          61.414756774902344,
          64.37734985351562,
          60.37173843383789,
          64.1334457397461,
          59.2477912902832,
          58.9602165222168,
          60.18946075439453,
          58.18416976928711,
          56.60850524902344,
          57.08370590209961,
          56.88996124267578,
          56.32331085205078,
          54.936222076416016,
          57.82029342651367,
          55.76007080078125,
          53.263092041015625,
          54.595619201660156,
          54.21735382080078,
          51.35535430908203,
          53.28116989135742,
          56.948516845703125,
          54.139625549316406,
          49.584014892578125,
          50.53616714477539,
          50.97513198852539,
          49.7375602722168,
          47.12456512451172,
          49.11920166015625,
          50.62824249267578,
          50.02986145019531,
          48.69581604003906,
          49.419734954833984,
          46.02079772949219,
          46.41095733642578,
          49.748138427734375,
          48.731998443603516,
          46.715885162353516,
          49.67237091064453,
          47.57432556152344,
          43.843753814697266,
          44.324337005615234,
          44.786136627197266,
          45.771636962890625,
          45.48085403442383,
          44.86701583862305,
          43.7967414855957,
          43.965354919433594
         ]
        },
        {
         "mode": "lines",
         "name": "Validation Loss",
         "type": "scatter",
         "x": [
          1,
          2,
          3,
          4,
          5,
          6,
          7,
          8,
          9,
          10,
          11,
          12,
          13,
          14,
          15,
          16,
          17,
          18,
          19,
          20,
          21,
          22,
          23,
          24,
          25,
          26,
          27,
          28,
          29,
          30,
          31,
          32,
          33,
          34,
          35,
          36,
          37,
          38,
          39,
          40,
          41,
          42,
          43,
          44,
          45,
          46,
          47,
          48,
          49,
          50,
          51,
          52,
          53,
          54,
          55,
          56,
          57,
          58,
          59,
          60,
          61,
          62,
          63,
          64,
          65,
          66,
          67,
          68,
          69,
          70,
          71,
          72,
          73,
          74,
          75,
          76,
          77,
          78,
          79,
          80,
          81,
          82,
          83,
          84,
          85,
          86,
          87,
          88,
          89,
          90,
          91,
          92,
          93,
          94,
          95,
          96,
          97,
          98,
          99,
          100
         ],
         "y": [
          162.29307556152344,
          152.98239135742188,
          143.64149475097656,
          142.79624938964844,
          141.9466552734375,
          137.5996856689453,
          135.85165405273438,
          123.55021667480469,
          132.70950317382812,
          128.4732208251953,
          121.23723602294922,
          119.28543090820312,
          109.79554748535156,
          122.31546783447266,
          104.91871643066406,
          105.20854187011719,
          96.4441146850586,
          126.12155151367188,
          92.61804962158203,
          96.80110931396484,
          88.52481079101562,
          88.5013198852539,
          88.77424621582031,
          89.74337768554688,
          96.14810943603516,
          100.36456298828125,
          84.43473052978516,
          93.69226837158203,
          88.21026611328125,
          81.83184814453125,
          84.78134155273438,
          78.2003402709961,
          83.04222869873047,
          81.30028533935547,
          79.04381561279297,
          78.05921173095703,
          90.84430694580078,
          81.81074523925781,
          77.36405181884766,
          78.60291290283203,
          78.5196304321289,
          78.14240264892578,
          75.3297348022461,
          78.88435363769531,
          78.18497467041016,
          78.15059661865234,
          80.19953155517578,
          81.41184997558594,
          74.55186462402344,
          76.80072784423828,
          72.28175354003906,
          77.32720947265625,
          78.87583923339844,
          72.00346374511719,
          72.61540222167969,
          73.61628723144531,
          72.37993621826172,
          72.10340881347656,
          71.66441345214844,
          71.18734741210938,
          74.86167907714844,
          70.08615112304688,
          68.3956298828125,
          73.94876861572266,
          68.4002685546875,
          67.74885559082031,
          67.66730499267578,
          67.14530944824219,
          73.58174133300781,
          71.16590118408203,
          71.4242935180664,
          65.83282470703125,
          82.5867919921875,
          84.55490112304688,
          67.45060729980469,
          64.8876953125,
          68.66810607910156,
          65.91341400146484,
          65.14906311035156,
          64.30876922607422,
          63.713348388671875,
          65.22515106201172,
          65.83203125,
          68.89291381835938,
          64.66036987304688,
          67.42546844482422,
          69.5938949584961,
          63.5584602355957,
          61.14201354980469,
          64.6508560180664,
          64.3978042602539,
          63.87214279174805,
          60.92918014526367,
          64.24800872802734,
          63.288330078125,
          61.710079193115234,
          65.46385192871094,
          65.13497924804688,
          63.54957962036133,
          66.1986312866211
         ]
        }
       ],
       "layout": {
        "legend": {
         "traceorder": "normal",
         "x": 0,
         "y": 1
        },
        "template": {
         "data": {
          "bar": [
           {
            "error_x": {
             "color": "#2a3f5f"
            },
            "error_y": {
             "color": "#2a3f5f"
            },
            "marker": {
             "line": {
              "color": "#E5ECF6",
              "width": 0.5
             },
             "pattern": {
              "fillmode": "overlay",
              "size": 10,
              "solidity": 0.2
             }
            },
            "type": "bar"
           }
          ],
          "barpolar": [
           {
            "marker": {
             "line": {
              "color": "#E5ECF6",
              "width": 0.5
             },
             "pattern": {
              "fillmode": "overlay",
              "size": 10,
              "solidity": 0.2
             }
            },
            "type": "barpolar"
           }
          ],
          "carpet": [
           {
            "aaxis": {
             "endlinecolor": "#2a3f5f",
             "gridcolor": "white",
             "linecolor": "white",
             "minorgridcolor": "white",
             "startlinecolor": "#2a3f5f"
            },
            "baxis": {
             "endlinecolor": "#2a3f5f",
             "gridcolor": "white",
             "linecolor": "white",
             "minorgridcolor": "white",
             "startlinecolor": "#2a3f5f"
            },
            "type": "carpet"
           }
          ],
          "choropleth": [
           {
            "colorbar": {
             "outlinewidth": 0,
             "ticks": ""
            },
            "type": "choropleth"
           }
          ],
          "contour": [
           {
            "colorbar": {
             "outlinewidth": 0,
             "ticks": ""
            },
            "colorscale": [
             [
              0,
              "#0d0887"
             ],
             [
              0.1111111111111111,
              "#46039f"
             ],
             [
              0.2222222222222222,
              "#7201a8"
             ],
             [
              0.3333333333333333,
              "#9c179e"
             ],
             [
              0.4444444444444444,
              "#bd3786"
             ],
             [
              0.5555555555555556,
              "#d8576b"
             ],
             [
              0.6666666666666666,
              "#ed7953"
             ],
             [
              0.7777777777777778,
              "#fb9f3a"
             ],
             [
              0.8888888888888888,
              "#fdca26"
             ],
             [
              1,
              "#f0f921"
             ]
            ],
            "type": "contour"
           }
          ],
          "contourcarpet": [
           {
            "colorbar": {
             "outlinewidth": 0,
             "ticks": ""
            },
            "type": "contourcarpet"
           }
          ],
          "heatmap": [
           {
            "colorbar": {
             "outlinewidth": 0,
             "ticks": ""
            },
            "colorscale": [
             [
              0,
              "#0d0887"
             ],
             [
              0.1111111111111111,
              "#46039f"
             ],
             [
              0.2222222222222222,
              "#7201a8"
             ],
             [
              0.3333333333333333,
              "#9c179e"
             ],
             [
              0.4444444444444444,
              "#bd3786"
             ],
             [
              0.5555555555555556,
              "#d8576b"
             ],
             [
              0.6666666666666666,
              "#ed7953"
             ],
             [
              0.7777777777777778,
              "#fb9f3a"
             ],
             [
              0.8888888888888888,
              "#fdca26"
             ],
             [
              1,
              "#f0f921"
             ]
            ],
            "type": "heatmap"
           }
          ],
          "heatmapgl": [
           {
            "colorbar": {
             "outlinewidth": 0,
             "ticks": ""
            },
            "colorscale": [
             [
              0,
              "#0d0887"
             ],
             [
              0.1111111111111111,
              "#46039f"
             ],
             [
              0.2222222222222222,
              "#7201a8"
             ],
             [
              0.3333333333333333,
              "#9c179e"
             ],
             [
              0.4444444444444444,
              "#bd3786"
             ],
             [
              0.5555555555555556,
              "#d8576b"
             ],
             [
              0.6666666666666666,
              "#ed7953"
             ],
             [
              0.7777777777777778,
              "#fb9f3a"
             ],
             [
              0.8888888888888888,
              "#fdca26"
             ],
             [
              1,
              "#f0f921"
             ]
            ],
            "type": "heatmapgl"
           }
          ],
          "histogram": [
           {
            "marker": {
             "pattern": {
              "fillmode": "overlay",
              "size": 10,
              "solidity": 0.2
             }
            },
            "type": "histogram"
           }
          ],
          "histogram2d": [
           {
            "colorbar": {
             "outlinewidth": 0,
             "ticks": ""
            },
            "colorscale": [
             [
              0,
              "#0d0887"
             ],
             [
              0.1111111111111111,
              "#46039f"
             ],
             [
              0.2222222222222222,
              "#7201a8"
             ],
             [
              0.3333333333333333,
              "#9c179e"
             ],
             [
              0.4444444444444444,
              "#bd3786"
             ],
             [
              0.5555555555555556,
              "#d8576b"
             ],
             [
              0.6666666666666666,
              "#ed7953"
             ],
             [
              0.7777777777777778,
              "#fb9f3a"
             ],
             [
              0.8888888888888888,
              "#fdca26"
             ],
             [
              1,
              "#f0f921"
             ]
            ],
            "type": "histogram2d"
           }
          ],
          "histogram2dcontour": [
           {
            "colorbar": {
             "outlinewidth": 0,
             "ticks": ""
            },
            "colorscale": [
             [
              0,
              "#0d0887"
             ],
             [
              0.1111111111111111,
              "#46039f"
             ],
             [
              0.2222222222222222,
              "#7201a8"
             ],
             [
              0.3333333333333333,
              "#9c179e"
             ],
             [
              0.4444444444444444,
              "#bd3786"
             ],
             [
              0.5555555555555556,
              "#d8576b"
             ],
             [
              0.6666666666666666,
              "#ed7953"
             ],
             [
              0.7777777777777778,
              "#fb9f3a"
             ],
             [
              0.8888888888888888,
              "#fdca26"
             ],
             [
              1,
              "#f0f921"
             ]
            ],
            "type": "histogram2dcontour"
           }
          ],
          "mesh3d": [
           {
            "colorbar": {
             "outlinewidth": 0,
             "ticks": ""
            },
            "type": "mesh3d"
           }
          ],
          "parcoords": [
           {
            "line": {
             "colorbar": {
              "outlinewidth": 0,
              "ticks": ""
             }
            },
            "type": "parcoords"
           }
          ],
          "pie": [
           {
            "automargin": true,
            "type": "pie"
           }
          ],
          "scatter": [
           {
            "fillpattern": {
             "fillmode": "overlay",
             "size": 10,
             "solidity": 0.2
            },
            "type": "scatter"
           }
          ],
          "scatter3d": [
           {
            "line": {
             "colorbar": {
              "outlinewidth": 0,
              "ticks": ""
             }
            },
            "marker": {
             "colorbar": {
              "outlinewidth": 0,
              "ticks": ""
             }
            },
            "type": "scatter3d"
           }
          ],
          "scattercarpet": [
           {
            "marker": {
             "colorbar": {
              "outlinewidth": 0,
              "ticks": ""
             }
            },
            "type": "scattercarpet"
           }
          ],
          "scattergeo": [
           {
            "marker": {
             "colorbar": {
              "outlinewidth": 0,
              "ticks": ""
             }
            },
            "type": "scattergeo"
           }
          ],
          "scattergl": [
           {
            "marker": {
             "colorbar": {
              "outlinewidth": 0,
              "ticks": ""
             }
            },
            "type": "scattergl"
           }
          ],
          "scattermapbox": [
           {
            "marker": {
             "colorbar": {
              "outlinewidth": 0,
              "ticks": ""
             }
            },
            "type": "scattermapbox"
           }
          ],
          "scatterpolar": [
           {
            "marker": {
             "colorbar": {
              "outlinewidth": 0,
              "ticks": ""
             }
            },
            "type": "scatterpolar"
           }
          ],
          "scatterpolargl": [
           {
            "marker": {
             "colorbar": {
              "outlinewidth": 0,
              "ticks": ""
             }
            },
            "type": "scatterpolargl"
           }
          ],
          "scatterternary": [
           {
            "marker": {
             "colorbar": {
              "outlinewidth": 0,
              "ticks": ""
             }
            },
            "type": "scatterternary"
           }
          ],
          "surface": [
           {
            "colorbar": {
             "outlinewidth": 0,
             "ticks": ""
            },
            "colorscale": [
             [
              0,
              "#0d0887"
             ],
             [
              0.1111111111111111,
              "#46039f"
             ],
             [
              0.2222222222222222,
              "#7201a8"
             ],
             [
              0.3333333333333333,
              "#9c179e"
             ],
             [
              0.4444444444444444,
              "#bd3786"
             ],
             [
              0.5555555555555556,
              "#d8576b"
             ],
             [
              0.6666666666666666,
              "#ed7953"
             ],
             [
              0.7777777777777778,
              "#fb9f3a"
             ],
             [
              0.8888888888888888,
              "#fdca26"
             ],
             [
              1,
              "#f0f921"
             ]
            ],
            "type": "surface"
           }
          ],
          "table": [
           {
            "cells": {
             "fill": {
              "color": "#EBF0F8"
             },
             "line": {
              "color": "white"
             }
            },
            "header": {
             "fill": {
              "color": "#C8D4E3"
             },
             "line": {
              "color": "white"
             }
            },
            "type": "table"
           }
          ]
         },
         "layout": {
          "annotationdefaults": {
           "arrowcolor": "#2a3f5f",
           "arrowhead": 0,
           "arrowwidth": 1
          },
          "autotypenumbers": "strict",
          "coloraxis": {
           "colorbar": {
            "outlinewidth": 0,
            "ticks": ""
           }
          },
          "colorscale": {
           "diverging": [
            [
             0,
             "#8e0152"
            ],
            [
             0.1,
             "#c51b7d"
            ],
            [
             0.2,
             "#de77ae"
            ],
            [
             0.3,
             "#f1b6da"
            ],
            [
             0.4,
             "#fde0ef"
            ],
            [
             0.5,
             "#f7f7f7"
            ],
            [
             0.6,
             "#e6f5d0"
            ],
            [
             0.7,
             "#b8e186"
            ],
            [
             0.8,
             "#7fbc41"
            ],
            [
             0.9,
             "#4d9221"
            ],
            [
             1,
             "#276419"
            ]
           ],
           "sequential": [
            [
             0,
             "#0d0887"
            ],
            [
             0.1111111111111111,
             "#46039f"
            ],
            [
             0.2222222222222222,
             "#7201a8"
            ],
            [
             0.3333333333333333,
             "#9c179e"
            ],
            [
             0.4444444444444444,
             "#bd3786"
            ],
            [
             0.5555555555555556,
             "#d8576b"
            ],
            [
             0.6666666666666666,
             "#ed7953"
            ],
            [
             0.7777777777777778,
             "#fb9f3a"
            ],
            [
             0.8888888888888888,
             "#fdca26"
            ],
            [
             1,
             "#f0f921"
            ]
           ],
           "sequentialminus": [
            [
             0,
             "#0d0887"
            ],
            [
             0.1111111111111111,
             "#46039f"
            ],
            [
             0.2222222222222222,
             "#7201a8"
            ],
            [
             0.3333333333333333,
             "#9c179e"
            ],
            [
             0.4444444444444444,
             "#bd3786"
            ],
            [
             0.5555555555555556,
             "#d8576b"
            ],
            [
             0.6666666666666666,
             "#ed7953"
            ],
            [
             0.7777777777777778,
             "#fb9f3a"
            ],
            [
             0.8888888888888888,
             "#fdca26"
            ],
            [
             1,
             "#f0f921"
            ]
           ]
          },
          "colorway": [
           "#636efa",
           "#EF553B",
           "#00cc96",
           "#ab63fa",
           "#FFA15A",
           "#19d3f3",
           "#FF6692",
           "#B6E880",
           "#FF97FF",
           "#FECB52"
          ],
          "font": {
           "color": "#2a3f5f"
          },
          "geo": {
           "bgcolor": "white",
           "lakecolor": "white",
           "landcolor": "#E5ECF6",
           "showlakes": true,
           "showland": true,
           "subunitcolor": "white"
          },
          "hoverlabel": {
           "align": "left"
          },
          "hovermode": "closest",
          "mapbox": {
           "style": "light"
          },
          "paper_bgcolor": "white",
          "plot_bgcolor": "#E5ECF6",
          "polar": {
           "angularaxis": {
            "gridcolor": "white",
            "linecolor": "white",
            "ticks": ""
           },
           "bgcolor": "#E5ECF6",
           "radialaxis": {
            "gridcolor": "white",
            "linecolor": "white",
            "ticks": ""
           }
          },
          "scene": {
           "xaxis": {
            "backgroundcolor": "#E5ECF6",
            "gridcolor": "white",
            "gridwidth": 2,
            "linecolor": "white",
            "showbackground": true,
            "ticks": "",
            "zerolinecolor": "white"
           },
           "yaxis": {
            "backgroundcolor": "#E5ECF6",
            "gridcolor": "white",
            "gridwidth": 2,
            "linecolor": "white",
            "showbackground": true,
            "ticks": "",
            "zerolinecolor": "white"
           },
           "zaxis": {
            "backgroundcolor": "#E5ECF6",
            "gridcolor": "white",
            "gridwidth": 2,
            "linecolor": "white",
            "showbackground": true,
            "ticks": "",
            "zerolinecolor": "white"
           }
          },
          "shapedefaults": {
           "line": {
            "color": "#2a3f5f"
           }
          },
          "ternary": {
           "aaxis": {
            "gridcolor": "white",
            "linecolor": "white",
            "ticks": ""
           },
           "baxis": {
            "gridcolor": "white",
            "linecolor": "white",
            "ticks": ""
           },
           "bgcolor": "#E5ECF6",
           "caxis": {
            "gridcolor": "white",
            "linecolor": "white",
            "ticks": ""
           }
          },
          "title": {
           "x": 0.05
          },
          "xaxis": {
           "automargin": true,
           "gridcolor": "white",
           "linecolor": "white",
           "ticks": "",
           "title": {
            "standoff": 15
           },
           "zerolinecolor": "white",
           "zerolinewidth": 2
          },
          "yaxis": {
           "automargin": true,
           "gridcolor": "white",
           "linecolor": "white",
           "ticks": "",
           "title": {
            "standoff": 15
           },
           "zerolinecolor": "white",
           "zerolinewidth": 2
          }
         }
        },
        "title": {
         "text": "Training and Validation Loss Over Epochs"
        },
        "xaxis": {
         "title": {
          "text": "Epoch"
         }
        },
        "yaxis": {
         "title": {
          "text": "Loss"
         }
        }
       }
      }
     },
     "metadata": {},
     "output_type": "display_data"
    }
   ],
   "source": [
    "fig = go.Figure()\n",
    "length = len(history3.history['loss'])\n",
    "fig.add_trace(go.Scatter(x=np.arange(1, length+1), y=history3.history['loss'], mode='lines', name='Train Loss'))\n",
    "fig.add_trace(go.Scatter(x=np.arange(1, length+1), y=history3.history['val_loss'], mode='lines', name='Validation Loss'))\n",
    "fig.update_layout(\n",
    "    title='Training and Validation Loss Over Epochs',\n",
    "    xaxis=dict(title='Epoch'),\n",
    "    yaxis=dict(title='Loss'),\n",
    "    legend=dict(x=0, y=1, traceorder='normal'),\n",
    ")\n",
    "fig.show()"
   ]
  },
  {
   "cell_type": "code",
   "execution_count": 35,
   "metadata": {},
   "outputs": [
    {
     "name": "stdout",
     "output_type": "stream",
     "text": [
      "262/262 [==============================] - 2s 5ms/step\n",
      "242.66145104438638\n",
      "1047/1047 [==============================] - 5s 5ms/step\n",
      "248.9262681579961\n"
     ]
    }
   ],
   "source": [
    "a = model2.predict(X_test)\n",
    "predVals = a*X_test[0][:,5].reshape(X_test[0].shape[0],1,1)\n",
    "print(np.mean(np.abs(y_testAbs - predVals)))\n",
    "a = model2.predict(X_train)\n",
    "predVals = a*X_train[0][:,5].reshape(X_train[0].shape[0],1,1)\n",
    "trueVals = targetsAbs[0:trainSplit,:]\n",
    "print(np.mean(np.abs(y_trainAbs - predVals)))\n",
    "del a,predVals,trueVals\n",
    "\n",
    "# mean cons error combined for a relative train = 770\n",
    "# mean cons error single trained (relative train) = 290\n",
    "# mean cons error single traines =43 (train) 60-63 (test)\n",
    "# mean prod error single trainer = 9-20"
   ]
  },
  {
   "cell_type": "code",
   "execution_count": 20,
   "metadata": {},
   "outputs": [],
   "source": [
    "model2.save('prod_model_GasPr_noSunrise.h5')\n",
    "model3.save('cons_model_GasPr_noSunrise.h5')"
   ]
  },
  {
   "cell_type": "markdown",
   "metadata": {},
   "source": [
    "# reconstruct dataframe and analyse results"
   ]
  },
  {
   "cell_type": "code",
   "execution_count": 29,
   "metadata": {},
   "outputs": [],
   "source": [
    "# restructure dataframes\n",
    "appendedList = []\n",
    "shuffledDataBlockId = shuffledArr[6]\n",
    "for i,data_block_id in enumerate(shuffledDataBlockId):\n",
    "    isTrain = False\n",
    "    if i<trainSplit:\n",
    "        isTrain=True\n",
    "    \n",
    "    new_columns = np.zeros((24, 2))  # Adjust the size according to your requirements\n",
    "\n",
    "    #use targets as first block\n",
    "    dataBlock = shuffledArr[4][i,:,:].reshape(24,2)\n",
    "\n",
    "    #add train/test info & data block id\n",
    "    new_columns = np.ones((24, 2)) * [isTrain, data_block_id]\n",
    "    dataBlock = np.hstack((dataBlock, new_columns))\n",
    "    #add const values\n",
    "    new_columns = np.ones((24, 8)) * shuffledArr[0][i,:].reshape(1,8)\n",
    "    dataBlock = np.hstack((dataBlock, new_columns))\n",
    "    #eprices (of yesterday)\n",
    "    dataBlock = np.hstack((dataBlock, shuffledArr[1][i,:,:].reshape(24,1)))\n",
    "    # add weather prediction\n",
    "    dataBlock = np.hstack((dataBlock, shuffledArr[3][i,:,:].reshape(24,16)))\n",
    "    # hist weather\n",
    "    dataBlock = np.hstack((dataBlock, shuffledArr[2][i,:,:].reshape(24,18)))\n",
    "\n",
    "    #hist weather, flatten the array and add all values as columns\n",
    "    #new_columns = np.ones((24, 100)) * shuffledArr[2][i,:].reshape(1,100)\n",
    "    #dataBlock = np.hstack((dataBlock, new_columns))\n",
    "\n",
    "    appendedList.append(dataBlock)\n",
    "\n",
    "\n",
    "\n",
    "featPredWeather = [\n",
    "        #'latitude', 'longitude', \n",
    "        'County', #'forecast_datetime',\n",
    "       'hours_ahead',\n",
    "        #'data_block_id_predWeather', #'origin_datetime', \n",
    "       'temperatureint',\n",
    "       'dewpointint', 'cloudcover_highint', 'cloudcover_lowint',\n",
    "       'cloudcover_midint', 'cloudcover_totalint',\n",
    "       '10_metre_u_wind_componentint', '10_metre_v_wind_componentint',\n",
    "       'direct_solar_radiationint', 'surface_solar_radiation_downwardsint',\n",
    "       'snowfallint', 'total_precipitationint', \n",
    "       #'sunrise', 'sunset',\n",
    "       'daylight', 'minDaylight']\n",
    "\n",
    "featHistWeather = [\n",
    "       #'County', #'forecast_datetime',\n",
    "       #'hours_ahead', #'data_block_id_histWeather',# 'origin_datetime',\n",
    "       #'diff_dewpoint', 'diff_cloudcover_total', 'diff_direct_solar_radiation',\n",
    "       #'diff_surface_solar_radiation_downwards', 'diff_snowfall',\n",
    "       #'diff_10_metre_u_wind_component', 'diff_10_metre_v_wind_component'\n",
    "       'County',\n",
    "       #'datetime', \n",
    "       #'data_block_id', \n",
    "       'temperatureint', 'dewpointint', 'rainint',\n",
    "       'snowfallint', 'surface_pressureint', 'cloudcover_totalint',\n",
    "       'cloudcover_lowint', 'cloudcover_midint', 'cloudcover_highint',\n",
    "       'windspeed_10mint', 'winddirection_10mint', 'shortwave_radiationint',\n",
    "       'direct_solar_radiationint', 'diffuse_radiationint', 'meltingInCM',\n",
    "       'snowHeightFlux', 'snowcover'\n",
    "]\n",
    "featConst =['county', 'is_business', 'product_type', 'prediction_unit_id', 'eic_count', 'installed_capacity', 'business_prodType', 'ind_customer_id']\n",
    "\n",
    "feat = ['y_cons','y_prod','isTrain','data_block_id'] + featConst + ['ePrices'] + featPredWeather +featHistWeather\n",
    "#for i in range(0,10):\n",
    "#    feat = feat + [f'{value}_'+str(i) for value in featHistWeather]\n",
    "\n",
    "appendedDf = pd.DataFrame(np.vstack(appendedList), columns=feat)\n",
    "    \n",
    "            "
   ]
  },
  {
   "cell_type": "code",
   "execution_count": null,
   "metadata": {},
   "outputs": [],
   "source": [
    "appendedDf.to_csv('appendedDf_snowcover_relativeTrain.csv')"
   ]
  },
  {
   "cell_type": "code",
   "execution_count": 24,
   "metadata": {},
   "outputs": [],
   "source": [
    "appendedDf = pd.read_csv('appendedDf_snowcover_relativeTrain.csv')"
   ]
  },
  {
   "cell_type": "code",
   "execution_count": 30,
   "metadata": {},
   "outputs": [
    {
     "name": "stdout",
     "output_type": "stream",
     "text": [
      "1309/1309 [==============================] - 6s 4ms/step\n",
      "1309/1309 [==============================] - 6s 4ms/step\n"
     ]
    }
   ],
   "source": [
    "X2 = [shuffledArr[0],shuffledArr[1],shuffledArr[2],shuffledArr[3]]\n",
    "pred_prod = model2.predict(X2)\n",
    "pred_cons = model3.predict(X2)\n",
    "\n",
    "appendedListCons = []\n",
    "for i in range(0,pred_cons.shape[0]):\n",
    "    appendedListCons.append(pred_cons[i,:,:].reshape(24,1))\n",
    "predDfc = pd.DataFrame(np.vstack(appendedListCons), columns=['pred_cons'])\n",
    "\n",
    "\n",
    "appendedListProd = []\n",
    "for i in range(0,pred_prod.shape[0]):\n",
    "    appendedListProd.append(pred_prod[i,:,:].reshape(24,1))\n",
    "predDfp = pd.DataFrame(np.vstack(appendedListProd), columns=['pred_prod'])\n"
   ]
  },
  {
   "cell_type": "code",
   "execution_count": null,
   "metadata": {},
   "outputs": [],
   "source": [
    "del X_train, X_test,y_train,y_trainAbs,y_test,y_testAbs,loaded_data#,shuffledArr"
   ]
  },
  {
   "cell_type": "code",
   "execution_count": null,
   "metadata": {},
   "outputs": [],
   "source": [
    "appendedList = []\n",
    "for ind in range(0,pred.shape[0]):\n",
    "    appendedList.append(pred[i,:,:].reshape(24,2))\n",
    "predDf = pd.DataFrame(np.vstack(appendedList), columns=['pred_cons','pred_prod'])"
   ]
  },
  {
   "cell_type": "code",
   "execution_count": 31,
   "metadata": {},
   "outputs": [
    {
     "data": {
      "text/html": [
       "<div>\n",
       "<style scoped>\n",
       "    .dataframe tbody tr th:only-of-type {\n",
       "        vertical-align: middle;\n",
       "    }\n",
       "\n",
       "    .dataframe tbody tr th {\n",
       "        vertical-align: top;\n",
       "    }\n",
       "\n",
       "    .dataframe thead th {\n",
       "        text-align: right;\n",
       "    }\n",
       "</style>\n",
       "<table border=\"1\" class=\"dataframe\">\n",
       "  <thead>\n",
       "    <tr style=\"text-align: right;\">\n",
       "      <th></th>\n",
       "      <th>y_cons</th>\n",
       "      <th>y_prod</th>\n",
       "      <th>isTrain</th>\n",
       "      <th>data_block_id</th>\n",
       "      <th>county</th>\n",
       "      <th>is_business</th>\n",
       "      <th>product_type</th>\n",
       "      <th>prediction_unit_id</th>\n",
       "      <th>eic_count</th>\n",
       "      <th>installed_capacity</th>\n",
       "      <th>...</th>\n",
       "      <th>windspeed_10mint</th>\n",
       "      <th>winddirection_10mint</th>\n",
       "      <th>shortwave_radiationint</th>\n",
       "      <th>direct_solar_radiationint</th>\n",
       "      <th>diffuse_radiationint</th>\n",
       "      <th>meltingInCM</th>\n",
       "      <th>snowHeightFlux</th>\n",
       "      <th>snowcover</th>\n",
       "      <th>pred_cons</th>\n",
       "      <th>pred_prod</th>\n",
       "    </tr>\n",
       "  </thead>\n",
       "  <tbody>\n",
       "    <tr>\n",
       "      <th>0</th>\n",
       "      <td>51.669</td>\n",
       "      <td>0.579</td>\n",
       "      <td>1.0</td>\n",
       "      <td>601.0</td>\n",
       "      <td>5.0</td>\n",
       "      <td>0.0</td>\n",
       "      <td>1.0</td>\n",
       "      <td>19.0</td>\n",
       "      <td>61.0</td>\n",
       "      <td>643.3</td>\n",
       "      <td>...</td>\n",
       "      <td>2.543546</td>\n",
       "      <td>221.498360</td>\n",
       "      <td>547.409970</td>\n",
       "      <td>453.516317</td>\n",
       "      <td>93.893654</td>\n",
       "      <td>-1.170695</td>\n",
       "      <td>-1.170695</td>\n",
       "      <td>0.0</td>\n",
       "      <td>493.681396</td>\n",
       "      <td>-0.277551</td>\n",
       "    </tr>\n",
       "    <tr>\n",
       "      <th>1</th>\n",
       "      <td>45.858</td>\n",
       "      <td>0.652</td>\n",
       "      <td>1.0</td>\n",
       "      <td>601.0</td>\n",
       "      <td>5.0</td>\n",
       "      <td>0.0</td>\n",
       "      <td>1.0</td>\n",
       "      <td>19.0</td>\n",
       "      <td>61.0</td>\n",
       "      <td>643.3</td>\n",
       "      <td>...</td>\n",
       "      <td>2.477676</td>\n",
       "      <td>210.040341</td>\n",
       "      <td>631.234134</td>\n",
       "      <td>531.651812</td>\n",
       "      <td>99.582322</td>\n",
       "      <td>-1.261914</td>\n",
       "      <td>-1.261914</td>\n",
       "      <td>0.0</td>\n",
       "      <td>474.690247</td>\n",
       "      <td>0.419703</td>\n",
       "    </tr>\n",
       "    <tr>\n",
       "      <th>2</th>\n",
       "      <td>43.995</td>\n",
       "      <td>0.357</td>\n",
       "      <td>1.0</td>\n",
       "      <td>601.0</td>\n",
       "      <td>5.0</td>\n",
       "      <td>0.0</td>\n",
       "      <td>1.0</td>\n",
       "      <td>19.0</td>\n",
       "      <td>61.0</td>\n",
       "      <td>643.3</td>\n",
       "      <td>...</td>\n",
       "      <td>2.777206</td>\n",
       "      <td>185.555715</td>\n",
       "      <td>679.369630</td>\n",
       "      <td>576.475976</td>\n",
       "      <td>102.893654</td>\n",
       "      <td>-1.332957</td>\n",
       "      <td>-1.332957</td>\n",
       "      <td>0.0</td>\n",
       "      <td>473.395294</td>\n",
       "      <td>0.342090</td>\n",
       "    </tr>\n",
       "    <tr>\n",
       "      <th>3</th>\n",
       "      <td>46.000</td>\n",
       "      <td>0.002</td>\n",
       "      <td>1.0</td>\n",
       "      <td>601.0</td>\n",
       "      <td>5.0</td>\n",
       "      <td>0.0</td>\n",
       "      <td>1.0</td>\n",
       "      <td>19.0</td>\n",
       "      <td>61.0</td>\n",
       "      <td>643.3</td>\n",
       "      <td>...</td>\n",
       "      <td>3.179413</td>\n",
       "      <td>184.584864</td>\n",
       "      <td>687.853313</td>\n",
       "      <td>584.270991</td>\n",
       "      <td>103.582322</td>\n",
       "      <td>-1.390353</td>\n",
       "      <td>-1.390353</td>\n",
       "      <td>0.0</td>\n",
       "      <td>463.800568</td>\n",
       "      <td>1.647683</td>\n",
       "    </tr>\n",
       "    <tr>\n",
       "      <th>4</th>\n",
       "      <td>51.837</td>\n",
       "      <td>0.000</td>\n",
       "      <td>1.0</td>\n",
       "      <td>601.0</td>\n",
       "      <td>5.0</td>\n",
       "      <td>0.0</td>\n",
       "      <td>1.0</td>\n",
       "      <td>19.0</td>\n",
       "      <td>61.0</td>\n",
       "      <td>643.3</td>\n",
       "      <td>...</td>\n",
       "      <td>3.403947</td>\n",
       "      <td>190.584864</td>\n",
       "      <td>656.095154</td>\n",
       "      <td>554.890169</td>\n",
       "      <td>101.204985</td>\n",
       "      <td>-1.430375</td>\n",
       "      <td>-1.430375</td>\n",
       "      <td>0.0</td>\n",
       "      <td>465.785309</td>\n",
       "      <td>0.280093</td>\n",
       "    </tr>\n",
       "  </tbody>\n",
       "</table>\n",
       "<p>5 rows × 49 columns</p>\n",
       "</div>"
      ],
      "text/plain": [
       "   y_cons  y_prod  isTrain  data_block_id  county  is_business  product_type  \\\n",
       "0  51.669   0.579      1.0          601.0     5.0          0.0           1.0   \n",
       "1  45.858   0.652      1.0          601.0     5.0          0.0           1.0   \n",
       "2  43.995   0.357      1.0          601.0     5.0          0.0           1.0   \n",
       "3  46.000   0.002      1.0          601.0     5.0          0.0           1.0   \n",
       "4  51.837   0.000      1.0          601.0     5.0          0.0           1.0   \n",
       "\n",
       "   prediction_unit_id  eic_count  installed_capacity  ...  windspeed_10mint  \\\n",
       "0                19.0       61.0               643.3  ...          2.543546   \n",
       "1                19.0       61.0               643.3  ...          2.477676   \n",
       "2                19.0       61.0               643.3  ...          2.777206   \n",
       "3                19.0       61.0               643.3  ...          3.179413   \n",
       "4                19.0       61.0               643.3  ...          3.403947   \n",
       "\n",
       "   winddirection_10mint  shortwave_radiationint  direct_solar_radiationint  \\\n",
       "0            221.498360              547.409970                 453.516317   \n",
       "1            210.040341              631.234134                 531.651812   \n",
       "2            185.555715              679.369630                 576.475976   \n",
       "3            184.584864              687.853313                 584.270991   \n",
       "4            190.584864              656.095154                 554.890169   \n",
       "\n",
       "   diffuse_radiationint  meltingInCM  snowHeightFlux  snowcover   pred_cons  \\\n",
       "0             93.893654    -1.170695       -1.170695        0.0  493.681396   \n",
       "1             99.582322    -1.261914       -1.261914        0.0  474.690247   \n",
       "2            102.893654    -1.332957       -1.332957        0.0  473.395294   \n",
       "3            103.582322    -1.390353       -1.390353        0.0  463.800568   \n",
       "4            101.204985    -1.430375       -1.430375        0.0  465.785309   \n",
       "\n",
       "   pred_prod  \n",
       "0  -0.277551  \n",
       "1   0.419703  \n",
       "2   0.342090  \n",
       "3   1.647683  \n",
       "4   0.280093  \n",
       "\n",
       "[5 rows x 49 columns]"
      ]
     },
     "execution_count": 31,
     "metadata": {},
     "output_type": "execute_result"
    }
   ],
   "source": [
    "appendedDf = pd.concat([appendedDf, predDfc], axis = 1)\n",
    "appendedDf = pd.concat([appendedDf, predDfp], axis = 1)\n",
    "appendedDf.head(5)"
   ]
  },
  {
   "cell_type": "code",
   "execution_count": 32,
   "metadata": {},
   "outputs": [],
   "source": [
    "appendedDf['absErr_cons'] = (appendedDf['y_cons']-appendedDf['pred_cons'])\n",
    "appendedDf['absErr_prod'] = (appendedDf['y_prod']-appendedDf['pred_prod'])"
   ]
  },
  {
   "cell_type": "markdown",
   "metadata": {},
   "source": [
    "# analyze dataframe\n",
    "good generalization, test and train are pretty much always the same\n",
    "\n",
    "production:\n",
    "- overweighting big producers -> lots of errors for smaller capacities\n",
    "\n",
    "consumption:\n",
    "- bigger error in summer\n"
   ]
  },
  {
   "cell_type": "code",
   "execution_count": 25,
   "metadata": {},
   "outputs": [],
   "source": [
    "trainDf = appendedDf.loc[appendedDf.isTrain == True]\n",
    "testDf = appendedDf.loc[appendedDf.isTrain == False]"
   ]
  },
  {
   "cell_type": "code",
   "execution_count": 27,
   "metadata": {},
   "outputs": [],
   "source": [
    "appendedDf['consTarg-Cap'] = appendedDf['y_cons'] - appendedDf['installed_capacity']\n",
    "appendedDf['prodTarg-Cap'] = appendedDf['y_prod'] - appendedDf['installed_capacity']"
   ]
  },
  {
   "cell_type": "code",
   "execution_count": 33,
   "metadata": {},
   "outputs": [
    {
     "data": {
      "text/plain": [
       "11255.665"
      ]
     },
     "execution_count": 33,
     "metadata": {},
     "output_type": "execute_result"
    }
   ],
   "source": [
    "appendedDf['y_prod'].max()"
   ]
  },
  {
   "cell_type": "code",
   "execution_count": 36,
   "metadata": {},
   "outputs": [
    {
     "data": {
      "text/plain": [
       "<Axes: >"
      ]
     },
     "execution_count": 36,
     "metadata": {},
     "output_type": "execute_result"
    },
    {
     "data": {
      "image/png": "[encoded data removed]",
      "text/plain": [
       "<Figure size 640x480 with 1 Axes>"
      ]
     },
     "metadata": {},
     "output_type": "display_data"
    }
   ],
   "source": [
    "testDf.absErr_cons.hist(bins=200)"
   ]
  },
  {
   "cell_type": "code",
   "execution_count": 37,
   "metadata": {},
   "outputs": [
    {
     "data": {
      "text/plain": [
       "<Axes: >"
      ]
     },
     "execution_count": 37,
     "metadata": {},
     "output_type": "execute_result"
    },
    {
     "data": {
      "image/png": "[encoded data removed]",
      "text/plain": [
       "<Figure size 640x480 with 1 Axes>"
      ]
     },
     "metadata": {},
     "output_type": "display_data"
    }
   ],
   "source": [
    "testDf.absErr_prod.hist(bins=200)"
   ]
  },
  {
   "cell_type": "code",
   "execution_count": 36,
   "metadata": {},
   "outputs": [
    {
     "data": {
      "text/plain": [
       "<Axes: >"
      ]
     },
     "execution_count": 36,
     "metadata": {},
     "output_type": "execute_result"
    },
    {
     "data": {
      "image/png": "[encoded data removed]",
      "text/plain": [
       "<Figure size 640x480 with 1 Axes>"
      ]
     },
     "metadata": {},
     "output_type": "display_data"
    }
   ],
   "source": [
    "trainDf.absErr_cons.hist(bins=200)"
   ]
  },
  {
   "cell_type": "code",
   "execution_count": 37,
   "metadata": {},
   "outputs": [
    {
     "data": {
      "text/plain": [
       "<Axes: >"
      ]
     },
     "execution_count": 37,
     "metadata": {},
     "output_type": "execute_result"
    },
    {
     "data": {
      "image/png": "[encoded data removed]",
      "text/plain": [
       "<Figure size 640x480 with 1 Axes>"
      ]
     },
     "metadata": {},
     "output_type": "display_data"
    }
   ],
   "source": [
    "trainDf.absErr_prod.hist(bins=200)"
   ]
  },
  {
   "cell_type": "markdown",
   "metadata": {},
   "source": [
    "### investigate consumption"
   ]
  },
  {
   "cell_type": "code",
   "execution_count": null,
   "metadata": {},
   "outputs": [],
   "source": [
    "testDf.groupby('data_block_id')['absErr_cons'].mean().plot() "
   ]
  },
  {
   "cell_type": "code",
   "execution_count": null,
   "metadata": {},
   "outputs": [],
   "source": [
    "abs(testDf.absErr_prod).mean()"
   ]
  },
  {
   "cell_type": "code",
   "execution_count": null,
   "metadata": {},
   "outputs": [],
   "source": [
    "testDf.absErr_cons.mean()"
   ]
  },
  {
   "cell_type": "code",
   "execution_count": null,
   "metadata": {},
   "outputs": [],
   "source": [
    "testDf.groupby('minDaylight')['absErr_prod'].max().plot() #hist(bins=100)"
   ]
  },
  {
   "cell_type": "code",
   "execution_count": null,
   "metadata": {},
   "outputs": [],
   "source": [
    "testDf.loc[testDf.absErr_prod <100].data_block_id.hist(bins=20)"
   ]
  },
  {
   "cell_type": "code",
   "execution_count": null,
   "metadata": {},
   "outputs": [],
   "source": [
    "fig = subplots.make_subplots(rows=1, cols=1,shared_xaxes=True)\n",
    "fig.add_trace(go.Scatter(x = testDf['data_block_id'], y = testDf['absErr_cons'],mode ='markers', name='diff_snowfall'),row=1, col=1)\n",
    "fig.show()"
   ]
  },
  {
   "cell_type": "code",
   "execution_count": null,
   "metadata": {},
   "outputs": [],
   "source": []
  }
 ],
 "metadata": {
  "kernelspec": {
   "display_name": "Python 3.10.13 ('predictenegycons')",
   "language": "python",
   "name": "python3"
  },
  "language_info": {
   "codemirror_mode": {
    "name": "ipython",
    "version": 3
   },
   "file_extension": ".py",
   "mimetype": "text/x-python",
   "name": "python",
   "nbconvert_exporter": "python",
   "pygments_lexer": "ipython3",
   "version": "3.10.13"
  },
  "orig_nbformat": 4,
  "vscode": {
   "interpreter": {
    "hash": "691b0b37d4acdba726dc1c278f9e08b3b5ec9c42dc9e0c737423aa652ed87f03"
   }
  }
 },
 "nbformat": 4,
 "nbformat_minor": 2
}
