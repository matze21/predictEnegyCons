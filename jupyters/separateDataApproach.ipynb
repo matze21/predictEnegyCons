{
 "cells": [
  {
   "cell_type": "code",
   "execution_count": 1,
   "metadata": {},
   "outputs": [
    {
     "name": "stdout",
     "output_type": "stream",
     "text": [
      "Intel MKL WARNING: Support of Intel(R) Streaming SIMD Extensions 4.2 (Intel(R) SSE4.2) enabled only processors has been deprecated. Intel oneAPI Math Kernel Library 2025.0 will require Intel(R) Advanced Vector Extensions (Intel(R) AVX) instructions.\n",
      "Intel MKL WARNING: Support of Intel(R) Streaming SIMD Extensions 4.2 (Intel(R) SSE4.2) enabled only processors has been deprecated. Intel oneAPI Math Kernel Library 2025.0 will require Intel(R) Advanced Vector Extensions (Intel(R) AVX) instructions.\n"
     ]
    }
   ],
   "source": [
    "import pandas as pd"
   ]
  },
  {
   "cell_type": "code",
   "execution_count": 2,
   "metadata": {},
   "outputs": [],
   "source": [
    "client = pd.read_csv(\"../data/client.csv\")\n",
    "ePrices = pd.read_csv(\"../data/electricity_prices.csv\")\n",
    "gasPrices = pd.read_csv(\"../data/gas_prices.csv\")\n",
    "\n",
    "weatherPredInt = pd.read_csv(\"interpolPredWeather.csv\")\n",
    "weatherHist = pd.read_csv(\"../data/historical_weather.csv\")\n",
    "weatherPred = pd.read_csv(\"../data/historical_weather.csv\")\n",
    "train = pd.read_csv(\"../data/train.csv\")"
   ]
  },
  {
   "cell_type": "code",
   "execution_count": null,
   "metadata": {},
   "outputs": [],
   "source": [
    "# Dataframes:\n",
    "\n",
    "weatherPredInt # interpolated weather for county centers\n",
    "\n",
    "weatherPred['datetime'] = pd.to_datetime(weatherPred['forecast_datetime']).dt.tz_convert(None)\n",
    "weatherHist['datetime'] = pd.to_datetime(weatherHist['datetime'])\n",
    "weatherPredVsGT = pd.merge(weatherPred, weatherHist, on=['data_block_id','latitude','longitude','datetime'], how='inner',suffixes=('_pred', '_hist'))\n",
    "# for each weatherstation the 10h overlap of weather prediction & history (of last day)\n",
    "\n",
    "# gas prices const per day\n",
    "\n",
    "# combine client data to county weather, eprices\n",
    "\n",
    "# 1. train per client\n",
    "#    data per client: 10h gt & pred weather overlay, gasPrice, ePrices/hour, weatherAverageCounty, installed power, type\n",
    "\n",
    "# - separate networks, weather network per county /\n",
    "\n",
    "# 2. train all clients at same time (not always same amount of clients, not possible)\n",
    "\n",
    "# 3. transformer architecture per customer, input 24h weather prediction -> output 24h consumption/production prediction\n",
    "\n",
    "\n"
   ]
  }
 ],
 "metadata": {
  "kernelspec": {
   "display_name": "Python 3.10.13 ('predictenegycons')",
   "language": "python",
   "name": "python3"
  },
  "language_info": {
   "codemirror_mode": {
    "name": "ipython",
    "version": 3
   },
   "file_extension": ".py",
   "mimetype": "text/x-python",
   "name": "python",
   "nbconvert_exporter": "python",
   "pygments_lexer": "ipython3",
   "version": "3.10.13"
  },
  "orig_nbformat": 4,
  "vscode": {
   "interpreter": {
    "hash": "691b0b37d4acdba726dc1c278f9e08b3b5ec9c42dc9e0c737423aa652ed87f03"
   }
  }
 },
 "nbformat": 4,
 "nbformat_minor": 2
}
