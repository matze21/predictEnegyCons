{
 "cells": [
  {
   "cell_type": "code",
   "execution_count": 1,
   "metadata": {},
   "outputs": [],
   "source": [
    "import pandas as pd"
   ]
  },
  {
   "cell_type": "code",
   "execution_count": 2,
   "metadata": {},
   "outputs": [],
   "source": [
    "weatherPred = pd.read_csv(\"../data/forecast_weather.csv\")"
   ]
  },
  {
   "cell_type": "code",
   "execution_count": 6,
   "metadata": {},
   "outputs": [],
   "source": [
    "a = weatherPred[['latitude', 'longitude']].value_counts()"
   ]
  },
  {
   "cell_type": "code",
   "execution_count": 16,
   "metadata": {},
   "outputs": [],
   "source": [
    "unique_pairs = list(set(zip(weatherPred['latitude'], weatherPred[ 'longitude'])))"
   ]
  },
  {
   "cell_type": "code",
   "execution_count": null,
   "metadata": {},
   "outputs": [],
   "source": [
    "{\n",
    "  \"0\": \"HARJUMAA\",\n",
    "  \"1\": \"HIIUMAA\",\n",
    "  \"2\": \"IDA-VIRUMAA\",\n",
    "  \"3\": \"JÄRVAMAA\",\n",
    "  \"4\": \"JÕGEVAMAA\",\n",
    "  \"5\": \"LÄÄNE-VIRUMAA\",\n",
    "  \"6\": \"LÄÄNEMAA\",\n",
    "  \"7\": \"PÄRNUMAA\",\n",
    "  \"8\": \"PÕLVAMAA\",\n",
    "  \"9\": \"RAPLAMAA\",\n",
    "  \"10\": \"SAAREMAA\",\n",
    "  \"11\": \"TARTUMAA\",\n",
    "  \"12\": \"UNKNOWN\",\n",
    "  \"13\": \"VALGAMAA\",\n",
    "  \"14\": \"VILJANDIMAA\",\n",
    "  \"15\": \"VÕRUMAA\"\n",
    "}"
   ]
  },
  {
   "cell_type": "code",
   "execution_count": 46,
   "metadata": {},
   "outputs": [],
   "source": [
    "import folium\n",
    "import geopandas as gpd\n",
    "\n",
    "# Load GeoJSON data for Estonian counties\n",
    "geojson_path = 'geo-countries/data/ne_10m_admin_1_states_provinces.shp'  # Update with your GeoJSON file path\n",
    "estonia_geojson = gpd.read_file(geojson_path)\n",
    "estonia_geojson = estonia_geojson.loc[estonia_geojson.admin == \"Estonia\"]\n",
    "minx, miny, maxx, maxy = estonia_geojson.geometry.total_bounds\n",
    "\n",
    "# Create a map centered around the bounding box\n",
    "mymap = folium.Map(location=[(miny + maxy) / 2, (minx + maxx) / 2], zoom_start=6)\n",
    "\n",
    "# Add GeoJSON layer for Estonian counties\n",
    "folium.GeoJson(estonia_geojson).add_to(mymap)\n",
    "\n",
    "# Example set of geo coordinates\n",
    "coordinates = unique_pairs#[(37.7749, -122.4194), (40.7128, -74.0060), (51.5074, -0.1278)]  # Add more as needed\n",
    "# Add markers for each set of coordinates\n",
    "for coord in coordinates:\n",
    "    folium.Marker(location=[coord[0], coord[1]],\n",
    "                  popup=folium.Popup(str(coord[0])+' '+str(coord[1]), parse_html=True),\n",
    "                  icon=folium.Icon(color='blue')).add_to(mymap)\n",
    "\n",
    "    #folium.Marker(coord).add_to(mymap)\n",
    "\n",
    "# Save the map as an HTML file or display it\n",
    "mymap.save('estonia.html')\n"
   ]
  },
  {
   "cell_type": "code",
   "execution_count": 48,
   "metadata": {},
   "outputs": [
    {
     "data": {
      "text/plain": [
       "123       Viljandi\n",
       "126          Pärnu\n",
       "128          Valga\n",
       "131           Võru\n",
       "1604      Ida-Viru\n",
       "1605         Põlva\n",
       "1606         Tartu\n",
       "1607        Jõgeva\n",
       "2384         Lääne\n",
       "2385         Harju\n",
       "2386    Lääne-Viru\n",
       "2919         Saare\n",
       "2920          Hiiu\n",
       "3739         Rapla\n",
       "3740         Järva\n",
       "Name: woe_name, dtype: object"
      ]
     },
     "execution_count": 48,
     "metadata": {},
     "output_type": "execute_result"
    }
   ],
   "source": [
    "estonia_geojson.woe_name"
   ]
  },
  {
   "cell_type": "code",
   "execution_count": 75,
   "metadata": {},
   "outputs": [
    {
     "name": "stderr",
     "output_type": "stream",
     "text": [
      "/var/folders/15/v1vyry112dv3d398dy47k8v40000gn/T/ipykernel_87762/2299448090.py:2: UserWarning: Geometry is in a geographic CRS. Results from 'centroid' are likely incorrect. Use 'GeoSeries.to_crs()' to re-project geometries to a projected CRS before this operation.\n",
      "\n",
      "  centroids_x = estonia_geojson.geometry.centroid.x\n",
      "/var/folders/15/v1vyry112dv3d398dy47k8v40000gn/T/ipykernel_87762/2299448090.py:3: UserWarning: Geometry is in a geographic CRS. Results from 'centroid' are likely incorrect. Use 'GeoSeries.to_crs()' to re-project geometries to a projected CRS before this operation.\n",
      "\n",
      "  centroids_y = estonia_geojson.geometry.centroid.y\n"
     ]
    },
    {
     "ename": "KeyError",
     "evalue": "0",
     "output_type": "error",
     "traceback": [
      "\u001b[0;31m---------------------------------------------------------------------------\u001b[0m",
      "\u001b[0;31mKeyError\u001b[0m                                  Traceback (most recent call last)",
      "File \u001b[0;32m~/opt/anaconda3/lib/python3.9/site-packages/pandas/core/indexes/base.py:3621\u001b[0m, in \u001b[0;36mIndex.get_loc\u001b[0;34m(self, key, method, tolerance)\u001b[0m\n\u001b[1;32m   3620\u001b[0m \u001b[39mtry\u001b[39;00m:\n\u001b[0;32m-> 3621\u001b[0m     \u001b[39mreturn\u001b[39;00m \u001b[39mself\u001b[39;49m\u001b[39m.\u001b[39;49m_engine\u001b[39m.\u001b[39;49mget_loc(casted_key)\n\u001b[1;32m   3622\u001b[0m \u001b[39mexcept\u001b[39;00m \u001b[39mKeyError\u001b[39;00m \u001b[39mas\u001b[39;00m err:\n",
      "File \u001b[0;32m~/opt/anaconda3/lib/python3.9/site-packages/pandas/_libs/index.pyx:136\u001b[0m, in \u001b[0;36mpandas._libs.index.IndexEngine.get_loc\u001b[0;34m()\u001b[0m\n",
      "File \u001b[0;32m~/opt/anaconda3/lib/python3.9/site-packages/pandas/_libs/index.pyx:163\u001b[0m, in \u001b[0;36mpandas._libs.index.IndexEngine.get_loc\u001b[0;34m()\u001b[0m\n",
      "File \u001b[0;32mpandas/_libs/hashtable_class_helper.pxi:2131\u001b[0m, in \u001b[0;36mpandas._libs.hashtable.Int64HashTable.get_item\u001b[0;34m()\u001b[0m\n",
      "File \u001b[0;32mpandas/_libs/hashtable_class_helper.pxi:2140\u001b[0m, in \u001b[0;36mpandas._libs.hashtable.Int64HashTable.get_item\u001b[0;34m()\u001b[0m\n",
      "\u001b[0;31mKeyError\u001b[0m: 0",
      "\nThe above exception was the direct cause of the following exception:\n",
      "\u001b[0;31mKeyError\u001b[0m                                  Traceback (most recent call last)",
      "\u001b[1;32m/Users/matthiaskargl/Codes/kaggle/predictEnegyCons/jupyters/weatherStatToCounty.ipynb Cell 8\u001b[0m in \u001b[0;36m<cell line: 7>\u001b[0;34m()\u001b[0m\n\u001b[1;32m      <a href='vscode-notebook-cell:/Users/matthiaskargl/Codes/kaggle/predictEnegyCons/jupyters/weatherStatToCounty.ipynb#X26sZmlsZQ%3D%3D?line=7'>8</a>\u001b[0m minError \u001b[39m=\u001b[39m \u001b[39m1e200\u001b[39m\n\u001b[1;32m      <a href='vscode-notebook-cell:/Users/matthiaskargl/Codes/kaggle/predictEnegyCons/jupyters/weatherStatToCounty.ipynb#X26sZmlsZQ%3D%3D?line=8'>9</a>\u001b[0m \u001b[39mfor\u001b[39;00m i \u001b[39min\u001b[39;00m \u001b[39mrange\u001b[39m(\u001b[39m0\u001b[39m,numCent):\n\u001b[0;32m---> <a href='vscode-notebook-cell:/Users/matthiaskargl/Codes/kaggle/predictEnegyCons/jupyters/weatherStatToCounty.ipynb#X26sZmlsZQ%3D%3D?line=9'>10</a>\u001b[0m     error \u001b[39m=\u001b[39m np\u001b[39m.\u001b[39msqrt((coord[\u001b[39m0\u001b[39m]\u001b[39m-\u001b[39mcentroids_x[i])\u001b[39m*\u001b[39m\u001b[39m*\u001b[39m\u001b[39m2\u001b[39m \u001b[39m+\u001b[39m (coord[\u001b[39m1\u001b[39m]\u001b[39m-\u001b[39mcentroids_y[i])\u001b[39m*\u001b[39m\u001b[39m*\u001b[39m\u001b[39m2\u001b[39m)\n",
      "File \u001b[0;32m~/opt/anaconda3/lib/python3.9/site-packages/pandas/core/series.py:958\u001b[0m, in \u001b[0;36mSeries.__getitem__\u001b[0;34m(self, key)\u001b[0m\n\u001b[1;32m    955\u001b[0m     \u001b[39mreturn\u001b[39;00m \u001b[39mself\u001b[39m\u001b[39m.\u001b[39m_values[key]\n\u001b[1;32m    957\u001b[0m \u001b[39melif\u001b[39;00m key_is_scalar:\n\u001b[0;32m--> 958\u001b[0m     \u001b[39mreturn\u001b[39;00m \u001b[39mself\u001b[39;49m\u001b[39m.\u001b[39;49m_get_value(key)\n\u001b[1;32m    960\u001b[0m \u001b[39mif\u001b[39;00m is_hashable(key):\n\u001b[1;32m    961\u001b[0m     \u001b[39m# Otherwise index.get_value will raise InvalidIndexError\u001b[39;00m\n\u001b[1;32m    962\u001b[0m     \u001b[39mtry\u001b[39;00m:\n\u001b[1;32m    963\u001b[0m         \u001b[39m# For labels that don't resolve as scalars like tuples and frozensets\u001b[39;00m\n",
      "File \u001b[0;32m~/opt/anaconda3/lib/python3.9/site-packages/pandas/core/series.py:1069\u001b[0m, in \u001b[0;36mSeries._get_value\u001b[0;34m(self, label, takeable)\u001b[0m\n\u001b[1;32m   1066\u001b[0m     \u001b[39mreturn\u001b[39;00m \u001b[39mself\u001b[39m\u001b[39m.\u001b[39m_values[label]\n\u001b[1;32m   1068\u001b[0m \u001b[39m# Similar to Index.get_value, but we do not fall back to positional\u001b[39;00m\n\u001b[0;32m-> 1069\u001b[0m loc \u001b[39m=\u001b[39m \u001b[39mself\u001b[39;49m\u001b[39m.\u001b[39;49mindex\u001b[39m.\u001b[39;49mget_loc(label)\n\u001b[1;32m   1070\u001b[0m \u001b[39mreturn\u001b[39;00m \u001b[39mself\u001b[39m\u001b[39m.\u001b[39mindex\u001b[39m.\u001b[39m_get_values_for_loc(\u001b[39mself\u001b[39m, loc, label)\n",
      "File \u001b[0;32m~/opt/anaconda3/lib/python3.9/site-packages/pandas/core/indexes/base.py:3623\u001b[0m, in \u001b[0;36mIndex.get_loc\u001b[0;34m(self, key, method, tolerance)\u001b[0m\n\u001b[1;32m   3621\u001b[0m     \u001b[39mreturn\u001b[39;00m \u001b[39mself\u001b[39m\u001b[39m.\u001b[39m_engine\u001b[39m.\u001b[39mget_loc(casted_key)\n\u001b[1;32m   3622\u001b[0m \u001b[39mexcept\u001b[39;00m \u001b[39mKeyError\u001b[39;00m \u001b[39mas\u001b[39;00m err:\n\u001b[0;32m-> 3623\u001b[0m     \u001b[39mraise\u001b[39;00m \u001b[39mKeyError\u001b[39;00m(key) \u001b[39mfrom\u001b[39;00m \u001b[39merr\u001b[39;00m\n\u001b[1;32m   3624\u001b[0m \u001b[39mexcept\u001b[39;00m \u001b[39mTypeError\u001b[39;00m:\n\u001b[1;32m   3625\u001b[0m     \u001b[39m# If we have a listlike key, _check_indexing_error will raise\u001b[39;00m\n\u001b[1;32m   3626\u001b[0m     \u001b[39m#  InvalidIndexError. Otherwise we fall through and re-raise\u001b[39;00m\n\u001b[1;32m   3627\u001b[0m     \u001b[39m#  the TypeError.\u001b[39;00m\n\u001b[1;32m   3628\u001b[0m     \u001b[39mself\u001b[39m\u001b[39m.\u001b[39m_check_indexing_error(key)\n",
      "\u001b[0;31mKeyError\u001b[0m: 0"
     ]
    }
   ],
   "source": [
    "import numpy as np\n",
    "centroids_x = estonia_geojson.geometry.centroid.x\n",
    "centroids_y = estonia_geojson.geometry.centroid.y\n",
    "numCent = len(centroids_x)\n",
    "\n",
    "coord_cluster = []\n",
    "for coord in coordinates:\n",
    "    minError = 1e200\n",
    "    cluster = -1\n",
    "    for i in range(0,numCent):\n",
    "        error = np.sqrt((coord[0]-centroids_x[i])**2 + (coord[1]-centroids_y[i])**2)\n",
    "        if error < minError:\n",
    "            minError = error\n",
    "            cluster = i\n",
    "    coord_cluster.append([cluster, minError])"
   ]
  },
  {
   "cell_type": "code",
   "execution_count": 74,
   "metadata": {},
   "outputs": [
    {
     "data": {
      "text/plain": [
       "57.6"
      ]
     },
     "execution_count": 74,
     "metadata": {},
     "output_type": "execute_result"
    }
   ],
   "source": [
    "unique_pairs[0][0]\n"
   ]
  },
  {
   "cell_type": "code",
   "execution_count": 43,
   "metadata": {},
   "outputs": [
    {
     "name": "stderr",
     "output_type": "stream",
     "text": [
      "/Users/matthiaskargl/opt/anaconda3/lib/python3.9/site-packages/IPython/core/interactiveshell.py:3309: FutureWarning: The `op` parameter is deprecated and will be removed in a future release. Please use the `predicate` parameter instead.\n",
      "  if await self.run_code(code, result, async_=asy):\n",
      "/Users/matthiaskargl/opt/anaconda3/lib/python3.9/site-packages/pandas/core/reshape/merge.py:1204: RuntimeWarning: invalid value encountered in cast\n",
      "  if not (lk == lk.astype(rk.dtype))[~np.isnan(lk)].all():\n"
     ]
    }
   ],
   "source": [
    "from shapely.geometry import Point\n",
    "\n",
    "# Create a GeoDataFrame for the coordinates\n",
    "geometry = [Point(lon, lat) for lon, lat in coordinates]\n",
    "points_gdf = gpd.GeoDataFrame(geometry=geometry, crs=estonia_geojson.crs)\n",
    "\n",
    "# Perform spatial join to find which shape/boundary each point is in\n",
    "joined = gpd.sjoin(points_gdf, estonia_geojson, how='left', op='within')"
   ]
  },
  {
   "cell_type": "code",
   "execution_count": null,
   "metadata": {},
   "outputs": [],
   "source": []
  }
 ],
 "metadata": {
  "kernelspec": {
   "display_name": "Python 3.9.12 ('base')",
   "language": "python",
   "name": "python3"
  },
  "language_info": {
   "codemirror_mode": {
    "name": "ipython",
    "version": 3
   },
   "file_extension": ".py",
   "mimetype": "text/x-python",
   "name": "python",
   "nbconvert_exporter": "python",
   "pygments_lexer": "ipython3",
   "version": "3.9.12"
  },
  "orig_nbformat": 4,
  "vscode": {
   "interpreter": {
    "hash": "47365178ca2b810317f6bec8ffd68848fb8e8a2bfe3057633cce814219a896e2"
   }
  }
 },
 "nbformat": 4,
 "nbformat_minor": 2
}
