{
 "cells": [
  {
   "cell_type": "code",
   "execution_count": 1,
   "metadata": {},
   "outputs": [],
   "source": [
    "import pandas as pd"
   ]
  },
  {
   "cell_type": "code",
   "execution_count": 2,
   "metadata": {},
   "outputs": [],
   "source": [
    "weatherPred = pd.read_csv(\"../data/forecast_weather.csv\")"
   ]
  },
  {
   "cell_type": "code",
   "execution_count": 6,
   "metadata": {},
   "outputs": [],
   "source": [
    "a = weatherPred[['latitude', 'longitude']].value_counts()"
   ]
  },
  {
   "cell_type": "code",
   "execution_count": 16,
   "metadata": {},
   "outputs": [],
   "source": [
    "unique_pairs = list(set(zip(weatherPred['latitude'], weatherPred[ 'longitude'])))"
   ]
  },
  {
   "cell_type": "code",
   "execution_count": null,
   "metadata": {},
   "outputs": [],
   "source": [
    "{\n",
    "  \"0\": \"HARJUMAA\",       (59.4 24.2), (59.4 24.7), (59.4 25.2), (59.4 25.7), (59.1 24.2), (59.1 25.2)\n",
    "  \"1\": \"HIIUMAA\",        (58.8 22.7), ocean: (58.8 22.2),(59.1 22.7),(58.8 23.2)\n",
    "  \"2\": \"IDA-VIRUMAA\",    (59.4 27.2), (59.4 27.7), (59.1 27.2), (59.1 27.7)\n",
    "  \"3\": \"JÄRVAMAA\",       (58.8 25.7), (59.1 25.7)\n",
    "  \"4\": \"JÕGEVAMAA\",      (58.8 26.2), (58.8 26.7), (58.5 26.2)\n",
    "  \"5\": \"LÄÄNE-VIRUMAA\",  (59.4 26.2), (59.4 26.7), (59.1 26.2), (59.1 26.7)\n",
    "  \"6\": \"LÄÄNEMAA\",       (59.1 23.7), (58.8 23.7)   #over boarder: (58.5 23.7)\n",
    "  \"7\": \"PÄRNUMAA\",       (58.5 23.7), (58.5 24.2), (58.5 24.7), (58.2 24.7)\n",
    "  \"8\": \"PÕLVAMAA\",       (58.2 27.2), (57.9 27.7)\n",
    "  \"9\": \"RAPLAMAA\",       (59.1 24.7), (58.8 24.2), (58.8 25.2), (58.8 24.7)\n",
    "  \"10\": \"SAAREMAA\",      (58.5 22.2), (58.5 22.7), (58.5 23.2), (58.2 22.2) ocean:(58.2 22.7),(57.9 22.2)\n",
    "  \"11\": \"TARTUMAA\",      (58.2 26.2), (58.2 26.7), (58.5 27.2), (58.5 26.7)\n",
    "  \"12\": \"UNKNOWN\",\n",
    "  \"13\": \"VALGAMAA\",      (57.9 25.7), (57.9 26.2)\n",
    "  \"14\": \"VILJANDIMAA\",   (58.5 25.2), (58.5 25.7), (58.2 25.2), (58.2 25.7)\n",
    "  \"15\": \"VÕRUMAA\"        (57.9 26.7), (57.9 27.2), (57.6 26.7), (57.6 27.2)\n",
    "}"
   ]
  },
  {
   "cell_type": "code",
   "execution_count": 83,
   "metadata": {},
   "outputs": [],
   "source": [
    "import folium\n",
    "import geopandas as gpd\n",
    "\n",
    "# Load GeoJSON data for Estonian counties\n",
    "geojson_path = 'geo-countries/data/ne_10m_admin_1_states_provinces.shp'  # Update with your GeoJSON file path\n",
    "estonia_geojson = gpd.read_file(geojson_path)\n",
    "estonia_geojson = estonia_geojson.loc[estonia_geojson.admin == \"Estonia\"]\n",
    "minx, miny, maxx, maxy = estonia_geojson.geometry.total_bounds\n",
    "\n",
    "# Create a map centered around the bounding box\n",
    "mymap = folium.Map(location=[(miny + maxy) / 2, (minx + maxx) / 2], zoom_start=6)\n",
    "\n",
    "# Add GeoJSON layer for Estonian counties\n",
    "folium.GeoJson(estonia_geojson).add_to(mymap)\n",
    "\n",
    "# Example set of geo coordinates\n",
    "coordinates = unique_pairs#[(37.7749, -122.4194), (40.7128, -74.0060), (51.5074, -0.1278)]  # Add more as needed\n",
    "# Add markers for each set of coordinates\n",
    "for coord in coordinates:\n",
    "    folium.Marker(location=[coord[0], coord[1]],\n",
    "                  popup=folium.Popup(str(coord[0])+' '+str(coord[1]), parse_html=True),\n",
    "                  icon=folium.Icon(color='blue')).add_to(mymap)\n",
    "\n",
    "for idx, row in estonia_geojson.iterrows():\n",
    "    county_name = row['woe_name']\n",
    "    centroid = [row['geometry'].centroid.y, row['geometry'].centroid.x]\n",
    "\n",
    "    folium.Marker(location=centroid,\n",
    "                  popup=folium.Popup(county_name, parse_html=True),\n",
    "                  icon=folium.Icon(color='blue')).add_to(mymap)\n",
    "\n",
    "    #folium.Marker(coord).add_to(mymap)\n",
    "\n",
    "# Save the map as an HTML file or display it\n",
    "mymap.save('estonia.html')\n"
   ]
  },
  {
   "cell_type": "code",
   "execution_count": 48,
   "metadata": {},
   "outputs": [
    {
     "data": {
      "text/plain": [
       "123       Viljandi\n",
       "126          Pärnu\n",
       "128          Valga\n",
       "131           Võru\n",
       "1604      Ida-Viru\n",
       "1605         Põlva\n",
       "1606         Tartu\n",
       "1607        Jõgeva\n",
       "2384         Lääne\n",
       "2385         Harju\n",
       "2386    Lääne-Viru\n",
       "2919         Saare\n",
       "2920          Hiiu\n",
       "3739         Rapla\n",
       "3740         Järva\n",
       "Name: woe_name, dtype: object"
      ]
     },
     "execution_count": 48,
     "metadata": {},
     "output_type": "execute_result"
    }
   ],
   "source": [
    "estonia_geojson.woe_name"
   ]
  },
  {
   "cell_type": "code",
   "execution_count": 79,
   "metadata": {},
   "outputs": [
    {
     "name": "stderr",
     "output_type": "stream",
     "text": [
      "/var/folders/15/v1vyry112dv3d398dy47k8v40000gn/T/ipykernel_87762/799559972.py:2: UserWarning: Geometry is in a geographic CRS. Results from 'centroid' are likely incorrect. Use 'GeoSeries.to_crs()' to re-project geometries to a projected CRS before this operation.\n",
      "\n",
      "  centroids_x = estonia_geojson.geometry.centroid.x.to_list()\n",
      "/var/folders/15/v1vyry112dv3d398dy47k8v40000gn/T/ipykernel_87762/799559972.py:3: UserWarning: Geometry is in a geographic CRS. Results from 'centroid' are likely incorrect. Use 'GeoSeries.to_crs()' to re-project geometries to a projected CRS before this operation.\n",
      "\n",
      "  centroids_y = estonia_geojson.geometry.centroid.y.to_list()\n"
     ]
    }
   ],
   "source": [
    "import numpy as np\n",
    "centroids_x = estonia_geojson.geometry.centroid.x.to_list()\n",
    "centroids_y = estonia_geojson.geometry.centroid.y.to_list()\n",
    "numCent = len(centroids_x)\n",
    "\n",
    "coord_cluster = []\n",
    "for coord in coordinates:\n",
    "    minError = 1e200\n",
    "    cluster = -1\n",
    "    for i in range(0,numCent):\n",
    "        error = np.sqrt((coord[0]-centroids_x[i])**2 + (coord[1]-centroids_y[i])**2)\n",
    "        if error < minError:\n",
    "            minError = error\n",
    "            cluster = i\n",
    "    coord_cluster.append([cluster, minError])"
   ]
  },
  {
   "cell_type": "code",
   "execution_count": 81,
   "metadata": {},
   "outputs": [
    {
     "data": {
      "text/plain": [
       "[25.558364059539933,\n",
       " 24.550321648922793,\n",
       " 26.14302669183717,\n",
       " 26.91115291686715,\n",
       " 27.327483563720584,\n",
       " 27.162798202382948,\n",
       " 26.82996683757416,\n",
       " 26.536903689900708,\n",
       " 23.760348418177717,\n",
       " 24.924347516442776,\n",
       " 26.355665774943418,\n",
       " 22.537559658585536,\n",
       " 22.61868018616204,\n",
       " 24.70288373555266,\n",
       " 25.66666660100041]"
      ]
     },
     "execution_count": 81,
     "metadata": {},
     "output_type": "execute_result"
    }
   ],
   "source": [
    "centroids_x"
   ]
  },
  {
   "cell_type": "code",
   "execution_count": 74,
   "metadata": {},
   "outputs": [
    {
     "data": {
      "text/plain": [
       "57.6"
      ]
     },
     "execution_count": 74,
     "metadata": {},
     "output_type": "execute_result"
    }
   ],
   "source": [
    "unique_pairs[0][0]\n"
   ]
  },
  {
   "cell_type": "code",
   "execution_count": 43,
   "metadata": {},
   "outputs": [
    {
     "name": "stderr",
     "output_type": "stream",
     "text": [
      "/Users/matthiaskargl/opt/anaconda3/lib/python3.9/site-packages/IPython/core/interactiveshell.py:3309: FutureWarning: The `op` parameter is deprecated and will be removed in a future release. Please use the `predicate` parameter instead.\n",
      "  if await self.run_code(code, result, async_=asy):\n",
      "/Users/matthiaskargl/opt/anaconda3/lib/python3.9/site-packages/pandas/core/reshape/merge.py:1204: RuntimeWarning: invalid value encountered in cast\n",
      "  if not (lk == lk.astype(rk.dtype))[~np.isnan(lk)].all():\n"
     ]
    }
   ],
   "source": [
    "from shapely.geometry import Point\n",
    "\n",
    "# Create a GeoDataFrame for the coordinates\n",
    "geometry = [Point(lon, lat) for lon, lat in coordinates]\n",
    "points_gdf = gpd.GeoDataFrame(geometry=geometry, crs=estonia_geojson.crs)\n",
    "\n",
    "# Perform spatial join to find which shape/boundary each point is in\n",
    "joined = gpd.sjoin(points_gdf, estonia_geojson, how='left', op='within')"
   ]
  },
  {
   "cell_type": "code",
   "execution_count": null,
   "metadata": {},
   "outputs": [],
   "source": []
  }
 ],
 "metadata": {
  "kernelspec": {
   "display_name": "Python 3.9.12 ('base')",
   "language": "python",
   "name": "python3"
  },
  "language_info": {
   "codemirror_mode": {
    "name": "ipython",
    "version": 3
   },
   "file_extension": ".py",
   "mimetype": "text/x-python",
   "name": "python",
   "nbconvert_exporter": "python",
   "pygments_lexer": "ipython3",
   "version": "3.9.12"
  },
  "orig_nbformat": 4,
  "vscode": {
   "interpreter": {
    "hash": "47365178ca2b810317f6bec8ffd68848fb8e8a2bfe3057633cce814219a896e2"
   }
  }
 },
 "nbformat": 4,
 "nbformat_minor": 2
}
