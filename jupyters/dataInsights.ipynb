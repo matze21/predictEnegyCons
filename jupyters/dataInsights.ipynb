{
 "cells": [
  {
   "cell_type": "code",
   "execution_count": 1,
   "metadata": {},
   "outputs": [],
   "source": [
    "import pandas as pd\n",
    "\n",
    "# steps\n",
    "# 1. find out how accurate forecast is -> metric to see how acurate it is from data overlap\n",
    "# 2. connect weather in counties to weather stations /latitude+longitude -> calculate data for county centers (interpolation)\n",
    "# 3. add installed capacity, electricity & gas prices to train\n",
    "#    map customer (installed capacity) to train dataframe\n",
    "# 4. train model, ideally predict per customer -> train also per customer\n",
    "\n",
    "# model architecture:\n",
    "# - step 1: check how accurate forecast is\n",
    "# - step 2: interpolate weather for county centers\n",
    "\n",
    "# - for each customer (we might miss a general trend tho!!):\n",
    "#   - 24h of interpolated weather for county of customer\n",
    "#   - 24h of electricity prices\n",
    "#   - inputs general:\n",
    "#           accuracy score of weather, \n",
    "#           gas_prices\n",
    "#           time features (hour, day of year, weekday, month, holiday) / holiday & weekend as one class\n",
    "#   - client based inputs\n",
    "#           installed capacity, \n",
    "#           is_business, \n",
    "#           product_type,\n",
    "#           eic_count (might be not needed)\n",
    "\n",
    "# Predict per DAY, not per hour!! all the inputs to the model at the same time & make predictions for each time \n",
    "# OR\n",
    "# predict per hour and feed data forward\n",
    "# OR\n",
    "# predict for all customers at once (we might get a general trend)\n",
    "# OR\n",
    "# split info into general inputs per county & client specific info (multiple stages of NN) -> multiple inputs to transformer net\n",
    "\n",
    "# predict consumption & production in one net\n",
    "# OR\n",
    "# predict them in separate networks\n",
    "\n",
    "# architectures:\n",
    "# transformers with different input format, time based input + const input\n",
    "# 2 different heads for production / consumption (careful with row_id)\n",
    "\n",
    "\n",
    "# things to try:\n",
    "# - add sunlight duration to day\n",
    "# - interpolate gas & electricity prices to today\n",
    "# - model distance from station as individual customer forecast probability -> correlation of usage and weather\n",
    "# \n",
    "\n",
    "# problems:\n",
    "# - find out when customer id changes -> absolut number of customers can help\n",
    "# - how to use weather predictions\n",
    "\n",
    "#Metric \n",
    "# mean absolute error"
   ]
  },
  {
   "cell_type": "code",
   "execution_count": 4,
   "metadata": {},
   "outputs": [],
   "source": [
    "client = pd.read_csv(\"../data/client.csv\")\n",
    "# all clients of company: product type, county, isbusiness, datablockid (same time for forecast) SAME as train\n",
    "# per date \n",
    "# new info: eic_count (unique business id) + installed capacity\n",
    "# data is availalbe only from 2 days ago -> problem: if the eic id / customer changes I won't know for 2 days\n",
    "# change of customer always happens daily! (at midnight)\n",
    "# change of customer might be correlated to the overall number of customers over time!\n",
    "\n",
    "ePrices = pd.read_csv(\"../data/electricity_prices.csv\")\n",
    "# forecasted prices for a specific date\n",
    "# has origin date + data_block_id\n",
    "# forecast per hour\n",
    "\n",
    "gasPrices = pd.read_csv(\"../data/gas_prices.csv\")\n",
    "# forecast per date\n",
    "# lowest & highest price -> difference\n",
    "# data block id\n",
    "\n",
    "# GAS & E prices\n",
    "# we have prediction for yesterday -> interpolation to today\n",
    "\n",
    "weatherPred = pd.read_csv(\"../data/forecast_weather.csv\")\n",
    "# longitude & latitude -> connect to county!!\n",
    "# hours ahead\n",
    "# MAYBE central time zone 2 h difference , forecasts 48 hours, only 24 are important!\n",
    "# temp, dewpoint, cloudcover high + low + total + mid (total=high+low), 10m east(u) wind, 10m north(v) wind, direct solar radiation, surface solar (direct + diffuse), snowfall, total precipitation\n",
    "# data block, \n",
    "# origin date in DATE valid for 48 hours!!!\n",
    "# forecast date in hours -> hours ahead + origin date\n",
    "# has 24h overlap with train 24-47\n",
    "# latitude & longitude grid -> try to find nearest weather station / distance from center as feature\n",
    "\n",
    "weatherHist = pd.read_csv(\"../data/historical_weather.csv\")\n",
    "# datetime per HOUR\n",
    "#  MAYBE estonian time zone (utc+2), available per day\n",
    "# latitude longitude\n",
    "# temp, dewpoint, rain, snowfall, surface pressure, cloudcover low, mid, high, total, shortwave + diffuse radiation, direct solar,\n",
    "# data block it\n",
    "# has 10 hours overlap with predictions -> score of weather forecast\n",
    "# not all predicted weather stations also have history!\n",
    "\n",
    "train = pd.read_csv(\"../data/train.csv\")\n",
    "# data per hour (estonian time utc + 2/3)\n",
    "# county, isbusiness, product type, data block id\n",
    "# row_id == index -> unimportant\n",
    "# prediction unit = unique identifier for county, business, product type  == client id (new ones can appear) -> get eic count + capacity over similar indicators\n",
    "# target\n",
    "# is consumption (0,1)!! -> indicates if target is consumed or produced -> different prediction\n",
    "\n",
    "# all prediction_units are constant for businesses & county & product type, either all businesses or all no businesses\n",
    "# target for sure correlated to month / year day since daylight is crucial\n",
    "# also correlated to hour -> estimated daylight per lat/long -> suntimes module!\n",
    "\n",
    "\n",
    "\n",
    "#general:\n",
    "# it seems that we only have the data from one data_block_id and no old data for making predictions\n",
    "# -> build time features (day, hour, month, yearday, holidays,..)\n"
   ]
  },
  {
   "cell_type": "code",
   "execution_count": 53,
   "metadata": {},
   "outputs": [
    {
     "data": {
      "text/plain": [
       "<AxesSubplot:>"
      ]
     },
     "execution_count": 53,
     "metadata": {},
     "output_type": "execute_result"
    },
    {
     "data": {
      "image/png": "[encoded data removed]",
      "text/plain": [
       "<Figure size 432x288 with 1 Axes>"
      ]
     },
     "metadata": {
      "needs_background": "light"
     },
     "output_type": "display_data"
    }
   ],
   "source": [
    "# number of customers\n",
    "train.datetime.value_counts().plot()\n"
   ]
  },
  {
   "cell_type": "code",
   "execution_count": null,
   "metadata": {},
   "outputs": [],
   "source": []
  }
 ],
 "metadata": {
  "kernelspec": {
   "display_name": "Python 3.9.12 ('base')",
   "language": "python",
   "name": "python3"
  },
  "language_info": {
   "codemirror_mode": {
    "name": "ipython",
    "version": 3
   },
   "file_extension": ".py",
   "mimetype": "text/x-python",
   "name": "python",
   "nbconvert_exporter": "python",
   "pygments_lexer": "ipython3",
   "version": "3.9.12"
  },
  "orig_nbformat": 4,
  "vscode": {
   "interpreter": {
    "hash": "47365178ca2b810317f6bec8ffd68848fb8e8a2bfe3057633cce814219a896e2"
   }
  }
 },
 "nbformat": 4,
 "nbformat_minor": 2
}
