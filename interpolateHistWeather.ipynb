{
 "cells": [
  {
   "cell_type": "code",
   "execution_count": 1,
   "metadata": {},
   "outputs": [
    {
     "name": "stdout",
     "output_type": "stream",
     "text": [
      "Intel MKL WARNING: Support of Intel(R) Streaming SIMD Extensions 4.2 (Intel(R) SSE4.2) enabled only processors has been deprecated. Intel oneAPI Math Kernel Library 2025.0 will require Intel(R) Advanced Vector Extensions (Intel(R) AVX) instructions.\n",
      "Intel MKL WARNING: Support of Intel(R) Streaming SIMD Extensions 4.2 (Intel(R) SSE4.2) enabled only processors has been deprecated. Intel oneAPI Math Kernel Library 2025.0 will require Intel(R) Advanced Vector Extensions (Intel(R) AVX) instructions.\n"
     ]
    }
   ],
   "source": [
    "import pandas as pd\n",
    "from sklearn.metrics import balanced_accuracy_score\n",
    "from sklearn.ensemble import GradientBoostingClassifier, RandomForestClassifier, RandomForestRegressor\n",
    "from sklearn.metrics import accuracy_score\n",
    "from sklearn.model_selection import train_test_split\n",
    "from sklearn.datasets import make_classification\n",
    "import numpy as np\n",
    "import plotly.offline as pyo\n",
    "from plotly import subplots\n",
    "import plotly.graph_objects as go\n",
    "from scipy.interpolate import griddata"
   ]
  },
  {
   "cell_type": "code",
   "execution_count": null,
   "metadata": {},
   "outputs": [],
   "source": [
    "weatherHist = pd.read_csv(\"../../data/historical_weather.csv\")\n",
    "weatherPred = pd.read_csv(\"../../data/forecast_weather.csv\")"
   ]
  },
  {
   "cell_type": "code",
   "execution_count": null,
   "metadata": {},
   "outputs": [],
   "source": [
    "weatherPred['datetime'] = pd.to_datetime(weatherPred['forecast_datetime']).dt.tz_convert(None)\n",
    "weatherHist['datetime'] = pd.to_datetime(weatherHist['datetime'])\n",
    "histWeatherTrain = pd.merge(weatherPred, weatherHist, on=['data_block_id','latitude','longitude','datetime'], how='inner',suffixes=('_pred', '_hist'))"
   ]
  },
  {
   "cell_type": "code",
   "execution_count": null,
   "metadata": {},
   "outputs": [],
   "source": [
    "histWeatherTrain.drop_duplicates(inplace=True)"
   ]
  },
  {
   "cell_type": "code",
   "execution_count": null,
   "metadata": {},
   "outputs": [],
   "source": [
    "# interpolate to county centers\n",
    "\n",
    "interpolatedVal = []\n",
    "interpolationFeat = [\n",
    "       'temperature_pred', 'dewpoint_pred', 'cloudcover_high_pred',\n",
    "       'cloudcover_low_pred', 'cloudcover_mid_pred', 'cloudcover_total_pred',\n",
    "       '10_metre_u_wind_component', '10_metre_v_wind_component',\n",
    "       'direct_solar_radiation_pred',\n",
    "       'surface_solar_radiation_downwards', 'snowfall_pred',\n",
    "       'total_precipitation', 'temperature_hist', 'dewpoint_hist',\n",
    "       'rain', 'snowfall_hist', 'surface_pressure', 'cloudcover_total_hist',\n",
    "       'cloudcover_low_hist', 'cloudcover_mid_hist', 'cloudcover_high_hist',\n",
    "       'windspeed_10m', 'winddirection_10m', 'shortwave_radiation',\n",
    "       'direct_solar_radiation_hist', 'diffuse_radiation'\n",
    "]\n",
    "\n",
    "# Coordinates of points where you want to interpolate\n",
    "interp_points = np.array([\n",
    "    [59.31092599057606, 24.924347516442776],#\"HARJUMAA\",        # index = county id\n",
    "    [58.89325336822078, 22.61868018616204], #\"HIIUMAA\",         # index = county id\n",
    "    [59.177732657186525, 27.327483563720584], #\"IDA-VIRUMAA\",   # index = county id\n",
    "    [58.9401960343481, 25.66666660100041],#   \"JÄRVAMAA\",       # index = county id\n",
    "    [58.722190565952324, 26.536903689900708],#\"JÕGEVAMAA\",      # index = county id\n",
    "    [59.265951945347595, 26.355665774943418],#\"LÄÄNE-VIRUMAA\",  # index = county id\n",
    "    [58.90131388796995, 23.760348418177717],#\"LÄÄNEMAA\",         # index = county id\n",
    "    [58.39642190189904, 24.550321648922793],#\"PÄRNUMAA\",         # index = county id\n",
    "    [58.043991137798386, 27.162798202382948],#\"PÕLVAMAA\",        # index = county id\n",
    "    [58.923144729594874, 24.70288373555266],#\"RAPLAMAA\",         # index = county id\n",
    "    [58.39256707482195, 22.537559658585536],#\"SAAREMAA\",         # index = county id\n",
    "    [58.392720495713554, 26.82996683757416],#\"TARTUMAA\",         # index = county id\n",
    "    [58.5975, 24.9873], #\"UNKNOWN\", = center of the country      # index = county id\n",
    "    [57.93303855829815, 26.14302669183717], #\"VALGAMAA\",         # index = county id\n",
    "    [58.336987487787404, 25.558364059539933],#\"VILJANDIMAA\",     # index = county id\n",
    "    [57.74795525256318, 26.91115291686715], #\"VÕRUMAA\"           # index = county id\n",
    "  ])\n",
    "# Convert to a 2D array\n",
    "interp_points_arr = np.vstack(interp_points)\n",
    "\n",
    "i = 0\n",
    "print('unique days', len(histWeatherTrain.forecast_datetime.unique())/10) #10 rows per day\n",
    "for time_id,time in enumerate(histWeatherTrain.forecast_datetime.unique()):\n",
    "  timeSlice = histWeatherTrain.loc[histWeatherTrain.forecast_datetime == time]\n",
    "  points = timeSlice[['latitude', 'longitude']].values\n",
    "\n",
    "  if (len(points)) != 110:\n",
    "    print('more datapoints than we should have', time_id, time, len(points))\n",
    "    break\n",
    "\n",
    "  hours_ahead = timeSlice['hours_ahead'].unique()\n",
    "  data_block_id = timeSlice['data_block_id'].unique()\n",
    "  origin_datetime = timeSlice['origin_datetime'].unique()\n",
    "\n",
    "  if len(hours_ahead) != 1 or len(data_block_id) != 1 or len(origin_datetime) != 1:\n",
    "    print('more than one unique value', hours_ahead, data_block_id, origin_datetime)\n",
    "  \n",
    "  if i%(10*109)== 0 and i>0:\n",
    "    print(i/100,' days done')\n",
    "    if i%(10*1000)== 0:\n",
    "      print('intermediate saving..')\n",
    "      inthistWeatherTrain = pd.concat(interpolatedVal)\n",
    "      inthistWeatherTrain.to_csv(\"interpolHistOverlapWeather.csv\")\n",
    "      print('done')\n",
    "\n",
    "\n",
    "  allIntFeat = {}\n",
    "  allIntFeat['latitude'] = interp_points_arr[:,0]\n",
    "  allIntFeat['longitude'] = interp_points_arr[:,1]\n",
    "  allIntFeat['County'] = np.linspace(0,15,16).astype('int')\n",
    "  allIntFeat['forecast_datetime'] = time\n",
    "  allIntFeat['hours_ahead']       = hours_ahead[0]\n",
    "  allIntFeat['data_block_id']     = data_block_id[0]\n",
    "  allIntFeat['origin_datetime']   = origin_datetime[0]\n",
    "\n",
    "  for feat in interpolationFeat:\n",
    "    # Values at the known points\n",
    "    values_feat = timeSlice[feat].values\n",
    "\n",
    "    # Linear interpolation for temperature\n",
    "    result = griddata(points, values_feat, interp_points, method='linear')\n",
    "\n",
    "    allIntFeat[feat+'int'] = result\n",
    "  \n",
    "  df = pd.DataFrame(allIntFeat)\n",
    "  interpolatedVal.append(df)\n",
    "  i = i+1\n",
    "\n",
    "inthistWeatherTrain = pd.concat(interpolatedVal)\n",
    "inthistWeatherTrain.to_csv(\"interpolHistOverlapWeather.csv\")"
   ]
  }
 ],
 "metadata": {
  "kernelspec": {
   "display_name": "Python 3.10.13 ('predictenegycons')",
   "language": "python",
   "name": "python3"
  },
  "language_info": {
   "codemirror_mode": {
    "name": "ipython",
    "version": 3
   },
   "file_extension": ".py",
   "mimetype": "text/x-python",
   "name": "python",
   "nbconvert_exporter": "python",
   "pygments_lexer": "ipython3",
   "version": "3.10.13"
  },
  "orig_nbformat": 4,
  "vscode": {
   "interpreter": {
    "hash": "691b0b37d4acdba726dc1c278f9e08b3b5ec9c42dc9e0c737423aa652ed87f03"
   }
  }
 },
 "nbformat": 4,
 "nbformat_minor": 2
}
